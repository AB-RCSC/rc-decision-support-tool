{
 "cells": [
  {
   "cell_type": "code",
   "execution_count": 1,
   "id": "076f4536",
   "metadata": {},
   "outputs": [],
   "source": [
    "import warnings\n",
    "warnings.filterwarnings('ignore')\n",
    "\n",
    "import re\n",
    "import ipywidgets as widgets\n",
    "from IPython.display import display"
   ]
  },
  {
   "cell_type": "code",
   "execution_count": 2,
   "id": "7c2efb1c",
   "metadata": {},
   "outputs": [],
   "source": [
    "def get_css_class(css_file, class_name):\n",
    "    with open(css_file, 'r') as file:\n",
    "        css = file.read()\n",
    "        # Use regex to extract the class\n",
    "        pattern = r'\\.' + re.escape(class_name) + r'\\s*\\{([^}]*)\\}'\n",
    "        match = re.search(pattern, css, re.DOTALL)\n",
    "        if match:\n",
    "            css_content = match.group(1).strip()\n",
    "            return f'\\n<style>\\n.{class_name} {{\\n{css_content}\\n}}\\n</style>\\n'\n",
    "        else:\n",
    "            return None"
   ]
  },
  {
   "cell_type": "code",
   "execution_count": 4,
   "id": "74251b63",
   "metadata": {},
   "outputs": [],
   "source": [
    "# Custom CSS to modify the side pannel button design\n",
    "side_opt_button_css = get_css_class('../css/style.css', 'side-opt-button')"
   ]
  },
  {
   "cell_type": "code",
   "execution_count": 5,
   "id": "9b04b861",
   "metadata": {},
   "outputs": [],
   "source": [
    "# Creating sidebar logo image widget\n",
    "\n",
    "file = open(\"../data_files/image/logo.png\", \"rb\")\n",
    "image = file.read()\n",
    "\n",
    "image_headline = widgets.Image(\n",
    "                    value=image,\n",
    "                    format='jpg',\n",
    "                    width='200', # ALIF changed wdith\n",
    "                    layout=widgets.Layout(margin='0px 0px 12px 0px')\n",
    "                )\n",
    "\n",
    "label_headline = widgets.Label(\n",
    "                    value='',\n",
    "                    style={'description_width': 'initial'}\n",
    "                )"
   ]
  },
  {
   "cell_type": "code",
   "execution_count": 6,
   "id": "defb7f7c",
   "metadata": {},
   "outputs": [],
   "source": [
    "# Creating button\n",
    "def create_expanded_button(description, button_style):\n",
    "    return widgets.Button(description=description, button_style=button_style, layout = widgets.Layout(height='auto', width='auto', border='1px solid black')) #width='max-content'"
   ]
  },
  {
   "cell_type": "code",
   "execution_count": 7,
   "id": "4b27bc64",
   "metadata": {},
   "outputs": [],
   "source": [
    "# Concept Library\n",
    "concept_header = create_expanded_button('Home', 'success')\n",
    "concept_header.style.button_color = '#E8E8E8'\n",
    "concept_header.style.text_color = 'black'\n",
    "concept_header.add_class('side-opt-button') # Adding custom css properties to the side buttons\n",
    "\n",
    "concept_option1 = create_expanded_button('Start Over', 'success')\n",
    "concept_option1 .style.button_color = '#F5F5F5'\n",
    "concept_option1 .style.text_color = 'black'\n",
    "concept_option1.add_class('side-opt-button')\n",
    "\n",
    "concept_option2 = create_expanded_button('Concept library TOC', 'success')\n",
    "concept_option2.style.button_color = '#EEC096'\n",
    "concept_option2.style.text_color = 'black'\n",
    "concept_option2.add_class('side-opt-button')\n",
    "\n",
    "\n",
    "concept_option3 = create_expanded_button('Glossary', 'success')\n",
    "concept_option3.style.button_color = '#F2D8BF'\n",
    "concept_option3.style.text_color = 'black'\n",
    "concept_option3.add_class('side-opt-button')\n",
    "\n",
    "concept_option4 = create_expanded_button('References', 'success')\n",
    "concept_option4.style.button_color = '#F2D8BF'\n",
    "concept_option4.style.text_color = 'black'\n",
    "concept_option4.add_class('side-opt-button')\n",
    "\n",
    "concept_option5 = create_expanded_button('Open concept info-box as seperate window', 'success')\n",
    "concept_option5.style.button_color = '#F2D8BF'\n",
    "concept_option5.style.text_color = 'black'\n",
    "concept_option5.add_class('side-opt-button')\n",
    "\n",
    "# Creating HTML widget for displaying the custom added css classes\n",
    "css_widget3 = widgets.HTML(value=side_opt_button_css)\n",
    "\n",
    "concept_grid = widgets.GridspecLayout(7, 9, grid_gap='10px')\n",
    "concept_grid[0, 0:9] = concept_header\n",
    "concept_grid[1, 0:9] = concept_option1\n",
    "concept_grid[2, 0:9] = concept_option2\n",
    "concept_grid[3, 0:9] = concept_option3\n",
    "concept_grid[4, 0:9] = concept_option4\n",
    "concept_grid[5, 0:9] = concept_option5"
   ]
  },
  {
   "cell_type": "code",
   "execution_count": 8,
   "id": "ea289998",
   "metadata": {},
   "outputs": [],
   "source": [
    "# Button for concept library\n",
    "output = widgets.Output()\n",
    "def on_concept_option0_clicked(event):\n",
    "    with output:\n",
    "        clear_output()\n",
    "        link = \"https://ab-rcsc.github.io/rc-decision-support-tool\"\n",
    "        js_code = f\"window.open('{link}', '_blank');\"\n",
    "        display(Javascript(js_code))\n",
    "\n",
    "concept_grid[0, 0:9].on_click(on_concept_option0_clicked)"
   ]
  },
  {
   "cell_type": "code",
   "execution_count": 9,
   "id": "93014133",
   "metadata": {},
   "outputs": [],
   "source": [
    "# Button for concept library\n",
    "output = widgets.Output()\n",
    "def on_concept_option1_clicked(event):\n",
    "    with output:\n",
    "        clear_output()\n",
    "        link = \"https://www.rc-decision-support-tool.ca/voila/render/objective.ipynb\"\n",
    "        js_code = f\"window.open('{link}', '_blank');\"\n",
    "        display(Javascript(js_code))\n",
    "\n",
    "concept_grid[1, 0:9].on_click(on_concept_option1_clicked)"
   ]
  },
  {
   "cell_type": "code",
   "execution_count": 10,
   "id": "4651398d",
   "metadata": {},
   "outputs": [],
   "source": [
    "# Button for concept library\n",
    "output = widgets.Output()\n",
    "def on_concept_option2_clicked(event):\n",
    "    with output:\n",
    "        clear_output()\n",
    "        link = \"https://ab-rcsc.github.io/rc-decision-support-tool_concept-library/index.html#concept-library\"\n",
    "        js_code = f\"window.open('{link}', '_blank');\"\n",
    "        display(Javascript(js_code))\n",
    "\n",
    "concept_grid[2, 0:9].on_click(on_concept_option2_clicked)"
   ]
  },
  {
   "cell_type": "code",
   "execution_count": 11,
   "id": "71a24a7b",
   "metadata": {},
   "outputs": [],
   "source": [
    "# Button for concept library\n",
    "output = widgets.Output()\n",
    "def on_concept_option3_clicked(event):\n",
    "    with output:\n",
    "        clear_output()\n",
    "        link = \"https://ab-rcsc.github.io/rc-decision-support-tool_concept-library/02_dialog-boxes/09_glossary.html\"\n",
    "        js_code = f\"window.open('{link}', '_blank');\"\n",
    "        display(Javascript(js_code))\n",
    "\n",
    "concept_grid[3, 0:9].on_click(on_concept_option3_clicked)"
   ]
  },
  {
   "cell_type": "code",
   "execution_count": 12,
   "id": "9bd6e93b",
   "metadata": {},
   "outputs": [],
   "source": [
    "# Button for concept library\n",
    "output = widgets.Output()\n",
    "def on_concept_option4_clicked(event):\n",
    "    with output:\n",
    "        clear_output()\n",
    "        link = \"https://ab-rcsc.github.io/rc-decision-support-tool_concept-library/02_dialog-boxes/08_references.html\"\n",
    "        js_code = f\"window.open('{link}', '_blank');\"\n",
    "        display(Javascript(js_code))\n",
    "\n",
    "concept_grid[4, 0:9].on_click(on_concept_option4_clicked)"
   ]
  },
  {
   "cell_type": "code",
   "execution_count": 13,
   "id": "5404e60f",
   "metadata": {},
   "outputs": [],
   "source": [
    "# Button for concept library\n",
    "output = widgets.Output()\n",
    "# Function to handle click event with dynamic link\n",
    "def on_concept_option_clicked(link):\n",
    "    def handle_click(event):\n",
    "        with output:\n",
    "            clear_output()\n",
    "            js_code = f\"window.open('{link}', '_blank');\"\n",
    "            display(Javascript(js_code))\n",
    "    return handle_click\n",
    "\n",
    "# concept_grid[5, 0:9].on_click(on_concept_option_clicked(link))"
   ]
  },
  {
   "cell_type": "code",
   "execution_count": 14,
   "id": "b5f22e43",
   "metadata": {},
   "outputs": [],
   "source": [
    "# # Button for concept library\n",
    "# output = widgets.Output()\n",
    "# def on_concept_option6_clicked(event):\n",
    "#     with output:\n",
    "#         clear_output()\n",
    "#         link = \"https://ab-rcsc.github.io/rc-decision-support-tool_concept-library/#data-analysis\"\n",
    "#         js_code = f\"window.open('{link}', '_blank');\"\n",
    "#         display(Javascript(js_code))\n",
    "\n",
    "# concept_grid[6, 0:9].on_click(on_concept_option6_clicked)"
   ]
  },
  {
   "cell_type": "code",
   "execution_count": 15,
   "id": "6db90f31",
   "metadata": {},
   "outputs": [],
   "source": [
    "left_col = widgets.VBox(\n",
    "    [image_headline, concept_grid, css_widget3],\n",
    "    layout=widgets.Layout(\n",
    "        width='240px', \n",
    "        height='auto', \n",
    "#         border_right='solid 4px grey',\n",
    "        padding='10px',\n",
    "        align_items='flex-start', \n",
    "        justify_content='center' \n",
    "    )\n",
    ")"
   ]
  },
  {
   "cell_type": "code",
   "execution_count": null,
   "id": "161b253c",
   "metadata": {},
   "outputs": [],
   "source": []
  }
 ],
 "metadata": {
  "kernelspec": {
   "display_name": "Python 3 (ipykernel)",
   "language": "python",
   "name": "python3"
  },
  "language_info": {
   "codemirror_mode": {
    "name": "ipython",
    "version": 3
   },
   "file_extension": ".py",
   "mimetype": "text/x-python",
   "name": "python",
   "nbconvert_exporter": "python",
   "pygments_lexer": "ipython3",
   "version": "3.12.7"
  }
 },
 "nbformat": 4,
 "nbformat_minor": 5
}
