{
 "cells": [
  {
   "cell_type": "code",
   "execution_count": 2,
   "id": "0e58192c",
   "metadata": {},
   "outputs": [],
   "source": [
    "import markdown\n",
    "import ipywidgets as widgets\n",
    "from IPython.display import display"
   ]
  },
  {
   "cell_type": "code",
   "execution_count": 3,
   "id": "996f83e1",
   "metadata": {},
   "outputs": [],
   "source": [
    "# Function to read markdown file and convert to HTML\n",
    "def read_markdown_as_html(file_path):\n",
    "    with open(file_path, 'r') as file:\n",
    "        lines = file.readlines()\n",
    "\n",
    "    # Skip lines that contain jupytext or kernelspec metadata\n",
    "    markdown_lines = []\n",
    "    in_metadata = False\n",
    "    for line in lines:\n",
    "        if line.startswith(\"```\") or line.startswith(\"jupytext:\") or line.startswith(\"kernelspec:\") or in_metadata:\n",
    "            in_metadata = True\n",
    "            if line.strip() == \"\":  # End of metadata section\n",
    "                in_metadata = False\n",
    "            continue\n",
    "        markdown_lines.append(line)\n",
    "\n",
    "    # Join the cleaned markdown content\n",
    "    cleaned_markdown_content = ''.join(markdown_lines)\n",
    "    # Convert markdown content to HTML\n",
    "    html_content = markdown.markdown(cleaned_markdown_content)\n",
    "    \n",
    "    return html_content"
   ]
  },
  {
   "cell_type": "code",
   "execution_count": 4,
   "id": "1a90dc67",
   "metadata": {},
   "outputs": [],
   "source": [
    "def more_info_widget(md_file_path):\n",
    "    \n",
    "    # Create a custom style for the HTML widget\n",
    "    custom_style = \"\"\"\n",
    "        <style>\n",
    "            .custom-html {\n",
    "                background-color: #FFFFCC; \n",
    "                border: 2px solid #00000; /* Custom border */\n",
    "                border-radius: 10px; /* Rounded corners */\n",
    "                padding: 10px; /* Padding inside the widget */\n",
    "                overflow: auto; /* Add scrollbar if content overflows */\n",
    "            }\n",
    "            .custom-html a {\n",
    "                color: #00000; /* Link color */\n",
    "                text-decoration: underline; /* Underline links */\n",
    "            }\n",
    "        </style>\n",
    "    \"\"\"\n",
    "    html_content = read_markdown_as_html(md_file_path)\n",
    "    full_html_content = custom_style + f\"<div class='custom-html'>{html_content}</div>\"\n",
    "    html_widget = widgets.HTML(value=full_html_content)\n",
    "    \n",
    "    more_info_container = widgets.VBox(\n",
    "                                [html_widget],\n",
    "                                layout=widgets.Layout( height='300px', \n",
    "                                    align_items='center',  \n",
    "                                    justify_content='space-between' \n",
    "                                )\n",
    "                            )\n",
    "    \n",
    "    return more_info_container"
   ]
  }
 ],
 "metadata": {
  "kernelspec": {
   "display_name": "Python 3 (ipykernel)",
   "language": "python",
   "name": "python3"
  },
  "language_info": {
   "codemirror_mode": {
    "name": "ipython",
    "version": 3
   },
   "file_extension": ".py",
   "mimetype": "text/x-python",
   "name": "python",
   "nbconvert_exporter": "python",
   "pygments_lexer": "ipython3",
   "version": "3.12.7"
  }
 },
 "nbformat": 4,
 "nbformat_minor": 5
}
