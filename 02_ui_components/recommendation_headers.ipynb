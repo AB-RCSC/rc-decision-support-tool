{
 "cells": [
  {
   "cell_type": "code",
   "execution_count": 11,
   "id": "28e3e771",
   "metadata": {},
   "outputs": [],
   "source": [
    "import warnings\n",
    "warnings.filterwarnings('ignore')\n",
    "\n",
    "import re\n",
    "import ipywidgets as widgets\n",
    "from ipywidgets import Button, Layout\n",
    "from IPython.display import display\n",
    "from ipywidgets import GridspecLayout"
   ]
  },
  {
   "cell_type": "code",
   "execution_count": 12,
   "id": "31df31bc",
   "metadata": {},
   "outputs": [],
   "source": [
    "# Creating button\n",
    "def create_expanded_button(description, button_style):\n",
    "    return Button(description=description, button_style=button_style, layout=Layout(height='auto', width='auto', border='1px solid black')) #width='max-content'"
   ]
  },
  {
   "cell_type": "code",
   "execution_count": 13,
   "id": "c7338de7",
   "metadata": {},
   "outputs": [],
   "source": [
    "def get_css_class(css_file, class_name):\n",
    "    with open(css_file, 'r') as file:\n",
    "        css = file.read()\n",
    "        # Use regex to extract the class\n",
    "        pattern = r'\\.' + re.escape(class_name) + r'\\s*\\{([^}]*)\\}'\n",
    "        match = re.search(pattern, css, re.DOTALL)\n",
    "        if match:\n",
    "            css_content = match.group(1).strip()\n",
    "            return f'\\n<style>\\n.{class_name} {{\\n{css_content}\\n}}\\n</style>\\n'\n",
    "        else:\n",
    "            return None"
   ]
  },
  {
   "cell_type": "code",
   "execution_count": 14,
   "id": "c632e3ad",
   "metadata": {},
   "outputs": [],
   "source": [
    "css_path = \"../css/style.css\""
   ]
  },
  {
   "cell_type": "code",
   "execution_count": 15,
   "id": "a01c6f4b",
   "metadata": {},
   "outputs": [],
   "source": [
    "# Custom CSS to modify the recommendation button design\n",
    "recom_button_css = get_css_class(css_path, 'recom-opt-button')"
   ]
  },
  {
   "cell_type": "code",
   "execution_count": null,
   "id": "0f90c8fe",
   "metadata": {},
   "outputs": [],
   "source": []
  },
  {
   "cell_type": "code",
   "execution_count": 16,
   "id": "1185e737",
   "metadata": {},
   "outputs": [],
   "source": [
    "# design recommendation grid\n",
    "study_design_header = create_expanded_button('Study design recommendations', 'success')\n",
    "study_design_header.style.button_color = '#7EB738'\n",
    "study_design_header.style.font_weight = 'bold'\n",
    "study_design_header.style.text_color = 'black'\n",
    "study_design_header.add_class('recom-opt-button') # Adding custom css properties to the side buttons\n",
    "\n",
    "study_design_1 = create_expanded_button('Camera arrangement', 'success')\n",
    "study_design_1.style.button_color = '#B6D78E'\n",
    "study_design_1.style.text_color = 'black'\n",
    "study_design_1.add_class('recom-opt-button')\n",
    "\n",
    "study_design_2 = create_expanded_button('Camera spacing', 'success')\n",
    "study_design_2.style.button_color = '#B6D78E'\n",
    "study_design_2.style.text_color = 'black'\n",
    "study_design_2.add_class('recom-opt-button')\n",
    "\n",
    "study_design_3 = create_expanded_button('Number of cameras', 'success')\n",
    "study_design_3.style.button_color = '#B6D78E'\n",
    "study_design_3.style.text_color = 'black'\n",
    "study_design_3.add_class('recom-opt-button')\n",
    "\n",
    "study_design_4 = create_expanded_button('Number of camera days per camera location', 'success')\n",
    "study_design_4.style.button_color = '#B6D78E'\n",
    "study_design_4.style.text_color = 'black'\n",
    "study_design_4.add_class('recom-opt-button')\n",
    "\n",
    "study_design_5 = create_expanded_button('Total number of camera days', 'success')\n",
    "study_design_5.style.button_color = '#B6D78E'\n",
    "study_design_5.style.text_color = 'black'\n",
    "study_design_5.add_class('recom-opt-button')\n",
    "\n",
    "study_design_6 = create_expanded_button('Survey duration', 'success')\n",
    "study_design_6.style.button_color = '#B6D78E'\n",
    "study_design_6.style.text_color = 'black'\n",
    "study_design_6.add_class('recom-opt-button')\n",
    "\n",
    "# Creating HTML widget for displaying the custom added css classes\n",
    "study_design_widget = widgets.HTML(value=recom_button_css)\n",
    "\n",
    "\n",
    "study_design_grid = GridspecLayout(7, 9, grid_gap='10px', height='550px', width='30%')\n",
    "study_design_grid[0, 0:8] = study_design_header\n",
    "study_design_grid[1, 1:7] = study_design_1\n",
    "study_design_grid[2, 1:7] = study_design_2\n",
    "study_design_grid[3, 1:7] = study_design_3\n",
    "study_design_grid[4, 1:7] = study_design_4\n",
    "study_design_grid[5, 1:7] = study_design_5\n",
    "study_design_grid[6, 1:7] = study_design_6"
   ]
  },
  {
   "cell_type": "code",
   "execution_count": 18,
   "id": "f13660a8",
   "metadata": {},
   "outputs": [
    {
     "data": {
      "application/vnd.jupyter.widget-view+json": {
       "model_id": "645cf89fdfbb4d7db8f4fcf1bccfba62",
       "version_major": 2,
       "version_minor": 0
      },
      "text/plain": [
       "GridspecLayout(children=(Button(button_style='success', description='Study design recommendations', layout=Lay…"
      ]
     },
     "metadata": {},
     "output_type": "display_data"
    }
   ],
   "source": [
    "# display(study_design_grid)"
   ]
  },
  {
   "cell_type": "code",
   "execution_count": null,
   "id": "34d78c2c",
   "metadata": {},
   "outputs": [],
   "source": [
    "# FOR DISPLAYING MODELLING APPROACHES -------------------------->\n",
    "\n",
    "# modelling approach grid\n",
    "modelling_approach_header = create_expanded_button('Suitable modelling approach(es)', 'success')\n",
    "modelling_approach_header.style.button_color = '#2D6EB4'\n",
    "modelling_approach_header.style.text_color = 'black'\n",
    "modelling_approach_header.style.font_weight = 'bold'\n",
    "modelling_approach_header.add_class('recom-opt-button') # Adding custom css properties to the side buttons\n",
    "\n",
    "# # Creating HTML widget for displaying the custom added css classes\n",
    "# modelling_approach_widget = widgets.HTML(value=recom_button_css)\n",
    "\n",
    "modelling_approach_grid = GridspecLayout(1, 5, grid_gap='10px', height='80px', width='30%')\n",
    "modelling_approach_grid[0, 0:5] = modelling_approach_header\n"
   ]
  },
  {
   "cell_type": "code",
   "execution_count": null,
   "id": "55870595",
   "metadata": {},
   "outputs": [],
   "source": [
    "# FOR DISPLAYING MODELLING APPROACHES HEADER BUTTON -------------------------->\n",
    "\n",
    "# Creating a container for mod_app header button\n",
    "mod_app_header_container = widgets.VBox([modelling_approach_grid], \n",
    "                    layout=widgets.Layout(width='100%', padding_top= '10px', align_items='flex-start', justify_content='center'))"
   ]
  }
 ],
 "metadata": {
  "kernelspec": {
   "display_name": "Python 3 (ipykernel)",
   "language": "python",
   "name": "python3"
  },
  "language_info": {
   "codemirror_mode": {
    "name": "ipython",
    "version": 3
   },
   "file_extension": ".py",
   "mimetype": "text/x-python",
   "name": "python",
   "nbconvert_exporter": "python",
   "pygments_lexer": "ipython3",
   "version": "3.12.7"
  }
 },
 "nbformat": 4,
 "nbformat_minor": 5
}
