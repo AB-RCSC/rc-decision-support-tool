{
 "cells": [
  {
   "cell_type": "code",
   "execution_count": 13,
   "id": "66ed741d",
   "metadata": {},
   "outputs": [],
   "source": [
    "import warnings\n",
    "warnings.filterwarnings('ignore')\n",
    "\n",
    "import re\n",
    "import json\n",
    "import pandas as pd\n",
    "import ipywidgets as widgets\n",
    "from ipywidgets import AppLayout, Button, Layout\n",
    "from ipywidgets import Button, Layout, jslink, IntText, IntSlider\n",
    "from IPython.display import display, Javascript, Markdown, clear_output, HTML\n",
    "from ipywidgets import GridspecLayout\n",
    "from markdown_it import MarkdownIt"
   ]
  },
  {
   "cell_type": "code",
   "execution_count": 17,
   "id": "b9bfeeb0",
   "metadata": {},
   "outputs": [],
   "source": [
    "# Declaring necessary variables and importing neccesary files for storing user answers and keep track of the visited pages\n",
    "global dropdown_path\n",
    "\n",
    "dropdown_path = \"../data_files/csv/links.csv\""
   ]
  },
  {
   "cell_type": "code",
   "execution_count": 18,
   "id": "dbc96e73",
   "metadata": {},
   "outputs": [],
   "source": [
    "# Reading the CSV data file into a DataFrame\n",
    "dp_df = pd.read_csv(dropdown_path, low_memory=False)"
   ]
  },
  {
   "cell_type": "code",
   "execution_count": 19,
   "id": "a457fdce",
   "metadata": {},
   "outputs": [],
   "source": [
    "# Define the iframe HTML with a placeholder for the link\n",
    "iframe_template = \"\"\"\n",
    "<div style=\"position: relative; overflow: hidden; width: 100%; padding-top: 56.25%;\">\n",
    "  <iframe style=\"position: absolute; top: 0; left: 0; bottom: 0; right: 0; width: 100%; height: 100%;\" src=\"{url}\" loading=\"lazy\" frameborder=\"0\" allowfullscreen></iframe>\n",
    "</div>\n",
    "\"\"\""
   ]
  },
  {
   "cell_type": "code",
   "execution_count": 20,
   "id": "a519cc0b",
   "metadata": {},
   "outputs": [],
   "source": [
    "# ----> Previous iframe code <----\n",
    "\n",
    "# <iframe width=\"1400\" height=\"850\" src=\"{url}\" \n",
    "#         frameborder=\"0\" allow=\"accelerometer; autoplay; encrypted-media; gyroscope; picture-in-picture\" \n",
    "#         allowfullscreen></iframe>"
   ]
  },
  {
   "cell_type": "code",
   "execution_count": 21,
   "id": "cff40ecd",
   "metadata": {},
   "outputs": [],
   "source": [
    "# # Create button for pop up\n",
    "# button = widgets.Button(\n",
    "#     description=\"Click here for more information\", # ALIF - CHANGED FROM \"Click\"\n",
    "#     layout=widgets.Layout(width='auto', background_color=\"#FFBF00\")\n",
    "# )"
   ]
  },
  {
   "cell_type": "code",
   "execution_count": null,
   "id": "b600c9d9",
   "metadata": {},
   "outputs": [],
   "source": []
  },
  {
   "cell_type": "code",
   "execution_count": 7,
   "id": "efcb06db",
   "metadata": {},
   "outputs": [],
   "source": [
    "# # Create a close button for the pop-up window\n",
    "# close_button = widgets.Button(\n",
    "#     description=\"Close\",\n",
    "#     layout=widgets.Layout(width='100px')\n",
    "# )"
   ]
  },
  {
   "cell_type": "code",
   "execution_count": 8,
   "id": "82dff4c3",
   "metadata": {},
   "outputs": [],
   "source": [
    "def create_dropdown_container(link):\n",
    "    iframe = iframe_template.format(url=link)\n",
    "    # Create the pop-up window container\n",
    "    popup_window = widgets.VBox(\n",
    "        children=[widgets.HTML(iframe)],\n",
    "        layout=widgets.Layout(\n",
    "            border='solid 2px grey'\n",
    "        )\n",
    "    )\n",
    "    \n",
    "    return popup_window"
   ]
  },
  {
   "cell_type": "code",
   "execution_count": 9,
   "id": "c7adffb4",
   "metadata": {},
   "outputs": [],
   "source": [
    "# Create an Output widget for the pop-up window content\n",
    "output_popup = widgets.Output()"
   ]
  },
  {
   "cell_type": "code",
   "execution_count": 10,
   "id": "7c5869b1",
   "metadata": {},
   "outputs": [],
   "source": [
    "accordion = widgets.Accordion(children=[output_popup], titles=('Click here for more information',))\n",
    "# display(accordion)"
   ]
  },
  {
   "cell_type": "code",
   "execution_count": null,
   "id": "88bece29",
   "metadata": {},
   "outputs": [],
   "source": []
  },
  {
   "cell_type": "code",
   "execution_count": 11,
   "id": "25758b77",
   "metadata": {},
   "outputs": [],
   "source": [
    "def show_popup(accordion, link):\n",
    "    if accordion.selected_index is not None:  # Accordion is opened\n",
    "        with output_popup:\n",
    "            output_popup.clear_output()\n",
    "            display(create_dropdown_container(link))\n",
    "    else:\n",
    "        output_popup.clear_output()\n"
   ]
  },
  {
   "cell_type": "code",
   "execution_count": null,
   "id": "be7e361b",
   "metadata": {},
   "outputs": [],
   "source": []
  },
  {
   "cell_type": "code",
   "execution_count": 12,
   "id": "d053ac00",
   "metadata": {},
   "outputs": [],
   "source": [
    "# # Function to show the pop-up window\n",
    "# def show_popup(b, link):\n",
    "#     with output_popup:\n",
    "#         output_popup.clear_output()\n",
    "#         display(create_dropdown_container(link))"
   ]
  },
  {
   "cell_type": "code",
   "execution_count": 13,
   "id": "f5ade430",
   "metadata": {},
   "outputs": [],
   "source": [
    "# # Function to close the pop-up window\n",
    "# def close_popup(b):\n",
    "#     output_popup.clear_output()"
   ]
  },
  {
   "cell_type": "code",
   "execution_count": 14,
   "id": "b50b0211",
   "metadata": {},
   "outputs": [],
   "source": [
    "# popup = widgets.VBox(children=[button, output_popup], layout=widgets.Layout(\n",
    "#         width='95%',  \n",
    "#         height='auto',  \n",
    "# #         border='solid 2px grey',\n",
    "#         padding='5px',\n",
    "#         margin='auto',  \n",
    "#         align_items='center', \n",
    "#         justify_content='center'  \n",
    "#     ))"
   ]
  },
  {
   "cell_type": "code",
   "execution_count": 15,
   "id": "9a1e4407",
   "metadata": {},
   "outputs": [],
   "source": [
    "# display(popup)"
   ]
  },
  {
   "cell_type": "code",
   "execution_count": null,
   "id": "dcd00f62",
   "metadata": {},
   "outputs": [],
   "source": []
  },
  {
   "cell_type": "code",
   "execution_count": 1,
   "id": "bd215258",
   "metadata": {},
   "outputs": [],
   "source": [
    "# from IPython.display import display, HTML\n",
    "# import ipywidgets as widgets\n",
    "\n",
    "# # Add custom CSS to the notebook\n",
    "\n",
    "# accordion_css = \"\"\"<style>\n",
    "# /* Targeting the accordion header specifically */\n",
    "# .accordion-custom {\n",
    "#     background-color: #f7f056 !important;\n",
    "#     color: #333; /* Set the text color */\n",
    "#     font-weight: bold;\n",
    "#     border-radius: 5px;\n",
    "# }\n",
    "# </style>\"\"\"\n",
    "\n",
    "# # Create the Accordion\n",
    "# output_popup = widgets.Output()\n",
    "# with output_popup:\n",
    "#     print(\"This is additional information inside the accordion.\")\n",
    "\n",
    "# accordion = widgets.Accordion(children=[output_popup], titles=('Click here for more information',))\n",
    "# accordion.add_class('accordion-custom')  # Apply the custom class\n",
    "\n",
    "# css_widget = widgets.HTML(value=accordion_css)\n",
    "# accordion_container = widgets.VBox(children=[accordion, css_widget], layout=widgets.Layout(\n",
    "#     align_items='flex-start'  # Center align vertically\n",
    "# #     border='solid 2px black',\n",
    "# #     width = \"70%\"\n",
    "# #     justify_content='center'  # Center align horizontally\n",
    "# #     height='100vh'  # Set height to 100% of viewport height for vertical centering\n",
    "# ))"
   ]
  },
  {
   "cell_type": "code",
   "execution_count": 2,
   "id": "ae1af0f4",
   "metadata": {},
   "outputs": [
    {
     "data": {
      "application/vnd.jupyter.widget-view+json": {
       "model_id": "88d513bb64e947faa8db38bada426714",
       "version_major": 2,
       "version_minor": 0
      },
      "text/plain": [
       "VBox(children=(Accordion(children=(Output(outputs=({'output_type': 'stream', 'text': 'This is additional infor…"
      ]
     },
     "metadata": {},
     "output_type": "display_data"
    }
   ],
   "source": [
    "# display(accordion_container)"
   ]
  },
  {
   "cell_type": "code",
   "execution_count": null,
   "id": "671c892f",
   "metadata": {},
   "outputs": [],
   "source": [
    "# accordion = widgets.Accordion(children=[output_popup], titles=('Click here for more information',))"
   ]
  }
 ],
 "metadata": {
  "kernelspec": {
   "display_name": "Python 3 (ipykernel)",
   "language": "python",
   "name": "python3"
  },
  "language_info": {
   "codemirror_mode": {
    "name": "ipython",
    "version": 3
   },
   "file_extension": ".py",
   "mimetype": "text/x-python",
   "name": "python",
   "nbconvert_exporter": "python",
   "pygments_lexer": "ipython3",
   "version": "3.12.7"
  }
 },
 "nbformat": 4,
 "nbformat_minor": 5
}
