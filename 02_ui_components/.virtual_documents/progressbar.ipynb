import warnings
warnings.filterwarnings('ignore')

import os
import json
import pandas as pd
import ipywidgets as widgets
from ipywidgets import AppLayout, Button, Layout
from IPython.display import display, Javascript, Markdown, clear_output, HTML


ques_nav_path = "../data_files/json/ques_nav_list.json"


# Creating image widgets for footer
image1 = widgets.Image(value=open("../03_icons/icon_progress-bar_num1.png", "rb").read(), format='png') #, layout=widgets.Layout(width='200px')
image2 = widgets.Image(value=open("../03_icons/icon_progress-bar_num2.png", "rb").read(), format='png')
image3 = widgets.Image(value=open("../03_icons/icon_progress-bar_num3.png", "rb").read(), format='png')
image4 = widgets.Image(value=open("../03_icons/icon_progress-bar_num4.png", "rb").read(), format='png')
image5 = widgets.Image(value=open("../03_icons/icon_progress-bar_num5.png", "rb").read(), format='png')
image6 = widgets.Image(value=open("../03_icons/icon_progress-bar_num6.png", "rb").read(), format='png')
image7 = widgets.Image(value=open("../03_icons/icon_progress-bar_num7.png", "rb").read(), format='png')
image8 = widgets.Image(value=open("../03_icons/icon_progress-bar_check.png", "rb").read(), format='png') # ALIF - ADDED IMAGE8


image_prog_list = [image1, image2, image3, image4, image5, image6, image7, image8]


# Creating text widgets for footer
text_space = widgets.HTML(
    value="""
    <div style="display: flex; line-height: 1.2; align-items: center; white-space: normal; justify-content: flex-start; height: 100%; width: 100%;">
            <font size="2.5"> </font>
    </div>
    """,
    layout=widgets.Layout(width='1px')
)

text1 = widgets.HTML(
    value="""
    <div style="display: flex; line-height: 1.2; align-items: center; white-space: normal; justify-content: flex-start; height: 100%; width: 100%;">
            <font size="2.5">Objectives & resources</font>
    </div>
    """,
    layout=widgets.Layout(width='14%') # Alif changed from 130px 8%
)
text2 = widgets.HTML(
    value="""
    <div style="display: flex; line-height: 1.2; align-items: center; white-space: normal; justify-content: flex-start; height: 100%; width: 100%;font-family: 'Arial', 'sans-serif';">
            <font size="2.5">Study area & Site selection constraints</font>
    </div>
    """,
    layout=widgets.Layout(width='14%') # Alif changed from 130px 11% {{{{,border='2px solid black'}}}}
)
text3 = widgets.HTML(
    value="""
    <div style="display: flex; line-height: 1.2; align-items: center; white-space: normal; justify-content: flex-start; height: 100%; width: 100%;">
            <font size="2.5">Duration & Timing</font>
    </div>
    """,
    layout=widgets.Layout(width='14%') # Alif changed from 130px 10%
)
text4 = widgets.HTML(
    value="""
    <div style="display: flex; line-height: 1.2; align-items: center; white-space: normal; justify-content: flex-start; height: 100%; width: 100%;">
            <font size="2.5">Target Species</font>
    </div>
    """,
    layout=widgets.Layout(width='14%') # Alif changed from 130px 8%
)
text5 = widgets.HTML(
    value="""
    <div style="display: flex; line-height: 1.2; align-items: center; white-space: normal; justify-content: flex-start; height: 100%; width: 100%;">
            <font size="2.5">Equipment & Deployment</font>
    </div>
    """,
    layout=widgets.Layout(width='14%') # Alif changed from 130px 8%
)
text6 = widgets.HTML(
    value="""
    <div style="display: flex; line-height: 1.2; align-items: center; white-space: normal; justify-content: flex-start; height: 100%; width: 100%;">
            <font size="2.5">Data & Analysis</font>
    </div>
    """,
    layout=widgets.Layout(width='14%') # Alif changed from 130px 9%
)
text7 = widgets.HTML(
    value="""
    <div style="display: flex; line-height: 1.2; align-items: center; white-space: normal; justify-content: flex-start; height: 100%; width: 100%;">
            <font size="2.5">Recommendations</font>
    </div>
    """,
    layout=widgets.Layout(width='14%') # Alif changed from 130px 11%
)

text1_bold = widgets.HTML(
    value="""
    <div style="display: flex; line-height: 1.2; align-items: center; white-space: normal; justify-content: flex-start; height: 100%; width: 100%;">
            <b><font size="2">Objectives & resources  </font></b>
    </div>
    """,
    layout=widgets.Layout(width='14%') # Alif changed from 130px 8%
)

text2_bold = widgets.HTML(
    value="""
    <div style="display: flex; line-height: 1.2; align-items: center; white-space: normal; justify-content: flex-start; height: 100%; width: 100%;">
            <b><font size="2">Study area & Site selection constraints</font></b>
    </div>
    """,
    layout=widgets.Layout(width='14%') # Alif changed from 130px 11%
)
text3_bold = widgets.HTML(
    value="""
    <div style="display: flex; line-height: 1.2; align-items: center; white-space: normal; justify-content: flex-start; height: 100%; width: 100%;">
            <b><font size="2">Duration & Timing</font></b>
    </div>
    """,
    layout=widgets.Layout(width='14%') # Alif changed from 130px 10%
)
text4_bold = widgets.HTML(
    value="""
    <div style="display: flex; line-height: 1.2; align-items: center; white-space: normal; justify-content: flex-start; height: 100%; width: 100%;">
            <b><font size="2">Target Species</font></b>
    </div>
    """,
    layout=widgets.Layout(width='14%') # Alif changed from 130px 8%
)
text5_bold = widgets.HTML(
    value="""
    <div style="display: flex; line-height: 1.2; align-items: center; white-space: normal; justify-content: flex-start; height: 100%; width: 100%;">
            <b><font size="2">Equipment & Deployment</font></b>
    </div>
    """,
    layout=widgets.Layout(width='14%') # Alif changed from 130px 8%
)
text6_bold = widgets.HTML(
    value="""
    <div style="display: flex; line-height: 1.2; align-items: center; white-space: normal; justify-content: flex-start; height: 100%; width: 100%;">
            <b><font size="2">Data & Analysis</font></b>
    </div>
    """,
    layout=widgets.Layout(width='14%') # Alif changed from 130px 9%
)
text7_bold = widgets.HTML(
    value="""
    <div style="display: flex; line-height: 1.2; align-items: center; white-space: normal; justify-content: flex-start; height: 100%; width: 100%;">
            <b><font size="2">Recommendations</font></b>
    </div>
    """,
    layout=widgets.Layout(width='14%') # Alif changed from 130px 11%
)


text_prog_list = [text_space, text1, text2, text3, text4, text5, text6, text7,
                 text1_bold, text2_bold, text3_bold, text4_bold, text5_bold, text6_bold, text7_bold]









def get_navigating_list(notebook_name, notebook_list_name, nav_path, page_dropdown_text): 
    
    # default home directory
    server_url = 'https://rc-decision-support-tool.ca/voila/render/'
    
    notebook_name = notebook_name
#     navigating_link = [(notebook_name[6:], f"{server_url}{notebook_name+".ipynb"}")]
    navigating_link = [(page_dropdown_text, f"{notebook_name+".ipynb"}")]
    
    # Read the dictionary from the JSON file
    with open(nav_path, 'r') as f:
        ques_nav = json.load(f)
        
    if not any(page_dropdown_text in sublist for sublist in ques_nav[notebook_list_name]):
        ques_nav[notebook_list_name].extend(navigating_link)
    
    # Write the dictionary to the JSON file
    with open (nav_path, "w")as f:
        json.dump(ques_nav, f)
    
    # Read the dictionary back from the JSON file
    with open(ques_nav_path, 'r') as f:
        ques_nav = json.load(f)
        
    return ques_nav  





# Create a placeholder for the clickable link
link_html = widgets.HTML(value="")

# Function to update the link beside the dropdown
def on_option_change(change):
    if change['new']:  # When a new option is selected
        with output:
            clear_output()
        label= change['new']
        link = change['new']
        if link:  # If the selected option has a valid link
            # Update the HTML widget to display a clickable link
            link_html.value = f'<a href="{link}" target="_blank">Open</a>'
        else:
            # Clear the link if 'None' or invalid option is selected
            link_html.value = ""





def get_dropdown_list(ques_nav):
    drop_page_prog1 = widgets.Dropdown(
        options = [(label, link) for label, link in ques_nav["obj_list"]],
        layout = {'width' : '70%'}
    )
    drop_page_prog1.observe(on_option_change, names='value')

    drop_page_prog2 = widgets.Dropdown(
        options = [(label, link) for label, link in ques_nav["st_area_list"]],
        layout = {'width' : '70%'}
    )
    drop_page_prog2.observe(on_option_change, names='value')

    drop_page_prog3 = widgets.Dropdown(
        options = [(label, link) for label, link in ques_nav["dt_list"]],
        layout = {'width' : '70%'}
    )
    drop_page_prog3.observe(on_option_change, names='value')

    drop_page_prog4 = widgets.Dropdown(
        options = [(label, link) for label, link in ques_nav["ts_list"]],
        layout = {'width' : '70%'}
    )
    drop_page_prog4.observe(on_option_change, names='value')

    drop_page_prog5 = widgets.Dropdown(
        options = [(label, link) for label, link in ques_nav["ed_list"]],
        layout = {'width' : '70%'}
    )
    drop_page_prog5.observe(on_option_change, names='value')

    drop_page_prog6 = widgets.Dropdown(
        options = [(label, link) for label, link in ques_nav["da_list"]],
        layout = {'width' : '70%'}
    )
    drop_page_prog6.observe(on_option_change, names='value')
    
    drop_page_prog7 = widgets.Dropdown(
        options = [(label, link) for label, link in ques_nav["rec_list"]],
        layout = {'width' : '70%'}
    )
    drop_page_prog7.observe(on_option_change, names='value')


    dropdown_prog_list = [drop_page_prog1, drop_page_prog2, drop_page_prog3, drop_page_prog4, drop_page_prog5, drop_page_prog6, drop_page_prog7]
    
    return dropdown_prog_list


# get_dropdown_list()


def get_footer(image_prog_list, text_prog_list, dropdown_prog_list, footer_name):
    
    first_block = widgets.VBox([widgets.HBox([image_prog_list[0], text_prog_list[8]]), dropdown_prog_list[0]], layout=widgets.Layout(width='14%')) # layout= {'width' : 'max-content'}
    second_block = widgets.VBox([widgets.HBox([image_prog_list[1], text_prog_list[2]]), dropdown_prog_list[1]], layout=widgets.Layout(width='15%'))
    third_block = widgets.VBox([widgets.HBox([image_prog_list[2], text_prog_list[3]]), dropdown_prog_list[2]], layout=widgets.Layout(width='14%'))
    fourth_block = widgets.VBox([widgets.HBox([image_prog_list[3], text_prog_list[4]]), dropdown_prog_list[3]], layout=widgets.Layout(width='14%'))
    fifth_block = widgets.VBox([widgets.HBox([image_prog_list[4], text_prog_list[5]]), dropdown_prog_list[4]], layout=widgets.Layout(width='14%'))
    sixth_block = widgets.VBox([widgets.HBox([image_prog_list[5], text_prog_list[6]]), dropdown_prog_list[5]], layout=widgets.Layout(width='14%'))
    seventh_block = widgets.VBox([widgets.HBox([image_prog_list[6], text_prog_list[7]]), dropdown_prog_list[6]], layout=widgets.Layout(width='15%'))

    ### progress_bar_text_1=="Objectives & Resources"
    footer_in_prog1 = widgets.HBox([first_block, second_block, third_block, fourth_block, fifth_block, sixth_block, seventh_block], 
                        layout=widgets.Layout(width='100%', height='100px', border='solid grey 1px'))


    first_block2 = widgets.VBox([widgets.HBox([image_prog_list[7], text_prog_list[1]]), dropdown_prog_list[0]], layout=widgets.Layout(width='14%')) # layout= {'width' : 'max-content'}
    second_block2 = widgets.VBox([widgets.HBox([image_prog_list[1], text_prog_list[9]]), dropdown_prog_list[1]], layout=widgets.Layout(width='15%'))
    third_block2 = widgets.VBox([widgets.HBox([image_prog_list[2], text_prog_list[3]]), dropdown_prog_list[2]], layout=widgets.Layout(width='14%'))
    fourth_block2 = widgets.VBox([widgets.HBox([image_prog_list[3], text_prog_list[4]]), dropdown_prog_list[3]], layout=widgets.Layout(width='14%'))
    fifth_block2 = widgets.VBox([widgets.HBox([image_prog_list[4], text_prog_list[5]]), dropdown_prog_list[4]], layout=widgets.Layout(width='14%'))
    sixth_block2 = widgets.VBox([widgets.HBox([image_prog_list[5], text_prog_list[6]]), dropdown_prog_list[5]], layout=widgets.Layout(width='14%'))
    seventh_block2 = widgets.VBox([widgets.HBox([image_prog_list[6], text_prog_list[7]]), dropdown_prog_list[6]], layout=widgets.Layout(width='15%'))

    ### progress_bar_text_2=="Study area & Site selection constraints"
    footer_in_prog2 = widgets.HBox([first_block2, second_block2, third_block2, fourth_block2, fifth_block2, sixth_block2, seventh_block2], 
                         layout=widgets.Layout(width='100%', height='100px', border='solid grey 1px'))


    first_block3 = widgets.VBox([widgets.HBox([image_prog_list[7], text_prog_list[1]]), dropdown_prog_list[0]], layout=widgets.Layout(width='14%')) # layout= {'width' : 'max-content'}
    second_block3 = widgets.VBox([widgets.HBox([image_prog_list[7], text_prog_list[2]]), dropdown_prog_list[1]], layout=widgets.Layout(width='15%'))
    third_block3 = widgets.VBox([widgets.HBox([image_prog_list[2], text_prog_list[10]]), dropdown_prog_list[2]], layout=widgets.Layout(width='14%'))
    fourth_block3 = widgets.VBox([widgets.HBox([image_prog_list[3], text_prog_list[4]]), dropdown_prog_list[3]], layout=widgets.Layout(width='14%'))
    fifth_block3 = widgets.VBox([widgets.HBox([image_prog_list[4], text_prog_list[5]]), dropdown_prog_list[4]], layout=widgets.Layout(width='14%'))
    sixth_block3 = widgets.VBox([widgets.HBox([image_prog_list[5], text_prog_list[6]]), dropdown_prog_list[5]], layout=widgets.Layout(width='14%'))
    seventh_block3 = widgets.VBox([widgets.HBox([image_prog_list[6], text_prog_list[7]]), dropdown_prog_list[6]], layout=widgets.Layout(width='15%'))

    ### progress_bar_text_3=="Duration & Timing"
    footer_in_prog3 = widgets.HBox([first_block3, second_block3, third_block3, fourth_block3, fifth_block3, sixth_block3, seventh_block3], 
                        layout=widgets.Layout(width='100%', height='100px', border='solid grey 1px'))


    first_block4 = widgets.VBox([widgets.HBox([image_prog_list[7], text_prog_list[1]]), dropdown_prog_list[0]], layout=widgets.Layout(width='14%')) # layout= {'width' : 'max-content'}
    second_block4 = widgets.VBox([widgets.HBox([image_prog_list[7], text_prog_list[2]]), dropdown_prog_list[1]], layout=widgets.Layout(width='15%'))
    third_block4 = widgets.VBox([widgets.HBox([image_prog_list[7], text_prog_list[3]]), dropdown_prog_list[2]], layout=widgets.Layout(width='14%'))
    fourth_block4 = widgets.VBox([widgets.HBox([image_prog_list[3], text_prog_list[11]]), dropdown_prog_list[3]], layout=widgets.Layout(width='14%'))
    fifth_block4 = widgets.VBox([widgets.HBox([image_prog_list[4], text_prog_list[5]]), dropdown_prog_list[4]], layout=widgets.Layout(width='14%'))
    sixth_block4 = widgets.VBox([widgets.HBox([image_prog_list[5], text_prog_list[6]]), dropdown_prog_list[5]], layout=widgets.Layout(width='14%'))
    seventh_block4 = widgets.VBox([widgets.HBox([image_prog_list[6], text_prog_list[7]]), dropdown_prog_list[6]], layout=widgets.Layout(width='15%'))

    ### progress_bar_text_4=="Target species"
    footer_in_prog4 = widgets.HBox([first_block4, second_block4, third_block4, fourth_block4, fifth_block4, sixth_block4, seventh_block4],  
                         layout=widgets.Layout(width='100%', height='100px', border='solid grey 1px'))


    first_block5 = widgets.VBox([widgets.HBox([image_prog_list[7], text_prog_list[1]]), dropdown_prog_list[0]], layout=widgets.Layout(width='14%')) # layout= {'width' : 'max-content'}
    second_block5 = widgets.VBox([widgets.HBox([image_prog_list[7], text_prog_list[2]]), dropdown_prog_list[1]], layout=widgets.Layout(width='15%'))
    third_block5 = widgets.VBox([widgets.HBox([image_prog_list[7], text_prog_list[3]]), dropdown_prog_list[2]], layout=widgets.Layout(width='14%'))
    fourth_block5 = widgets.VBox([widgets.HBox([image_prog_list[7], text_prog_list[4]]), dropdown_prog_list[3]], layout=widgets.Layout(width='14%'))
    fifth_block5 = widgets.VBox([widgets.HBox([image_prog_list[4], text_prog_list[12]]), dropdown_prog_list[4]], layout=widgets.Layout(width='14%'))
    sixth_block5 = widgets.VBox([widgets.HBox([image_prog_list[5], text_prog_list[6]]), dropdown_prog_list[5]], layout=widgets.Layout(width='14%'))
    seventh_block5 = widgets.VBox([widgets.HBox([image_prog_list[6], text_prog_list[7]]), dropdown_prog_list[6]], layout=widgets.Layout(width='15%'))

    ### progress_bar_text_5=="Equipment & Deployment"
    footer_in_prog5 = widgets.HBox([first_block5, second_block5, third_block5, fourth_block5, fifth_block5, sixth_block5, seventh_block5], 
                        layout=widgets.Layout(width='100%', height='100px', border='solid grey 1px'))


    first_block6 = widgets.VBox([widgets.HBox([image_prog_list[7], text_prog_list[1]]), dropdown_prog_list[0]], layout=widgets.Layout(width='14%')) # layout= {'width' : 'max-content'}
    second_block6 = widgets.VBox([widgets.HBox([image_prog_list[7], text_prog_list[2]]), dropdown_prog_list[1]], layout=widgets.Layout(width='15%'))
    third_block6 = widgets.VBox([widgets.HBox([image_prog_list[7], text_prog_list[3]]), dropdown_prog_list[2]], layout=widgets.Layout(width='14%'))
    fourth_block6 = widgets.VBox([widgets.HBox([image_prog_list[7], text_prog_list[4]]), dropdown_prog_list[3]], layout=widgets.Layout(width='14%'))
    fifth_block6 = widgets.VBox([widgets.HBox([image_prog_list[7], text_prog_list[5]]), dropdown_prog_list[4]], layout=widgets.Layout(width='14%'))
    sixth_block6 = widgets.VBox([widgets.HBox([image_prog_list[5], text_prog_list[13]]), dropdown_prog_list[5]], layout=widgets.Layout(width='14%'))
    seventh_block6 = widgets.VBox([widgets.HBox([image_prog_list[6], text_prog_list[7]]), dropdown_prog_list[6]], layout=widgets.Layout(width='15%'))

    ### progress_bar_text_6=="Data & Analysis"
    footer_in_prog6 = widgets.HBox([first_block6, second_block6, third_block6, fourth_block6, fifth_block6, sixth_block6, seventh_block6], 
                       layout=widgets.Layout(width='100%', height='100px', border='solid grey 1px'))
    
    first_block7 = widgets.VBox([widgets.HBox([image_prog_list[7], text_prog_list[1]]), dropdown_prog_list[0]], layout=widgets.Layout(width='14%')) # layout= {'width' : 'max-content'}
    second_block7 = widgets.VBox([widgets.HBox([image_prog_list[7], text_prog_list[2]]), dropdown_prog_list[1]], layout=widgets.Layout(width='15%'))
    third_block7 = widgets.VBox([widgets.HBox([image_prog_list[7], text_prog_list[3]]), dropdown_prog_list[2]], layout=widgets.Layout(width='14%'))
    fourth_block7 = widgets.VBox([widgets.HBox([image_prog_list[7], text_prog_list[4]]), dropdown_prog_list[3]], layout=widgets.Layout(width='14%'))
    fifth_block7 = widgets.VBox([widgets.HBox([image_prog_list[7], text_prog_list[5]]), dropdown_prog_list[4]], layout=widgets.Layout(width='14%'))
    sixth_block7 = widgets.VBox([widgets.HBox([image_prog_list[7], text_prog_list[6]]), dropdown_prog_list[5]], layout=widgets.Layout(width='14%'))
    seventh_block7 = widgets.VBox([widgets.HBox([image_prog_list[6], text_prog_list[14]]), dropdown_prog_list[6]], layout=widgets.Layout(width='15%'))

    ### progress_bar_text_7=="Recommendations"
    footer_in_prog7 = widgets.HBox([first_block7, second_block7, third_block7, fourth_block7, fifth_block7, sixth_block7, seventh_block7], 
                       layout=widgets.Layout(width='100%', height='100px', border='solid grey 1px'))
    
    footer_dict = {
        "footer_in_prog1": footer_in_prog1,
        "footer_in_prog2": footer_in_prog2,
        "footer_in_prog3": footer_in_prog3,
        "footer_in_prog4": footer_in_prog4,
        "footer_in_prog5": footer_in_prog5,
        "footer_in_prog6": footer_in_prog6,
        "footer_in_prog7": footer_in_prog7
    }
    
    return footer_dict[footer_name]


def main(notebook_name, notebook_list_name, footer_name, page_dropdown_text):

    ques_nav = get_navigating_list(notebook_name, notebook_list_name, ques_nav_path, page_dropdown_text)
    dropdown_prog_list = get_dropdown_list(ques_nav)
    footer_in = get_footer(image_prog_list, text_prog_list, dropdown_prog_list, footer_name)

    # Adding custon css class to the container
    footer_in.add_class("custom-vbox")

    # Creating another footer container with the previous container for implementing other css properties
    footer = widgets.VBox([footer_in, link_html], 
                        layout=widgets.Layout(
            width='95.1%',  # Set the width to 50% of the container or viewport
            height='auto',  # Set a fixed height
    #         border='solid 2px grey',
            padding='1px',
            margin='auto',  # Center the VBox horizontally
            align_items='flex-start',  # Center the items inside the VBox
            justify_content='flex-start'  # Center the items vertically inside the VBox
        ))

    return footer



