{
 "cells": [
  {
   "cell_type": "code",
   "execution_count": 1,
   "id": "66ed741d",
   "metadata": {},
   "outputs": [],
   "source": [
    "import warnings\n",
    "warnings.filterwarnings('ignore')\n",
    "\n",
    "import os\n",
    "import re\n",
    "import json\n",
    "import webbrowser\n",
    "import pandas as pd\n",
    "import ipywidgets as widgets\n",
    "from datetime import datetime\n",
    "from ipywidgets import AppLayout, Button, Layout\n",
    "from ipywidgets import Button, Layout, jslink, IntText, IntSlider\n",
    "from IPython.display import display, Javascript, Markdown, clear_output, HTML\n",
    "from ipywidgets import GridspecLayout\n",
    "from markdown_it import MarkdownIt"
   ]
  },
  {
   "cell_type": "code",
   "execution_count": null,
   "id": "93ea83df",
   "metadata": {},
   "outputs": [],
   "source": [
    "%run progressbar.ipynb"
   ]
  },
  {
   "cell_type": "code",
   "execution_count": null,
   "id": "0b53df27",
   "metadata": {},
   "outputs": [],
   "source": [
    "%run sidebar.ipynb"
   ]
  },
  {
   "cell_type": "code",
   "execution_count": null,
   "id": "3b9439e0",
   "metadata": {},
   "outputs": [],
   "source": [
    "%run dropdown.ipynb"
   ]
  },
  {
   "cell_type": "code",
   "execution_count": null,
   "id": "6a1ec4c6",
   "metadata": {},
   "outputs": [],
   "source": [
    "def get_css_class(css_file, class_name):\n",
    "    with open(css_file, 'r') as file:\n",
    "        css = file.read()\n",
    "        # Use regex to extract the class\n",
    "        pattern = r'\\.' + re.escape(class_name) + r'\\s*\\{([^}]*)\\}'\n",
    "        match = re.search(pattern, css, re.DOTALL)\n",
    "        if match:\n",
    "            css_content = match.group(1).strip()\n",
    "            return f'\\n<style>\\n.{class_name} {{\\n{css_content}\\n}}\\n</style>\\n'\n",
    "        else:\n",
    "            return None"
   ]
  },
  {
   "cell_type": "code",
   "execution_count": 2,
   "id": "13557dd0",
   "metadata": {},
   "outputs": [],
   "source": [
    "# Custom CSS to modify the question button design\n",
    "ques_button_css = get_css_class('style.css', 'ques-button')"
   ]
  },
  {
   "cell_type": "code",
   "execution_count": 3,
   "id": "0d8bb4d2",
   "metadata": {},
   "outputs": [],
   "source": [
    "# Custom CSS to modify the option button design\n",
    "opt_button_css = get_css_class('style.css', 'opt-button')"
   ]
  },
  {
   "cell_type": "code",
   "execution_count": 5,
   "id": "0e20e2ea",
   "metadata": {},
   "outputs": [],
   "source": [
    "# Custom CSS to modify the header design\n",
    "header_css = get_css_class('style.css', 'custom-header')"
   ]
  },
  {
   "cell_type": "code",
   "execution_count": 6,
   "id": "ecf635e0",
   "metadata": {},
   "outputs": [],
   "source": [
    "# Custom CSS to modify the footer design\n",
    "footer_css = get_css_class('style.css', 'custom-footer')"
   ]
  },
  {
   "cell_type": "code",
   "execution_count": 7,
   "id": "d7e6ed81",
   "metadata": {},
   "outputs": [],
   "source": [
    "# Create an HTML widget for the background color\n",
    "background_color_html = widgets.HTML(\n",
    "    value = get_css_class('style.css', 'custom-vbox')\n",
    ")"
   ]
  },
  {
   "cell_type": "code",
   "execution_count": 8,
   "id": "b243ac7e",
   "metadata": {},
   "outputs": [],
   "source": [
    "# Loading the header image within an image widget\n",
    "header_prog1 = widgets.Image(value=open(\"../03_icons/icon_level-banner_1-0_objective-resources.png\", \"rb\").read(), format='png',\n",
    "                      layout=widgets.Layout(width='auto', height='70px'))\n",
    "\n",
    "header_prog2 = widgets.Image(value=open(\"../03_icons/icon_level-banner_2-1_project-level_study-area_site-selection.png\", \"rb\").read(), format='png',\n",
    "                      layout=widgets.Layout(width='auto', height='70px'))\n",
    "\n",
    "header_prog3 = widgets.Image(value=open(\"../03_icons/icon_level-banner_2-2_project-level_duration-timing.png\", \"rb\").read(), format='png',\n",
    "                      layout=widgets.Layout(width='auto', height='70px'))\n",
    "\n",
    "header_prog4 = widgets.Image(value=open(\"../03_icons/icon_level-banner_4-0_target-species.png\", \"rb\").read(), format='png',\n",
    "                      layout=widgets.Layout(width='auto', height='70px'))\n",
    "\n",
    "header_prog5 = widgets.Image(value=open(\"../03_icons/icon_level-banner_5-1_equipment-deployment.png\", \"rb\").read(), format='png',\n",
    "                      layout=widgets.Layout(width='auto', height='70px'))\n",
    "\n",
    "header_prog6 = widgets.Image(value=open(\"../03_icons/icon_level-banner_6-0_data-analysis.png\", \"rb\").read(), format='png',\n",
    "                      layout=widgets.Layout(width='auto', height='70px'))"
   ]
  },
  {
   "cell_type": "code",
   "execution_count": 9,
   "id": "76ef8b20",
   "metadata": {},
   "outputs": [],
   "source": [
    "header = header_prog4"
   ]
  },
  {
   "cell_type": "code",
   "execution_count": 10,
   "id": "f2fe7227",
   "metadata": {},
   "outputs": [],
   "source": [
    "# Creating a container for header image\n",
    "header_container = widgets.VBox([header], \n",
    "                    layout=widgets.Layout(width='96%', padding_top= '10px', align_items='flex-start', justify_content='center'))"
   ]
  },
  {
   "cell_type": "code",
   "execution_count": null,
   "id": "864e2334",
   "metadata": {},
   "outputs": [],
   "source": [
    "notebook_name = \"obj_targ_sp\"\n",
    "notebook_list_name = \"ts_list\"\n",
    "footer_name = \"footer_in_prog4\""
   ]
  },
  {
   "cell_type": "code",
   "execution_count": null,
   "id": "a4d2a395",
   "metadata": {},
   "outputs": [],
   "source": [
    "footer = main(notebook_name, notebook_list_name, footer_name)"
   ]
  },
  {
   "cell_type": "code",
   "execution_count": 13,
   "id": "52535721",
   "metadata": {},
   "outputs": [],
   "source": [
    "# Creating button\n",
    "def create_expanded_button(description, button_style):\n",
    "    return Button(description=description, button_style=button_style, layout=Layout(height='auto', width='auto', border='1px solid black')) #width='max-content'"
   ]
  },
  {
   "cell_type": "code",
   "execution_count": 15,
   "id": "b9bfeeb0",
   "metadata": {},
   "outputs": [],
   "source": [
    "# Declaring necessary variables and importing neccesary files for storing user answers and keep track of the visited pages\n",
    "global stored_choices, path\n",
    "\n",
    "stored_choices = {}\n",
    "path = \"../temp_storage.json\"\n",
    "back_path = \"../backtracking.json\"\n",
    "dropdown_path = \"../04_lu_tables/links.csv\""
   ]
  },
  {
   "cell_type": "code",
   "execution_count": 16,
   "id": "37b3733c",
   "metadata": {},
   "outputs": [],
   "source": [
    "# Importing the json file for storing user answers\n",
    "with open(path, \"r\") as f:\n",
    "    stored_choices = json.load(f)"
   ]
  },
  {
   "cell_type": "code",
   "execution_count": 17,
   "id": "b3826b31",
   "metadata": {},
   "outputs": [],
   "source": [
    "# Importing the json file for keeping track of visited pages\n",
    "with open(back_path, 'r') as f:\n",
    "    back_list = json.load(f)"
   ]
  },
  {
   "cell_type": "code",
   "execution_count": 18,
   "id": "e5d372c3",
   "metadata": {},
   "outputs": [],
   "source": [
    "# Reading the CSV data file into a DataFrame\n",
    "df = pd.read_csv('../new_format.csv', low_memory=False)"
   ]
  },
  {
   "cell_type": "code",
   "execution_count": null,
   "id": "4d270861",
   "metadata": {},
   "outputs": [],
   "source": [
    "dp_df = pd.read_csv(dropdown_path, low_memory=False)"
   ]
  },
  {
   "cell_type": "code",
   "execution_count": null,
   "id": "69f08a63",
   "metadata": {},
   "outputs": [],
   "source": [
    "drop_link = dp_df.loc[dp_df['field_code'] == 'obj_targ_sp', 'info_url'].iloc[0]"
   ]
  },
  {
   "cell_type": "code",
   "execution_count": 19,
   "id": "532f7517",
   "metadata": {},
   "outputs": [],
   "source": [
    "# seperates the string based on ',' also removes the whitespace after comma & makes a list\n",
    "def split_and_trim(s):\n",
    "    return [item.strip() for item in s.split(',')]"
   ]
  },
  {
   "cell_type": "code",
   "execution_count": 20,
   "id": "cff9822f",
   "metadata": {},
   "outputs": [],
   "source": [
    "# gets the question based on value of other column\n",
    "\n",
    "ques = df.loc[df['question_code'] == 'obj_targ_sp', 'question_text'].iloc[0]\n",
    "opt = df.loc[df['question_code'] == 'obj_targ_sp', 'q_option_label'].iloc[0]\n",
    "opt_codes = df.loc[df['question_code'] == 'obj_targ_sp', 'q_option_code'].iloc[0]\n",
    "\n",
    "opt = split_and_trim(opt)\n",
    "opt_codes = split_and_trim(opt_codes)"
   ]
  },
  {
   "cell_type": "code",
   "execution_count": 21,
   "id": "5760656b",
   "metadata": {},
   "outputs": [],
   "source": [
    "# Factor widgets\n",
    "\n",
    "question = create_expanded_button(ques, 'success')\n",
    "question.style.button_color = 'lightblue'\n",
    "question.style.text_color = 'black'\n",
    "# Add custom class to the button\n",
    "question.add_class('ques-button')\n",
    "\n",
    "option1 = create_expanded_button(opt[0], 'success')\n",
    "option1.style.button_color = '#DAE8FC'\n",
    "option1.style.text_color = 'black'\n",
    "option1.add_class('opt-button')\n",
    "\n",
    "option2 = create_expanded_button(opt[1], 'success')\n",
    "option2.style.button_color = '#DAE8FC'\n",
    "option2.style.text_color = 'red'\n",
    "option2.add_class('opt-button')\n",
    "\n",
    "# Create a HTML widget to include the custom CSS\n",
    "css_widget = widgets.HTML(value=ques_button_css)\n",
    "css_widget2 = widgets.HTML(value=opt_button_css)\n",
    "\n",
    "factor_grid = GridspecLayout(4, 12, grid_gap='5px', height='595px')\n",
    "factor_grid[1:3, 2:6] = question\n",
    "factor_grid[1, 7:9] = option1\n",
    "factor_grid[2, 7:9] = option2\n",
    "\n",
    "\n",
    "logical_integer_container = widgets.VBox(children=[factor_grid, css_widget, css_widget2], layout=widgets.Layout(\n",
    "    align_items='center'  # Center align vertically\n",
    "#     border='solid 2px black',\n",
    "#     width = \"70%\"\n",
    "#     justify_content='center'  # Center align horizontally\n",
    "#     height='100vh'  # Set height to 100% of viewport height for vertical centering\n",
    "))\n",
    "# logical_integer_container"
   ]
  },
  {
   "cell_type": "code",
   "execution_count": 22,
   "id": "b8129828",
   "metadata": {},
   "outputs": [],
   "source": [
    "button_list = [option1, option2]"
   ]
  },
  {
   "cell_type": "code",
   "execution_count": 23,
   "id": "34d370ab",
   "metadata": {},
   "outputs": [],
   "source": [
    "selected = False"
   ]
  },
  {
   "cell_type": "code",
   "execution_count": null,
   "id": "ff9efe25",
   "metadata": {},
   "outputs": [],
   "source": [
    "# Create the text widget with a warning message\n",
    "warning_widget2 = widgets.HTML(\n",
    "    value=\"\"\"\n",
    "    <div style=\"padding: 5px; background-color: #f8d7da; color: #721c24; border: 2px solid #f5c6cb; border-radius: 5px;\">\n",
    "        <strong>Warning!</strong> Unavailable for now. Please select another.\n",
    "    </div>\n",
    "    \"\"\"\n",
    ")"
   ]
  },
  {
   "cell_type": "code",
   "execution_count": null,
   "id": "46fd111a",
   "metadata": {},
   "outputs": [],
   "source": [
    "error2 = widgets.HBox(\n",
    "    [warning_widget2],\n",
    "    layout=widgets.Layout(\n",
    "        width='auto',  \n",
    "        height='auto',\n",
    "        margin='auto',  \n",
    "        align_items='flex-end',  \n",
    "        justify_content='flex-end' \n",
    "    )\n",
    ")"
   ]
  },
  {
   "cell_type": "code",
   "execution_count": 24,
   "id": "efe3620d",
   "metadata": {},
   "outputs": [],
   "source": [
    "output = widgets.Output()\n",
    "def option_1_button_clicked(option1):\n",
    "    with output:\n",
    "        clear_output()\n",
    "        global selected_objective, selected_target_sp, selected_sp_type\n",
    "        global selected\n",
    "        \n",
    "        selected = True\n",
    "        \n",
    "        for btn in button_list:\n",
    "            if btn == option1:\n",
    "                btn.icon='check'\n",
    "            else:\n",
    "                btn.icon=''\n",
    "        \n",
    "        selected_option = factor_grid[1, 7:9].description\n",
    "        selected_option_index = opt.index(selected_option)\n",
    "        selected_option_code = opt_codes[selected_option_index]\n",
    "        \n",
    "        stored_choices[\"obj_targ_sp\"] = selected_option_code\n",
    "        \n",
    "        with open(path, \"w\") as f:\n",
    "            json.dump(stored_choices, f)\n",
    "            \n",
    "        if \"objective\" in stored_choices.keys():\n",
    "            selected_objective = stored_choices['objective']\n",
    "        if \"obj_targ_sp\" in stored_choices.keys():\n",
    "            selected_target_sp = stored_choices['obj_targ_sp']\n",
    "        if \"sp_type\" in stored_choices.keys():\n",
    "            selected_sp_type = stored_choices['sp_type']\n",
    "        \n",
    "factor_grid[1, 7:9].on_click(option_1_button_clicked)"
   ]
  },
  {
   "cell_type": "code",
   "execution_count": 25,
   "id": "5c710794",
   "metadata": {},
   "outputs": [],
   "source": [
    "output = widgets.Output()\n",
    "def option_2_button_clicked(option2):\n",
    "    with output:\n",
    "        clear_output()\n",
    "        global selected_objective, selected_target_sp, selected_sp_type\n",
    "        global selected\n",
    "        \n",
    "        selected = False\n",
    "        \n",
    "        for btn in button_list:\n",
    "            if btn == option2:\n",
    "                btn.icon='check'\n",
    "            else:\n",
    "                btn.icon=''\n",
    "        display(error2)\n",
    "#         selected_option = factor_grid[1, 7:9].description ###*** Here storing \"single\" even if this button is for \"multiple\"\n",
    "#         selected_option_index = opt.index(selected_option) ### cz the \"multiple is not supported for now and is raising error\"\n",
    "#         selected_option_code = opt_codes[selected_option_index] ### doesen't meet the logic and doesen't go to sp_type notebook, thus raising error..\n",
    "        \n",
    "#         stored_choices[\"obj_targ_sp\"] = selected_option_code\n",
    "        \n",
    "#         with open(path, \"w\") as f:\n",
    "#             json.dump(stored_choices, f)\n",
    "            \n",
    "#         if \"objective\" in stored_choices.keys():\n",
    "#             selected_objective = stored_choices['objective']\n",
    "#         if \"obj_targ_sp\" in stored_choices.keys():\n",
    "#             selected_target_sp = stored_choices['obj_targ_sp']\n",
    "#         if \"sp_type\" in stored_choices.keys():\n",
    "#             selected_sp_type = stored_choices['sp_type']\n",
    "        \n",
    "        \n",
    "factor_grid[2, 7:9].on_click(option_2_button_clicked)"
   ]
  },
  {
   "cell_type": "code",
   "execution_count": 26,
   "id": "388c8e7c",
   "metadata": {},
   "outputs": [],
   "source": [
    "# button.on_click(show_popup(None, drop_link))\n",
    "button.on_click(lambda b: show_popup(b, drop_link))"
   ]
  },
  {
   "cell_type": "code",
   "execution_count": 27,
   "id": "f5ade430",
   "metadata": {},
   "outputs": [],
   "source": [
    "close_button.on_click(close_popup)"
   ]
  },
  {
   "cell_type": "code",
   "execution_count": 30,
   "id": "0c6612b7",
   "metadata": {},
   "outputs": [],
   "source": [
    "# Create a buttons for submitting the question\n",
    "submit_button = widgets.Button(description=\"Submit & Next >>\", layout=widgets.Layout(border='1px solid black'))"
   ]
  },
  {
   "cell_type": "code",
   "execution_count": 31,
   "id": "c31a0232",
   "metadata": {},
   "outputs": [],
   "source": [
    "# Create a button for going back to previous question\n",
    "back_button = widgets.Button(description=\"<< Back\", layout=widgets.Layout(border='1px solid black'))"
   ]
  },
  {
   "cell_type": "code",
   "execution_count": null,
   "id": "f9719df2",
   "metadata": {},
   "outputs": [],
   "source": [
    "# Create the text widget with a warning message\n",
    "warning_widget = widgets.HTML(\n",
    "    value=\"\"\"\n",
    "    <div style=\"padding: 5px; background-color: #f8d7da; color: #721c24; border: 2px solid #f5c6cb; border-radius: 5px;\">\n",
    "        <strong>Warning!</strong> Select an option first.\n",
    "    </div>\n",
    "    \"\"\"\n",
    ")"
   ]
  },
  {
   "cell_type": "code",
   "execution_count": null,
   "id": "c02837a3",
   "metadata": {},
   "outputs": [],
   "source": [
    "error = widgets.HBox(\n",
    "    [warning_widget],\n",
    "    layout=widgets.Layout(\n",
    "        width='auto',  \n",
    "        height='auto',\n",
    "        margin='auto',  \n",
    "        align_items='flex-end',  \n",
    "        justify_content='flex-end' \n",
    "    )\n",
    ")"
   ]
  },
  {
   "cell_type": "code",
   "execution_count": 32,
   "id": "2b0f9e44",
   "metadata": {},
   "outputs": [],
   "source": [
    "# For going back to last question\n",
    "\n",
    "output = widgets.Output()\n",
    "def on_back_button_clicked(event):\n",
    "    with output:\n",
    "        clear_output()\n",
    "        file_name = back_list[-1]\n",
    "        notebook_filename = file_name + \".ipynb\"\n",
    "        js_code = f\"window.open('{notebook_filename}', '_self');\"\n",
    "#         link = Markdown('''<a href=\"{}\" target=\"_self\" rel=\"noopener noreferrer\">Previous</a>'''.format(notebook_filename))\n",
    "        back_list.pop()\n",
    "        with open (back_path, \"w\")as f:\n",
    "            json.dump(back_list, f)\n",
    "        display(Javascript(js_code))\n",
    "\n",
    "back_button.on_click(on_back_button_clicked)"
   ]
  },
  {
   "cell_type": "code",
   "execution_count": 36,
   "id": "fc9216f8",
   "metadata": {},
   "outputs": [],
   "source": [
    "output = widgets.Output()\n",
    "def on_button_clicked(event):\n",
    "    with output:\n",
    "        clear_output()\n",
    "        if not selected:\n",
    "            display(error)\n",
    "        else:\n",
    "            next_notebook = []\n",
    "\n",
    "            condition = df.loc[df['page_name'] == 'sp_info', 'json_logic'].iloc[0]\n",
    "            condition_json = json.loads(condition)\n",
    "            if selected_objective in condition_json['objective'] and selected_target_sp in condition_json['obj_targ_sp']:\n",
    "                next_notebook.append(\"sp_info\")\n",
    "                \n",
    "            condition = df.loc[df['page_name'] == 'sp_type', 'json_logic'].iloc[0]\n",
    "            condition_json = json.loads(condition)\n",
    "            if selected_objective in condition_json['objective'] and selected_target_sp in condition_json['obj_targ_sp']:\n",
    "                next_notebook.append(\"sp_type\")\n",
    "\n",
    "            condition = df.loc[df['page_name'] == 'sp_occ_restr', 'json_logic'].iloc[0]\n",
    "            condition_json = json.loads(condition)\n",
    "            if selected_objective in condition_json['objective'] and selected_target_sp in condition_json['obj_targ_sp']:\n",
    "                next_notebook.append(\"sp_occ_restr\")\n",
    "\n",
    "            condition = df.loc[df['page_name'] == 'sp_hr_size', 'json_logic'].iloc[0]\n",
    "            condition_json = json.loads(condition)\n",
    "            if selected_objective in condition_json['objective'] and selected_target_sp in condition_json['obj_targ_sp']:\n",
    "                next_notebook.append(\"sp_hr_size\")\n",
    "\n",
    "            condition = df.loc[df['page_name'] == 'sp_size', 'json_logic'].iloc[0]\n",
    "            condition_json = json.loads(condition)\n",
    "            if selected_objective in condition_json['objective'] and selected_target_sp in condition_json['obj_targ_sp']:\n",
    "                next_notebook.append(\"sp_size\")\n",
    "\n",
    "            condition = df.loc[df['page_name'] == 'sp_rarity', 'json_logic'].iloc[0]\n",
    "            condition_json = json.loads(condition)\n",
    "            if (selected_objective in condition_json['objective'] and selected_target_sp in condition_json['obj_targ_sp']) or (selected_objective in condition_json['objective'] and selected_sp_type in condition_json['sp_type']):\n",
    "                next_notebook.append(\"sp_rarity\")\n",
    "\n",
    "            condition = df.loc[df['page_name'] == 'sp_detprob_cat', 'json_logic'].iloc[0]\n",
    "            condition_json = json.loads(condition)\n",
    "            if selected_objective in condition_json['objective'] and selected_target_sp in condition_json['obj_targ_sp']:\n",
    "                next_notebook.append(\"sp_detprob_cat\")\n",
    "\n",
    "            condition = df.loc[df['page_name'] == 'cam_independent', 'json_logic'].iloc[0]\n",
    "            condition_json = json.loads(condition)\n",
    "            if selected_objective in condition_json['objective']:\n",
    "                next_notebook.append(\"cam_independent\")\n",
    "\n",
    "            if next_notebook:\n",
    "                next_notebook = next_notebook\n",
    "            else:\n",
    "                next_notebook = [\"test_recommendation-Copy\"]\n",
    "\n",
    "\n",
    "            notebook_filename = next_notebook[0] + \".ipynb\"\n",
    "\n",
    "            # JavaScript to open the URL\n",
    "            js_code = f\"window.open('{notebook_filename}', '_self');\"\n",
    "\n",
    "\n",
    "            back_list.append(\"obj_targ_sp\")\n",
    "            with open (back_path, \"w\")as f:\n",
    "                json.dump(back_list, f)\n",
    "\n",
    "            display(Javascript(js_code))\n",
    "\n",
    "submit_button.on_click(on_button_clicked)"
   ]
  },
  {
   "cell_type": "code",
   "execution_count": 34,
   "id": "b50b0211",
   "metadata": {},
   "outputs": [
    {
     "data": {
      "application/vnd.jupyter.widget-view+json": {
       "model_id": "b6ffdb165b2942ed83af7cdb5d9d5361",
       "version_major": 2,
       "version_minor": 0
      },
      "text/plain": [
       "HBox(children=(VBox(children=(Image(value=b'\\x89PNG\\r\\n\\x1a\\n\\x00\\x00\\x00\\rIHDR\\x00\\x00\\x01\\xfb\\x00\\x00\\x01|\\x…"
      ]
     },
     "metadata": {},
     "output_type": "display_data"
    }
   ],
   "source": [
    "# Creating containers for all the widgets along with their css properties\n",
    "\n",
    "all_button = widgets.HBox(\n",
    "    [back_button, submit_button],\n",
    "    layout=widgets.Layout(\n",
    "        width='100%',  \n",
    "        height='auto',\n",
    "#         border='solid 2px grey',\n",
    "        padding='1px',\n",
    "        margin='auto',  \n",
    "        align_items='center',  \n",
    "        justify_content='space-between' \n",
    "    )\n",
    ")\n",
    "buttons = widgets.VBox(\n",
    "    [output, all_button],\n",
    "    layout=widgets.Layout(\n",
    "        width='100%',  \n",
    "        height='auto',  \n",
    "#         border='solid 2px grey',\n",
    "        padding='1px',\n",
    "        margin='auto',  \n",
    "        align_items='center',  \n",
    "        justify_content='center'  \n",
    "    )\n",
    ")\n",
    "\n",
    "\n",
    "\n",
    "upper = widgets.VBox(\n",
    "    [logical_integer_container, buttons],\n",
    "    layout=widgets.Layout(\n",
    "        width='95%',  \n",
    "        height='auto', \n",
    "        border='solid 1px grey',\n",
    "        padding='10px',\n",
    "        margin='auto',  \n",
    "        align_items='center',  \n",
    "        justify_content='center' \n",
    "    )\n",
    ")\n",
    "upper.add_class(\"custom-vbox\")\n",
    "\n",
    "popup = widgets.VBox(children=[button, output_popup], layout=widgets.Layout(\n",
    "        width='95%',  \n",
    "        height='auto',  \n",
    "#         border='solid 2px grey',\n",
    "        padding='5px',\n",
    "        margin='auto',  \n",
    "        align_items='center', \n",
    "        justify_content='center'  \n",
    "    ))\n",
    "\n",
    "\n",
    "# removed \"popup\" from right_col\n",
    "right_col = widgets.VBox(children=[header_container, background_color_html, upper, footer], layout=widgets.Layout(\n",
    "        width='88%',  \n",
    "        height='100%',  \n",
    "        border_left='solid 1px grey',\n",
    "        padding='5px',\n",
    "        margin='auto',  \n",
    "        align_items='center',  \n",
    "        justify_content='center'\n",
    "))\n",
    "\n",
    "cols = widgets.HBox(\n",
    "    [left_col, right_col],\n",
    "    layout=widgets.Layout(\n",
    "        width='95%',  \n",
    "        height='auto',  \n",
    "        border='solid 2px grey',\n",
    "#         padding='5px',\n",
    "        margin='auto',  \n",
    "        align_items='flex-start', \n",
    "        justify_content='center'\n",
    "    )\n",
    ")\n",
    "\n",
    "display(cols)"
   ]
  },
  {
   "cell_type": "code",
   "execution_count": null,
   "id": "9a1e4407",
   "metadata": {},
   "outputs": [],
   "source": []
  }
 ],
 "metadata": {
  "kernelspec": {
   "display_name": "Python 3 (ipykernel)",
   "language": "python",
   "name": "python3"
  },
  "language_info": {
   "codemirror_mode": {
    "name": "ipython",
    "version": 3
   },
   "file_extension": ".py",
   "mimetype": "text/x-python",
   "name": "python",
   "nbconvert_exporter": "python",
   "pygments_lexer": "ipython3",
   "version": "3.12.3"
  }
 },
 "nbformat": 4,
 "nbformat_minor": 5
}
