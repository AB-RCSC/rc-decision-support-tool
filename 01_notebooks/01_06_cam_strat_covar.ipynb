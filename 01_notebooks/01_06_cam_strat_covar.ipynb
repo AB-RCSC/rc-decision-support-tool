{
 "cells": [
  {
   "cell_type": "code",
   "execution_count": 1,
   "id": "66ed741d",
   "metadata": {},
   "outputs": [],
   "source": [
    "import warnings\n",
    "warnings.filterwarnings('ignore')\n",
    "\n",
    "import os\n",
    "import re\n",
    "import json\n",
    "import webbrowser\n",
    "import pandas as pd\n",
    "import ipywidgets as widgets\n",
    "from datetime import datetime\n",
    "from ipywidgets import AppLayout, Button, Layout\n",
    "from ipywidgets import Button, Layout, jslink, IntText, IntSlider\n",
    "from IPython.display import display, Javascript, Markdown, clear_output, HTML\n",
    "from ipywidgets import GridspecLayout\n",
    "from markdown_it import MarkdownIt"
   ]
  },
  {
   "cell_type": "code",
   "execution_count": 2,
   "id": "55045a36",
   "metadata": {},
   "outputs": [],
   "source": [
    "%run progressbar.ipynb"
   ]
  },
  {
   "cell_type": "code",
   "execution_count": 3,
   "id": "eb245144",
   "metadata": {},
   "outputs": [],
   "source": [
    "%run sidebar.ipynb"
   ]
  },
  {
   "cell_type": "code",
   "execution_count": 4,
   "id": "8f70ab0b",
   "metadata": {},
   "outputs": [],
   "source": [
    "%run dropdown.ipynb"
   ]
  },
  {
   "cell_type": "code",
   "execution_count": 5,
   "id": "b77096d6",
   "metadata": {},
   "outputs": [],
   "source": [
    "def get_css_class(css_file, class_name):\n",
    "    with open(css_file, 'r') as file:\n",
    "        css = file.read()\n",
    "        # Use regex to extract the class\n",
    "        pattern = r'\\.' + re.escape(class_name) + r'\\s*\\{([^}]*)\\}'\n",
    "        match = re.search(pattern, css, re.DOTALL)\n",
    "        if match:\n",
    "            css_content = match.group(1).strip()\n",
    "            return f'\\n<style>\\n.{class_name} {{\\n{css_content}\\n}}\\n</style>\\n'\n",
    "        else:\n",
    "            return None"
   ]
  },
  {
   "cell_type": "code",
   "execution_count": 6,
   "id": "13557dd0",
   "metadata": {},
   "outputs": [],
   "source": [
    "# Custom CSS to modify the question button design\n",
    "ques_button_css = get_css_class('style.css', 'ques-button')"
   ]
  },
  {
   "cell_type": "code",
   "execution_count": 6,
   "id": "de937736",
   "metadata": {},
   "outputs": [],
   "source": [
    "# Custom CSS to modify the option button design\n",
    "opt_button_css = get_css_class('style.css', 'opt-button')"
   ]
  },
  {
   "cell_type": "code",
   "execution_count": 7,
   "id": "d73fa4d6",
   "metadata": {},
   "outputs": [],
   "source": [
    "# Custom CSS to modify the header design\n",
    "header_css = get_css_class('style.css', 'custom-header')"
   ]
  },
  {
   "cell_type": "code",
   "execution_count": 8,
   "id": "0e20e2ea",
   "metadata": {},
   "outputs": [],
   "source": [
    "# Custom CSS to modify the footer design\n",
    "footer_css = get_css_class('style.css', 'custom-footer')"
   ]
  },
  {
   "cell_type": "code",
   "execution_count": 9,
   "id": "301f3bdf",
   "metadata": {},
   "outputs": [],
   "source": [
    "# Create an HTML widget for the background color\n",
    "background_color_html = widgets.HTML(\n",
    "    value = get_css_class('style.css', 'custom-vbox')\n",
    ")"
   ]
  },
  {
   "cell_type": "code",
   "execution_count": 10,
   "id": "a46b23d5",
   "metadata": {},
   "outputs": [],
   "source": [
    "# Loading the header image within an image widget\n",
    "header_prog1 = widgets.Image(value=open(\"../03_icons/icon_level-banner_1-0_objective-resources.png\", \"rb\").read(), format='png',\n",
    "                      layout=widgets.Layout(width='auto', height='70px'))\n",
    "\n",
    "header_prog2 = widgets.Image(value=open(\"../03_icons/icon_level-banner_2-1_project-level_study-area_site-selection.png\", \"rb\").read(), format='png',\n",
    "                      layout=widgets.Layout(width='auto', height='70px'))\n",
    "\n",
    "header_prog3 = widgets.Image(value=open(\"../03_icons/icon_level-banner_2-2_project-level_duration-timing.png\", \"rb\").read(), format='png',\n",
    "                      layout=widgets.Layout(width='auto', height='70px'))\n",
    "\n",
    "header_prog4 = widgets.Image(value=open(\"../03_icons/icon_level-banner_4-0_target-species.png\", \"rb\").read(), format='png',\n",
    "                      layout=widgets.Layout(width='auto', height='70px'))\n",
    "\n",
    "header_prog5 = widgets.Image(value=open(\"../03_icons/icon_level-banner_5-1_equipment-deployment.png\", \"rb\").read(), format='png',\n",
    "                      layout=widgets.Layout(width='auto', height='70px'))\n",
    "\n",
    "header_prog6 = widgets.Image(value=open(\"../03_icons/icon_level-banner_6-0_data-analysis.png\", \"rb\").read(), format='png',\n",
    "                      layout=widgets.Layout(width='auto', height='70px'))"
   ]
  },
  {
   "cell_type": "code",
   "execution_count": 11,
   "id": "fbb722ac",
   "metadata": {},
   "outputs": [],
   "source": [
    "header = header_prog2"
   ]
  },
  {
   "cell_type": "code",
   "execution_count": 12,
   "id": "c1a350ca",
   "metadata": {},
   "outputs": [],
   "source": [
    "# Creating a container for header image\n",
    "header_container = widgets.VBox([header], \n",
    "                    layout=widgets.Layout(width='96%', padding_top= '10px', align_items='flex-start', justify_content='center'))"
   ]
  },
  {
   "cell_type": "code",
   "execution_count": null,
   "id": "e6dd2fc9",
   "metadata": {},
   "outputs": [],
   "source": [
    "notebook_name = \"cam_strat_covar\"\n",
    "notebook_list_name = \"st_area_list\"\n",
    "footer_name = \"footer_in_prog2\""
   ]
  },
  {
   "cell_type": "code",
   "execution_count": null,
   "id": "31fdf440",
   "metadata": {},
   "outputs": [],
   "source": [
    "footer = main(notebook_name, notebook_list_name, footer_name)"
   ]
  },
  {
   "cell_type": "code",
   "execution_count": 14,
   "id": "388c8e7c",
   "metadata": {},
   "outputs": [],
   "source": [
    "def create_expanded_button(description, button_style):\n",
    "    return Button(description=description, button_style=button_style, layout=Layout(height='auto', width='auto', border='1px solid black')) #width='max-content'"
   ]
  },
  {
   "cell_type": "code",
   "execution_count": 15,
   "id": "0c6612b7",
   "metadata": {},
   "outputs": [],
   "source": [
    "# Declaring necessary variables and importing neccesary files for storing user answers and keep track of the visited pages\n",
    "global stored_choices, path\n",
    "\n",
    "stored_choices = {}\n",
    "path = \"../temp_storage.json\"\n",
    "back_path = \"../backtracking.json\"\n",
    "dropdown_path = \"../04_lu_tables/links.csv\""
   ]
  },
  {
   "cell_type": "code",
   "execution_count": 16,
   "id": "462d62e1",
   "metadata": {},
   "outputs": [],
   "source": [
    "# Importing the json file for storing user answers\n",
    "with open(path, \"r\") as f:\n",
    "    stored_choices = json.load(f)"
   ]
  },
  {
   "cell_type": "code",
   "execution_count": 17,
   "id": "dc10f247",
   "metadata": {},
   "outputs": [],
   "source": [
    "# Importing the json file for keeping track of visited pages\n",
    "with open(back_path, 'r') as f:\n",
    "    back_list = json.load(f)"
   ]
  },
  {
   "cell_type": "code",
   "execution_count": 18,
   "id": "f34a6729",
   "metadata": {},
   "outputs": [],
   "source": [
    "# Reading the CSV data file into a DataFrame\n",
    "df = pd.read_csv('../new_format.csv', low_memory=False)"
   ]
  },
  {
   "cell_type": "code",
   "execution_count": 19,
   "id": "701e1ac0",
   "metadata": {},
   "outputs": [],
   "source": [
    "dp_df = pd.read_csv(dropdown_path, low_memory=False)"
   ]
  },
  {
   "cell_type": "code",
   "execution_count": 20,
   "id": "c63bb67c",
   "metadata": {},
   "outputs": [],
   "source": [
    "drop_link = dp_df.loc[dp_df['field_code'] == 'cam_strat_covar', 'info_url'].iloc[0]"
   ]
  },
  {
   "cell_type": "code",
   "execution_count": 21,
   "id": "29420c5d",
   "metadata": {},
   "outputs": [],
   "source": [
    "# seperates the string based on ',' also removes the whitespace after comma & makes a list\n",
    "def split_and_trim(s):\n",
    "    return [item.strip() for item in s.split(',')]"
   ]
  },
  {
   "cell_type": "code",
   "execution_count": 22,
   "id": "48635952",
   "metadata": {},
   "outputs": [],
   "source": [
    "# gets the question based on value of other column\n",
    "\n",
    "ques1 = df.loc[df['question_code'] == 'cam_strat_covar', 'question_text'].iloc[0]\n",
    "opt1 = df.loc[df['question_code'] == 'cam_strat_covar', 'q_option_label'].iloc[0]\n",
    "opt_codes1 = df.loc[df['question_code'] == 'cam_strat_covar', 'q_option_code'].iloc[0]\n",
    "\n",
    "opt1 = split_and_trim(opt1)\n",
    "opt_codes1 = split_and_trim(opt_codes1)\n",
    "\n",
    "# ques2 = df.loc[df['question_code'] == 'cam_strat_covar_num', 'question_text'].iloc[0]"
   ]
  },
  {
   "cell_type": "code",
   "execution_count": 21,
   "id": "02383e68",
   "metadata": {},
   "outputs": [],
   "source": [
    "# Factor widget\n",
    "\n",
    "question1 = create_expanded_button(ques1, 'success')\n",
    "question1.style.button_color = 'lightblue'\n",
    "question1.style.text_color = 'black'\n",
    "# Add custom class to the button\n",
    "question1.add_class('ques-button')\n",
    "\n",
    "option1 = create_expanded_button(opt1[0], 'success')\n",
    "option1.style.button_color = '#DAE8FC'\n",
    "option1.style.text_color = 'black'\n",
    "option1.add_class('opt-button')\n",
    "\n",
    "option2 = create_expanded_button(opt1[1], 'success')\n",
    "option2.style.button_color = '#DAE8FC'\n",
    "option2.style.text_color = 'black'\n",
    "option2.add_class('opt-button')\n",
    "\n",
    "options_widget2 = widgets.IntText(\n",
    "                            value=0,  # Default value\n",
    "                            description=\"Enter value\",\n",
    "                            disabled=False,\n",
    "                            layout={'width': 'max-content'}\n",
    "                        )\n",
    "\n",
    "# Create a HTML widget to include the custom CSS\n",
    "css_widget = widgets.HTML(value=ques_button_css)\n",
    "css_widget2 = widgets.HTML(value=opt_button_css)\n",
    "\n",
    "factor_grid = GridspecLayout(8, 12, grid_gap='5px', height='550px')\n",
    "factor_grid[3:7, 2:6] = question1\n",
    "factor_grid[3, 8:9] = option1\n",
    "factor_grid[4, 8:9] = option2\n",
    "factor_grid[5, 8:9] = options_widget2"
   ]
  },
  {
   "cell_type": "code",
   "execution_count": 22,
   "id": "48b933ba",
   "metadata": {},
   "outputs": [],
   "source": [
    "# question2 = create_expanded_button(ques2, 'success')\n",
    "# question2.style.button_color = 'lightblue'\n",
    "# question2.style.text_color = 'black'\n",
    "# # Add custom class to the button\n",
    "# question2.add_class('ques-button')\n",
    "\n",
    "# options_widget2 = widgets.IntText(\n",
    "#                             value=0,  # Default value\n",
    "#                             description=\"Enter value\",\n",
    "#                             disabled=False,\n",
    "#                             layout={'width': 'max-content'}\n",
    "#                         )\n",
    "\n",
    "# # Create a HTML widget to include the custom CSS\n",
    "# css_widget = widgets.HTML(value=ques_button_css)\n",
    "\n",
    "# integer_grid = GridspecLayout(4, 12, grid_gap='5px', height='550px')\n",
    "# integer_grid[1:3, 2:6] = question2\n",
    "# integer_grid[1:2, 7:9] = options_widget2"
   ]
  },
  {
   "cell_type": "code",
   "execution_count": 23,
   "id": "521286bb",
   "metadata": {},
   "outputs": [],
   "source": [
    "logical_integer_container = widgets.VBox(children=[factor_grid, css_widget, css_widget2], layout=widgets.Layout(\n",
    "    align_items='center'  # Center align vertically  ###### integer_grid\n",
    "#     border='solid 2px black',\n",
    "#     width = \"70%\"\n",
    "#     justify_content='center'  # Center align horizontally\n",
    "#     height='100vh'  # Set height to 100% of viewport height for vertical centering\n",
    "))\n",
    "# logical_integer_container"
   ]
  },
  {
   "cell_type": "code",
   "execution_count": 24,
   "id": "90d6d669",
   "metadata": {},
   "outputs": [],
   "source": [
    "button_list = [option1, option2]"
   ]
  },
  {
   "cell_type": "code",
   "execution_count": null,
   "id": "80300b51",
   "metadata": {},
   "outputs": [],
   "source": [
    "selected = False"
   ]
  },
  {
   "cell_type": "code",
   "execution_count": 25,
   "id": "6ca4cb74",
   "metadata": {},
   "outputs": [],
   "source": [
    "output = widgets.Output()\n",
    "def option_1_button_clicked(option1):\n",
    "    with output:\n",
    "        clear_output()\n",
    "        global selected\n",
    "        \n",
    "        selected = True\n",
    "        \n",
    "        for btn in button_list:\n",
    "            if btn == option1:\n",
    "                btn.icon='check'\n",
    "            else:\n",
    "                btn.icon=''\n",
    "        selected_option = factor_grid[3, 8:9].description\n",
    "        selected_option_index = opt1.index(selected_option)\n",
    "        selected_option_code = opt_codes1[selected_option_index]\n",
    "        \n",
    "        stored_choices[\"cam_strat_covar\"] = selected_option_code\n",
    "        \n",
    "        with open(path, \"w\") as f:\n",
    "            json.dump(stored_choices, f)\n",
    "#         display(integer_container)\n",
    "        \n",
    "factor_grid[3, 8:9].on_click(option_1_button_clicked)"
   ]
  },
  {
   "cell_type": "code",
   "execution_count": 26,
   "id": "2b10884e",
   "metadata": {},
   "outputs": [],
   "source": [
    "output = widgets.Output()\n",
    "def option_2_button_clicked(option2):\n",
    "    with output:\n",
    "        clear_output()\n",
    "        global selected\n",
    "        \n",
    "        selected = True\n",
    "        \n",
    "        for btn in button_list:\n",
    "            if btn == option2:\n",
    "                btn.icon='check'\n",
    "            else:\n",
    "                btn.icon=''\n",
    "        \n",
    "        selected_option = factor_grid[4, 8:9].description\n",
    "        selected_option_index = opt1.index(selected_option)\n",
    "        selected_option_code = opt_codes1[selected_option_index]\n",
    "        \n",
    "        stored_choices[\"cam_strat_covar\"] = selected_option_code\n",
    "        \n",
    "        with open(path, \"w\") as f:\n",
    "            json.dump(stored_choices, f)\n",
    "        \n",
    "factor_grid[4, 8:9].on_click(option_2_button_clicked)"
   ]
  },
  {
   "cell_type": "code",
   "execution_count": 27,
   "id": "81715eee",
   "metadata": {},
   "outputs": [],
   "source": [
    "# button.on_click(show_popup(None, drop_link))\n",
    "button.on_click(lambda b: show_popup(b, drop_link))"
   ]
  },
  {
   "cell_type": "code",
   "execution_count": 28,
   "id": "8a481b24",
   "metadata": {},
   "outputs": [],
   "source": [
    "close_button.on_click(close_popup)"
   ]
  },
  {
   "cell_type": "code",
   "execution_count": 31,
   "id": "8541624c",
   "metadata": {},
   "outputs": [],
   "source": [
    "# Create a buttons for submitting the question\n",
    "submit_button = widgets.Button(description=\"Submit & Next >>\", layout=widgets.Layout(border='1px solid black'))"
   ]
  },
  {
   "cell_type": "code",
   "execution_count": 32,
   "id": "3b4dbe9d",
   "metadata": {},
   "outputs": [],
   "source": [
    "# Create a button for going back to previous question\n",
    "\n",
    "back_button = widgets.Button(description=\"<< Back\", layout=widgets.Layout(border='1px solid black'))"
   ]
  },
  {
   "cell_type": "code",
   "execution_count": null,
   "id": "31cf574f",
   "metadata": {},
   "outputs": [],
   "source": [
    "# Create the text widget with a warning message\n",
    "warning_widget = widgets.HTML(\n",
    "    value=\"\"\"\n",
    "    <div style=\"padding: 5px; background-color: #f8d7da; color: #721c24; border: 2px solid #f5c6cb; border-radius: 5px;\">\n",
    "        <strong>Warning!</strong> Select an option first.\n",
    "    </div>\n",
    "    \"\"\"\n",
    ")"
   ]
  },
  {
   "cell_type": "code",
   "execution_count": null,
   "id": "5f49d656",
   "metadata": {},
   "outputs": [],
   "source": [
    "error = widgets.HBox(\n",
    "    [warning_widget],\n",
    "    layout=widgets.Layout(\n",
    "        width='auto',  \n",
    "        height='auto',\n",
    "        margin='auto',  \n",
    "        align_items='flex-end',  \n",
    "        justify_content='flex-end' \n",
    "    )\n",
    ")"
   ]
  },
  {
   "cell_type": "code",
   "execution_count": null,
   "id": "49bce59d",
   "metadata": {},
   "outputs": [],
   "source": [
    "# Create the text widget with a warning message\n",
    "warning_widget2 = widgets.HTML(\n",
    "    value=\"\"\"\n",
    "    <div style=\"padding: 5px; background-color: #f8d7da; color: #721c24; border: 2px solid #f5c6cb; border-radius: 5px;\">\n",
    "        <strong>Warning!</strong> Inappropriate answer.\n",
    "    </div>\n",
    "    \"\"\"\n",
    ")"
   ]
  },
  {
   "cell_type": "code",
   "execution_count": null,
   "id": "184c487f",
   "metadata": {},
   "outputs": [],
   "source": [
    "error2 = widgets.HBox(\n",
    "    [warning_widget2],\n",
    "    layout=widgets.Layout(\n",
    "        width='auto',  \n",
    "        height='auto',\n",
    "        margin='auto',  \n",
    "        align_items='flex-end',  \n",
    "        justify_content='flex-end' \n",
    "    )\n",
    ")"
   ]
  },
  {
   "cell_type": "code",
   "execution_count": 33,
   "id": "cf361c50",
   "metadata": {},
   "outputs": [],
   "source": [
    "# For going back to last question\n",
    "\n",
    "output = widgets.Output()\n",
    "def on_back_button_clicked(event):\n",
    "    with output:\n",
    "        clear_output()\n",
    "        file_name = back_list[-1]\n",
    "        notebook_filename = file_name + \".ipynb\"\n",
    "        js_code = f\"window.open('{notebook_filename}', '_self');\"\n",
    "#         link = Markdown('''<a href=\"{}\" target=\"_self\" rel=\"noopener noreferrer\">Previous</a>'''.format(notebook_filename))\n",
    "        back_list.pop()\n",
    "        with open (back_path, \"w\")as f:\n",
    "            json.dump(back_list, f)\n",
    "        display(Javascript(js_code))\n",
    "\n",
    "back_button.on_click(on_back_button_clicked)"
   ]
  },
  {
   "cell_type": "code",
   "execution_count": 33,
   "id": "c58ee83d",
   "metadata": {},
   "outputs": [],
   "source": [
    "# output = widgets.Output()\n",
    "# def on_button_clicked(event):\n",
    "#     with output:\n",
    "#         clear_output()\n",
    "        \n",
    "#         if not selected:\n",
    "#             display(error)\n",
    "#         else:\n",
    "#             next_notebook = \"surv_dur_min_max\"\n",
    "\n",
    "#             notebook_filename = next_notebook + \".ipynb\"\n",
    "\n",
    "#             # JavaScript to open the URL\n",
    "#             js_code = f\"window.open('{notebook_filename}', '_self');\"\n",
    "\n",
    "\n",
    "#             back_list.append(\"cam_strat_covar\")\n",
    "#             with open (back_path, \"w\")as f:\n",
    "#                 json.dump(back_list, f)\n",
    "\n",
    "#             if options_widget2.value > 0:\n",
    "#                 stored_choices[\"cam_strat_covar_num\"] = options_widget2.value\n",
    "#                 options_widget2.value = 0\n",
    "\n",
    "#             with open(path, \"w\") as f:\n",
    "#                 json.dump(stored_choices, f)\n",
    "\n",
    "#             display(Javascript(js_code))\n",
    "\n",
    "# submit_button.on_click(on_button_clicked)"
   ]
  },
  {
   "cell_type": "code",
   "execution_count": null,
   "id": "d0038167",
   "metadata": {},
   "outputs": [],
   "source": [
    "output = widgets.Output()\n",
    "def on_button_clicked(event):\n",
    "    with output:\n",
    "        clear_output()\n",
    "        global stored_choices # <----NEEDED-----        \n",
    "        \n",
    "        if not selected:\n",
    "            display(error)\n",
    "        else:\n",
    "            next_notebook = \"surv_dur_min_max\"\n",
    "\n",
    "            notebook_filename = next_notebook + \".ipynb\"\n",
    "\n",
    "            # JavaScript to open the URL\n",
    "            js_code = f\"window.open('{notebook_filename}', '_self');\"\n",
    "\n",
    "\n",
    "            back_list.append(\"cam_strat_covar\")\n",
    "            with open (back_path, \"w\")as f:\n",
    "                json.dump(back_list, f)\n",
    "\n",
    "            if options_widget2.value > 0:\n",
    "                stored_choices[\"cam_strat_covar_num\"] = options_widget2.value\n",
    "\n",
    "                with open(path, \"w\") as f:\n",
    "                    json.dump(stored_choices, f)\n",
    "\n",
    "            #--------------------------------------------->\n",
    "            with open(path, \"r\") as f:\n",
    "                stored_choices = json.load(f)\n",
    "                \n",
    "            if options_widget2.value <= 0 and stored_choices[\"cam_strat_covar\"] == \"TRUE\":\n",
    "                display(error2)\n",
    "            else:\n",
    "                options_widget2.value = 0\n",
    "                display(Javascript(js_code))\n",
    "\n",
    "submit_button.on_click(on_button_clicked)"
   ]
  },
  {
   "cell_type": "code",
   "execution_count": 34,
   "id": "22c5f6d4",
   "metadata": {},
   "outputs": [
    {
     "data": {
      "application/vnd.jupyter.widget-view+json": {
       "model_id": "249d578754c74fbf99f4a316685dcb10",
       "version_major": 2,
       "version_minor": 0
      },
      "text/plain": [
       "HBox(children=(VBox(children=(Image(value=b'\\x89PNG\\r\\n\\x1a\\n\\x00\\x00\\x00\\rIHDR\\x00\\x00\\x01\\xfb\\x00\\x00\\x01|\\x…"
      ]
     },
     "metadata": {},
     "output_type": "display_data"
    }
   ],
   "source": [
    "\n",
    "all_button = widgets.HBox(\n",
    "    [back_button, submit_button],\n",
    "    layout=widgets.Layout(\n",
    "        width='100%',  # Set the width to 50% of the container or viewport\n",
    "        height='auto',  # Set a fixed height\n",
    "#         border='solid 2px grey',\n",
    "        padding='1px',\n",
    "        margin='auto',  # Center the VBox horizontally\n",
    "        align_items='center',  # Center the items inside the VBox\n",
    "        justify_content='space-between'  # Center the items vertically inside the VBox\n",
    "    )\n",
    ")\n",
    "buttons = widgets.VBox(\n",
    "    [output, all_button],\n",
    "    layout=widgets.Layout(\n",
    "        width='100%',  # Set the width to 50% of the container or viewport\n",
    "        height='auto',  # Set a fixed height\n",
    "#         border='solid 2px grey',\n",
    "        padding='1px',\n",
    "        margin='auto',  # Center the VBox horizontally\n",
    "        align_items='center',  # Center the items inside the VBox\n",
    "        justify_content='center'  # Center the items vertically inside the VBox\n",
    "    )\n",
    ")\n",
    "\n",
    "\n",
    "\n",
    "upper = widgets.VBox(\n",
    "    [logical_integer_container, buttons],\n",
    "    layout=widgets.Layout(\n",
    "        width='95%',  # Set the width to 50% of the container or viewport\n",
    "        height='auto',  # Set a fixed height\n",
    "        border='solid 1px grey',\n",
    "        padding='10px',\n",
    "        margin='auto',  # Center the VBox horizontally\n",
    "        align_items='center',  # Center the items inside the VBox\n",
    "        justify_content='center'  # Center the items vertically inside the VBox\n",
    "    )\n",
    ")\n",
    "upper.add_class(\"custom-vbox\")\n",
    "\n",
    "\n",
    "popup = widgets.VBox(children=[button, output_popup], layout=widgets.Layout(\n",
    "        width='95%',  # Set the width to 50% of the container or viewport\n",
    "        height='auto',  # Set a fixed height\n",
    "#         border='solid 4px grey',\n",
    "        padding='5px',\n",
    "        margin='auto',  # Center the VBox horizontally\n",
    "        align_items='center',  # Center the items inside the VBox\n",
    "        justify_content='center'  # Center the items vertically inside the VBox\n",
    "    ))\n",
    "\n",
    "\n",
    "right_col = widgets.VBox(children=[header_container, background_color_html, upper, footer, popup], layout=widgets.Layout(\n",
    "        width='88%',  \n",
    "        height='100%',  \n",
    "        border_left='solid 1px grey',\n",
    "        padding='5px',\n",
    "        margin='auto',  \n",
    "        align_items='center',  \n",
    "        justify_content='center'\n",
    "))\n",
    "\n",
    "cols = widgets.HBox(\n",
    "    [left_col, right_col],\n",
    "    layout=widgets.Layout(\n",
    "        width='95%',  \n",
    "        height='auto',  \n",
    "        border='solid 2px grey',\n",
    "#         padding='5px',\n",
    "        margin='auto',  \n",
    "        align_items='flex-start', \n",
    "        justify_content='center'\n",
    "    )\n",
    ")\n",
    "\n",
    "display(cols)"
   ]
  },
  {
   "cell_type": "code",
   "execution_count": null,
   "id": "62710cff",
   "metadata": {},
   "outputs": [],
   "source": []
  }
 ],
 "metadata": {
  "kernelspec": {
   "display_name": "Python 3 (ipykernel)",
   "language": "python",
   "name": "python3"
  },
  "language_info": {
   "codemirror_mode": {
    "name": "ipython",
    "version": 3
   },
   "file_extension": ".py",
   "mimetype": "text/x-python",
   "name": "python",
   "nbconvert_exporter": "python",
   "pygments_lexer": "ipython3",
   "version": "3.12.3"
  }
 },
 "nbformat": 4,
 "nbformat_minor": 5
}
