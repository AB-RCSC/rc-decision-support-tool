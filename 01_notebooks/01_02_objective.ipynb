{
 "cells": [
  {
   "cell_type": "code",
   "execution_count": 1,
   "id": "076f4536",
   "metadata": {},
   "outputs": [],
   "source": [
    "import warnings\n",
    "warnings.filterwarnings('ignore')\n",
    "\n",
    "import os\n",
    "import re\n",
    "import json\n",
    "import webbrowser\n",
    "import pandas as pd\n",
    "import ipywidgets as widgets\n",
    "from datetime import datetime\n",
    "from ipywidgets import AppLayout, Button, Layout\n",
    "from ipywidgets import Button, Layout, jslink, IntText, IntSlider\n",
    "from IPython.display import display, Javascript, Markdown, clear_output, HTML\n",
    "from ipywidgets import GridspecLayout\n",
    "from markdown_it import MarkdownIt"
   ]
  },
  {
   "cell_type": "code",
   "execution_count": 2,
   "id": "989baebd",
   "metadata": {},
   "outputs": [],
   "source": [
    "# Creates navigation file when first visit this notebook\n",
    "# Define the content of the JSON file\n",
    "json_content = {\n",
    "    \"obj_list\": [[\"Select a notebook\", None]],\n",
    "    \"st_area_list\": [[\"Select a notebook\", None]],\n",
    "    \"dt_list\": [[\"Select a notebook\", None]],\n",
    "    \"ts_list\": [[\"Select a notebook\", None]],\n",
    "    \"ed_list\": [[\"Select a notebook\", None]],\n",
    "    \"da_list\": [[\"Select a notebook\", None]],\n",
    "    \"rec_list\": [[\"Select a notebook\", None]]\n",
    "}\n",
    "\n",
    "# Define the file path\n",
    "file_path = \"../data_files/json/ques_nav_list.json\"\n",
    "\n",
    "# Ensure the directory exists\n",
    "os.makedirs(os.path.dirname(file_path), exist_ok=True)\n",
    "\n",
    "# Write the JSON content to the file\n",
    "with open(file_path, \"w\") as json_file:\n",
    "    json.dump(json_content, json_file, indent=2)\n"
   ]
  },
  {
   "cell_type": "code",
   "execution_count": 3,
   "id": "2e025616",
   "metadata": {},
   "outputs": [],
   "source": [
    "%run ../02_ui_components/progressbar.ipynb"
   ]
  },
  {
   "cell_type": "code",
   "execution_count": 4,
   "id": "3a32190e",
   "metadata": {},
   "outputs": [],
   "source": [
    "%run ../02_ui_components/sidebar.ipynb"
   ]
  },
  {
   "cell_type": "code",
   "execution_count": 5,
   "id": "0d7075ce",
   "metadata": {},
   "outputs": [],
   "source": [
    "%run ../02_ui_components/dropdown.ipynb"
   ]
  },
  {
   "cell_type": "code",
   "execution_count": 6,
   "id": "03b8ecaf",
   "metadata": {},
   "outputs": [],
   "source": [
    "%run ../02_ui_components/header_button.ipynb"
   ]
  },
  {
   "cell_type": "code",
   "execution_count": 7,
   "id": "29012cee",
   "metadata": {},
   "outputs": [],
   "source": [
    "%run ../02_ui_components/more_info.ipynb"
   ]
  },
  {
   "cell_type": "code",
   "execution_count": 8,
   "id": "7c2efb1c",
   "metadata": {},
   "outputs": [],
   "source": [
    "def get_css_class(css_file, class_name):\n",
    "    with open(css_file, 'r') as file:\n",
    "        css = file.read()\n",
    "        # Use regex to extract the class\n",
    "        pattern = r'\\.' + re.escape(class_name) + r'\\s*\\{([^}]*)\\}'\n",
    "        match = re.search(pattern, css, re.DOTALL)\n",
    "        if match:\n",
    "            css_content = match.group(1).strip()\n",
    "            return f'\\n<style>\\n.{class_name} {{\\n{css_content}\\n}}\\n</style>\\n'\n",
    "        else:\n",
    "            return None"
   ]
  },
  {
   "cell_type": "code",
   "execution_count": 9,
   "id": "5d3269f4",
   "metadata": {},
   "outputs": [],
   "source": [
    "css_path = \"../css/style.css\""
   ]
  },
  {
   "cell_type": "code",
   "execution_count": 10,
   "id": "43421476",
   "metadata": {},
   "outputs": [],
   "source": [
    "# Custom CSS to modify the question button design\n",
    "ques_widget_css = get_css_class(css_path, 'ques-widget')"
   ]
  },
  {
   "cell_type": "code",
   "execution_count": 12,
   "id": "e83881e5",
   "metadata": {},
   "outputs": [],
   "source": [
    "# Custom CSS to modify the question button design\n",
    "ques_button_css = get_css_class(css_path, 'ques-button')"
   ]
  },
  {
   "cell_type": "code",
   "execution_count": 13,
   "id": "f7fa643f",
   "metadata": {},
   "outputs": [],
   "source": [
    "# Custom CSS to modify the option button design\n",
    "opt_button_css = get_css_class(css_path, 'opt-button')"
   ]
  },
  {
   "cell_type": "code",
   "execution_count": 14,
   "id": "70197abf",
   "metadata": {},
   "outputs": [],
   "source": [
    "# Custom CSS to modify the header design\n",
    "header_css = get_css_class(css_path, 'custom-header')"
   ]
  },
  {
   "cell_type": "code",
   "execution_count": 15,
   "id": "484d40f9",
   "metadata": {},
   "outputs": [],
   "source": [
    "# Custom CSS to modify the footer design\n",
    "footer_css = get_css_class(css_path, 'custom-footer')"
   ]
  },
  {
   "cell_type": "code",
   "execution_count": 16,
   "id": "d3d7d77d",
   "metadata": {},
   "outputs": [],
   "source": [
    "# Create an HTML widget for the background color\n",
    "background_color_html = widgets.HTML(\n",
    "    value = get_css_class(css_path, 'custom-vbox')\n",
    ")"
   ]
  },
  {
   "cell_type": "code",
   "execution_count": 17,
   "id": "3d758b9d",
   "metadata": {},
   "outputs": [],
   "source": [
    "# # Loading the header image within an image widget\n",
    "# header_prog1 = widgets.Image(value=open(\"../03_icons/icon_level-banner_1-0_objective-resources.png\", \"rb\").read(), format='png',\n",
    "#                       layout=widgets.Layout(width='auto', height='70px'))\n",
    "\n",
    "# header_prog2 = widgets.Image(value=open(\"../03_icons/icon_level-banner_2-1_project-level_study-area_site-selection.png\", \"rb\").read(), format='png',\n",
    "#                       layout=widgets.Layout(width='auto', height='70px'))\n",
    "\n",
    "# header_prog3 = widgets.Image(value=open(\"../03_icons/icon_level-banner_2-2_project-level_duration-timing.png\", \"rb\").read(), format='png',\n",
    "#                       layout=widgets.Layout(width='auto', height='70px'))\n",
    "\n",
    "# header_prog4 = widgets.Image(value=open(\"../03_icons/icon_level-banner_4-0_target-species.png\", \"rb\").read(), format='png',\n",
    "#                       layout=widgets.Layout(width='auto', height='70px'))\n",
    "\n",
    "# header_prog5 = widgets.Image(value=open(\"../03_icons/icon_level-banner_5-1_equipment-deployment.png\", \"rb\").read(), format='png',\n",
    "#                       layout=widgets.Layout(width='auto', height='70px'))\n",
    "\n",
    "# header_prog6 = widgets.Image(value=open(\"../03_icons/icon_level-banner_6-0_data-analysis.png\", \"rb\").read(), format='png',\n",
    "#                       layout=widgets.Layout(width='auto', height='70px'))"
   ]
  },
  {
   "cell_type": "code",
   "execution_count": 18,
   "id": "39217cfe",
   "metadata": {},
   "outputs": [],
   "source": [
    "# Taking from separate header notebook\n",
    "header = header_prog1"
   ]
  },
  {
   "cell_type": "code",
   "execution_count": 19,
   "id": "9be1e1ca",
   "metadata": {},
   "outputs": [],
   "source": [
    "# Creating a container for header button\n",
    "header_container = widgets.VBox([header, header_widget], \n",
    "                    layout=widgets.Layout(width='95%', padding_top= '10px', align_items='flex-start', justify_content='center'))"
   ]
  },
  {
   "cell_type": "code",
   "execution_count": 20,
   "id": "defb7f7c",
   "metadata": {},
   "outputs": [],
   "source": [
    "# Creating button\n",
    "def create_expanded_button(description, button_style):\n",
    "    return Button(description=description, button_style=button_style, layout=Layout(height='auto', width='auto', border='1px solid black')) #width='max-content'"
   ]
  },
  {
   "cell_type": "code",
   "execution_count": 21,
   "id": "0e86f940",
   "metadata": {},
   "outputs": [],
   "source": [
    "# Declaring necessary variables and importing neccesary files for storing user answers and keep track of the visited pages\n",
    "global stored_choices, path\n",
    "\n",
    "stored_choices = {}\n",
    "path = \"../data_files/json/temp_storage.json\"\n",
    "back_path = \"../data_files/json/backtracking.json\"\n",
    "dropdown_path = \"../data_files/csv/links.csv\"\n",
    "ques_nav_path = \"../data_files/json/ques_nav_list.json\"\n",
    "question_path = \"../data_files/csv/question_data.csv\"\n",
    "button_color_path = \"../data_files/csv/button_color.csv\""
   ]
  },
  {
   "cell_type": "code",
   "execution_count": 22,
   "id": "4f5d4f30",
   "metadata": {},
   "outputs": [],
   "source": [
    "# Importing the json file for storing user answers\n",
    "with open(path, \"r\") as f:\n",
    "    stored_choices = json.load(f)"
   ]
  },
  {
   "cell_type": "code",
   "execution_count": 23,
   "id": "413301cd",
   "metadata": {},
   "outputs": [],
   "source": [
    "# Importing the json file for keeping track of visited pages\n",
    "with open(back_path, 'r') as f:\n",
    "    back_list = json.load(f)"
   ]
  },
  {
   "cell_type": "code",
   "execution_count": 24,
   "id": "7f2ed878",
   "metadata": {},
   "outputs": [],
   "source": [
    "# Reading the CSV data file into a DataFrame\n",
    "df = pd.read_csv(question_path, low_memory=False)"
   ]
  },
  {
   "cell_type": "code",
   "execution_count": 25,
   "id": "019a3247",
   "metadata": {},
   "outputs": [],
   "source": [
    "dp_df = pd.read_csv(dropdown_path, low_memory=False)"
   ]
  },
  {
   "cell_type": "code",
   "execution_count": 26,
   "id": "b75db046",
   "metadata": {},
   "outputs": [],
   "source": [
    "btn_color = pd.read_csv(button_color_path, low_memory=False)"
   ]
  },
  {
   "cell_type": "code",
   "execution_count": 27,
   "id": "06fce3f2",
   "metadata": {},
   "outputs": [],
   "source": [
    "drop_link = dp_df.loc[dp_df['field_code'] == 'objective', 'info_url'].iloc[0]"
   ]
  },
  {
   "cell_type": "code",
   "execution_count": 28,
   "id": "474fabb3",
   "metadata": {},
   "outputs": [],
   "source": [
    "notebook_name = \"01_02_objective\"\n",
    "page_dropdown_text = df.loc[df['page_name'] == 'objective', 'page_dropdown_text'].iloc[0]\n",
    "notebook_list_name = \"obj_list\"\n",
    "footer_name = \"footer_in_prog1\""
   ]
  },
  {
   "cell_type": "code",
   "execution_count": 29,
   "id": "390dc84d",
   "metadata": {},
   "outputs": [],
   "source": [
    "footer = main(notebook_name, notebook_list_name, footer_name, page_dropdown_text)"
   ]
  },
  {
   "cell_type": "code",
   "execution_count": 30,
   "id": "efc517a2",
   "metadata": {},
   "outputs": [],
   "source": [
    "# Assigns dynamic link to the last sidebar button based on the notebook dropdown info link\n",
    "concept_grid[5, 0:9].on_click(on_concept_option_clicked(drop_link))"
   ]
  },
  {
   "cell_type": "code",
   "execution_count": 31,
   "id": "ad558052",
   "metadata": {},
   "outputs": [],
   "source": [
    "# seperates the string based on ',' also removes the whitespace after comma & makes a list\n",
    "def split_and_trim(s):\n",
    "    return [item.strip() for item in s.split(',')]"
   ]
  },
  {
   "cell_type": "code",
   "execution_count": 32,
   "id": "07db2fbc",
   "metadata": {},
   "outputs": [],
   "source": [
    "# gets the question based on value of other column\n",
    "ques = df.loc[df['question_code'] == 'objective', 'question_text'].iloc[0]\n",
    "opt = df.loc[df['question_code'] == 'objective', 'q_option_label'].iloc[0]\n",
    "opt_codes = df.loc[df['question_code'] == 'objective', 'q_option_code'].iloc[0]\n",
    "\n",
    "# Using the split_and_trim function for neccessary steps\n",
    "opt = split_and_trim(opt)\n",
    "opt_codes = split_and_trim(opt_codes)"
   ]
  },
  {
   "cell_type": "code",
   "execution_count": null,
   "id": "d5734cec",
   "metadata": {},
   "outputs": [],
   "source": []
  },
  {
   "cell_type": "code",
   "execution_count": 33,
   "id": "63894e8f",
   "metadata": {},
   "outputs": [],
   "source": [
    "# html_ques = f\"\"\"\n",
    "#     <div>\n",
    "#         <p>{ques}</p>\n",
    "#     </div>\n",
    "#     \"\"\"\n",
    "# ques = widgets.HTML(value=html_ques)"
   ]
  },
  {
   "cell_type": "code",
   "execution_count": null,
   "id": "fcb64f8f",
   "metadata": {},
   "outputs": [],
   "source": []
  },
  {
   "cell_type": "code",
   "execution_count": null,
   "id": "d3657926",
   "metadata": {},
   "outputs": [],
   "source": []
  },
  {
   "cell_type": "code",
   "execution_count": 34,
   "id": "ff444afc",
   "metadata": {},
   "outputs": [],
   "source": [
    "# widget on right side for more information\n",
    "html_widget = more_info_widget(\"../data_files/markdown/01_02_objective_note.md\")"
   ]
  },
  {
   "cell_type": "code",
   "execution_count": 36,
   "id": "fbcad996",
   "metadata": {},
   "outputs": [
    {
     "data": {
      "application/vnd.jupyter.widget-view+json": {
       "model_id": "8cd96da0d8864bcf96af4d2e53df4361",
       "version_major": 2,
       "version_minor": 0
      },
      "text/plain": [
       "Button(button_style='success', description='What is the variable of interest?<br>Select \"Unknown\" if you\\'re n…"
      ]
     },
     "metadata": {},
     "output_type": "display_data"
    }
   ],
   "source": [
    "# Factor widget\n",
    "question = f\"\"\"\n",
    "    <div class=\"ques-widget\">\n",
    "        <p>{ques}</p>\n",
    "    </div>\n",
    "    \"\"\"\n",
    "question = widgets.HTML(value=question, layout=Layout(max_width='700px', padding='5px'))\n",
    "\n",
    "# Add custom class to the button\n",
    "# question.add_class(ques_widget_css) # Adding custom css properties to the buttons\n",
    "\n",
    "# question = create_expanded_button(ques, 'success')\n",
    "# question.style.button_color = 'lightblue'\n",
    "# question.style.text_color = 'black'\n",
    "\n",
    "# # Add custom class to the button\n",
    "# question.add_class('ques-button') # Adding custom css properties to the buttons\n",
    "\n",
    "option1 = create_expanded_button(opt[0], 'success')\n",
    "option1.style.button_color = btn_color.loc[btn_color['Category'] == 'Regular Button', 'Color_Code'].iloc[0]\n",
    "option1.style.text_color = 'black'\n",
    "option1.add_class('opt-button')\n",
    "\n",
    "option2 = create_expanded_button(opt[1], 'success')\n",
    "option2.style.button_color = btn_color.loc[btn_color['Category'] == 'Regular Button', 'Color_Code'].iloc[0]\n",
    "option2.style.text_color = 'black'\n",
    "option2.add_class('opt-button')\n",
    "\n",
    "option3 = create_expanded_button(opt[2], 'success')\n",
    "option3.style.button_color = btn_color.loc[btn_color['Category'] == 'Regular Button', 'Color_Code'].iloc[0]\n",
    "option3.style.text_color = 'black'\n",
    "option3.add_class('opt-button')\n",
    "\n",
    "option4 = create_expanded_button(opt[3], 'success')\n",
    "option4.style.button_color = btn_color.loc[btn_color['Category'] == 'Regular Button', 'Color_Code'].iloc[0]\n",
    "option4.style.text_color = 'black'\n",
    "option4.add_class('opt-button')\n",
    "\n",
    "option5 = create_expanded_button(opt[4], 'success')\n",
    "option5.style.button_color = btn_color.loc[btn_color['Category'] == 'Regular Button', 'Color_Code'].iloc[0]\n",
    "option5.style.text_color = 'red'\n",
    "option5.add_class('opt-button')\n",
    "\n",
    "option6 = create_expanded_button(opt[5], 'success')\n",
    "option6.style.button_color = btn_color.loc[btn_color['Category'] == 'Regular Button', 'Color_Code'].iloc[0]\n",
    "option6.style.text_color = 'black'\n",
    "option6.add_class('opt-button')\n",
    "\n",
    "option7 = create_expanded_button(opt[6], 'success')\n",
    "option7.style.button_color = btn_color.loc[btn_color['Category'] == 'Regular Button', 'Color_Code'].iloc[0]\n",
    "option7.style.text_color = 'black'\n",
    "option7.add_class('opt-button')\n",
    "\n",
    "option8 = create_expanded_button(opt[7], 'success')\n",
    "option8.style.button_color = btn_color.loc[btn_color['Category'] == 'Regular Button', 'Color_Code'].iloc[0]\n",
    "option8.style.text_color = 'black'\n",
    "option8.add_class('opt-button')\n",
    "\n",
    "option9 = create_expanded_button(opt[8], 'success')\n",
    "option9.style.button_color = btn_color.loc[btn_color['Category'] == 'Unknown Button', 'Color_Code'].iloc[0]\n",
    "option9.style.text_color = 'black'\n",
    "option9.add_class('opt-button')\n",
    "\n",
    "# Create a HTML widget to include the custom CSS\n",
    "css_widget = widgets.HTML(value=ques_widget_css)\n",
    "css_widget2 = widgets.HTML(value=opt_button_css)\n",
    "\n",
    "factor_grid = GridspecLayout(10, 18, grid_gap='5px', height='550px')\n",
    "factor_grid[4:8, 1:6] = question\n",
    "factor_grid[1:8, 11:18] = html_widget\n",
    "factor_grid[1, 7:10] = option1\n",
    "factor_grid[2, 7:10] = option2\n",
    "factor_grid[3, 7:10] = option3\n",
    "factor_grid[4, 7:10] = option4\n",
    "factor_grid[5, 7:10] = option5\n",
    "factor_grid[6, 7:10] = option6\n",
    "factor_grid[7, 7:10] = option7\n",
    "factor_grid[8, 7:10] = option8\n",
    "factor_grid[9, 7:10] = option9\n",
    "# factor_grid[10, 7:9] = option10\n",
    "\n",
    "# Creating a container to store the factor widget and added custom css widgets\n",
    "logical_integer_container = widgets.VBox(children=[factor_grid, css_widget, css_widget2], layout=widgets.Layout(\n",
    "    align_items='center'  # Center align vertically\n",
    "#     border='solid 2px black',\n",
    "#     width = \"70%\"\n",
    "#     justify_content='center'  # Center align horizontally\n",
    "#     height='100vh'  # Set height to 100% of viewport height for vertical centering\n",
    "))"
   ]
  },
  {
   "cell_type": "code",
   "execution_count": 32,
   "id": "15cd01b4",
   "metadata": {},
   "outputs": [],
   "source": [
    "# Creating button list for implementing the checkmark feature\n",
    "button_list = [option1, option2, option3, option4, option5, option6, option7, option8, option9]"
   ]
  },
  {
   "cell_type": "code",
   "execution_count": 33,
   "id": "ca0d8084",
   "metadata": {},
   "outputs": [],
   "source": [
    "selected = False"
   ]
  },
  {
   "cell_type": "code",
   "execution_count": 34,
   "id": "f9f594fa",
   "metadata": {},
   "outputs": [],
   "source": [
    "# Create the text widget with a warning message\n",
    "warning_widget2 = widgets.HTML(\n",
    "    value=\"\"\"\n",
    "    <div style=\"padding: 5px; background-color: #f8d7da; color: #721c24; border: 2px solid #f5c6cb; border-radius: 5px;\">\n",
    "        <strong>Warning!</strong> Unavailable for now. Please select another.\n",
    "    </div>\n",
    "    \"\"\"\n",
    ")"
   ]
  },
  {
   "cell_type": "code",
   "execution_count": 35,
   "id": "71d55d79",
   "metadata": {},
   "outputs": [],
   "source": [
    "error2 = widgets.HBox(\n",
    "    [warning_widget2],\n",
    "    layout=widgets.Layout(\n",
    "        width='auto',  \n",
    "        height='auto',\n",
    "        margin='auto',  \n",
    "        align_items='flex-end',  \n",
    "        justify_content='flex-end' \n",
    "    )\n",
    ")"
   ]
  },
  {
   "cell_type": "code",
   "execution_count": 36,
   "id": "d6f4c2a6",
   "metadata": {},
   "outputs": [],
   "source": [
    "selected_option_list = []"
   ]
  },
  {
   "cell_type": "code",
   "execution_count": 37,
   "id": "4c32e7af",
   "metadata": {},
   "outputs": [],
   "source": [
    "# Implementing the steps when a button is clicked\n",
    "output = widgets.Output()\n",
    "def option_1_button_clicked(option1):\n",
    "    with output:\n",
    "        clear_output()\n",
    "        global selected\n",
    "        \n",
    "        selected = True\n",
    "        \n",
    "        # storing all the selected option information\n",
    "        selected_option = factor_grid[1, 7:10].description\n",
    "        selected_option_index = opt.index(selected_option)\n",
    "        selected_option_code = opt_codes[selected_option_index]\n",
    "        \n",
    "        \n",
    "        # changes the button icon to a checkmark when clicked\n",
    "        for btn in button_list:\n",
    "            if btn == option1:\n",
    "                if btn.icon == 'check':\n",
    "                    btn.icon=''\n",
    "                    selected_option_list.remove(selected_option_code)\n",
    "                else:\n",
    "                    btn.icon='check'\n",
    "                    if selected_option_code not in selected_option_list:    \n",
    "                        selected_option_list.append(selected_option_code)        \n",
    "        \n",
    "        \n",
    "        # Retrieving infomation for using inside logic while determining the next page\n",
    "        stored_choices[\"objective\"] = selected_option_list\n",
    "        \n",
    "        # Storing all the information\n",
    "        with open(path, \"w\") as f:\n",
    "            json.dump(stored_choices, f)\n",
    "        \n",
    "# Calling the on click function\n",
    "factor_grid[1, 7:10].on_click(option_1_button_clicked)"
   ]
  },
  {
   "cell_type": "code",
   "execution_count": 38,
   "id": "348e1bd5",
   "metadata": {},
   "outputs": [],
   "source": [
    "# Implementing the steps when a button is clicked\n",
    "output = widgets.Output()\n",
    "def option_2_button_clicked(option2):\n",
    "    with output:\n",
    "        clear_output()\n",
    "        global selected\n",
    "        \n",
    "        selected = True\n",
    "        \n",
    "        # storing all the selected option information\n",
    "        selected_option = factor_grid[2, 7:10].description\n",
    "        selected_option_index = opt.index(selected_option)\n",
    "        selected_option_code = opt_codes[selected_option_index]\n",
    "        \n",
    "        # changes the button icon to a checkmark when clicked\n",
    "        for btn in button_list:\n",
    "            if btn == option2:\n",
    "                if btn.icon == 'check':\n",
    "                    btn.icon=''\n",
    "                    selected_option_list.remove(selected_option_code)\n",
    "                else:\n",
    "                    btn.icon='check'\n",
    "                    if selected_option_code not in selected_option_list:    \n",
    "                        selected_option_list.append(selected_option_code)\n",
    "        \n",
    "        \n",
    "        # Retrieving infomation for using inside logic while determining the next page\n",
    "        stored_choices[\"objective\"] = selected_option_list\n",
    "        \n",
    "        # Storing all the information\n",
    "        with open(path, \"w\") as f:\n",
    "            json.dump(stored_choices, f)\n",
    "            \n",
    "# Calling the on click function        \n",
    "factor_grid[2, 7:10].on_click(option_2_button_clicked)"
   ]
  },
  {
   "cell_type": "code",
   "execution_count": 39,
   "id": "ce7cf929",
   "metadata": {},
   "outputs": [],
   "source": [
    "# Implementing the steps when a button is clicked\n",
    "output = widgets.Output()\n",
    "def option_3_button_clicked(option3):\n",
    "    with output:\n",
    "        clear_output()\n",
    "        global selected\n",
    "        \n",
    "        selected = True\n",
    "        \n",
    "        # storing all the selected option information\n",
    "        selected_option = factor_grid[3, 7:10].description\n",
    "        selected_option_index = opt.index(selected_option)\n",
    "        selected_option_code = opt_codes[selected_option_index]\n",
    "        \n",
    "        # changes the button icon to a checkmark when clicked\n",
    "        for btn in button_list:\n",
    "            if btn == option3:\n",
    "                if btn.icon == 'check':\n",
    "                    btn.icon=''\n",
    "                    selected_option_list.remove(selected_option_code)\n",
    "                else:\n",
    "                    btn.icon='check'\n",
    "                    if selected_option_code not in selected_option_list:    \n",
    "                        selected_option_list.append(selected_option_code)\n",
    "        \n",
    "        \n",
    "        \n",
    "        # Retrieving infomation for using inside logic while determining the next page\n",
    "        stored_choices[\"objective\"] = selected_option_list\n",
    "        \n",
    "        # Storing all the information\n",
    "        with open(path, \"w\") as f:\n",
    "            json.dump(stored_choices, f)\n",
    "            \n",
    "# Calling the on click function       \n",
    "factor_grid[3, 7:10].on_click(option_3_button_clicked)"
   ]
  },
  {
   "cell_type": "code",
   "execution_count": 40,
   "id": "953b354f",
   "metadata": {},
   "outputs": [],
   "source": [
    "# Implementing the steps when a button is clicked\n",
    "output = widgets.Output()\n",
    "def option_4_button_clicked(option4):\n",
    "    with output:\n",
    "        clear_output()\n",
    "        global selected\n",
    "        \n",
    "        selected = True\n",
    "        \n",
    "        # storing all the selected option information\n",
    "        selected_option = factor_grid[4, 7:10].description\n",
    "        selected_option_index = opt.index(selected_option)\n",
    "        selected_option_code = opt_codes[selected_option_index]\n",
    "        \n",
    "        # changes the button icon to a checkmark when clicked\n",
    "        for btn in button_list:\n",
    "            if btn == option4:\n",
    "                if btn.icon == 'check':\n",
    "                    btn.icon=''\n",
    "                    selected_option_list.remove(selected_option_code)\n",
    "                else:\n",
    "                    btn.icon='check'\n",
    "                    if selected_option_code not in selected_option_list:    \n",
    "                        selected_option_list.append(selected_option_code)\n",
    "        \n",
    "        \n",
    "        # Retrieving infomation for using inside logic while determining the next page\n",
    "        stored_choices[\"objective\"] = selected_option_list\n",
    "        \n",
    "        # Storing all the information\n",
    "        with open(path, \"w\") as f:\n",
    "            json.dump(stored_choices, f)\n",
    "            \n",
    "# Calling the on click function       \n",
    "factor_grid[4, 7:10].on_click(option_4_button_clicked)"
   ]
  },
  {
   "cell_type": "code",
   "execution_count": 41,
   "id": "bac3e33e",
   "metadata": {},
   "outputs": [],
   "source": [
    "# Implementing the steps when a button is clicked\n",
    "output = widgets.Output()\n",
    "def option_5_button_clicked(option5):\n",
    "    with output:\n",
    "        clear_output()\n",
    "        global selected\n",
    "        \n",
    "        selected = False\n",
    "        \n",
    "#       storing all the selected option information\n",
    "#       selected_option = factor_grid[5, 7:10].description\n",
    "#       selected_option_index = opt.index(selected_option)\n",
    "#       selected_option_code = opt_codes[selected_option_index]\n",
    "\n",
    "        # changes the button icon to a checkmark when clicked\n",
    "        for btn in button_list:\n",
    "            if btn == option5:\n",
    "                if btn.icon == 'check':\n",
    "                    btn.icon=''\n",
    "#                     selected_option_list.remove(selected_option_code)\n",
    "                else:\n",
    "                    btn.icon='check'\n",
    "#                     if selected_option_code not in selected_option_list:    \n",
    "#                         selected_option_list.append(selected_option_code)\n",
    "        display(error2)\n",
    "        \n",
    "#         # Retrieving infomation for using inside logic while determining the next page\n",
    "#         stored_choices[\"objective\"] = selected_option_code\n",
    "        \n",
    "#         # Storing all the information\n",
    "#         with open(path, \"w\") as f:\n",
    "#             json.dump(stored_choices, f)\n",
    "            \n",
    "# Calling the on click function       \n",
    "factor_grid[5, 7:10].on_click(option_5_button_clicked)"
   ]
  },
  {
   "cell_type": "code",
   "execution_count": 42,
   "id": "f36cbc21",
   "metadata": {},
   "outputs": [],
   "source": [
    "# Implementing the steps when a button is clicked\n",
    "output = widgets.Output()\n",
    "def option_6_button_clicked(option6):\n",
    "    with output:\n",
    "        clear_output()\n",
    "        global selected\n",
    "        \n",
    "        selected = False\n",
    "        \n",
    "#         # storing all the selected option information\n",
    "#         selected_option = factor_grid[6, 7:10].description\n",
    "#         selected_option_index = opt.index(selected_option)\n",
    "#         selected_option_code = opt_codes[selected_option_index]\n",
    "        \n",
    "        # changes the button icon to a checkmark when clicked\n",
    "        for btn in button_list:\n",
    "            if btn == option6:\n",
    "                if btn.icon == 'check':\n",
    "                    btn.icon=''\n",
    "#                     selected_option_list.remove(selected_option_code)\n",
    "                else:\n",
    "                    btn.icon='check'\n",
    "#                     if selected_option_code not in selected_option_list:    \n",
    "#                         selected_option_list.append(selected_option_code)\n",
    "        display(error2)\n",
    "        \n",
    "        \n",
    "#         # Retrieving infomation for using inside logic while determining the next page\n",
    "#         stored_choices[\"objective\"] = selected_option_code\n",
    "        \n",
    "#         # Storing all the information\n",
    "#         with open(path, \"w\") as f:\n",
    "#             json.dump(stored_choices, f)\n",
    "            \n",
    "# Calling the on click function     \n",
    "factor_grid[6, 7:10].on_click(option_6_button_clicked)"
   ]
  },
  {
   "cell_type": "code",
   "execution_count": 43,
   "id": "845ca4ef",
   "metadata": {},
   "outputs": [],
   "source": [
    "# Implementing the steps when a button is clicked\n",
    "output = widgets.Output()\n",
    "def option_7_button_clicked(option7):\n",
    "    with output:\n",
    "        clear_output()\n",
    "        global selected\n",
    "        \n",
    "        selected = False\n",
    "        \n",
    "#         # storing all the selected option information\n",
    "#         selected_option = factor_grid[7, 7:10].description\n",
    "#         selected_option_index = opt.index(selected_option)\n",
    "#         selected_option_code = opt_codes[selected_option_index]\n",
    "        \n",
    "        # changes the button icon to a checkmark when clicked\n",
    "        for btn in button_list:\n",
    "            if btn == option7:\n",
    "                if btn.icon == 'check':\n",
    "                    btn.icon=''\n",
    "#                     selected_option_list.remove(selected_option_code)\n",
    "                else:\n",
    "                    btn.icon='check'\n",
    "#                     if selected_option_code not in selected_option_list:    \n",
    "#                         selected_option_list.append(selected_option_code)\n",
    "                \n",
    "        display(error2)       \n",
    "                \n",
    "        \n",
    "#         # Retrieving infomation for using inside logic while determining the next page\n",
    "#         stored_choices[\"objective\"] = selected_option_code\n",
    "        \n",
    "#         # Storing all the information\n",
    "#         with open(path, \"w\") as f:\n",
    "#             json.dump(stored_choices, f)\n",
    "\n",
    "\n",
    "\n",
    "            \n",
    "# Calling the on click function     \n",
    "factor_grid[7, 7:10].on_click(option_7_button_clicked)"
   ]
  },
  {
   "cell_type": "code",
   "execution_count": 44,
   "id": "c312aeec",
   "metadata": {},
   "outputs": [],
   "source": [
    "# Implementing the steps when a button is clicked\n",
    "output = widgets.Output()\n",
    "def option_8_button_clicked(option8):\n",
    "    with output:\n",
    "        clear_output()\n",
    "        global selected\n",
    "        \n",
    "        selected = True\n",
    "        \n",
    "        # storing all the selected option information\n",
    "        selected_option = factor_grid[8, 7:10].description\n",
    "        selected_option_index = opt.index(selected_option)\n",
    "        selected_option_code = opt_codes[selected_option_index]\n",
    "        \n",
    "        # changes the button icon to a checkmark when clicked\n",
    "        for btn in button_list:\n",
    "            if btn == option8:\n",
    "                if btn.icon == 'check':\n",
    "                    btn.icon=''\n",
    "                    selected_option_list.remove(selected_option_code)\n",
    "                else:\n",
    "                    btn.icon='check'\n",
    "                    if selected_option_code not in selected_option_list:    \n",
    "                        selected_option_list.append(selected_option_code)\n",
    "        \n",
    "        \n",
    "        # Retrieving infomation for using inside logic while determining the next page\n",
    "        stored_choices[\"objective\"] = selected_option_code\n",
    "        \n",
    "        # Storing all the information\n",
    "        with open(path, \"w\") as f:\n",
    "            json.dump(stored_choices, f)\n",
    "            \n",
    "# Calling the on click function       \n",
    "factor_grid[8, 7:10].on_click(option_8_button_clicked)"
   ]
  },
  {
   "cell_type": "code",
   "execution_count": 45,
   "id": "608bfc9a",
   "metadata": {},
   "outputs": [],
   "source": [
    "# Implementing the steps when a button is clicked\n",
    "output = widgets.Output()\n",
    "def option_9_button_clicked(option9):\n",
    "    with output:\n",
    "        clear_output()\n",
    "        global selected\n",
    "        \n",
    "        selected = True\n",
    "        \n",
    "        # storing all the selected option information\n",
    "        selected_option = factor_grid[9, 7:10].description\n",
    "        selected_option_index = opt.index(selected_option)\n",
    "        selected_option_code = opt_codes[selected_option_index]\n",
    "        \n",
    "        # changes the button icon to a checkmark when clicked\n",
    "        for btn in button_list:\n",
    "            if btn == option9:\n",
    "                if btn.icon == 'check':\n",
    "                    btn.icon=''\n",
    "                    selected_option_list.remove(selected_option_code)\n",
    "                else:\n",
    "                    btn.icon='check'\n",
    "                    if selected_option_code not in selected_option_list:    \n",
    "                        selected_option_list.append(selected_option_code)\n",
    "        \n",
    "        \n",
    "        # Retrieving infomation for using inside logic while determining the next page\n",
    "        stored_choices[\"objective\"] = selected_option_code\n",
    "        \n",
    "        # Storing all the information\n",
    "        with open(path, \"w\") as f:\n",
    "            json.dump(stored_choices, f)\n",
    "            \n",
    "# Calling the on click function      \n",
    "factor_grid[9, 7:10].on_click(option_9_button_clicked)"
   ]
  },
  {
   "cell_type": "code",
   "execution_count": 46,
   "id": "30356f59",
   "metadata": {},
   "outputs": [],
   "source": [
    "# # button.on_click(show_popup(None, drop_link))\n",
    "# button.on_click(lambda b: show_popup(b, drop_link))"
   ]
  },
  {
   "cell_type": "code",
   "execution_count": 47,
   "id": "babb8ea3",
   "metadata": {},
   "outputs": [],
   "source": [
    "# close_button.on_click(close_popup)"
   ]
  },
  {
   "cell_type": "code",
   "execution_count": null,
   "id": "55a50e07",
   "metadata": {},
   "outputs": [],
   "source": [
    "accordion.observe(lambda change: show_popup(accordion, drop_link), names='selected_index')"
   ]
  },
  {
   "cell_type": "code",
   "execution_count": 47,
   "id": "ed85e633",
   "metadata": {},
   "outputs": [],
   "source": [
    "# Create a buttons for submitting the question\n",
    "submit_button = widgets.Button(description=\"Submit & Next >>\", layout=widgets.Layout(border='1px solid black'))"
   ]
  },
  {
   "cell_type": "code",
   "execution_count": 48,
   "id": "fc5fdbc8",
   "metadata": {},
   "outputs": [],
   "source": [
    "# Create a button for going back to previous question\n",
    "back_button = widgets.Button(description=\"<< Back\", layout=widgets.Layout(border='1px solid black'))"
   ]
  },
  {
   "cell_type": "code",
   "execution_count": 49,
   "id": "5bfa5dae",
   "metadata": {},
   "outputs": [],
   "source": [
    "# Create the text widget with a warning message\n",
    "warning_widget = widgets.HTML(\n",
    "    value=\"\"\"\n",
    "    <div style=\"padding: 5px; background-color: #f8d7da; color: #721c24; border: 2px solid #f5c6cb; border-radius: 5px;\">\n",
    "        <strong>Warning!</strong> Select an option first.\n",
    "    </div>\n",
    "    \"\"\"\n",
    ")"
   ]
  },
  {
   "cell_type": "code",
   "execution_count": 50,
   "id": "f941a385",
   "metadata": {},
   "outputs": [],
   "source": [
    "error = widgets.HBox(\n",
    "    [warning_widget],\n",
    "    layout=widgets.Layout(\n",
    "        width='auto',  \n",
    "        height='auto',\n",
    "        margin='auto',  \n",
    "        align_items='flex-end',  \n",
    "        justify_content='flex-end' \n",
    "    )\n",
    ")"
   ]
  },
  {
   "cell_type": "code",
   "execution_count": 51,
   "id": "22e57c81",
   "metadata": {},
   "outputs": [],
   "source": [
    "# For going back to last question\n",
    "\n",
    "output = widgets.Output()\n",
    "def on_back_button_clicked(event):\n",
    "    with output:\n",
    "        clear_output()\n",
    "        file_name = back_list[-1]\n",
    "        notebook_filename = file_name + \".ipynb\"\n",
    "        js_code = f\"window.open('{notebook_filename}', '_self');\"\n",
    "#         link = Markdown('''<a href=\"{}\" target=\"_self\" rel=\"noopener noreferrer\">Previous</a>'''.format(notebook_filename))\n",
    "        back_list.pop()\n",
    "        with open (back_path, \"w\")as f:\n",
    "            json.dump(back_list, f)\n",
    "        display(Javascript(js_code))\n",
    "\n",
    "back_button.on_click(on_back_button_clicked)"
   ]
  },
  {
   "cell_type": "code",
   "execution_count": 52,
   "id": "f03d23af",
   "metadata": {},
   "outputs": [],
   "source": [
    "output = widgets.Output()\n",
    "def on_button_clicked(event):\n",
    "    with output:\n",
    "#         clear_output()\n",
    "\n",
    "        if not selected:\n",
    "            display(error)\n",
    "        else:\n",
    "            next_notebook = \"01_03_num_cams\"\n",
    "\n",
    "            notebook_filename = next_notebook + \".ipynb\"\n",
    "            # JavaScript to open the URL\n",
    "            js_code = f\"window.open('{notebook_filename}', '_self');\"\n",
    "\n",
    "            # Storing current page name for later use when backtracking\n",
    "            back_list.append(\"01_02_objective\")\n",
    "            with open (back_path, \"w\")as f:\n",
    "                json.dump(back_list, f)\n",
    "\n",
    "            display(Javascript(js_code))\n",
    "\n",
    "submit_button.on_click(on_button_clicked)"
   ]
  },
  {
   "cell_type": "code",
   "execution_count": null,
   "id": "d89d6036",
   "metadata": {},
   "outputs": [],
   "source": []
  },
  {
   "cell_type": "code",
   "execution_count": 53,
   "id": "6db90f31",
   "metadata": {},
   "outputs": [
    {
     "data": {
      "application/vnd.jupyter.widget-view+json": {
       "model_id": "7eeb1decf663416db5a2cbd0b62372b8",
       "version_major": 2,
       "version_minor": 0
      },
      "text/plain": [
       "HBox(children=(VBox(children=(Image(value=b'\\x89PNG\\r\\n\\x1a\\n\\x00\\x00\\x00\\rIHDR\\x00\\x00\\x01\\xfb\\x00\\x00\\x01|\\x…"
      ]
     },
     "metadata": {},
     "output_type": "display_data"
    }
   ],
   "source": [
    "# Creating containers for all the widgets along with their css properties\n",
    "\n",
    "all_button = widgets.HBox(\n",
    "    [back_button, submit_button],\n",
    "    layout=widgets.Layout(\n",
    "        width='100%',  \n",
    "        height='auto',\n",
    "#         border='solid 2px grey',\n",
    "        padding='1px',\n",
    "        margin='auto',  \n",
    "        align_items='center',  \n",
    "        justify_content='space-between' \n",
    "    )\n",
    ")\n",
    "buttons = widgets.VBox(\n",
    "    [output, all_button],\n",
    "    layout=widgets.Layout(\n",
    "        width='100%',  \n",
    "        height='auto',  \n",
    "#         border='solid 2px grey',\n",
    "        padding='1px',\n",
    "        margin='auto',  \n",
    "        align_items='center',  \n",
    "        justify_content='center'  \n",
    "    )\n",
    ")\n",
    "\n",
    "\n",
    "\n",
    "upper = widgets.VBox(\n",
    "    [logical_integer_container, buttons],\n",
    "    layout=widgets.Layout(\n",
    "        width='95%',  \n",
    "        height='auto', \n",
    "        border='solid 1px grey',\n",
    "        padding='10px',\n",
    "        margin='auto',  \n",
    "        align_items='center',  \n",
    "        justify_content='center' \n",
    "    )\n",
    ")\n",
    "upper.add_class(\"custom-vbox\")\n",
    "\n",
    "popup = widgets.VBox(children=[accordion], layout=widgets.Layout(\n",
    "        width='95.3%',\n",
    "        padding ='5px 0px 0px 0px'))\n",
    "\n",
    "#  container2,\n",
    "right_col = widgets.VBox(children=[header_container, background_color_html, upper, footer, popup], layout=widgets.Layout(\n",
    "        width='88%',  #, popup\n",
    "        height='100%',  \n",
    "        border_left='solid 1px grey',\n",
    "        padding='5px',\n",
    "        margin='auto',  \n",
    "        align_items='center',  \n",
    "        justify_content='center'\n",
    "))\n",
    "\n",
    "cols = widgets.HBox(\n",
    "    [left_col, right_col],\n",
    "    layout=widgets.Layout(\n",
    "        width='95%',  \n",
    "        height='auto',  #90vh\n",
    "        border='solid 2px grey',\n",
    "#         padding='5px',\n",
    "        margin='auto',  \n",
    "        align_items='flex-start', \n",
    "        justify_content='center'\n",
    "    )\n",
    ")\n",
    "\n",
    "display(cols)"
   ]
  },
  {
   "cell_type": "code",
   "execution_count": null,
   "id": "f8fba219",
   "metadata": {},
   "outputs": [],
   "source": []
  },
  {
   "cell_type": "code",
   "execution_count": 15,
   "id": "947ba6e8",
   "metadata": {},
   "outputs": [],
   "source": [
    "# from IPython.display import display, HTML\n",
    "# import ipywidgets as widgets\n",
    "\n",
    "# # Custom CSS to modify the question button design\n",
    "# acc_button_css = get_css_class(css_path, 'accordion-button')\n",
    "# print(acc_button_css)"
   ]
  },
  {
   "cell_type": "code",
   "execution_count": 16,
   "id": "bb66253f",
   "metadata": {},
   "outputs": [],
   "source": [
    "# # Create an Output widget\n",
    "# output_popup = widgets.Output()\n",
    "# with output_popup:\n",
    "#     print(\"This is additional information inside the accordion.\")\n",
    "\n",
    "# # Create an Accordion widget\n",
    "# accordion = widgets.Accordion(children=[output_popup], titles=('Click here for more information',))\n",
    "\n",
    "# # Apply the custom CSS class\n",
    "# accordion.add_class(acc_button_css)\n",
    "\n",
    "# acc_widget = widgets.HTML(value=acc_button_css)\n",
    "# # Display the Accordion\n",
    "# # display(accordion)\n"
   ]
  },
  {
   "cell_type": "code",
   "execution_count": 17,
   "id": "4902381d",
   "metadata": {},
   "outputs": [],
   "source": [
    "# acc_container = widgets.VBox(children=[accordion, acc_widget])"
   ]
  },
  {
   "cell_type": "code",
   "execution_count": 18,
   "id": "94c15f90",
   "metadata": {},
   "outputs": [],
   "source": [
    "# display(acc_container)"
   ]
  },
  {
   "cell_type": "code",
   "execution_count": null,
   "id": "7bcc4c8e",
   "metadata": {},
   "outputs": [],
   "source": []
  }
 ],
 "metadata": {
  "kernelspec": {
   "display_name": "Python 3 (ipykernel)",
   "language": "python",
   "name": "python3"
  },
  "language_info": {
   "codemirror_mode": {
    "name": "ipython",
    "version": 3
   },
   "file_extension": ".py",
   "mimetype": "text/x-python",
   "name": "python",
   "nbconvert_exporter": "python",
   "pygments_lexer": "ipython3",
   "version": "3.12.7"
  }
 },
 "nbformat": 4,
 "nbformat_minor": 5
}
