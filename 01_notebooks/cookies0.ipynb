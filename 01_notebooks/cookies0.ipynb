{
 "cells": [
  {
   "cell_type": "code",
   "execution_count": 1,
   "id": "7dd2e128",
   "metadata": {},
   "outputs": [],
   "source": [
    "import warnings\n",
    "warnings.filterwarnings('ignore')\n",
    "\n",
    "import os\n",
    "import re\n",
    "import json\n",
    "import webbrowser\n",
    "import pandas as pd\n",
    "import ipywidgets as widgets\n",
    "from datetime import datetime\n",
    "from ipywidgets import AppLayout, Button, Layout\n",
    "from ipywidgets import Button, Layout, jslink, IntText, IntSlider\n",
    "from IPython.display import display, Javascript, Markdown, clear_output, HTML\n",
    "from ipywidgets import GridspecLayout\n",
    "from markdown_it import MarkdownIt"
   ]
  },
  {
   "cell_type": "code",
   "execution_count": 2,
   "id": "63d10d88",
   "metadata": {},
   "outputs": [],
   "source": [
    "email = widgets.Text(\n",
    "    value='',\n",
    "    placeholder='Enter here',\n",
    "    description='Email:',\n",
    "    disabled=False   \n",
    ")"
   ]
  },
  {
   "cell_type": "code",
   "execution_count": null,
   "id": "f92549ed",
   "metadata": {},
   "outputs": [],
   "source": [
    "project_name = widgets.Text(\n",
    "    value='',\n",
    "    placeholder='Enter here',\n",
    "    description='Project:',\n",
    "    disabled=False   \n",
    ")"
   ]
  },
  {
   "cell_type": "code",
   "execution_count": 3,
   "id": "847b2ae7",
   "metadata": {},
   "outputs": [
    {
     "data": {
      "application/vnd.jupyter.widget-view+json": {
       "model_id": "79d300164e234759b37115163ac0d838",
       "version_major": 2,
       "version_minor": 0
      },
      "text/plain": [
       "Text(value='', description='String:', placeholder='Paste your copied string here')"
      ]
     },
     "metadata": {},
     "output_type": "display_data"
    }
   ],
   "source": [
    "display(email)"
   ]
  },
  {
   "cell_type": "code",
   "execution_count": null,
   "id": "6c2fd8ec",
   "metadata": {},
   "outputs": [],
   "source": [
    "display(project_name)"
   ]
  },
  {
   "cell_type": "code",
   "execution_count": 33,
   "id": "a039475a",
   "metadata": {},
   "outputs": [],
   "source": [
    "# Create a buttons for submitting the file name\n",
    "file_name_submit_button = widgets.Button(description=\"Submit\", layout=widgets.Layout(border='1px solid black'))"
   ]
  },
  {
   "cell_type": "code",
   "execution_count": 34,
   "id": "92a4c42f",
   "metadata": {},
   "outputs": [],
   "source": [
    "footer_output = widgets.Output()\n",
    "def on_file_button_clicked(event):\n",
    "    with footer_output:\n",
    "        clear_output()\n",
    "        global filename\n",
    "        \n",
    "        filename = email.value + \"_\" + project_name.value\n",
    "        # Construct URL to the next notebook with parameters\n",
    "        next_notebook_url = f'cookies1.ipynb?filename={filename}'\n",
    "        display(HTML(f\"\"\"\n",
    "                <script type=\"text/javascript\">\n",
    "                    window.open(\"{next_notebook_url}\", \"_blank\");\n",
    "                </script>\n",
    "            \"\"\"))"
   ]
  },
  {
   "cell_type": "code",
   "execution_count": 35,
   "id": "5304ee60",
   "metadata": {},
   "outputs": [],
   "source": [
    "file_name_submit_button.on_click(on_file_button_clicked)"
   ]
  },
  {
   "cell_type": "code",
   "execution_count": 36,
   "id": "88a0f788",
   "metadata": {},
   "outputs": [
    {
     "data": {
      "application/vnd.jupyter.widget-view+json": {
       "model_id": "9a379f6f04a141e09806795b8bdd0ebf",
       "version_major": 2,
       "version_minor": 0
      },
      "text/plain": [
       "Button(description='Submit', layout=Layout(border_bottom='1px solid black', border_left='1px solid black', bor…"
      ]
     },
     "metadata": {},
     "output_type": "display_data"
    },
    {
     "data": {
      "application/vnd.jupyter.widget-view+json": {
       "model_id": "6ecded2d349a42f28ca2043fc5d7f9d2",
       "version_major": 2,
       "version_minor": 0
      },
      "text/plain": [
       "Output()"
      ]
     },
     "metadata": {},
     "output_type": "display_data"
    }
   ],
   "source": [
    "display(file_name_submit_button, footer_output)"
   ]
  },
  {
   "cell_type": "code",
   "execution_count": null,
   "id": "b0ba91e1",
   "metadata": {},
   "outputs": [],
   "source": []
  }
 ],
 "metadata": {
  "kernelspec": {
   "display_name": "Python 3 (ipykernel)",
   "language": "python",
   "name": "python3"
  },
  "language_info": {
   "codemirror_mode": {
    "name": "ipython",
    "version": 3
   },
   "file_extension": ".py",
   "mimetype": "text/x-python",
   "name": "python",
   "nbconvert_exporter": "python",
   "pygments_lexer": "ipython3",
   "version": "3.12.7"
  }
 },
 "nbformat": 4,
 "nbformat_minor": 5
}
