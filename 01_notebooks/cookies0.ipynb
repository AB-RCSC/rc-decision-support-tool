{
 "cells": [
  {
   "cell_type": "code",
   "execution_count": 1,
   "id": "9dee7d69",
   "metadata": {},
   "outputs": [],
   "source": [
    "# import json\n",
    "# import os\n",
    "# from http.cookies import SimpleCookie\n",
    "# from IPython.display import display, Javascript\n",
    "\n",
    "# # Directory to store user files\n",
    "# json_dir = \"user_data\"\n",
    "# if not os.path.exists(json_dir):\n",
    "#     os.makedirs(json_dir)\n",
    "\n",
    "# # Function to generate a unique identifier\n",
    "# def generate_uid():\n",
    "#     import uuid\n",
    "#     return str(uuid.uuid4())\n",
    "\n",
    "# # JavaScript code to set a cookie in the user's browser\n",
    "# set_cookie_js = \"\"\"\n",
    "# (function() {\n",
    "#     var uid = document.cookie.split('; ').find(row => row.startsWith('uid='));\n",
    "#     if (!uid) {\n",
    "#         var newUid = (new Date().getTime()).toString() + Math.random().toString(36).substr(2);\n",
    "#         document.cookie = 'uid=' + newUid + '; path=/';\n",
    "#         var command = \"create_json_file('\" + newUid + \"')\";\n",
    "#         var kernel = IPython.notebook.kernel;\n",
    "#         kernel.execute(command);\n",
    "#     } else {\n",
    "#         var kernel = IPython.notebook.kernel;\n",
    "#         var existingUid = uid.split('=')[1];\n",
    "#         var command = \"use_existing_file('\" + existingUid + \"')\";\n",
    "#         kernel.execute(command);\n",
    "#     }\n",
    "# })();\n",
    "# \"\"\"\n",
    "\n",
    "# # Display the JavaScript to set a cookie\n",
    "# display(Javascript(set_cookie_js))\n",
    "\n",
    "# # Function to create a JSON file for the new UID\n",
    "# def create_json_file(uid):\n",
    "#     json_path = os.path.join(json_dir, f\"{uid}.json\")\n",
    "#     if not os.path.exists(json_path):\n",
    "#         with open(json_path, \"w\") as f:\n",
    "#             json.dump({\"message\": \"This is a new user file.\"}, f)\n",
    "#     print(f\"Created file for UID: {uid}\")\n",
    "\n",
    "# # Function to use an existing file for the UID\n",
    "# def use_existing_file(uid):\n",
    "#     json_path = os.path.join(json_dir, f\"{uid}.json\")\n",
    "#     if os.path.exists(json_path):\n",
    "#         print(f\"Using existing file for UID: {uid}\")\n",
    "#     else:\n",
    "#         create_json_file(uid)\n",
    "\n"
   ]
  },
  {
   "cell_type": "code",
   "execution_count": null,
   "id": "46bfac9c",
   "metadata": {},
   "outputs": [],
   "source": []
  },
  {
   "cell_type": "code",
   "execution_count": 2,
   "id": "f44dbc1a",
   "metadata": {},
   "outputs": [],
   "source": [
    "# from IPython.display import display, HTML\n",
    "# import uuid\n",
    "\n",
    "# # Generate a unique fingerprint for the user (if not already present)\n",
    "# fingerprint = str(uuid.uuid4())\n",
    "\n",
    "# # Set the cookie in the user's browser and add a button to redirect\n",
    "# display(HTML(f\"\"\"\n",
    "# <script>\n",
    "#     // Set the fingerprint cookie valid for 1 hour\n",
    "#     document.cookie = \"fingerprint={fingerprint}; path=/; max-age=3600\";\n",
    "# </script>\n",
    "# <button onclick=\"window.open('cookies2.ipynb?value1={fingerprint}&value2={fingerprint}', '_blank')\">\n",
    "#     Go to Next Notebook\n",
    "# </button>\n",
    "# \"\"\"))\n"
   ]
  },
  {
   "cell_type": "code",
   "execution_count": null,
   "id": "6deb9e77",
   "metadata": {},
   "outputs": [],
   "source": []
  },
  {
   "cell_type": "code",
   "execution_count": null,
   "id": "e0023ccd",
   "metadata": {},
   "outputs": [],
   "source": []
  },
  {
   "cell_type": "code",
   "execution_count": 3,
   "id": "2631e8d8",
   "metadata": {},
   "outputs": [],
   "source": [
    "# from IPython.display import HTML\n",
    "\n",
    "# # Construct URL to the next notebook with parameters\n",
    "# value1 = \"some_value\"\n",
    "# value2 = \"another_value\"\n",
    "# next_notebook_url = f'cookies2.ipynb?value1={value1}&value2={value2}'\n",
    "\n",
    "# # Create a button that opens the link in a new tab\n",
    "# HTML(f'''\n",
    "#     <button onclick=\"window.open('{next_notebook_url}', '_blank')\">Go to Next Notebook</button>\n",
    "# ''')\n"
   ]
  },
  {
   "cell_type": "code",
   "execution_count": null,
   "id": "f7209388",
   "metadata": {},
   "outputs": [],
   "source": []
  },
  {
   "cell_type": "code",
   "execution_count": null,
   "id": "d96c14ff",
   "metadata": {},
   "outputs": [],
   "source": []
  },
  {
   "cell_type": "code",
   "execution_count": null,
   "id": "fbe1cc96",
   "metadata": {},
   "outputs": [],
   "source": []
  },
  {
   "cell_type": "code",
   "execution_count": 4,
   "id": "275ac931",
   "metadata": {},
   "outputs": [],
   "source": [
    "# Passes the fingerprint through URL and \n",
    "# in next notebook fingerprint matches but displaying in console---------------------------------"
   ]
  },
  {
   "cell_type": "code",
   "execution_count": 5,
   "id": "e7171445",
   "metadata": {},
   "outputs": [],
   "source": [
    "# from IPython.display import display, Javascript\n",
    "\n",
    "# # JavaScript to generate fingerprint and open the link in a new tab\n",
    "# fingerprint_js = \"\"\"\n",
    "# var script = document.createElement('script');\n",
    "# script.src = \"https://cdn.jsdelivr.net/npm/@fingerprintjs/fingerprintjs@3/dist/fp.min.js\";\n",
    "# script.onload = function() {\n",
    "#     FingerprintJS.load().then(fp => {\n",
    "#         // Generate the fingerprint\n",
    "#         fp.get().then(result => {\n",
    "#             const fingerprint = result.visitorId;\n",
    "#             console.log(\"Fingerprint generated:\", fingerprint);\n",
    "\n",
    "#             // Open the next notebook in a new tab with the fingerprint in the URL\n",
    "#             var url = \"cookies2.ipynb?fingerprint=\" + encodeURIComponent(fingerprint);\n",
    "#             window.open(url, '_blank');  // Open the URL in a new tab\n",
    "#         }).catch(error => {\n",
    "#             console.error(\"Error generating fingerprint:\", error);\n",
    "#         });\n",
    "#     }).catch(error => {\n",
    "#         console.error(\"Error loading FingerprintJS:\", error);\n",
    "#     });\n",
    "# };\n",
    "# document.head.appendChild(script);\n",
    "# \"\"\"\n",
    "\n",
    "# # Inject the JavaScript into the notebook\n",
    "# display(Javascript(fingerprint_js))\n"
   ]
  },
  {
   "cell_type": "code",
   "execution_count": null,
   "id": "29c4625c",
   "metadata": {},
   "outputs": [],
   "source": []
  },
  {
   "cell_type": "code",
   "execution_count": null,
   "id": "ad499b0a",
   "metadata": {},
   "outputs": [],
   "source": []
  },
  {
   "cell_type": "code",
   "execution_count": 6,
   "id": "97544ece",
   "metadata": {},
   "outputs": [],
   "source": [
    "#Using get method"
   ]
  },
  {
   "cell_type": "code",
   "execution_count": 1,
   "id": "7dd2e128",
   "metadata": {},
   "outputs": [],
   "source": [
    "import warnings\n",
    "warnings.filterwarnings('ignore')\n",
    "\n",
    "import os\n",
    "import re\n",
    "import json\n",
    "import webbrowser\n",
    "import pandas as pd\n",
    "import ipywidgets as widgets\n",
    "from datetime import datetime\n",
    "from ipywidgets import AppLayout, Button, Layout\n",
    "from ipywidgets import Button, Layout, jslink, IntText, IntSlider\n",
    "from IPython.display import display, Javascript, Markdown, clear_output, HTML\n",
    "from ipywidgets import GridspecLayout\n",
    "from markdown_it import MarkdownIt"
   ]
  },
  {
   "cell_type": "code",
   "execution_count": 2,
   "id": "63d10d88",
   "metadata": {},
   "outputs": [],
   "source": [
    "file_name = widgets.Text(\n",
    "    value='',\n",
    "    placeholder='Enter here',\n",
    "    description='FileName:',\n",
    "    disabled=False   \n",
    ")"
   ]
  },
  {
   "cell_type": "code",
   "execution_count": 3,
   "id": "847b2ae7",
   "metadata": {},
   "outputs": [
    {
     "data": {
      "application/vnd.jupyter.widget-view+json": {
       "model_id": "79d300164e234759b37115163ac0d838",
       "version_major": 2,
       "version_minor": 0
      },
      "text/plain": [
       "Text(value='', description='String:', placeholder='Paste your copied string here')"
      ]
     },
     "metadata": {},
     "output_type": "display_data"
    }
   ],
   "source": [
    "display(file_name)"
   ]
  },
  {
   "cell_type": "code",
   "execution_count": null,
   "id": "26bd6376",
   "metadata": {},
   "outputs": [],
   "source": []
  },
  {
   "cell_type": "code",
   "execution_count": 33,
   "id": "a039475a",
   "metadata": {},
   "outputs": [],
   "source": [
    "# Create a buttons for submitting the file name\n",
    "file_name_submit_button = widgets.Button(description=\"Submit\", layout=widgets.Layout(border='1px solid black'))"
   ]
  },
  {
   "cell_type": "code",
   "execution_count": 34,
   "id": "92a4c42f",
   "metadata": {},
   "outputs": [],
   "source": [
    "footer_output = widgets.Output()\n",
    "def on_file_button_clicked(event):\n",
    "    with footer_output:\n",
    "        clear_output()\n",
    "        global filename\n",
    "        \n",
    "#         print(file_name.value)\n",
    "        filename = file_name.value\n",
    "        print(filename)\n",
    "        # Construct URL to the next notebook with parameters\n",
    "        next_notebook_url = f'cookies1.ipynb?filename={filename}'\n",
    "        print(next_notebook_url)\n",
    "        display(HTML(f\"\"\"\n",
    "                <script type=\"text/javascript\">\n",
    "                    window.open(\"{next_notebook_url}\", \"_blank\");\n",
    "                </script>\n",
    "            \"\"\"))\n",
    "        \n",
    "        \n",
    "#         display(HTML(f'''\n",
    "#             <button onclick=\"window.open('{next_notebook_url}', '_blank')\">Go to Next Notebook</button>\n",
    "#         '''))\n"
   ]
  },
  {
   "cell_type": "code",
   "execution_count": 35,
   "id": "5304ee60",
   "metadata": {},
   "outputs": [],
   "source": [
    "file_name_submit_button.on_click(on_file_button_clicked)"
   ]
  },
  {
   "cell_type": "code",
   "execution_count": 36,
   "id": "88a0f788",
   "metadata": {},
   "outputs": [
    {
     "data": {
      "application/vnd.jupyter.widget-view+json": {
       "model_id": "9a379f6f04a141e09806795b8bdd0ebf",
       "version_major": 2,
       "version_minor": 0
      },
      "text/plain": [
       "Button(description='Submit', layout=Layout(border_bottom='1px solid black', border_left='1px solid black', bor…"
      ]
     },
     "metadata": {},
     "output_type": "display_data"
    },
    {
     "data": {
      "application/vnd.jupyter.widget-view+json": {
       "model_id": "6ecded2d349a42f28ca2043fc5d7f9d2",
       "version_major": 2,
       "version_minor": 0
      },
      "text/plain": [
       "Output()"
      ]
     },
     "metadata": {},
     "output_type": "display_data"
    }
   ],
   "source": [
    "display(file_name_submit_button, footer_output)"
   ]
  },
  {
   "cell_type": "code",
   "execution_count": 22,
   "id": "342a467e",
   "metadata": {},
   "outputs": [],
   "source": [
    "# from IPython.display import HTML\n",
    "\n",
    "# # Construct URL to the next notebook with parameters\n",
    "# next_notebook_url = f'cookies1.ipynb?filename={filename}'\n",
    "\n",
    "# # Create a button that opens the link in a new tab\n",
    "# HTML(f'''\n",
    "#     <button onclick=\"window.open('{next_notebook_url}', '_blank')\">Go to Next Notebook</button>\n",
    "# ''')\n"
   ]
  },
  {
   "cell_type": "code",
   "execution_count": null,
   "id": "b0ba91e1",
   "metadata": {},
   "outputs": [],
   "source": []
  }
 ],
 "metadata": {
  "kernelspec": {
   "display_name": "Python 3 (ipykernel)",
   "language": "python",
   "name": "python3"
  },
  "language_info": {
   "codemirror_mode": {
    "name": "ipython",
    "version": 3
   },
   "file_extension": ".py",
   "mimetype": "text/x-python",
   "name": "python",
   "nbconvert_exporter": "python",
   "pygments_lexer": "ipython3",
   "version": "3.12.7"
  }
 },
 "nbformat": 4,
 "nbformat_minor": 5
}
