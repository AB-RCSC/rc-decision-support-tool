{
 "cells": [
  {
   "cell_type": "code",
   "execution_count": 2,
   "id": "f2dd0e2d",
   "metadata": {},
   "outputs": [],
   "source": [
    "# from IPython.display import Javascript, display\n",
    "# import json\n",
    "# import os\n",
    "\n",
    "# # Directory where the JSON files will be stored\n",
    "# fingerprint_dir = \"fingerprints/\"\n",
    "\n",
    "# if not os.path.exists(fingerprint_dir):\n",
    "#     os.makedirs(fingerprint_dir)\n",
    "\n",
    "# # JS to generate fingerprint and store it in a variable\n",
    "# js_code = \"\"\"\n",
    "# async function getFingerprint() {\n",
    "#     const fpPromise = import('https://cdn.jsdelivr.net/npm/@fingerprintjs/fingerprintjs@3/dist/fp.min.js')\n",
    "#         .then(FingerprintJS => FingerprintJS.load())\n",
    "#         .then(fp => fp.get());\n",
    "#     return fpPromise;\n",
    "# }\n",
    "# getFingerprint().then(fingerprint => {\n",
    "#     let fingerprintId = fingerprint.visitorId;\n",
    "#     if (window.Jupyter) {\n",
    "#         // Send the fingerprint back to Python kernel\n",
    "#         Jupyter.notebook.kernel.execute(`fingerprint = \"${fingerprintId}\"`);\n",
    "#     }\n",
    "# });\n",
    "# \"\"\"\n",
    "\n",
    "# # Run JavaScript in Jupyter Notebook\n",
    "# display(Javascript(js_code))\n",
    "\n",
    "# # After fingerprint is captured, the Python code will continue"
   ]
  },
  {
   "cell_type": "code",
   "execution_count": 2,
   "id": "9e162dec",
   "metadata": {},
   "outputs": [
    {
     "data": {
      "application/javascript": [
       "alert(\"JavaScript is working!\")"
      ],
      "text/plain": [
       "<IPython.core.display.Javascript object>"
      ]
     },
     "metadata": {},
     "output_type": "display_data"
    }
   ],
   "source": [
    "# from IPython.display import Javascript\n",
    "\n",
    "# display(Javascript('alert(\"JavaScript is working!\")'))"
   ]
  },
  {
   "cell_type": "code",
   "execution_count": null,
   "id": "0275944b",
   "metadata": {},
   "outputs": [],
   "source": []
  },
  {
   "cell_type": "code",
   "execution_count": 1,
   "id": "ab3a0e49",
   "metadata": {},
   "outputs": [
    {
     "data": {
      "text/html": [
       "\n",
       "<script src=\"https://cdn.jsdelivr.net/npm/@fingerprintjs/fingerprintjs@3/dist/fp.min.js\"></script>\n",
       "\n",
       "<script type=\"text/javascript\">\n",
       "// Load the FingerprintJS agent\n",
       "FingerprintJS.load().then(fp => {\n",
       "  // Get the visitor identifier when the agent is ready\n",
       "  fp.get().then(result => {\n",
       "    const fingerprint = result.visitorId;\n",
       "\n",
       "    // Pass the fingerprint back to Python\n",
       "    var kernel = IPython.notebook.kernel;\n",
       "    var command = \"save_fingerprint_to_json('\" + fingerprint + \"')\";\n",
       "    kernel.execute(command);\n",
       "  });\n",
       "});\n",
       "</script>\n"
      ],
      "text/plain": [
       "<IPython.core.display.HTML object>"
      ]
     },
     "metadata": {},
     "output_type": "display_data"
    }
   ],
   "source": [
    "import json\n",
    "import os\n",
    "from IPython.display import display, HTML, Javascript\n",
    "from datetime import datetime\n",
    "\n",
    "# Create a directory to store fingerprint JSON files\n",
    "if not os.path.exists(\"fingerprints\"):\n",
    "    os.makedirs(\"fingerprints\")\n",
    "\n",
    "    \n",
    "# Global variable to store the fingerprint\n",
    "fingerprint_variable = None\n",
    "fingerprint_filepath = None\n",
    "    \n",
    "# JavaScript to capture fingerprint and send it to Python\n",
    "fingerprint_js = \"\"\"\n",
    "<script src=\"https://cdn.jsdelivr.net/npm/@fingerprintjs/fingerprintjs@3/dist/fp.min.js\"></script>\n",
    "\n",
    "<script type=\"text/javascript\">\n",
    "// Load the FingerprintJS agent\n",
    "FingerprintJS.load().then(fp => {\n",
    "  // Get the visitor identifier when the agent is ready\n",
    "  fp.get().then(result => {\n",
    "    const fingerprint = result.visitorId;\n",
    "\n",
    "    // Pass the fingerprint back to Python\n",
    "    var kernel = IPython.notebook.kernel;\n",
    "    var command = \"save_fingerprint_to_json('\" + fingerprint + \"')\";\n",
    "    kernel.execute(command);\n",
    "  });\n",
    "});\n",
    "</script>\n",
    "\"\"\"\n",
    "\n",
    "# Display the JavaScript in the notebook\n",
    "display(HTML(fingerprint_js))\n",
    "\n",
    "def save_fingerprint_to_json(fingerprint):\n",
    "    global fingerprint_variable  # Use the global variable\n",
    "    global fingerprint_filepath\n",
    "\n",
    "    # Prepare the data to save in the JSON file\n",
    "    data = {\n",
    "        'fingerprint': fingerprint,\n",
    "        'timestamp': datetime.now().strftime(\"%Y-%m-%d %H:%M:%S\")\n",
    "    }\n",
    "    \n",
    "    # Define the file path based on the fingerprint\n",
    "    folder_path = 'fingerprints/'\n",
    "    file_path = f'fingerprints/{fingerprint}.json'\n",
    "    \n",
    "    # Store the fingerprint in the global variable\n",
    "    fingerprint_variable = fingerprint\n",
    "    fingerprint_filepath = file_path\n",
    "    \n",
    "    # Save the data to the JSON file\n",
    "    with open(file_path, 'w') as f:\n",
    "        json.dump(data, f, indent=4)\n",
    "    \n",
    "    # Confirmation message in the notebook\n",
    "    print(\"Fingerprint saved to\", {file_path})\n",
    "\n",
    "\n",
    "display(HTML(fingerprint_js))"
   ]
  },
  {
   "cell_type": "code",
   "execution_count": 2,
   "id": "ccf892d0",
   "metadata": {},
   "outputs": [
    {
     "data": {
      "text/plain": [
       "'fingerprint'"
      ]
     },
     "metadata": {},
     "output_type": "display_data"
    }
   ],
   "source": [
    "# display(fingerprint_variable)"
   ]
  },
  {
   "cell_type": "code",
   "execution_count": null,
   "id": "a9604eb6",
   "metadata": {},
   "outputs": [],
   "source": []
  }
 ],
 "metadata": {
  "kernelspec": {
   "display_name": "Python 3 (ipykernel)",
   "language": "python",
   "name": "python3"
  },
  "language_info": {
   "codemirror_mode": {
    "name": "ipython",
    "version": 3
   },
   "file_extension": ".py",
   "mimetype": "text/x-python",
   "name": "python",
   "nbconvert_exporter": "python",
   "pygments_lexer": "ipython3",
   "version": "3.12.3"
  }
 },
 "nbformat": 4,
 "nbformat_minor": 5
}
