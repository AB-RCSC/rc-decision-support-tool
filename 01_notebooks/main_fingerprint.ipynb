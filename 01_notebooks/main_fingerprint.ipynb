{
 "cells": [
  {
   "cell_type": "code",
   "execution_count": 1,
   "id": "f2dd0e2d",
   "metadata": {},
   "outputs": [],
   "source": [
    "# from IPython.display import Javascript, display\n",
    "# import json\n",
    "# import os\n",
    "\n",
    "# # Directory where the JSON files will be stored\n",
    "# fingerprint_dir = \"fingerprints/\"\n",
    "\n",
    "# if not os.path.exists(fingerprint_dir):\n",
    "#     os.makedirs(fingerprint_dir)\n",
    "\n",
    "# # JS to generate fingerprint and store it in a variable\n",
    "# js_code = \"\"\"\n",
    "# async function getFingerprint() {\n",
    "#     const fpPromise = import('https://cdn.jsdelivr.net/npm/@fingerprintjs/fingerprintjs@3/dist/fp.min.js')\n",
    "#         .then(FingerprintJS => FingerprintJS.load())\n",
    "#         .then(fp => fp.get());\n",
    "#     return fpPromise;\n",
    "# }\n",
    "# getFingerprint().then(fingerprint => {\n",
    "#     let fingerprintId = fingerprint.visitorId;\n",
    "#     if (window.Jupyter) {\n",
    "#         // Send the fingerprint back to Python kernel\n",
    "#         Jupyter.notebook.kernel.execute(`fingerprint = \"${fingerprintId}\"`);\n",
    "#     }\n",
    "# });\n",
    "# \"\"\"\n",
    "\n",
    "# # Run JavaScript in Jupyter Notebook\n",
    "# display(Javascript(js_code))\n",
    "\n",
    "# # After fingerprint is captured, the Python code will continue"
   ]
  },
  {
   "cell_type": "code",
   "execution_count": 2,
   "id": "9e162dec",
   "metadata": {},
   "outputs": [],
   "source": [
    "# from IPython.display import Javascript\n",
    "\n",
    "# display(Javascript('alert(\"JavaScript is working!\")'))"
   ]
  },
  {
   "cell_type": "code",
   "execution_count": 5,
   "id": "0c32e1e5",
   "metadata": {},
   "outputs": [
    {
     "data": {
      "application/javascript": [
       "\n",
       "var script = document.createElement('script');\n",
       "script.src = '/static/fp.min.js';\n",
       "console.log(script.src)\n",
       "script.onload = function() {\n",
       "    FingerprintJS.load().then(fp => {\n",
       "        // Get the visitor identifier\n",
       "        fp.get().then(result => {\n",
       "            const fingerprint = result.visitorId;\n",
       "            console.log(fingerprint);\n",
       "            \n",
       "            // Pass the fingerprint back to Python\n",
       "            var kernel = IPython.notebook.kernel;\n",
       "            var command = \"save_fingerprint_to_json('\" + fingerprint + \"')\";\n",
       "            kernel.execute(command);\n",
       "        });\n",
       "    });\n",
       "};\n",
       "document.head.appendChild(script);\n"
      ],
      "text/plain": [
       "<IPython.core.display.Javascript object>"
      ]
     },
     "metadata": {},
     "output_type": "display_data"
    },
    {
     "data": {
      "application/javascript": [
       "\n",
       "var script = document.createElement('script');\n",
       "script.src = '/static/fp.min.js';\n",
       "console.log(script.src)\n",
       "script.onload = function() {\n",
       "    FingerprintJS.load().then(fp => {\n",
       "        // Get the visitor identifier\n",
       "        fp.get().then(result => {\n",
       "            const fingerprint = result.visitorId;\n",
       "            console.log(fingerprint);\n",
       "            \n",
       "            // Pass the fingerprint back to Python\n",
       "            var kernel = IPython.notebook.kernel;\n",
       "            var command = \"save_fingerprint_to_json('\" + fingerprint + \"')\";\n",
       "            kernel.execute(command);\n",
       "        });\n",
       "    });\n",
       "};\n",
       "document.head.appendChild(script);\n"
      ],
      "text/plain": [
       "<IPython.core.display.Javascript object>"
      ]
     },
     "metadata": {},
     "output_type": "display_data"
    }
   ],
   "source": [
    "# import json\n",
    "# import os\n",
    "# from IPython.display import display, HTML, Javascript\n",
    "# from datetime import datetime\n",
    "\n",
    "# # Create a directory to store fingerprint JSON files\n",
    "# if not os.path.exists(\"fingerprints\"):\n",
    "#     os.makedirs(\"fingerprints\")\n",
    "\n",
    "    \n",
    "# # Global variable to store the fingerprint\n",
    "# fingerprint_variable = None\n",
    "# fingerprint_filepath = None\n",
    "    \n",
    "# # JavaScript to capture fingerprint and send it to Python\n",
    "# # fingerprint_js = \"\"\"\n",
    "# # <script src=\"https://cdn.jsdelivr.net/npm/@fingerprintjs/fingerprintjs@3/dist/fp.min.js\"></script>\n",
    "\n",
    "# # <script type=\"text/javascript\">\n",
    "# # // Load the FingerprintJS agent\n",
    "# # FingerprintJS.load().then(fp => {\n",
    "# #   // Get the visitor identifier when the agent is ready\n",
    "# #   fp.get().then(result => {\n",
    "# #     const fingerprint = result.visitorId;\n",
    "# #      console.log(fingerprint);\n",
    "# #     // Pass the fingerprint back to Python\n",
    "# #     var kernel = IPython.notebook.kernel;\n",
    "# #     var command = \"save_fingerprint_to_json('\" + fingerprint + \"')\";\n",
    "# #     kernel.execute(command);\n",
    "# #   });\n",
    "# # });\n",
    "# # </script>\n",
    "# # \"\"\"\n",
    "\n",
    "\n",
    "\n",
    "# fingerprint_js = \"\"\"\n",
    "# var script = document.createElement('script');\n",
    "# script.src = \"https://cdn.jsdelivr.net/npm/@fingerprintjs/fingerprintjs@3/dist/fp.min.js\";\n",
    "# console.log(script.src)\n",
    "# script.onload = function() {\n",
    "#     FingerprintJS.load().then(fp => {\n",
    "#         // Get the visitor identifier\n",
    "#         fp.get().then(result => {\n",
    "#             const fingerprint = result.visitorId;\n",
    "#             console.log(fingerprint);\n",
    "            \n",
    "#             // Pass the fingerprint back to Python\n",
    "#             var kernel = IPython.notebook.kernel;\n",
    "#             var command = \"save_fingerprint_to_json('\" + fingerprint + \"')\";\n",
    "#             kernel.execute(command);\n",
    "#         });\n",
    "#     });\n",
    "# };\n",
    "# document.head.appendChild(script);\n",
    "# \"\"\"\n",
    "\n",
    "# # Display the JavaScript in the notebook\n",
    "# display(Javascript(fingerprint_js))\n",
    "\n",
    "# def save_fingerprint_to_json(fingerprint):\n",
    "#     global fingerprint_variable  # Use the global variable\n",
    "#     global fingerprint_filepath\n",
    "\n",
    "#     # Prepare the data to save in the JSON file\n",
    "#     data = {\n",
    "#         'fingerprint': fingerprint,\n",
    "#         'timestamp': datetime.now().strftime(\"%Y-%m-%d %H:%M:%S\")\n",
    "#     }\n",
    "    \n",
    "#     # Define the file path based on the fingerprint\n",
    "#     folder_path = 'fingerprints/'\n",
    "#     file_path = f'fingerprints/{fingerprint}.json'\n",
    "    \n",
    "#     # Store the fingerprint in the global variable\n",
    "#     fingerprint_variable = fingerprint\n",
    "#     fingerprint_filepath = file_path\n",
    "    \n",
    "#     # Save the data to the JSON file\n",
    "#     with open(file_path, 'w') as f:\n",
    "#         json.dump(data, f, indent=4)\n",
    "    \n",
    "#     # Confirmation message in the notebook\n",
    "#     print(\"Fingerprint saved to\", {file_path})\n",
    "\n",
    "\n",
    "# display(Javascript(fingerprint_js))\n",
    "# # display(fingerprint_variable)"
   ]
  },
  {
   "cell_type": "code",
   "execution_count": null,
   "id": "7dc266b3",
   "metadata": {},
   "outputs": [],
   "source": []
  },
  {
   "cell_type": "code",
   "execution_count": null,
   "id": "52ec9cd2",
   "metadata": {},
   "outputs": [],
   "source": []
  },
  {
   "cell_type": "code",
   "execution_count": null,
   "id": "113eb8fa",
   "metadata": {},
   "outputs": [],
   "source": []
  },
  {
   "cell_type": "code",
   "execution_count": null,
   "id": "df663d3a",
   "metadata": {},
   "outputs": [],
   "source": []
  },
  {
   "cell_type": "code",
   "execution_count": null,
   "id": "6c84c2cc",
   "metadata": {},
   "outputs": [],
   "source": []
  },
  {
   "cell_type": "code",
   "execution_count": null,
   "id": "0698f1f9",
   "metadata": {},
   "outputs": [],
   "source": [
    "### FINGERPRINT WITH PYTHON-----------------------------------------------------"
   ]
  },
  {
   "cell_type": "code",
   "execution_count": 15,
   "id": "21a86431",
   "metadata": {},
   "outputs": [
    {
     "name": "stdout",
     "output_type": "stream",
     "text": [
      "processor:  AMD64 Family 25 Model 68 Stepping 1, AuthenticAMD\n",
      "Generated Fingerprint: 9661af9212d16ccd73f213b3ebc5389b7b6cc97c8453e9943120706cb24d9587\n"
     ]
    },
    {
     "data": {
      "text/plain": [
       "'9661af9212d16ccd73f213b3ebc5389b7b6cc97c8453e9943120706cb24d9587'"
      ]
     },
     "metadata": {},
     "output_type": "display_data"
    }
   ],
   "source": [
    "from IPython.display import display, HTML, Javascript\n",
    "import hashlib\n",
    "import platform\n",
    "import uuid\n",
    "\n",
    "# Function to generate a fingerprint using system details\n",
    "def generate_fingerprint():\n",
    "    system_info = {\n",
    "        'platform': platform.system(),\n",
    "        'platform_release': platform.release(),\n",
    "        'platform_version': platform.version(),\n",
    "        'machine': platform.machine(),\n",
    "        'processor': platform.processor(),\n",
    "        'uuid': str(uuid.getnode())  # MAC address\n",
    "    }\n",
    "    print(\"processor: \", system_info[\"processor\"])\n",
    "    \n",
    "    # Concatenate the system information into a single string\n",
    "    fingerprint_data = ''.join(system_info.values())\n",
    "    \n",
    "    # Hash the concatenated string to create a unique fingerprint\n",
    "    fingerprint_hash = hashlib.sha256(fingerprint_data.encode()).hexdigest()\n",
    "    \n",
    "    return fingerprint_hash\n",
    "\n",
    "# Generate and print the fingerprint\n",
    "fingerprint = generate_fingerprint()\n",
    "print(f\"Generated Fingerprint: {fingerprint}\")\n",
    "# display(fingerprint)\n"
   ]
  },
  {
   "cell_type": "code",
   "execution_count": 18,
   "id": "ff6f1c70",
   "metadata": {},
   "outputs": [
    {
     "name": "stdout",
     "output_type": "stream",
     "text": [
      "Fingerprint stored in: new_fingerprints/9661af9212d16ccd73f213b3ebc5389b7b6cc97c8453e9943120706cb24d9587.json\n"
     ]
    }
   ],
   "source": [
    "import os\n",
    "import json\n",
    "\n",
    "# Function to store the fingerprint in a JSON file\n",
    "def save_fingerprint_to_json(fingerprint):\n",
    "    json_file = f\"new_fingerprints/{fingerprint}.json\"\n",
    "    \n",
    "    # Check if the file already exists (to avoid overwriting)\n",
    "    if not os.path.exists(json_file):\n",
    "        # Create a new JSON file to store the fingerprint\n",
    "        with open(json_file, 'w') as f:\n",
    "            json.dump({\"fingerprint\": fingerprint}, f)\n",
    "    \n",
    "    return json_file\n",
    "\n",
    "# Save the fingerprint\n",
    "json_filename = save_fingerprint_to_json(fingerprint)\n",
    "print(f\"Fingerprint stored in: {json_filename}\")\n"
   ]
  },
  {
   "cell_type": "code",
   "execution_count": null,
   "id": "6494e05f",
   "metadata": {},
   "outputs": [],
   "source": []
  }
 ],
 "metadata": {
  "kernelspec": {
   "display_name": "Python 3 (ipykernel)",
   "language": "python",
   "name": "python3"
  },
  "language_info": {
   "codemirror_mode": {
    "name": "ipython",
    "version": 3
   },
   "file_extension": ".py",
   "mimetype": "text/x-python",
   "name": "python",
   "nbconvert_exporter": "python",
   "pygments_lexer": "ipython3",
   "version": "3.12.7"
  }
 },
 "nbformat": 4,
 "nbformat_minor": 5
}
