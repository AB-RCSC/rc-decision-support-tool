{
 "cells": [
  {
   "cell_type": "code",
   "execution_count": 1,
   "id": "f2dd0e2d",
   "metadata": {},
   "outputs": [],
   "source": [
    "# from IPython.display import Javascript, display\n",
    "# import json\n",
    "# import os\n",
    "\n",
    "# # Directory where the JSON files will be stored\n",
    "# fingerprint_dir = \"fingerprints/\"\n",
    "\n",
    "# if not os.path.exists(fingerprint_dir):\n",
    "#     os.makedirs(fingerprint_dir)\n",
    "\n",
    "# # JS to generate fingerprint and store it in a variable\n",
    "# js_code = \"\"\"\n",
    "# async function getFingerprint() {\n",
    "#     const fpPromise = import('https://cdn.jsdelivr.net/npm/@fingerprintjs/fingerprintjs@3/dist/fp.min.js')\n",
    "#         .then(FingerprintJS => FingerprintJS.load())\n",
    "#         .then(fp => fp.get());\n",
    "#     return fpPromise;\n",
    "# }\n",
    "# getFingerprint().then(fingerprint => {\n",
    "#     let fingerprintId = fingerprint.visitorId;\n",
    "#     if (window.Jupyter) {\n",
    "#         // Send the fingerprint back to Python kernel\n",
    "#         Jupyter.notebook.kernel.execute(`fingerprint = \"${fingerprintId}\"`);\n",
    "#     }\n",
    "# });\n",
    "# \"\"\"\n",
    "\n",
    "# # Run JavaScript in Jupyter Notebook\n",
    "# display(Javascript(js_code))\n",
    "\n",
    "# # After fingerprint is captured, the Python code will continue"
   ]
  },
  {
   "cell_type": "code",
   "execution_count": 2,
   "id": "9e162dec",
   "metadata": {},
   "outputs": [],
   "source": [
    "# from IPython.display import Javascript\n",
    "\n",
    "# display(Javascript('alert(\"JavaScript is working!\")'))"
   ]
  },
  {
   "cell_type": "code",
   "execution_count": null,
   "id": "0c32e1e5",
   "metadata": {},
   "outputs": [],
   "source": [
    "# import json\n",
    "# import os\n",
    "# from IPython.display import display, HTML, Javascript\n",
    "# from datetime import datetime\n",
    "\n",
    "# # Create a directory to store fingerprint JSON files\n",
    "# if not os.path.exists(\"fingerprints\"):\n",
    "#     os.makedirs(\"fingerprints\")\n",
    "\n",
    "    \n",
    "# # Global variable to store the fingerprint\n",
    "# fingerprint_variable = None\n",
    "# fingerprint_filepath = None\n",
    "    \n",
    "# # JavaScript to capture fingerprint and send it to Python\n",
    "# # fingerprint_js = \"\"\"\n",
    "# # <script src=\"https://cdn.jsdelivr.net/npm/@fingerprintjs/fingerprintjs@3/dist/fp.min.js\"></script>\n",
    "\n",
    "# # <script type=\"text/javascript\">\n",
    "# # // Load the FingerprintJS agent\n",
    "# # FingerprintJS.load().then(fp => {\n",
    "# #   // Get the visitor identifier when the agent is ready\n",
    "# #   fp.get().then(result => {\n",
    "# #     const fingerprint = result.visitorId;\n",
    "# #      console.log(fingerprint);\n",
    "# #     // Pass the fingerprint back to Python\n",
    "# #     var kernel = IPython.notebook.kernel;\n",
    "# #     var command = \"save_fingerprint_to_json('\" + fingerprint + \"')\";\n",
    "# #     kernel.execute(command);\n",
    "# #   });\n",
    "# # });\n",
    "# # </script>\n",
    "# # \"\"\"\n",
    "\n",
    "\n",
    "\n",
    "# fingerprint_js = \"\"\"\n",
    "# var script = document.createElement('script');\n",
    "# script.src = 'https://cdn.jsdelivr.net/npm/@fingerprintjs/fingerprintjs@3/dist/fp.min.js';\n",
    "# script.onload = function() {\n",
    "#     FingerprintJS.load().then(fp => {\n",
    "#         // Get the visitor identifier\n",
    "#         fp.get().then(result => {\n",
    "#             const fingerprint = result.visitorId;\n",
    "#             console.log(fingerprint);\n",
    "            \n",
    "#             // Pass the fingerprint back to Python\n",
    "#             var kernel = IPython.notebook.kernel;\n",
    "#             var command = \"save_fingerprint_to_json('\" + fingerprint + \"')\";\n",
    "#             kernel.execute(command);\n",
    "#         });\n",
    "#     });\n",
    "# };\n",
    "# document.head.appendChild(script);\n",
    "# \"\"\"\n",
    "\n",
    "# # Display the JavaScript in the notebook\n",
    "# display(Javascript(fingerprint_js))\n",
    "\n",
    "# def save_fingerprint_to_json(fingerprint):\n",
    "#     global fingerprint_variable  # Use the global variable\n",
    "#     global fingerprint_filepath\n",
    "\n",
    "#     # Prepare the data to save in the JSON file\n",
    "#     data = {\n",
    "#         'fingerprint': fingerprint,\n",
    "#         'timestamp': datetime.now().strftime(\"%Y-%m-%d %H:%M:%S\")\n",
    "#     }\n",
    "    \n",
    "#     # Define the file path based on the fingerprint\n",
    "#     folder_path = 'fingerprints/'\n",
    "#     file_path = f'fingerprints/{fingerprint}.json'\n",
    "    \n",
    "#     # Store the fingerprint in the global variable\n",
    "#     fingerprint_variable = fingerprint\n",
    "#     fingerprint_filepath = file_path\n",
    "    \n",
    "#     # Save the data to the JSON file\n",
    "#     with open(file_path, 'w') as f:\n",
    "#         json.dump(data, f, indent=4)\n",
    "    \n",
    "#     # Confirmation message in the notebook\n",
    "#     print(\"Fingerprint saved to\", {file_path})\n",
    "\n",
    "\n",
    "# display(Javascript(fingerprint_js))\n",
    "# # display(fingerprint_variable)"
   ]
  },
  {
   "cell_type": "code",
   "execution_count": null,
   "id": "7dc266b3",
   "metadata": {},
   "outputs": [],
   "source": []
  },
  {
   "cell_type": "code",
   "execution_count": null,
   "id": "52ec9cd2",
   "metadata": {},
   "outputs": [],
   "source": []
  },
  {
   "cell_type": "code",
   "execution_count": null,
   "id": "113eb8fa",
   "metadata": {},
   "outputs": [],
   "source": []
  },
  {
   "cell_type": "code",
   "execution_count": null,
   "id": "df663d3a",
   "metadata": {},
   "outputs": [],
   "source": []
  },
  {
   "cell_type": "code",
   "execution_count": null,
   "id": "6c84c2cc",
   "metadata": {},
   "outputs": [],
   "source": []
  },
  {
   "cell_type": "code",
   "execution_count": null,
   "id": "0698f1f9",
   "metadata": {},
   "outputs": [],
   "source": []
  },
  {
   "cell_type": "code",
   "execution_count": null,
   "id": "21a86431",
   "metadata": {},
   "outputs": [],
   "source": []
  },
  {
   "cell_type": "code",
   "execution_count": null,
   "id": "341e352f",
   "metadata": {},
   "outputs": [],
   "source": []
  },
  {
   "cell_type": "code",
   "execution_count": null,
   "id": "1e0aea8e",
   "metadata": {},
   "outputs": [],
   "source": []
  },
  {
   "cell_type": "code",
   "execution_count": null,
   "id": "e85d1a93",
   "metadata": {},
   "outputs": [],
   "source": []
  },
  {
   "cell_type": "code",
   "execution_count": null,
   "id": "a8b6d4c0",
   "metadata": {},
   "outputs": [],
   "source": []
  },
  {
   "cell_type": "code",
   "execution_count": null,
   "id": "0275944b",
   "metadata": {},
   "outputs": [],
   "source": []
  },
  {
   "cell_type": "code",
   "execution_count": 16,
   "id": "ab3a0e49",
   "metadata": {},
   "outputs": [
    {
     "data": {
      "application/javascript": [
       "\n",
       "var script = document.createElement('script');\n",
       "script.src = 'https://cdn.jsdelivr.net/npm/@fingerprintjs/fingerprintjs@3/dist/fp.min.js';\n",
       "script.onload = function() {\n",
       "    FingerprintJS.load().then(fp => {\n",
       "        // Get the visitor identifier\n",
       "        fp.get().then(result => {\n",
       "            const fingerprint = result.visitorId;\n",
       "            console.log(fingerprint);\n",
       "            \n",
       "            // Store the fingerprint in the hidden input widget\n",
       "            document.getElementById('fingerprint_input').value = fingerprint;\n",
       "        });\n",
       "    });\n",
       "};\n",
       "document.head.appendChild(script);\n"
      ],
      "text/plain": [
       "<IPython.core.display.Javascript object>"
      ]
     },
     "metadata": {},
     "output_type": "display_data"
    },
    {
     "data": {
      "application/javascript": [
       "\n",
       "var script = document.createElement('script');\n",
       "script.src = 'https://cdn.jsdelivr.net/npm/@fingerprintjs/fingerprintjs@3/dist/fp.min.js';\n",
       "script.onload = function() {\n",
       "    FingerprintJS.load().then(fp => {\n",
       "        // Get the visitor identifier\n",
       "        fp.get().then(result => {\n",
       "            const fingerprint = result.visitorId;\n",
       "            console.log(fingerprint);\n",
       "            \n",
       "            // Store the fingerprint in the hidden input widget\n",
       "            document.getElementById('fingerprint_input').value = fingerprint;\n",
       "        });\n",
       "    });\n",
       "};\n",
       "document.head.appendChild(script);\n"
      ],
      "text/plain": [
       "<IPython.core.display.Javascript object>"
      ]
     },
     "metadata": {},
     "output_type": "display_data"
    }
   ],
   "source": [
    "# ### EXPERIMENTING-------------------------------\n",
    "\n",
    "# import json\n",
    "# import os\n",
    "# from IPython.display import display, HTML, Javascript\n",
    "# from datetime import datetime\n",
    "\n",
    "# # Create a directory to store fingerprint JSON files\n",
    "# if not os.path.exists(\"fingerprints\"):\n",
    "#     os.makedirs(\"fingerprints\")\n",
    "\n",
    "    \n",
    "# # Global variable to store the fingerprint\n",
    "# fingerprint_variable = None\n",
    "# fingerprint_filepath = None\n",
    "    \n",
    "# # JavaScript to capture fingerprint and send it to Python\n",
    "# # fingerprint_js = \"\"\"\n",
    "# # <script src=\"https://cdn.jsdelivr.net/npm/@fingerprintjs/fingerprintjs@3/dist/fp.min.js\"></script>\n",
    "\n",
    "# # <script type=\"text/javascript\">\n",
    "# # // Load the FingerprintJS agent\n",
    "# # FingerprintJS.load().then(fp => {\n",
    "# #   // Get the visitor identifier when the agent is ready\n",
    "# #   fp.get().then(result => {\n",
    "# #     const fingerprint = result.visitorId;\n",
    "# #      console.log(fingerprint);\n",
    "# #     // Pass the fingerprint back to Python\n",
    "# #     var kernel = IPython.notebook.kernel;\n",
    "# #     var command = \"save_fingerprint_to_json('\" + fingerprint + \"')\";\n",
    "# #     kernel.execute(command);\n",
    "# #   });\n",
    "# # });\n",
    "# # </script>\n",
    "# # \"\"\"\n",
    "\n",
    "\n",
    "\n",
    "# fingerprint_js = \"\"\"\n",
    "# var script = document.createElement('script');\n",
    "# script.src = 'https://cdn.jsdelivr.net/npm/@fingerprintjs/fingerprintjs@3/dist/fp.min.js';\n",
    "# script.onload = function() {\n",
    "#     FingerprintJS.load().then(fp => {\n",
    "#         // Get the visitor identifier\n",
    "#         fp.get().then(result => {\n",
    "#             const fingerprint = result.visitorId;\n",
    "#             console.log(fingerprint);\n",
    "            \n",
    "#             // Pass the fingerprint back to Python\n",
    "#             var kernel = IPython.notebook.kernel;\n",
    "#             var command = \"save_fingerprint_to_json('\" + fingerprint + \"')\";\n",
    "#             kernel.execute(command);\n",
    "#         });\n",
    "#     });\n",
    "# };\n",
    "# document.head.appendChild(script);\n",
    "# \"\"\"\n",
    "\n",
    "# # Display the JavaScript in the notebook\n",
    "# display(Javascript(fingerprint_js))\n",
    "\n",
    "# def save_fingerprint_to_json(fingerprint):\n",
    "#     global fingerprint_variable  # Use the global variable\n",
    "#     global fingerprint_filepath\n",
    "\n",
    "#     # Prepare the data to save in the JSON file\n",
    "#     data = {\n",
    "#         'fingerprint': fingerprint,\n",
    "#         'timestamp': datetime.now().strftime(\"%Y-%m-%d %H:%M:%S\")\n",
    "#     }\n",
    "    \n",
    "#     # Define the file path based on the fingerprint\n",
    "#     folder_path = 'fingerprints/'\n",
    "#     file_path = f'fingerprints/{fingerprint}.json'\n",
    "    \n",
    "#     # Store the fingerprint in the global variable\n",
    "#     fingerprint_variable = fingerprint\n",
    "#     fingerprint_filepath = file_path\n",
    "    \n",
    "#     # Save the data to the JSON file\n",
    "#     with open(file_path, 'w') as f:\n",
    "#         json.dump(data, f, indent=4)\n",
    "    \n",
    "#     # Confirmation message in the notebook\n",
    "#     print(\"Fingerprint saved to\", {file_path})\n",
    "\n",
    "\n",
    "# display(Javascript(fingerprint_js))\n",
    "# # display(fingerprint_variable)"
   ]
  },
  {
   "cell_type": "code",
   "execution_count": 17,
   "id": "ccf892d0",
   "metadata": {},
   "outputs": [
    {
     "data": {
      "text/plain": [
       "None"
      ]
     },
     "metadata": {},
     "output_type": "display_data"
    }
   ],
   "source": [
    "# display(fingerprint_variable)"
   ]
  },
  {
   "cell_type": "code",
   "execution_count": 8,
   "id": "4a3d1aae",
   "metadata": {},
   "outputs": [
    {
     "data": {
      "application/vnd.jupyter.widget-view+json": {
       "model_id": "3f13035f98054e30bf0b3d1a7272f5f7",
       "version_major": 2,
       "version_minor": 0
      },
      "text/plain": [
       "Button(description='Run JavaScript', style=ButtonStyle())"
      ]
     },
     "metadata": {},
     "output_type": "display_data"
    },
    {
     "data": {
      "application/vnd.jupyter.widget-view+json": {
       "model_id": "7dfa937f898748d586aaef2aef3a1ea2",
       "version_major": 2,
       "version_minor": 0
      },
      "text/plain": [
       "Output()"
      ]
     },
     "metadata": {},
     "output_type": "display_data"
    }
   ],
   "source": [
    "# import ipywidgets as widgets\n",
    "# from IPython.display import display, Javascript\n",
    "\n",
    "# # Create a button\n",
    "# button = widgets.Button(description=\"Run JavaScript\")\n",
    "\n",
    "# # Create an Output widget\n",
    "# output = widgets.Output()\n",
    "\n",
    "# # Define the function to run JavaScript on button click\n",
    "# def on_button_click(b):\n",
    "#     with output:\n",
    "#         display(Javascript(\"\"\"\n",
    "#             console.log('JavaScript executed on button click in Voila!');\n",
    "#             alert('Button clicked! Running JavaScript!');\n",
    "#         \"\"\"))\n",
    "\n",
    "# # Link the button click event to the function\n",
    "# button.on_click(on_button_click)\n",
    "\n",
    "# # Display the button and output widget\n",
    "# display(button, output)\n"
   ]
  },
  {
   "cell_type": "code",
   "execution_count": 20,
   "id": "b50bcece",
   "metadata": {},
   "outputs": [
    {
     "data": {
      "application/vnd.jupyter.widget-view+json": {
       "model_id": "61c9d7e5531642b1be9c063384a6d816",
       "version_major": 2,
       "version_minor": 0
      },
      "text/plain": [
       "HTML(value='\\n    \\n<script src=\"https://cdn.jsdelivr.net/npm/@fingerprintjs/fingerprintjs@3/dist/fp.min.js\"><…"
      ]
     },
     "metadata": {},
     "output_type": "display_data"
    },
    {
     "data": {
      "application/vnd.jupyter.widget-view+json": {
       "model_id": "7712d01a1fed4cc1bbbc60f5dab03035",
       "version_major": 2,
       "version_minor": 0
      },
      "text/plain": [
       "Text(value='', layout=Layout(display='none'))"
      ]
     },
     "metadata": {},
     "output_type": "display_data"
    }
   ],
   "source": [
    "import json\n",
    "import os\n",
    "import ipywidgets as widgets\n",
    "from IPython.display import display\n",
    "from datetime import datetime\n",
    "\n",
    "# Create a directory to store fingerprint JSON files\n",
    "if not os.path.exists(\"fingerprints\"):\n",
    "    os.makedirs(\"fingerprints\")\n",
    "\n",
    "# Function to save the fingerprint to JSON\n",
    "def save_fingerprint_to_json(fingerprint):\n",
    "    # Prepare the data to save in the JSON file\n",
    "    data = {\n",
    "        'fingerprint': fingerprint,\n",
    "        'timestamp': datetime.now().strftime(\"%Y-%m-%d %H:%M:%S\")\n",
    "    }\n",
    "\n",
    "    # Define the file path based on the fingerprint\n",
    "    file_path = f'fingerprints/{fingerprint}.json'\n",
    "\n",
    "    # Save the data to the JSON file\n",
    "    with open(file_path, 'w') as f:\n",
    "        json.dump(data, f, indent=4)\n",
    "\n",
    "    # Confirmation message in the notebook\n",
    "    print(f\"Fingerprint saved to {file_path}\")\n",
    "\n",
    "# JavaScript to capture the fingerprint and store it in a hidden input field\n",
    "fingerprint_js = \"\"\"\n",
    "<script src=\"https://cdn.jsdelivr.net/npm/@fingerprintjs/fingerprintjs@3/dist/fp.min.js\"></script>\n",
    "<script type=\"text/javascript\">\n",
    "    FingerprintJS.load().then(fp => {\n",
    "        fp.get().then(result => {\n",
    "            const fingerprint = result.visitorId;\n",
    "            console.log(fingerprint);\n",
    "            \n",
    "            // Store the fingerprint in the hidden input widget\n",
    "            document.getElementById('fingerprint_input').value = fingerprint;\n",
    "\n",
    "            // Trigger a Python callback when the fingerprint is captured\n",
    "            var input_event = new Event('input', { bubbles: true });\n",
    "            document.getElementById('fingerprint_input').dispatchEvent(input_event);\n",
    "        });\n",
    "    });\n",
    "</script>\n",
    "\"\"\"\n",
    "\n",
    "# Create an HTML widget that injects the fingerprint JavaScript\n",
    "html_widget = widgets.HTML(f\"\"\"\n",
    "    {fingerprint_js}\n",
    "    <input type=\"hidden\" id=\"fingerprint_input\" value=\"\"/>\n",
    "\"\"\")\n",
    "\n",
    "# Create a hidden input widget to store the fingerprint (linked to the JS input field)\n",
    "fingerprint_input = widgets.Text(value='', layout=widgets.Layout(display='none'))\n",
    "\n",
    "# Callback function to be triggered when the value of fingerprint_input changes\n",
    "def on_fingerprint_change(change):\n",
    "    fingerprint = change['new']  # Get the new value from the change event\n",
    "    if fingerprint:\n",
    "        save_fingerprint_to_json(fingerprint)  # Save the fingerprint to a JSON file\n",
    "\n",
    "# Attach the callback to the fingerprint_input widget\n",
    "fingerprint_input.observe(on_fingerprint_change, names='value')\n",
    "\n",
    "# Display the widgets in Voila\n",
    "display(html_widget, fingerprint_input)\n"
   ]
  },
  {
   "cell_type": "code",
   "execution_count": null,
   "id": "389ac26b",
   "metadata": {},
   "outputs": [],
   "source": []
  }
 ],
 "metadata": {
  "kernelspec": {
   "display_name": "Python 3 (ipykernel)",
   "language": "python",
   "name": "python3"
  },
  "language_info": {
   "codemirror_mode": {
    "name": "ipython",
    "version": 3
   },
   "file_extension": ".py",
   "mimetype": "text/x-python",
   "name": "python",
   "nbconvert_exporter": "python",
   "pygments_lexer": "ipython3",
   "version": "3.12.7"
  }
 },
 "nbformat": 4,
 "nbformat_minor": 5
}
