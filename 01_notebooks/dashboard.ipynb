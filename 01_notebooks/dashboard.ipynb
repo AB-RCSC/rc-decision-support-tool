{
 "cells": [
  {
   "cell_type": "code",
   "execution_count": 6,
   "id": "7dd2e128",
   "metadata": {},
   "outputs": [],
   "source": [
    "import warnings\n",
    "warnings.filterwarnings('ignore')\n",
    "\n",
    "import os\n",
    "import re\n",
    "import json\n",
    "import pandas as pd\n",
    "import ipywidgets as widgets\n",
    "from IPython.display import display, Javascript, clear_output, HTML"
   ]
  },
  {
   "cell_type": "code",
   "execution_count": 7,
   "id": "65b9c1db",
   "metadata": {},
   "outputs": [],
   "source": [
    "def get_css_class(css_file, class_name):\n",
    "    with open(css_file, 'r') as file:\n",
    "        css = file.read()\n",
    "        # Use regex to extract the class\n",
    "        pattern = r'\\.' + re.escape(class_name) + r'\\s*\\{([^}]*)\\}'\n",
    "        match = re.search(pattern, css, re.DOTALL)\n",
    "        if match:\n",
    "            css_content = match.group(1).strip()\n",
    "            return f'\\n<style>\\n.{class_name} {{\\n{css_content}\\n}}\\n</style>\\n'\n",
    "        else:\n",
    "            return None"
   ]
  },
  {
   "cell_type": "code",
   "execution_count": 8,
   "id": "6db6da9e",
   "metadata": {},
   "outputs": [],
   "source": [
    "css_path = \"../css/style.css\""
   ]
  },
  {
   "cell_type": "code",
   "execution_count": 9,
   "id": "90465d1b",
   "metadata": {},
   "outputs": [],
   "source": [
    "# Custom CSS to modify the question button design\n",
    "ques_widget_css = get_css_class(css_path, 'ques-widget')"
   ]
  },
  {
   "cell_type": "code",
   "execution_count": 30,
   "id": "84dd5507",
   "metadata": {},
   "outputs": [],
   "source": [
    "# # Your JSON data as a string\n",
    "# file_path = \"../data_files/json/CYOA_modified.json\"\n",
    "\n",
    "# # Open and read the JSON file\n",
    "# with open(file_path, \"r\") as file:\n",
    "#     parsed_data = json.load(file)\n",
    "\n",
    "# # # Parse the JSON string\n",
    "# # parsed_data = json.loads(data)\n",
    "\n",
    "# # Extract \"Text\" and \"posAnswers\" for each branch\n",
    "# dt_branches = parsed_data[\"DT_Branches\"]\n",
    "\n",
    "# for branch_id, branch_content in dt_branches.items():\n",
    "#     text = branch_content[\"Text\"]\n",
    "#     pos_answers = branch_content[\"posAnswers\"]\n",
    "#     print(f\"Branch ID: {branch_id}\")\n",
    "#     print(f\"Text: {text}\")\n",
    "#     print(f\"Possible Answers: {pos_answers}\")\n",
    "#     print()  # Blank line for better readability\n"
   ]
  },
  {
   "cell_type": "code",
   "execution_count": 31,
   "id": "309a4765",
   "metadata": {},
   "outputs": [],
   "source": [
    "# Your JSON data as a string\n",
    "file_path = \"../data_files/json/CYOA_modified.json\"\n",
    "questions = []\n",
    "\n",
    "# Open and read the JSON file\n",
    "with open(file_path, \"r\") as file:\n",
    "    parsed_data = json.load(file)\n",
    "    \n",
    "# Extract \"Text\" and \"posAnswers\" for each branch\n",
    "dt_branches = parsed_data[\"DT_Branches\"]\n",
    "\n",
    "for branch_id, branch_content in dt_branches.items():\n",
    "    text = branch_content[\"Text\"]\n",
    "    questions.append(text)\n",
    "#     pos_answers = branch_content[\"posAnswers\"]\n"
   ]
  },
  {
   "cell_type": "code",
   "execution_count": 47,
   "id": "9f092994",
   "metadata": {},
   "outputs": [
    {
     "data": {
      "text/plain": [
       "'Do you want to \\n (1) Answer a specific question? \\n (2) Collect monitoring data \\n (3) Input a set of layers \\n (B) Back\\n'"
      ]
     },
     "execution_count": 47,
     "metadata": {},
     "output_type": "execute_result"
    }
   ],
   "source": [
    "# questions[0]"
   ]
  },
  {
   "cell_type": "code",
   "execution_count": 44,
   "id": "c26e3018",
   "metadata": {},
   "outputs": [],
   "source": [
    "from ipywidgets import GridspecLayout, HTML, Layout\n",
    "\n",
    "# Function to create a question widget\n",
    "def create_question_widget(ques):\n",
    "    question_html = f\"\"\"\n",
    "    <div class=\"ques-widget\">\n",
    "        <p>{ques}</p>\n",
    "    </div>\n",
    "    \"\"\"\n",
    "    return HTML(value=question_html, layout=Layout(width='auto', height='auto', padding='5px'))\n",
    "\n",
    "# Create a 3x4 grid layout\n",
    "grid = GridspecLayout(3, 4, height='auto', width = 'auto')\n",
    "\n",
    "# Add the question widgets to the grid\n",
    "for i in range(3):  # Rows\n",
    "    for j in range(4):  # Columns\n",
    "        question_index = i * 4 + j\n",
    "        grid[i, j] = create_question_widget(questions[question_index])\n"
   ]
  },
  {
   "cell_type": "code",
   "execution_count": 45,
   "id": "cffcca1c",
   "metadata": {},
   "outputs": [],
   "source": [
    "css_widget = widgets.HTML(value=ques_widget_css)"
   ]
  },
  {
   "cell_type": "code",
   "execution_count": 46,
   "id": "fc1d1f70",
   "metadata": {},
   "outputs": [
    {
     "data": {
      "application/vnd.jupyter.widget-view+json": {
       "model_id": "6d802a0690984c58aa28ee70b49a7494",
       "version_major": 2,
       "version_minor": 0
      },
      "text/plain": [
       "GridspecLayout(children=(HTML(value='\\n    <div class=\"ques-widget\">\\n        <p>Do you want to \\n (1) Answer …"
      ]
     },
     "metadata": {},
     "output_type": "display_data"
    },
    {
     "data": {
      "application/vnd.jupyter.widget-view+json": {
       "model_id": "eccd556b83474070a618891b5ac53886",
       "version_major": 2,
       "version_minor": 0
      },
      "text/plain": [
       "HTML(value='\\n<style>\\n.ques-widget {\\nbackground-color: #DAE8FC;\\n    color: black;\\n    font-size: 15px;\\n  …"
      ]
     },
     "metadata": {},
     "output_type": "display_data"
    }
   ],
   "source": [
    "display(grid, css_widget)"
   ]
  },
  {
   "cell_type": "code",
   "execution_count": null,
   "id": "76d8af28",
   "metadata": {},
   "outputs": [],
   "source": []
  }
 ],
 "metadata": {
  "kernelspec": {
   "display_name": "Python 3 (ipykernel)",
   "language": "python",
   "name": "python3"
  },
  "language_info": {
   "codemirror_mode": {
    "name": "ipython",
    "version": 3
   },
   "file_extension": ".py",
   "mimetype": "text/x-python",
   "name": "python",
   "nbconvert_exporter": "python",
   "pygments_lexer": "ipython3",
   "version": "3.11.11"
  }
 },
 "nbformat": 4,
 "nbformat_minor": 5
}
