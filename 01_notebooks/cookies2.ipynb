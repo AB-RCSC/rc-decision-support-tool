{
 "cells": [
  {
   "cell_type": "code",
   "execution_count": 1,
   "id": "c6488319",
   "metadata": {},
   "outputs": [],
   "source": [
    "# import os\n",
    "# import json\n",
    "# from IPython.display import display, Javascript\n",
    "\n",
    "# # Function to load the user's file based on their UID\n",
    "# def load_user_file(uid):\n",
    "#     json_path = os.path.join(json_dir, f\"{uid}.json\")\n",
    "#     if os.path.exists(json_path):\n",
    "#         with open(json_path, \"r\") as f:\n",
    "#             data = json.load(f)\n",
    "#         print(f\"Loaded data for UID {uid}: {data}\")\n",
    "#     else:\n",
    "#         print(f\"No file found for UID: {uid}\")\n",
    "\n",
    "# # JavaScript code to retrieve the user's uid from their cookies\n",
    "# get_cookie_js = \"\"\"\n",
    "# (function() {\n",
    "#     var uid = document.cookie.split('; ').find(row => row.startsWith('uid='));\n",
    "#     if (uid) {\n",
    "#         var existingUid = uid.split('=')[1];\n",
    "#         console.log(existingUid)\n",
    "#         var command = \"load_user_file('\" + existingUid + \"')\";\n",
    "#         console.log(command)\n",
    "#         var kernel = IPython.notebook.kernel;\n",
    "#         kernel.execute(command);\n",
    "#     }\n",
    "# })();\n",
    "# \"\"\"\n",
    "\n",
    "# # Display the JavaScript to get the cookie\n",
    "# display(Javascript(get_cookie_js))\n",
    "\n"
   ]
  },
  {
   "cell_type": "code",
   "execution_count": null,
   "id": "3546c576",
   "metadata": {},
   "outputs": [],
   "source": []
  },
  {
   "cell_type": "code",
   "execution_count": 2,
   "id": "e9cc3393",
   "metadata": {},
   "outputs": [],
   "source": [
    "# from IPython.display import display, HTML\n",
    "# import os\n",
    "\n",
    "# # JavaScript to retrieve the fingerprint from the user's browser\n",
    "# display(HTML(\"\"\"\n",
    "# <script>\n",
    "#     function getCookie(name) {\n",
    "#         const value = `; ${document.cookie}`;\n",
    "#         const parts = value.split(`; ${name}=`);\n",
    "#         if (parts.length === 2) return parts.pop().split(';').shift();\n",
    "#     }\n",
    "\n",
    "#     // Retrieve the fingerprint cookie\n",
    "#     const fingerprint = getCookie('fingerprint');\n",
    "#     if (fingerprint) {\n",
    "#         document.body.innerHTML = `<p>User Fingerprint: ${fingerprint}</p>`;\n",
    "#     } else {\n",
    "#         document.body.innerHTML = `<p>No fingerprint found</p>`;\n",
    "#     }\n",
    "# </script>\n",
    "# \"\"\"))\n"
   ]
  },
  {
   "cell_type": "code",
   "execution_count": null,
   "id": "82a4917f",
   "metadata": {},
   "outputs": [],
   "source": []
  },
  {
   "cell_type": "code",
   "execution_count": null,
   "id": "1992328a",
   "metadata": {},
   "outputs": [],
   "source": []
  },
  {
   "cell_type": "code",
   "execution_count": null,
   "id": "cb17710c",
   "metadata": {},
   "outputs": [],
   "source": []
  },
  {
   "cell_type": "code",
   "execution_count": 3,
   "id": "bcba3e4b",
   "metadata": {},
   "outputs": [],
   "source": [
    "# from urllib.parse import parse_qs\n",
    "# from IPython.display import display, HTML\n",
    "# import os\n",
    "\n",
    "# # Retrieve query string from environment variable\n",
    "# query_string = os.environ.get('QUERY_STRING', '')  # Voila sets this when rendering\n",
    "# query_params = parse_qs(query_string)\n",
    "\n",
    "# # Access parameters\n",
    "# value1 = query_params.get('value1', [''])[0]  # Default to empty string if not present\n",
    "# value2 = query_params.get('value2', [''])[0]\n",
    "\n",
    "# # Display values\n",
    "# display(HTML(f\"<p>Value 1: {value1}</p>\"))\n",
    "# display(HTML(f\"<p>Value 2: {value2}</p>\"))\n"
   ]
  },
  {
   "cell_type": "code",
   "execution_count": null,
   "id": "fc48c56a",
   "metadata": {},
   "outputs": [],
   "source": []
  },
  {
   "cell_type": "code",
   "execution_count": null,
   "id": "7418ec82",
   "metadata": {},
   "outputs": [],
   "source": []
  },
  {
   "cell_type": "code",
   "execution_count": null,
   "id": "4a978fe3",
   "metadata": {},
   "outputs": [],
   "source": []
  },
  {
   "cell_type": "code",
   "execution_count": null,
   "id": "7d15b32c",
   "metadata": {},
   "outputs": [],
   "source": []
  },
  {
   "cell_type": "code",
   "execution_count": null,
   "id": "77ab2165",
   "metadata": {},
   "outputs": [],
   "source": []
  },
  {
   "cell_type": "code",
   "execution_count": 4,
   "id": "d523dcac",
   "metadata": {},
   "outputs": [],
   "source": [
    "# from IPython.display import display, Javascript, HTML\n",
    "\n",
    "# # JavaScript to generate fingerprint and open the link in a new tab\n",
    "# fingerprint_js = \"\"\"\n",
    "# var script = document.createElement('script');\n",
    "# script.src = \"https://cdn.jsdelivr.net/npm/@fingerprintjs/fingerprintjs@3/dist/fp.min.js\";\n",
    "# script.onload = function() {\n",
    "#     FingerprintJS.load().then(fp => {\n",
    "#         // Generate the fingerprint\n",
    "#         fp.get().then(result => {\n",
    "#             const fingerprint = result.visitorId;\n",
    "#             console.log(\"Fingerprint generated:\", fingerprint);\n",
    "\n",
    "#             // Retrieve the fingerprint from the URL query parameter\n",
    "#             var urlParams = new URLSearchParams(window.location.search);\n",
    "#             var retrievedFingerprint = urlParams.get('fingerprint');\n",
    "\n",
    "#             // Compare the generated fingerprint with the retrieved one\n",
    "#             if (fingerprint === retrievedFingerprint) {\n",
    "#                 console.log(\"Fingerprints match!\");\n",
    "#             } else {\n",
    "#                 console.log(\"Fingerprints do not match!\");\n",
    "#             }\n",
    "\n",
    "#         }).catch(error => {\n",
    "#             console.error(\"Error generating fingerprint:\", error);\n",
    "#         });\n",
    "#     }).catch(error => {\n",
    "#         console.error(\"Error loading FingerprintJS:\", error);\n",
    "#     });\n",
    "# };\n",
    "# document.head.appendChild(script);\n",
    "# \"\"\"\n",
    "\n",
    "# # Inject the JavaScript into the notebook\n",
    "# display(Javascript(fingerprint_js))\n"
   ]
  },
  {
   "cell_type": "code",
   "execution_count": null,
   "id": "26c7e67f",
   "metadata": {},
   "outputs": [],
   "source": []
  },
  {
   "cell_type": "code",
   "execution_count": null,
   "id": "fc261a8a",
   "metadata": {},
   "outputs": [],
   "source": []
  },
  {
   "cell_type": "code",
   "execution_count": 5,
   "id": "7b3a5ff1",
   "metadata": {},
   "outputs": [],
   "source": [
    "# using get method"
   ]
  },
  {
   "cell_type": "code",
   "execution_count": 6,
   "id": "c3b4b40a",
   "metadata": {},
   "outputs": [],
   "source": [
    "# from urllib.parse import parse_qs\n",
    "# from IPython.display import display, HTML\n",
    "# import os\n",
    "\n",
    "# # Function to get query parameters\n",
    "# def get_query_parameters():\n",
    "#     # Extract query parameters from the URL\n",
    "#     query_string = os.environ.get('QUERY_STRING', '')  # Voila sets this when rendering\n",
    "# #     print(query_string)\n",
    "#     query_params = parse_qs(query_string)\n",
    "#     return query_params\n",
    "\n",
    "# # Get parameters\n",
    "# params = get_query_parameters()\n",
    "# name = params.get(\"name\", [\"Unknown\"])[0]\n",
    "# print(name)"
   ]
  },
  {
   "cell_type": "code",
   "execution_count": 7,
   "id": "ad676268",
   "metadata": {},
   "outputs": [],
   "source": [
    "# def display_form():\n",
    "#     form_html = f\"\"\"\n",
    "#     <form action=\"cookies3.ipynb\" method=\"get\" target=\"_blank\">\n",
    "#         <label for=\"age\">Enter your age:</label>\n",
    "#         <input type=\"number\" id=\"age\" name=\"age\"><br>\n",
    "\n",
    "#         <!-- Hidden input field to append \"a=10\" -->\n",
    "#         <input type=\"hidden\" id=\"name\" name=\"name\" value=\"{name}\">\n",
    "\n",
    "#         <button type=\"submit\">Submit</button>\n",
    "#     </form>\n",
    "#     \"\"\"\n",
    "#     display(HTML(form_html))\n",
    "    \n",
    "# display_form()"
   ]
  },
  {
   "cell_type": "code",
   "execution_count": null,
   "id": "df1aff57",
   "metadata": {},
   "outputs": [],
   "source": []
  },
  {
   "cell_type": "code",
   "execution_count": null,
   "id": "5a9aed3a",
   "metadata": {},
   "outputs": [],
   "source": []
  },
  {
   "cell_type": "code",
   "execution_count": null,
   "id": "27f82550",
   "metadata": {},
   "outputs": [],
   "source": []
  },
  {
   "cell_type": "code",
   "execution_count": 8,
   "id": "6ba546b2",
   "metadata": {},
   "outputs": [],
   "source": [
    "# from urllib.parse import parse_qs\n",
    "# from IPython.display import display, HTML\n",
    "# import os\n",
    "\n",
    "# # Function to get query parameters\n",
    "# def get_query_parameters():\n",
    "#     # Extract query parameters from the URL\n",
    "#     query_string = os.environ.get('QUERY_STRING', '')  # Voila sets this when rendering\n",
    "# #     print(query_string)\n",
    "#     query_params = parse_qs(query_string)\n",
    "#     return query_params\n",
    "\n",
    "# # Get parameters\n",
    "# params = get_query_parameters()\n",
    "# name = params.get(\"filename\", [\"Unknown\"])[0]\n",
    "# print(name)"
   ]
  },
  {
   "cell_type": "code",
   "execution_count": null,
   "id": "c71630b9",
   "metadata": {},
   "outputs": [],
   "source": []
  },
  {
   "cell_type": "code",
   "execution_count": null,
   "id": "3571a7e4",
   "metadata": {},
   "outputs": [],
   "source": []
  },
  {
   "cell_type": "code",
   "execution_count": null,
   "id": "597b6d61",
   "metadata": {},
   "outputs": [],
   "source": []
  },
  {
   "cell_type": "code",
   "execution_count": null,
   "id": "8347af87",
   "metadata": {},
   "outputs": [],
   "source": []
  },
  {
   "cell_type": "code",
   "execution_count": 9,
   "id": "7ea01eeb",
   "metadata": {},
   "outputs": [],
   "source": [
    "import warnings\n",
    "warnings.filterwarnings('ignore')\n",
    "\n",
    "import os\n",
    "import re\n",
    "import json\n",
    "import webbrowser\n",
    "import pandas as pd\n",
    "import ipywidgets as widgets\n",
    "from datetime import datetime\n",
    "from ipywidgets import AppLayout, Button, Layout\n",
    "from ipywidgets import Button, Layout, jslink, IntText, IntSlider\n",
    "from IPython.display import display, Javascript, Markdown, clear_output, HTML\n",
    "from ipywidgets import GridspecLayout\n",
    "from markdown_it import MarkdownIt"
   ]
  },
  {
   "cell_type": "code",
   "execution_count": 10,
   "id": "2a7d8be7",
   "metadata": {},
   "outputs": [
    {
     "name": "stdout",
     "output_type": "stream",
     "text": [
      "Unknown\n"
     ]
    }
   ],
   "source": [
    "from urllib.parse import parse_qs\n",
    "from IPython.display import display, HTML\n",
    "import os\n",
    "\n",
    "# Function to get query parameters\n",
    "def get_query_parameters():\n",
    "    # Extract query parameters from the URL\n",
    "    query_string = os.environ.get('QUERY_STRING', '')  # Voila sets this when rendering\n",
    "#     print(query_string)\n",
    "    query_params = parse_qs(query_string)\n",
    "    return query_params\n",
    "\n",
    "# Get parameters\n",
    "params = get_query_parameters()\n",
    "filename = params.get(\"filename\", [\"Unknown\"])[0]\n",
    "print(filename)"
   ]
  },
  {
   "cell_type": "code",
   "execution_count": 18,
   "id": "e234cda3",
   "metadata": {},
   "outputs": [],
   "source": [
    "path = f\"../new_data_files/json/{filename}_storage.json\""
   ]
  },
  {
   "cell_type": "code",
   "execution_count": 20,
   "id": "c9d4c4de",
   "metadata": {},
   "outputs": [],
   "source": [
    "with open(path, \"r\") as f:\n",
    "    stored_choices = json.load(f)"
   ]
  },
  {
   "cell_type": "code",
   "execution_count": 15,
   "id": "0f93d8dc",
   "metadata": {},
   "outputs": [],
   "source": [
    "age = widgets.IntText(\n",
    "    value=0,\n",
    "    placeholder='Enter your age',\n",
    "    description='Number:',\n",
    "    disabled=False   \n",
    ")"
   ]
  },
  {
   "cell_type": "code",
   "execution_count": null,
   "id": "12a8d36b",
   "metadata": {},
   "outputs": [],
   "source": [
    "display(age)"
   ]
  },
  {
   "cell_type": "code",
   "execution_count": null,
   "id": "427d5c29",
   "metadata": {},
   "outputs": [],
   "source": [
    "# Create a buttons for submitting the file name\n",
    "file_name_submit_button = widgets.Button(description=\"Submit\", layout=widgets.Layout(border='1px solid black'))"
   ]
  },
  {
   "cell_type": "code",
   "execution_count": null,
   "id": "f23d5de0",
   "metadata": {},
   "outputs": [],
   "source": [
    "footer_output = widgets.Output()\n",
    "def on_file_button_clicked(event):\n",
    "    with footer_output:\n",
    "        clear_output()\n",
    "        global filename\n",
    "        \n",
    "        stored_choices[\"age\"] = age.value\n",
    "        \n",
    "        # Storing all the information\n",
    "        with open(path, \"w\") as f:\n",
    "            json.dump(stored_choices, f)\n",
    "            \n",
    "        print(\"Filename: \", filename)\n",
    "        next_note = \"cookies3.ipynb\"\n",
    "        # Construct URL to the next notebook with parameters\n",
    "        next_notebook_url = f'{next_note}?filename={filename}'\n",
    "        print(next_notebook_url)\n",
    "        display(HTML(f\"\"\"\n",
    "                <script type=\"text/javascript\">\n",
    "                    window.open(\"{next_notebook_url}\", \"_blank\");\n",
    "                </script>\n",
    "            \"\"\"))\n",
    "        \n",
    "#         display(HTML(f'''\n",
    "#             <button onclick=\"window.open('{next_notebook_url}', '_blank')\">Go to Next Notebook</button>\n",
    "#         '''))\n"
   ]
  },
  {
   "cell_type": "code",
   "execution_count": null,
   "id": "4489b1f1",
   "metadata": {},
   "outputs": [],
   "source": [
    "file_name_submit_button.on_click(on_file_button_clicked)"
   ]
  },
  {
   "cell_type": "code",
   "execution_count": null,
   "id": "dfdffcfe",
   "metadata": {},
   "outputs": [],
   "source": [
    "display(file_name_submit_button, footer_output)"
   ]
  },
  {
   "cell_type": "code",
   "execution_count": null,
   "id": "cc062bc1",
   "metadata": {},
   "outputs": [],
   "source": []
  },
  {
   "cell_type": "code",
   "execution_count": null,
   "id": "7791d402",
   "metadata": {},
   "outputs": [],
   "source": []
  },
  {
   "cell_type": "code",
   "execution_count": null,
   "id": "b50bf679",
   "metadata": {},
   "outputs": [],
   "source": []
  }
 ],
 "metadata": {
  "kernelspec": {
   "display_name": "Python 3 (ipykernel)",
   "language": "python",
   "name": "python3"
  },
  "language_info": {
   "codemirror_mode": {
    "name": "ipython",
    "version": 3
   },
   "file_extension": ".py",
   "mimetype": "text/x-python",
   "name": "python",
   "nbconvert_exporter": "python",
   "pygments_lexer": "ipython3",
   "version": "3.12.7"
  }
 },
 "nbformat": 4,
 "nbformat_minor": 5
}
