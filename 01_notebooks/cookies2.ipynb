{
 "cells": [
  {
   "cell_type": "code",
   "execution_count": 9,
   "id": "7ea01eeb",
   "metadata": {},
   "outputs": [],
   "source": [
    "import warnings\n",
    "warnings.filterwarnings('ignore')\n",
    "\n",
    "import os\n",
    "import re\n",
    "import json\n",
    "import pandas as pd\n",
    "import ipywidgets as widgets\n",
    "from IPython.display import display, Javascript, clear_output, HTML"
   ]
  },
  {
   "cell_type": "code",
   "execution_count": 10,
   "id": "2a7d8be7",
   "metadata": {},
   "outputs": [
    {
     "name": "stdout",
     "output_type": "stream",
     "text": [
      "Unknown\n"
     ]
    }
   ],
   "source": [
    "from urllib.parse import parse_qs\n",
    "from IPython.display import display, HTML\n",
    "import os\n",
    "\n",
    "# Function to get query parameters\n",
    "def get_query_parameters():\n",
    "    # Extract query parameters from the URL\n",
    "    query_string = os.environ.get('QUERY_STRING', '')  # Voila sets this when rendering\n",
    "    query_params = parse_qs(query_string)\n",
    "    return query_params\n",
    "\n",
    "# Get parameters\n",
    "params = get_query_parameters()\n",
    "filename = params.get(\"filename\", [\"Unknown\"])[0]"
   ]
  },
  {
   "cell_type": "code",
   "execution_count": 18,
   "id": "e234cda3",
   "metadata": {},
   "outputs": [],
   "source": [
    "path = f\"../new_data_files/json/{filename}_storage.json\""
   ]
  },
  {
   "cell_type": "code",
   "execution_count": 20,
   "id": "c9d4c4de",
   "metadata": {},
   "outputs": [],
   "source": [
    "with open(path, \"r\") as f:\n",
    "    stored_choices = json.load(f)"
   ]
  },
  {
   "cell_type": "code",
   "execution_count": 15,
   "id": "0f93d8dc",
   "metadata": {},
   "outputs": [],
   "source": [
    "age = widgets.IntText(\n",
    "    value=0,\n",
    "    placeholder='Enter your age',\n",
    "    description='Age:',\n",
    "    disabled=False   \n",
    ")"
   ]
  },
  {
   "cell_type": "code",
   "execution_count": null,
   "id": "12a8d36b",
   "metadata": {},
   "outputs": [],
   "source": [
    "display(age)"
   ]
  },
  {
   "cell_type": "code",
   "execution_count": null,
   "id": "427d5c29",
   "metadata": {},
   "outputs": [],
   "source": [
    "# Create a buttons for submitting the file name\n",
    "file_name_submit_button = widgets.Button(description=\"Submit\", layout=widgets.Layout(border='1px solid black'))"
   ]
  },
  {
   "cell_type": "code",
   "execution_count": null,
   "id": "f23d5de0",
   "metadata": {},
   "outputs": [],
   "source": [
    "footer_output = widgets.Output()\n",
    "def on_file_button_clicked(event):\n",
    "    with footer_output:\n",
    "        clear_output()\n",
    "        global filename\n",
    "        \n",
    "        stored_choices[\"age\"] = age.value\n",
    "        \n",
    "        # Storing all the information\n",
    "        with open(path, \"w\") as f:\n",
    "            json.dump(stored_choices, f)\n",
    "            \n",
    "        next_note = \"cookies3.ipynb\"\n",
    "        # Construct URL to the next notebook with parameters\n",
    "        next_notebook_url = f'{next_note}?filename={filename}'\n",
    "        display(HTML(f\"\"\"\n",
    "                <script type=\"text/javascript\">\n",
    "                    window.open(\"{next_notebook_url}\", \"_blank\");\n",
    "                </script>\n",
    "            \"\"\"))"
   ]
  },
  {
   "cell_type": "code",
   "execution_count": null,
   "id": "4489b1f1",
   "metadata": {},
   "outputs": [],
   "source": [
    "file_name_submit_button.on_click(on_file_button_clicked)"
   ]
  },
  {
   "cell_type": "code",
   "execution_count": null,
   "id": "dfdffcfe",
   "metadata": {},
   "outputs": [],
   "source": [
    "display(file_name_submit_button, footer_output)"
   ]
  },
  {
   "cell_type": "code",
   "execution_count": null,
   "id": "7a184c37",
   "metadata": {},
   "outputs": [],
   "source": []
  }
 ],
 "metadata": {
  "kernelspec": {
   "display_name": "Python 3 (ipykernel)",
   "language": "python",
   "name": "python3"
  },
  "language_info": {
   "codemirror_mode": {
    "name": "ipython",
    "version": 3
   },
   "file_extension": ".py",
   "mimetype": "text/x-python",
   "name": "python",
   "nbconvert_exporter": "python",
   "pygments_lexer": "ipython3",
   "version": "3.11.11"
  }
 },
 "nbformat": 4,
 "nbformat_minor": 5
}
