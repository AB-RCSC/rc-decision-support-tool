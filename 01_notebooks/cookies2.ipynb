{
 "cells": [
  {
   "cell_type": "code",
   "execution_count": 4,
   "id": "c6488319",
   "metadata": {},
   "outputs": [
    {
     "data": {
      "application/javascript": [
       "\n",
       "(function() {\n",
       "    var uid = document.cookie.split('; ').find(row => row.startsWith('uid='));\n",
       "    if (uid) {\n",
       "        var existingUid = uid.split('=')[1];\n",
       "        console.log(existingUid);\n",
       "        var command = \"load_user_file('\" + existingUid + \"')\";\n",
       "        var kernel = IPython.notebook.kernel;\n",
       "        kernel.execute(command);\n",
       "    }\n",
       "})();\n"
      ],
      "text/plain": [
       "<IPython.core.display.Javascript object>"
      ]
     },
     "metadata": {},
     "output_type": "display_data"
    }
   ],
   "source": [
    "import os\n",
    "import json\n",
    "from IPython.display import display, Javascript\n",
    "\n",
    "# JavaScript code to retrieve the user's uid from their cookies\n",
    "get_cookie_js = \"\"\"\n",
    "(function() {\n",
    "    var uid = document.cookie.split('; ').find(row => row.startsWith('uid='));\n",
    "    if (uid) {\n",
    "        var existingUid = uid.split('=')[1];\n",
    "        console.log(existingUid);\n",
    "        var command = \"load_user_file('\" + existingUid + \"')\";\n",
    "        var kernel = IPython.notebook.kernel;\n",
    "        kernel.execute(command);\n",
    "    }\n",
    "})();\n",
    "\"\"\"\n",
    "\n",
    "# Display the JavaScript to get the cookie\n",
    "display(Javascript(get_cookie_js))\n",
    "\n",
    "# Function to load the user's file based on their UID\n",
    "def load_user_file(uid):\n",
    "    json_path = os.path.join(json_dir, f\"{uid}.json\")\n",
    "    if os.path.exists(json_path):\n",
    "        with open(json_path, \"r\") as f:\n",
    "            data = json.load(f)\n",
    "        print(f\"Loaded data for UID {uid}: {data}\")\n",
    "    else:\n",
    "        print(f\"No file found for UID: {uid}\")\n",
    "\n"
   ]
  },
  {
   "cell_type": "code",
   "execution_count": null,
   "id": "f9c134dd",
   "metadata": {},
   "outputs": [],
   "source": []
  }
 ],
 "metadata": {
  "kernelspec": {
   "display_name": "Python 3 (ipykernel)",
   "language": "python",
   "name": "python3"
  },
  "language_info": {
   "codemirror_mode": {
    "name": "ipython",
    "version": 3
   },
   "file_extension": ".py",
   "mimetype": "text/x-python",
   "name": "python",
   "nbconvert_exporter": "python",
   "pygments_lexer": "ipython3",
   "version": "3.12.7"
  }
 },
 "nbformat": 4,
 "nbformat_minor": 5
}
