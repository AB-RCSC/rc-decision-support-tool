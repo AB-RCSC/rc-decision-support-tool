{
 "cells": [
  {
   "cell_type": "code",
   "execution_count": 1,
   "id": "d908b7a7",
   "metadata": {},
   "outputs": [],
   "source": [
    "# !pip install tornado"
   ]
  },
  {
   "cell_type": "code",
   "execution_count": 2,
   "id": "fee06003",
   "metadata": {},
   "outputs": [],
   "source": [
    "# from notebook.utils import url_path_join\n",
    "# from tornado.web import RequestHandler\n",
    "\n",
    "# # To store the IP address in a variable\n",
    "# ip_address = None\n",
    "\n",
    "# # Function to retrieve the user's IP address from the request object\n",
    "# def get_ip_address():\n",
    "#     global ip_address\n",
    "#     try:\n",
    "#         ip_address = RequestHandler._request_summary(RequestHandler).split(' ')[-1]\n",
    "#         print(f\"IP Address captured: {ip_address}\")\n",
    "#     except Exception as e:\n",
    "#         print(f\"Error retrieving IP address: {e}\")\n",
    "\n",
    "# # Call the function to capture the IP address\n",
    "# get_ip_address()\n",
    "\n",
    "# # You can now use the `ip_address` variable anywhere in your notebook\n",
    "# print(f\"Captured IP Address: {ip_address}\")\n"
   ]
  },
  {
   "cell_type": "code",
   "execution_count": 3,
   "id": "c8fac444",
   "metadata": {},
   "outputs": [],
   "source": [
    "# import json\n",
    "# from tornado import web, ioloop\n",
    "# from IPython.display import display, Javascript\n",
    "\n",
    "# class IPAddressHandler(web.RequestHandler):\n",
    "#     def get(self):\n",
    "#         # Capture the IP address\n",
    "#         ip_address = self.request.remote_ip\n",
    "#         self.write(json.dumps({\"ip_address\": ip_address}))\n",
    "\n",
    "# # Setup the Tornado application\n",
    "# def start_server():\n",
    "#     app = web.Application([\n",
    "#         (r\"/get-ip\", IPAddressHandler),\n",
    "#     ])\n",
    "#     app.listen(8888)  # You can change the port if needed\n",
    "#     print(\"Server running on http://localhost:8888/get-ip\")\n",
    "#     ioloop.IOLoop.current().start()\n",
    "\n",
    "# # Start the server\n",
    "# start_server()\n"
   ]
  },
  {
   "cell_type": "code",
   "execution_count": null,
   "id": "2e7253a2",
   "metadata": {},
   "outputs": [],
   "source": []
  },
  {
   "cell_type": "code",
   "execution_count": null,
   "id": "8c8ccd12",
   "metadata": {},
   "outputs": [],
   "source": []
  },
  {
   "cell_type": "code",
   "execution_count": null,
   "id": "bde0f2c9",
   "metadata": {},
   "outputs": [],
   "source": []
  },
  {
   "cell_type": "code",
   "execution_count": null,
   "id": "41a8c9cc",
   "metadata": {},
   "outputs": [],
   "source": []
  },
  {
   "cell_type": "code",
   "execution_count": 3,
   "id": "54e1b9b7",
   "metadata": {},
   "outputs": [],
   "source": [
    "# from flask import Flask, request, jsonify\n",
    "# import threading\n",
    "# import requests\n",
    "# from IPython.display import display, HTML\n",
    "\n",
    "# # Flask app to capture user IP address\n",
    "# app = Flask(__name__)\n",
    "\n",
    "# user_ip = None  # Global variable to store the user IP address\n",
    "\n",
    "# @app.route('/get_ip', methods=['GET'])\n",
    "# def get_ip():\n",
    "#     global user_ip\n",
    "#     user_ip = request.remote_addr\n",
    "#     return jsonify({'ip': user_ip})\n",
    "\n",
    "# def run_flask():\n",
    "#     app.run(host='0.0.0.0', port=5000)\n",
    "\n",
    "# # Start the Flask server in a separate thread\n",
    "# flask_thread = threading.Thread(target=run_flask)\n",
    "# flask_thread.start()\n",
    "\n",
    "# # Function to get the user IP by calling the Flask endpoint\n",
    "# def get_user_ip():\n",
    "#     try:\n",
    "#         # Call the Flask app running on localhost\n",
    "#         response = requests.get(\"http://127.0.0.1:5000/get_ip\")\n",
    "#         ip_data = response.json()\n",
    "\n",
    "#         # Display the IP address in the notebook\n",
    "#         ip_address_str = f\"User IP: {ip_data['ip']}\"\n",
    "#         display(HTML(f\"<b>{ip_address_str}</b>\"))\n",
    "\n",
    "#         # Optionally, save it in a file\n",
    "#         with open(\"users_ips.txt\", \"a\") as f:\n",
    "#             f.write(f\"{ip_data['ip']}\\n\")\n",
    "\n",
    "#     except Exception as e:\n",
    "#         print(f\"Error retrieving IP: {e}\")\n",
    "\n",
    "# # Get and display the user's IP address\n",
    "# get_user_ip()\n"
   ]
  },
  {
   "cell_type": "code",
   "execution_count": null,
   "id": "6106207b",
   "metadata": {},
   "outputs": [],
   "source": []
  },
  {
   "cell_type": "code",
   "execution_count": null,
   "id": "7e79f5cd",
   "metadata": {},
   "outputs": [],
   "source": []
  },
  {
   "cell_type": "code",
   "execution_count": null,
   "id": "da3218a1",
   "metadata": {},
   "outputs": [],
   "source": []
  },
  {
   "cell_type": "code",
   "execution_count": null,
   "id": "e63cd2b6",
   "metadata": {},
   "outputs": [],
   "source": []
  },
  {
   "cell_type": "code",
   "execution_count": null,
   "id": "f109ed01",
   "metadata": {},
   "outputs": [],
   "source": []
  },
  {
   "cell_type": "code",
   "execution_count": null,
   "id": "fdd80081",
   "metadata": {},
   "outputs": [],
   "source": [
    "from flask import Flask, request, jsonify\n",
    "import threading\n",
    "import requests\n",
    "from IPython.display import display, HTML\n",
    "\n",
    "# Flask app to capture user IP address\n",
    "app = Flask(__name__)\n",
    "\n",
    "user_ip = None  # Global variable to store the user IP address\n",
    "\n",
    "@app.route('/get_ip', methods=['GET'])\n",
    "def get_ip():\n",
    "    global user_ip\n",
    "    # Check if Nginx proxy headers exist and capture the real IP\n",
    "    if request.headers.get('X-Forwarded-For'):\n",
    "        user_ip = request.headers.getlist('X-Forwarded-For')[0]  # Real client IP behind Nginx\n",
    "    else:\n",
    "        user_ip = request.remote_addr  # Fallback if headers don't exist\n",
    "\n",
    "    return jsonify({'ip': user_ip})\n",
    "\n",
    "def run_flask():\n",
    "    # Run the Flask app, binding to all available IP addresses (0.0.0.0) on port 5000\n",
    "    app.run(host='0.0.0.0', port=5000)\n",
    "\n",
    "# Start the Flask server in a separate thread\n",
    "flask_thread = threading.Thread(target=run_flask)\n",
    "flask_thread.start()\n",
    "\n",
    "def get_user_ip():\n",
    "    try:\n",
    "        # Call the Flask app running on the server's public IP\n",
    "        response = requests.get(\"http://142.244.110.181/get_ip\", verify=False)\n",
    "\n",
    "        # Check if the response is not empty and is JSON\n",
    "        if response.status_code == 200 and response.headers['Content-Type'] == 'application/json':\n",
    "            ip_data = response.json()\n",
    "\n",
    "            # Display the IP address in the notebook\n",
    "            ip_address_str = f\"User IP: {ip_data['ip']}\"\n",
    "            display(HTML(f\"<b>{ip_address_str}</b>\"))\n",
    "\n",
    "            # Optionally, save it in a file\n",
    "            with open(\"users_ips.txt\", \"a\") as f:\n",
    "                f.write(f\"{ip_data['ip']}\\n\")\n",
    "        else:\n",
    "            print(\"Unexpected response or content type\")\n",
    "            print(f\"Raw response: {response.text}\")  # Debugging the response\n",
    "\n",
    "    except Exception as e:\n",
    "        print(f\"Error retrieving IP: {e}\")\n",
    "\n",
    "\n",
    "\n",
    "\n",
    "\n",
    "\n",
    "\n",
    "# # Function to get the user IP by calling the Flask endpoint\n",
    "# def get_user_ip():\n",
    "#     try:\n",
    "#         # Call the Flask app running behind the Nginx proxy (use server's public IP)\n",
    "#         response = requests.get(\"http://rc-decision-support-tool.ca/get_ip\")  # Use your server's public IP\n",
    "#         ip_data = response.json()\n",
    "\n",
    "#         # Display the IP address in the notebook\n",
    "#         ip_address_str = f\"User IP: {ip_data['ip']}\"\n",
    "#         display(HTML(f\"<b>{ip_address_str}</b>\"))\n",
    "\n",
    "#         # Optionally, save it in a file\n",
    "#         with open(\"users_ips.txt\", \"a\") as f:\n",
    "#             f.write(f\"{ip_data['ip']}\\n\")\n",
    "\n",
    "#     except Exception as e:\n",
    "#         print(f\"Error retrieving IP: {e}\")\n",
    "\n",
    "# Get and display the user's IP address\n",
    "get_user_ip()"
   ]
  },
  {
   "cell_type": "code",
   "execution_count": null,
   "id": "432b6003",
   "metadata": {},
   "outputs": [],
   "source": []
  },
  {
   "cell_type": "code",
   "execution_count": null,
   "id": "5638ce33",
   "metadata": {},
   "outputs": [],
   "source": []
  },
  {
   "cell_type": "code",
   "execution_count": null,
   "id": "f792939c",
   "metadata": {},
   "outputs": [],
   "source": []
  },
  {
   "cell_type": "code",
   "execution_count": null,
   "id": "74072f2b",
   "metadata": {},
   "outputs": [],
   "source": []
  },
  {
   "cell_type": "code",
   "execution_count": null,
   "id": "c7ee8b7f",
   "metadata": {},
   "outputs": [],
   "source": []
  },
  {
   "cell_type": "code",
   "execution_count": null,
   "id": "aeced482",
   "metadata": {},
   "outputs": [],
   "source": []
  },
  {
   "cell_type": "code",
   "execution_count": null,
   "id": "e49e0a33",
   "metadata": {},
   "outputs": [],
   "source": []
  },
  {
   "cell_type": "code",
   "execution_count": null,
   "id": "80ae7d3b",
   "metadata": {},
   "outputs": [],
   "source": []
  },
  {
   "cell_type": "code",
   "execution_count": null,
   "id": "16e25bf5",
   "metadata": {},
   "outputs": [],
   "source": []
  },
  {
   "cell_type": "code",
   "execution_count": 5,
   "id": "e2136c4a",
   "metadata": {},
   "outputs": [],
   "source": [
    "# from notebook.base.handlers import IPythonHandler\n",
    "\n",
    "# class IPHandler(IPythonHandler):\n",
    "#     def get(self):\n",
    "#         # Get the real IP address from the X-Real-IP header\n",
    "#         user_ip = self.request.headers.get(\"X-Real-IP\", self.request.remote_ip)\n",
    "#         self.write(f\"User IP is: {user_ip}\")\n"
   ]
  },
  {
   "cell_type": "code",
   "execution_count": 6,
   "id": "d8003f02",
   "metadata": {},
   "outputs": [],
   "source": [
    "# from voila.app import Voila\n",
    "\n",
    "# class MyVoilaApp(Voila):\n",
    "#     def init_webapp(self):\n",
    "#         super().init_webapp()\n",
    "#         self.web_app.add_handlers(r'.*', [\n",
    "#             (r\"/get-ip\", IPHandler),\n",
    "#         ])\n"
   ]
  },
  {
   "cell_type": "code",
   "execution_count": 7,
   "id": "ce15a358",
   "metadata": {},
   "outputs": [],
   "source": [
    "# import requests\n",
    "\n",
    "# response = requests.get('http://localhost:8888/get-ip')\n",
    "# print(response.text)  # This will show the user IP address"
   ]
  },
  {
   "cell_type": "code",
   "execution_count": null,
   "id": "c55a56d5",
   "metadata": {},
   "outputs": [],
   "source": []
  },
  {
   "cell_type": "code",
   "execution_count": 8,
   "id": "2cf1ea6a",
   "metadata": {},
   "outputs": [],
   "source": [
    "# from notebook.notebookapp import list_running_servers\n",
    "\n",
    "# # Get the Tornado application instance\n",
    "# app = list(list_running_servers())[0]  # First running server\n",
    "# web_app = app['app']\n",
    "\n",
    "# # Get registered Tornado handlers\n",
    "# for handler in web_app.wildcard_router.rules:\n",
    "#     print(handler.matcher.regex.pattern)\n"
   ]
  },
  {
   "cell_type": "code",
   "execution_count": 12,
   "id": "961a85df",
   "metadata": {},
   "outputs": [],
   "source": [
    "# import requests\n",
    "\n",
    "# response = requests.get('http://localhost:8888/get-ip')\n",
    "# print(response.text)\n"
   ]
  },
  {
   "cell_type": "code",
   "execution_count": null,
   "id": "6e2ae624",
   "metadata": {},
   "outputs": [],
   "source": [
    "# import requests\n",
    "\n",
    "# response = requests.get('https://192.168.11.204:8888/get-ip')\n",
    "# print(response.text)\n"
   ]
  },
  {
   "cell_type": "code",
   "execution_count": null,
   "id": "02aa0854",
   "metadata": {},
   "outputs": [],
   "source": [
    "# import requests\n",
    "\n",
    "# response = requests.get('http://142.244.110.181:8888/get-ip')\n",
    "# print(response.text)\n"
   ]
  },
  {
   "cell_type": "code",
   "execution_count": null,
   "id": "1323ba57",
   "metadata": {},
   "outputs": [],
   "source": [
    "# import requests\n",
    "\n",
    "# response = requests.get('https://rc-decision-support-tool.ca:8888/get-ip')\n",
    "# print(response.text)\n"
   ]
  },
  {
   "cell_type": "code",
   "execution_count": null,
   "id": "4b570078",
   "metadata": {},
   "outputs": [],
   "source": []
  },
  {
   "cell_type": "code",
   "execution_count": 5,
   "id": "d6ecd959",
   "metadata": {},
   "outputs": [],
   "source": [
    "# # SHOWS OUTPUT BUT NOT FOUND\n",
    "\n",
    "\n",
    "# import requests\n",
    "\n",
    "# response = requests.get('http://localhost:8866/get-ip')\n",
    "# print(response.text)"
   ]
  },
  {
   "cell_type": "code",
   "execution_count": null,
   "id": "16d519c1",
   "metadata": {},
   "outputs": [],
   "source": [
    "# import requests\n",
    "\n",
    "# response = requests.get('http://192.168.11.204:8866/get-ip')\n",
    "# print(response.text)\n"
   ]
  },
  {
   "cell_type": "code",
   "execution_count": null,
   "id": "34218f28",
   "metadata": {},
   "outputs": [],
   "source": [
    "## ERROR---- LOADS FOR LONGER THEN ERROR\n",
    "\n",
    "# import requests\n",
    "\n",
    "# response = requests.get('http://142.244.110.181:8866/get-ip')\n",
    "# print(response.text)\n"
   ]
  },
  {
   "cell_type": "code",
   "execution_count": null,
   "id": "19e2ec4a",
   "metadata": {},
   "outputs": [],
   "source": [
    "# ## ERROR---- LOADS FOR LONGER THEN ERROR\n",
    "\n",
    "\n",
    "# import requests\n",
    "\n",
    "# response = requests.get('https://rc-decision-support-tool.ca:8866/get-ip')\n",
    "# print(response.text)\n"
   ]
  },
  {
   "cell_type": "code",
   "execution_count": 3,
   "id": "3bf12616",
   "metadata": {},
   "outputs": [],
   "source": [
    "# from beaker.middleware import SessionMiddleware\n",
    "# from tornado.web import RequestHandler\n",
    "\n",
    "# session_opts = {\n",
    "#     'session.type': 'file',\n",
    "#     'session.data_dir': './data/sessions',\n",
    "#     'session.auto': True\n",
    "# }\n",
    "\n",
    "# # Wrap the Tornado application with session management\n",
    "# def make_app():\n",
    "#     return SessionMiddleware(Voila().webapp, session_opts)\n",
    "\n",
    "# class MainHandler(RequestHandler):\n",
    "#     def get(self):\n",
    "#         session = self.session\n",
    "#         session_id = session.id\n",
    "#         self.write(f\"Session ID: {session_id}\")\n",
    "#         session.save()\n"
   ]
  },
  {
   "cell_type": "code",
   "execution_count": 4,
   "id": "77de85bb",
   "metadata": {},
   "outputs": [],
   "source": [
    "# from beaker.middleware import SessionMiddleware\n",
    "# from voila.app import Voila\n",
    "# from tornado.web import Application, RequestHandler\n",
    "# import os\n",
    "# import uuid\n",
    "\n",
    "# # Configure Beaker session options\n",
    "# session_opts = {\n",
    "#     'session.type': 'file',\n",
    "#     'session.data_dir': './data/sessions',\n",
    "#     'session.auto': True,\n",
    "#     'session.cookie_expires': 3600,  # Set session expiration to 1 hour\n",
    "# }\n",
    "\n",
    "# # Make sure the session directory exists\n",
    "# os.makedirs(session_opts['session.data_dir'], exist_ok=True)\n",
    "\n",
    "# # Example handler that interacts with sessions\n",
    "# class SessionHandler(RequestHandler):\n",
    "#     def get(self):\n",
    "#         # Access the session via Beaker\n",
    "#         session = self.application.settings['beaker.session']\n",
    "        \n",
    "#         # Check if session ID exists, if not, generate a new one\n",
    "#         if 'session_id' not in session:\n",
    "#             session['session_id'] = str(uuid.uuid4())  # Generate a unique session ID\n",
    "\n",
    "#         # Save the session (Beaker automatically handles this)\n",
    "#         session.save()\n",
    "\n",
    "#         # Write the session ID to a file for record-keeping\n",
    "#         with open('session_ids.txt', 'a') as f:\n",
    "#             f.write(f\"Session ID: {session['session_id']}\\n\")\n",
    "\n",
    "#         # Respond with the session ID to the user\n",
    "#         self.write(f\"Your session ID: {session['session_id']}\")\n",
    "\n",
    "# # Start a Voila app, but within the custom Tornado application\n",
    "# class CustomVoilaApp(Voila):\n",
    "#     def initialize(self, **kwargs):\n",
    "#         super().initialize(**kwargs)\n",
    "\n",
    "# def make_app():\n",
    "#     # Create the Tornado app\n",
    "#     voila_app = CustomVoilaApp.instance()\n",
    "\n",
    "#     # Set up the Beaker middleware\n",
    "#     voila_app.listen(0)  # This will allow Voila to start on a random port\n",
    "\n",
    "#     # Tornado application with Beaker session middleware\n",
    "#     wrapped_app = SessionMiddleware(voila_app.web_app, session_opts)\n",
    "\n",
    "#     return Application([\n",
    "#         (r\"/session\", SessionHandler),  # Add the custom session handler\n",
    "#         (r\"/.*\", voila_app)  # Catch-all for Voila routing\n",
    "#     ])\n",
    "\n",
    "# if __name__ == '__main__':\n",
    "#     # Start the Tornado app\n",
    "#     app = make_app()\n",
    "#     app.listen(8866)  # Listen on port 8866 or your desired port\n",
    "#     tornado.ioloop.IOLoop.current().start()\n"
   ]
  },
  {
   "cell_type": "code",
   "execution_count": 3,
   "id": "53910fa9",
   "metadata": {},
   "outputs": [
    {
     "data": {
      "application/vnd.jupyter.widget-view+json": {
       "model_id": "ba30ab45281d464b97174ef21185dfc7",
       "version_major": 2,
       "version_minor": 0
      },
      "text/plain": [
       "Text(value='7fefc161-ebcc-4784-8685-e220fa5a387c')"
      ]
     },
     "metadata": {},
     "output_type": "display_data"
    }
   ],
   "source": [
    "# import uuid\n",
    "# from IPython.display import display\n",
    "# import ipywidgets as widgets\n",
    "\n",
    "# # Generate a unique session token\n",
    "# session_token = str(uuid.uuid4())\n",
    "\n",
    "# # Display it as a hidden widget in the Voila interface\n",
    "# hidden_session_token = widgets.Text(value=session_token, disabled=False)\n",
    "# display(hidden_session_token)\n",
    "\n",
    "# # Now you can store and retrieve the token, and use it for session management purposes.\n"
   ]
  },
  {
   "cell_type": "code",
   "execution_count": 6,
   "id": "22b9dc1b",
   "metadata": {},
   "outputs": [
    {
     "name": "stdout",
     "output_type": "stream",
     "text": [
      "Stored 'session_token' (str)\n"
     ]
    }
   ],
   "source": [
    "# %store session_token"
   ]
  },
  {
   "cell_type": "code",
   "execution_count": null,
   "id": "278214fc",
   "metadata": {},
   "outputs": [],
   "source": []
  }
 ],
 "metadata": {
  "kernelspec": {
   "display_name": "Python 3 (ipykernel)",
   "language": "python",
   "name": "python3"
  },
  "language_info": {
   "codemirror_mode": {
    "name": "ipython",
    "version": 3
   },
   "file_extension": ".py",
   "mimetype": "text/x-python",
   "name": "python",
   "nbconvert_exporter": "python",
   "pygments_lexer": "ipython3",
   "version": "3.12.3"
  }
 },
 "nbformat": 4,
 "nbformat_minor": 5
}
