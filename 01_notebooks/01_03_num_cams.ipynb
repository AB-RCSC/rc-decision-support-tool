{
 "cells": [
  {
   "cell_type": "code",
   "execution_count": 2,
   "id": "66ed741d",
   "metadata": {},
   "outputs": [],
   "source": [
    "import warnings\n",
    "warnings.filterwarnings('ignore')\n",
    "\n",
    "import os\n",
    "import re\n",
    "import json\n",
    "import pandas as pd\n",
    "import ipywidgets as widgets\n",
    "from urllib.parse import parse_qs\n",
    "from ipywidgets import AppLayout, Button, Layout\n",
    "from IPython.display import display, Javascript, clear_output, HTML\n",
    "from ipywidgets import GridspecLayout"
   ]
  },
  {
   "cell_type": "code",
   "execution_count": 3,
   "id": "3fdd6efb",
   "metadata": {},
   "outputs": [],
   "source": [
    "# Function to get query parameters\n",
    "def get_query_parameters():\n",
    "    # Extract query parameters from the URL\n",
    "    query_string = os.environ.get('QUERY_STRING', '')  # Voila sets this when rendering\n",
    "    query_params = parse_qs(query_string)\n",
    "    return query_params\n",
    "\n",
    "# Get parameters\n",
    "params = get_query_parameters()\n",
    "filename = params.get(\"filename\", [\"Unknown\"])[0]"
   ]
  },
  {
   "cell_type": "code",
   "execution_count": 4,
   "id": "f4a9a6ae",
   "metadata": {},
   "outputs": [],
   "source": [
    "# Create the directory path using the filename\n",
    "dir_path = f\"../user_data/json/{filename}\"\n",
    "\n",
    "# Create the full path for the JSON file inside the directory\n",
    "path = os.path.join(dir_path, f\"{filename}_storage.json\")\n",
    "back_path = os.path.join(dir_path, f\"{filename}_backtracking.json\")\n",
    "ques_nav_path = os.path.join(dir_path, f\"{filename}_ques_nav_list.json\")\n",
    "\n",
    "# Ensure the directory exists\n",
    "os.makedirs(dir_path, exist_ok=True)\n",
    "\n",
    "# Check if the JSON file exists\n",
    "if not os.path.exists(path):\n",
    "    # Create the JSON file with an empty object if it doesn't exist\n",
    "    with open(path, 'w') as json_file:\n",
    "        json.dump({}, json_file)  # Write an empty JSON object\n",
    "\n",
    "if not os.path.exists(back_path):\n",
    "    with open(back_path, 'w') as json_file:\n",
    "        json.dump([], json_file)"
   ]
  },
  {
   "cell_type": "code",
   "execution_count": 5,
   "id": "82ba119d",
   "metadata": {},
   "outputs": [],
   "source": [
    "%run ../02_ui_components/progressbar.ipynb"
   ]
  },
  {
   "cell_type": "code",
   "execution_count": 6,
   "id": "2f7adaae",
   "metadata": {},
   "outputs": [],
   "source": [
    "%run ../02_ui_components/sidebar.ipynb"
   ]
  },
  {
   "cell_type": "code",
   "execution_count": 7,
   "id": "df19ae95",
   "metadata": {},
   "outputs": [],
   "source": [
    "%run ../02_ui_components/dropdown.ipynb"
   ]
  },
  {
   "cell_type": "code",
   "execution_count": 8,
   "id": "72fbf306",
   "metadata": {},
   "outputs": [],
   "source": [
    "%run ../02_ui_components/header_button.ipynb"
   ]
  },
  {
   "cell_type": "code",
   "execution_count": 9,
   "id": "b3d7e993",
   "metadata": {},
   "outputs": [],
   "source": [
    "%run ../02_ui_components/more_info.ipynb"
   ]
  },
  {
   "cell_type": "code",
   "execution_count": 10,
   "id": "6ab58834",
   "metadata": {},
   "outputs": [],
   "source": [
    "def get_css_class(css_file, class_name):\n",
    "    with open(css_file, 'r') as file:\n",
    "        css = file.read()\n",
    "        # Use regex to extract the class\n",
    "        pattern = r'\\.' + re.escape(class_name) + r'\\s*\\{([^}]*)\\}'\n",
    "        match = re.search(pattern, css, re.DOTALL)\n",
    "        if match:\n",
    "            css_content = match.group(1).strip()\n",
    "            return f'\\n<style>\\n.{class_name} {{\\n{css_content}\\n}}\\n</style>\\n'\n",
    "        else:\n",
    "            return None"
   ]
  },
  {
   "cell_type": "code",
   "execution_count": 11,
   "id": "bfb2e5ff",
   "metadata": {},
   "outputs": [],
   "source": [
    "css_path = \"../css/style.css\""
   ]
  },
  {
   "cell_type": "code",
   "execution_count": 12,
   "id": "bc483350",
   "metadata": {},
   "outputs": [],
   "source": [
    "# Custom CSS to modify the question button design\n",
    "ques_widget_css = get_css_class(css_path, 'ques-widget')"
   ]
  },
  {
   "cell_type": "code",
   "execution_count": 13,
   "id": "fe939309",
   "metadata": {},
   "outputs": [],
   "source": [
    "# Custom CSS to modify the option button design\n",
    "opt_button_css = get_css_class(css_path, 'opt-button')"
   ]
  },
  {
   "cell_type": "code",
   "execution_count": 14,
   "id": "0e20e2ea",
   "metadata": {},
   "outputs": [],
   "source": [
    "# Custom CSS to modify the header design\n",
    "header_css = get_css_class(css_path, 'custom-header')"
   ]
  },
  {
   "cell_type": "code",
   "execution_count": 15,
   "id": "ecf635e0",
   "metadata": {},
   "outputs": [],
   "source": [
    "# Custom CSS to modify the footer design\n",
    "footer_css = get_css_class(css_path, 'custom-footer')"
   ]
  },
  {
   "cell_type": "code",
   "execution_count": 16,
   "id": "e5922a42",
   "metadata": {},
   "outputs": [],
   "source": [
    "# Create an HTML widget for the background color\n",
    "background_color_html = widgets.HTML(\n",
    "    value = get_css_class(css_path, 'custom-vbox')\n",
    ")"
   ]
  },
  {
   "cell_type": "code",
   "execution_count": 17,
   "id": "67e66ca5",
   "metadata": {},
   "outputs": [],
   "source": [
    "# Taking from separate header notebook\n",
    "header = header_prog1"
   ]
  },
  {
   "cell_type": "code",
   "execution_count": 18,
   "id": "910c0832",
   "metadata": {},
   "outputs": [],
   "source": [
    "# Creating a container for header button\n",
    "header_container = widgets.VBox([header, header_widget], \n",
    "                    layout=widgets.Layout(width='95%', padding_top= '10px', align_items='flex-start', justify_content='center'))"
   ]
  },
  {
   "cell_type": "code",
   "execution_count": 19,
   "id": "388c8e7c",
   "metadata": {},
   "outputs": [],
   "source": [
    "# Creating button\n",
    "def create_expanded_button(description, button_style):\n",
    "    return Button(description=description, button_style=button_style, layout=Layout(height='auto', width='auto', border='1px solid black')) #width='max-content'"
   ]
  },
  {
   "cell_type": "code",
   "execution_count": 20,
   "id": "aee3a643",
   "metadata": {},
   "outputs": [],
   "source": [
    "# Declaring necessary variables and importing neccesary files for storing user answers and keep track of the visited pages\n",
    "global stored_choices, path\n",
    "dropdown_path = \"../data_files/csv/links.csv\"\n",
    "question_path = \"../data_files/csv/question_data.csv\"\n",
    "button_color_path = \"../data_files/csv/button_color.csv\""
   ]
  },
  {
   "cell_type": "code",
   "execution_count": 21,
   "id": "0a7dace7",
   "metadata": {},
   "outputs": [],
   "source": [
    "# Importing the json file for storing user answers\n",
    "with open(path, \"r\") as f:\n",
    "    stored_choices = json.load(f)"
   ]
  },
  {
   "cell_type": "code",
   "execution_count": 22,
   "id": "0c6612b7",
   "metadata": {},
   "outputs": [],
   "source": [
    "# Importing the json file for keeping track of visited pages\n",
    "with open(back_path, 'r') as f:\n",
    "    back_list = json.load(f)"
   ]
  },
  {
   "cell_type": "code",
   "execution_count": 23,
   "id": "462d62e1",
   "metadata": {},
   "outputs": [],
   "source": [
    "# Reading the CSV data file into a DataFrame\n",
    "df = pd.read_csv('../data_files/csv/question_data.csv', low_memory=False)"
   ]
  },
  {
   "cell_type": "code",
   "execution_count": 24,
   "id": "6b817de4",
   "metadata": {},
   "outputs": [],
   "source": [
    "dp_df = pd.read_csv(dropdown_path, low_memory=False)"
   ]
  },
  {
   "cell_type": "code",
   "execution_count": 25,
   "id": "9a5af374",
   "metadata": {},
   "outputs": [],
   "source": [
    "btn_color = pd.read_csv(button_color_path, low_memory=False)"
   ]
  },
  {
   "cell_type": "code",
   "execution_count": 26,
   "id": "77b2e94e",
   "metadata": {},
   "outputs": [],
   "source": [
    "drop_link = dp_df.loc[dp_df['field_code'] == 'num_cams', 'info_url'].iloc[0]"
   ]
  },
  {
   "cell_type": "code",
   "execution_count": 27,
   "id": "da2e1575",
   "metadata": {},
   "outputs": [],
   "source": [
    "notebook_name = \"01_03_num_cams\"\n",
    "page_dropdown_text = df.loc[df['page_name'] == 'num_cams', 'page_dropdown_text'].iloc[0]\n",
    "notebook_list_name = \"obj_list\"\n",
    "footer_name = \"footer_in_prog1\""
   ]
  },
  {
   "cell_type": "code",
   "execution_count": 28,
   "id": "d45cd36d",
   "metadata": {},
   "outputs": [
    {
     "ename": "TypeError",
     "evalue": "main() missing 1 required positional argument: 'page_dropdown_text'",
     "output_type": "error",
     "traceback": [
      "\u001b[1;31m---------------------------------------------------------------------------\u001b[0m",
      "\u001b[1;31mTypeError\u001b[0m                                 Traceback (most recent call last)",
      "Cell \u001b[1;32mIn[28], line 1\u001b[0m\n\u001b[1;32m----> 1\u001b[0m footer \u001b[38;5;241m=\u001b[39m \u001b[43mmain\u001b[49m\u001b[43m(\u001b[49m\u001b[43mnotebook_name\u001b[49m\u001b[43m,\u001b[49m\u001b[43m \u001b[49m\u001b[43mnotebook_list_name\u001b[49m\u001b[43m,\u001b[49m\u001b[43m \u001b[49m\u001b[43mfooter_name\u001b[49m\u001b[43m,\u001b[49m\u001b[43m \u001b[49m\u001b[43mpage_dropdown_text\u001b[49m\u001b[43m)\u001b[49m\n",
      "\u001b[1;31mTypeError\u001b[0m: main() missing 1 required positional argument: 'page_dropdown_text'"
     ]
    }
   ],
   "source": [
    "footer = main(filename, notebook_name, notebook_list_name, footer_name, page_dropdown_text)"
   ]
  },
  {
   "cell_type": "code",
   "execution_count": 29,
   "id": "7af5d0bc",
   "metadata": {},
   "outputs": [],
   "source": [
    "# Assigns dynamic link to the last sidebar button based on the notebook dropdown info link\n",
    "concept_grid[5, 0:9].on_click(on_concept_option_clicked(drop_link))"
   ]
  },
  {
   "cell_type": "code",
   "execution_count": 26,
   "id": "f338a621",
   "metadata": {},
   "outputs": [],
   "source": [
    "# seperates the string based on ',' also removes the whitespace after comma & makes a list\n",
    "def split_and_trim(s):\n",
    "    return [item.strip() for item in s.split(',')]"
   ]
  },
  {
   "cell_type": "code",
   "execution_count": 27,
   "id": "37b3733c",
   "metadata": {},
   "outputs": [],
   "source": [
    "# gets the question based on value of other column\n",
    "\n",
    "ques1 = df.loc[df['question_code'] == 'num_cams_limited', 'question_text'].iloc[0]\n",
    "opt1 = df.loc[df['question_code'] == 'num_cams_limited', 'q_option_label'].iloc[0]\n",
    "opt_codes1 = df.loc[df['question_code'] == 'num_cams_limited', 'q_option_code'].iloc[0]\n",
    "\n",
    "opt1 = split_and_trim(opt1)\n",
    "opt_codes1 = split_and_trim(opt_codes1)\n",
    "\n",
    "# ques2 = df.loc[df['question_code'] == 'num_cams_avail', 'question_text'].iloc[0]"
   ]
  },
  {
   "cell_type": "code",
   "execution_count": 28,
   "id": "c96e0506",
   "metadata": {},
   "outputs": [],
   "source": [
    "# widget on right side for more information\n",
    "html_widget = more_info_widget(\"../data_files/markdown/01_02_objective_note.md\")"
   ]
  },
  {
   "cell_type": "code",
   "execution_count": 29,
   "id": "f34a6729",
   "metadata": {},
   "outputs": [
    {
     "ename": "SyntaxError",
     "evalue": "invalid syntax (3266215174.py, line 3)",
     "output_type": "error",
     "traceback": [
      "\u001b[1;36m  Cell \u001b[1;32mIn[29], line 3\u001b[1;36m\u001b[0m\n\u001b[1;33m    question1 = = f\"\"\"\u001b[0m\n\u001b[1;37m                ^\u001b[0m\n\u001b[1;31mSyntaxError\u001b[0m\u001b[1;31m:\u001b[0m invalid syntax\n"
     ]
    }
   ],
   "source": [
    "# Factor widget\n",
    "\n",
    "question1 =  f\"\"\"\n",
    "    <div class=\"ques-widget\">\n",
    "        <p>{ques1}</p>\n",
    "    </div>\n",
    "    \"\"\"\n",
    "question1 = widgets.HTML(value=question1, layout=Layout(max_width='700px', padding='5px'))\n",
    "\n",
    "\n",
    "option1 = create_expanded_button(opt1[0], 'success')\n",
    "option1.style.button_color = btn_color.loc[btn_color['Category'] == 'Regular Button', 'Color_Code'].iloc[0]\n",
    "option1.style.text_color = 'black'\n",
    "option1.add_class('opt-button')\n",
    "\n",
    "option2 = create_expanded_button(opt1[1], 'success')\n",
    "option2.style.button_color = btn_color.loc[btn_color['Category'] == 'Regular Button', 'Color_Code'].iloc[0]\n",
    "option2.style.text_color = 'black'\n",
    "option2.add_class('opt-button')\n",
    "\n",
    "\n",
    "options_widget2 = widgets.IntText(\n",
    "                            value=0,  # Default value\n",
    "                            description=\"Enter value\",\n",
    "                            disabled=False,\n",
    "                            layout={'width': 'max-content'}\n",
    "                        )\n",
    "\n",
    "\n",
    "# Create a HTML widget to include the custom CSS\n",
    "css_widget = widgets.HTML(value=ques_widget_css)\n",
    "css_widget2 = widgets.HTML(value=opt_button_css)\n",
    "\n",
    "factor_grid = GridspecLayout(8, 18, grid_gap='5px', height='550px')\n",
    "factor_grid[3:6, 1:6] = question1\n",
    "factor_grid[1:6, 9:18] = html_widget\n",
    "factor_grid[3, 7:8] = option1\n",
    "factor_grid[4, 7:8] = option2\n",
    "factor_grid[5, 7:8] = options_widget2\n",
    "\n",
    "# factor_grid\n",
    "\n",
    "# logical_integer_container = widgets.VBox(children=[factor_grid, css_widget, css_widget2], layout=widgets.Layout(\n",
    "#     align_items='center'  # Center align vertically\n",
    "# #     border='solid 2px black',\n",
    "# #     width = \"70%\"\n",
    "# #     justify_content='center'  # Center align horizontally\n",
    "# #     height='100vh'  # Set height to 100% of viewport height for vertical centering\n",
    "# ))\n",
    "# # logical_integer_container"
   ]
  },
  {
   "cell_type": "code",
   "execution_count": 31,
   "id": "d1e1fe47",
   "metadata": {},
   "outputs": [],
   "source": [
    "# # Factor widget\n",
    "\n",
    "#------------------------ uncomment for seperate questions-------------\n",
    "\n",
    "# question2 = create_expanded_button(ques2, 'success')\n",
    "# question2.style.button_color = 'lightblue'\n",
    "# question2.style.text_color = 'black'\n",
    "# # Add custom class to the button\n",
    "# question2.add_class('ques-button')\n",
    "\n",
    "# options_widget2 = widgets.IntText(\n",
    "#                             value=0,  # Default value\n",
    "#                             description=\"Enter value\",\n",
    "#                             disabled=False,\n",
    "#                             layout={'width': 'max-content'}\n",
    "#                         )\n",
    "\n",
    "# # Create a HTML widget to include the custom CSS\n",
    "# css_widget = widgets.HTML(value=ques_button_css)\n",
    "\n",
    "# integer_grid = GridspecLayout(8, 12, grid_gap='5px', height='250px')\n",
    "# integer_grid[3:5, 2:6] = question2\n",
    "# integer_grid[3:5, 7:9] = options_widget2\n",
    "\n",
    "#------------------------ uncomment for seperate questions-------------\n",
    "\n",
    "\n",
    "\n",
    "\n",
    "\n",
    "\n",
    "\n",
    "# integer_container = widgets.VBox(children=[integer_grid, css_widget], layout=widgets.Layout(\n",
    "#     align_items='center'  # Center align vertically\n",
    "# #     border='solid 2px black',\n",
    "# #     width = \"70%\"\n",
    "# #     justify_content='center'  # Center align horizontally\n",
    "# #     height='100vh'  # Set height to 100% of viewport height for vertical centering\n",
    "# ))\n",
    "# # integer_container"
   ]
  },
  {
   "cell_type": "code",
   "execution_count": 32,
   "id": "bae453ef",
   "metadata": {},
   "outputs": [],
   "source": [
    "logical_integer_container = widgets.VBox(children=[factor_grid, css_widget, css_widget2], layout=widgets.Layout(\n",
    "    align_items='center'  # Center align vertically   ### integer_grid\n",
    "#     border='solid 2px black',\n",
    "#     width = \"70%\"\n",
    "#     justify_content='center'  # Center align horizontally\n",
    "#     height='100vh'  # Set height to 100% of viewport height for vertical centering\n",
    "))\n",
    "# logical_integer_container"
   ]
  },
  {
   "cell_type": "code",
   "execution_count": 33,
   "id": "3cf3e985",
   "metadata": {},
   "outputs": [],
   "source": [
    "button_list = [option1, option2]"
   ]
  },
  {
   "cell_type": "code",
   "execution_count": 34,
   "id": "032c87cf",
   "metadata": {},
   "outputs": [],
   "source": [
    "selected = False"
   ]
  },
  {
   "cell_type": "code",
   "execution_count": 35,
   "id": "aa68fe61",
   "metadata": {},
   "outputs": [],
   "source": [
    "output = widgets.Output()\n",
    "def option_1_button_clicked(option1):\n",
    "    with output:\n",
    "        clear_output()\n",
    "        global selected_objective\n",
    "        global selected\n",
    "        \n",
    "        selected = True\n",
    "        \n",
    "        for btn in button_list:\n",
    "            if btn == option1:\n",
    "                btn.icon='check'\n",
    "            else:\n",
    "                btn.icon=''\n",
    "        selected_option = factor_grid[3, 7:8].description\n",
    "        selected_option_index = opt1.index(selected_option)\n",
    "        selected_option_code = opt_codes1[selected_option_index]\n",
    "        \n",
    "        stored_choices[\"num_cams_limited\"] = selected_option_code\n",
    "        \n",
    "        with open(path, \"w\") as f:\n",
    "            json.dump(stored_choices, f)\n",
    "        \n",
    "#         display(integer_container) # OnClick displays\n",
    "        if \"objective\" in stored_choices.keys():\n",
    "            selected_objective = stored_choices['objective']\n",
    "        \n",
    "factor_grid[3, 7:8].on_click(option_1_button_clicked)"
   ]
  },
  {
   "cell_type": "code",
   "execution_count": 36,
   "id": "bc893679",
   "metadata": {},
   "outputs": [],
   "source": [
    "output = widgets.Output()\n",
    "def option_2_button_clicked(option2):\n",
    "    with output:\n",
    "        clear_output()\n",
    "        global selected_objective\n",
    "        global selected\n",
    "        \n",
    "        selected = True\n",
    "        \n",
    "        for btn in button_list:\n",
    "            if btn == option2:\n",
    "                btn.icon='check'\n",
    "            else:\n",
    "                btn.icon=''\n",
    "        \n",
    "        selected_option = factor_grid[4, 7:8].description\n",
    "        selected_option_index = opt1.index(selected_option)\n",
    "        selected_option_code = opt_codes1[selected_option_index]\n",
    "        \n",
    "        stored_choices[\"num_cams_limited\"] = selected_option_code\n",
    "        stored_choices[\"num_cams_avail\"] = 999999\n",
    "        \n",
    "        with open(path, \"w\") as f:\n",
    "            json.dump(stored_choices, f)\n",
    "            \n",
    "        if \"objective\" in stored_choices.keys():\n",
    "            selected_objective = stored_choices['objective']\n",
    "        \n",
    "factor_grid[4, 7:8].on_click(option_2_button_clicked)"
   ]
  },
  {
   "cell_type": "code",
   "execution_count": 37,
   "id": "b4fcc7bc",
   "metadata": {},
   "outputs": [
    {
     "ename": "NameError",
     "evalue": "name 'button' is not defined",
     "output_type": "error",
     "traceback": [
      "\u001b[1;31m---------------------------------------------------------------------------\u001b[0m",
      "\u001b[1;31mNameError\u001b[0m                                 Traceback (most recent call last)",
      "Cell \u001b[1;32mIn[37], line 2\u001b[0m\n\u001b[0;32m      1\u001b[0m \u001b[38;5;66;03m# button.on_click(show_popup(None, drop_link))\u001b[39;00m\n\u001b[1;32m----> 2\u001b[0m \u001b[43mbutton\u001b[49m\u001b[38;5;241m.\u001b[39mon_click(\u001b[38;5;28;01mlambda\u001b[39;00m b: show_popup(b, drop_link))\n",
      "\u001b[1;31mNameError\u001b[0m: name 'button' is not defined"
     ]
    }
   ],
   "source": [
    "accordion.observe(lambda change: show_popup(accordion, drop_link), names='selected_index')"
   ]
  },
  {
   "cell_type": "code",
   "execution_count": 49,
   "id": "ec987ce2",
   "metadata": {},
   "outputs": [],
   "source": [
    "# Create a buttons for submitting the question\n",
    "submit_button = widgets.Button(description=\"Submit & Next >>\", layout=widgets.Layout(border='1px solid black'))"
   ]
  },
  {
   "cell_type": "code",
   "execution_count": 50,
   "id": "d6f75ed9",
   "metadata": {},
   "outputs": [],
   "source": [
    "# Create a button for going back to previous question\n",
    "back_button = widgets.Button(description=\"<< Back\", layout=widgets.Layout(border='1px solid black'))"
   ]
  },
  {
   "cell_type": "code",
   "execution_count": 51,
   "id": "b3b565eb",
   "metadata": {},
   "outputs": [],
   "source": [
    "# Create the text widget with a warning message\n",
    "warning_widget = widgets.HTML(\n",
    "    value=\"\"\"\n",
    "    <div style=\"padding: 5px; background-color: #f8d7da; color: #721c24; border: 2px solid #f5c6cb; border-radius: 5px;\">\n",
    "        <strong>Warning!</strong> Select an option first.\n",
    "    </div>\n",
    "    \"\"\"\n",
    ")"
   ]
  },
  {
   "cell_type": "code",
   "execution_count": 52,
   "id": "f8e482f5",
   "metadata": {},
   "outputs": [],
   "source": [
    "error = widgets.HBox(\n",
    "    [warning_widget],\n",
    "    layout=widgets.Layout(\n",
    "        width='auto',  \n",
    "        height='auto',\n",
    "        margin='auto',  \n",
    "        align_items='flex-end',  \n",
    "        justify_content='flex-end' \n",
    "    )\n",
    ")"
   ]
  },
  {
   "cell_type": "code",
   "execution_count": 53,
   "id": "45c4b025",
   "metadata": {},
   "outputs": [],
   "source": [
    "# Create the text widget with a warning message\n",
    "warning_widget2 = widgets.HTML(\n",
    "    value=\"\"\"\n",
    "    <div style=\"padding: 5px; background-color: #f8d7da; color: #721c24; border: 2px solid #f5c6cb; border-radius: 5px;\">\n",
    "        <strong>Warning!</strong> Inappropriate answer.\n",
    "    </div>\n",
    "    \"\"\"\n",
    ")"
   ]
  },
  {
   "cell_type": "code",
   "execution_count": 54,
   "id": "17b65f47",
   "metadata": {},
   "outputs": [],
   "source": [
    "error2 = widgets.HBox(\n",
    "    [warning_widget2],\n",
    "    layout=widgets.Layout(\n",
    "        width='auto',  \n",
    "        height='auto',\n",
    "        margin='auto',  \n",
    "        align_items='flex-end',  \n",
    "        justify_content='flex-end' \n",
    "    )\n",
    ")"
   ]
  },
  {
   "cell_type": "code",
   "execution_count": 55,
   "id": "da927559",
   "metadata": {},
   "outputs": [],
   "source": [
    "# For going back to last question\n",
    "\n",
    "output = widgets.Output()\n",
    "def on_back_button_clicked(event):\n",
    "    with output:\n",
    "        clear_output()\n",
    "        file_name = back_list[-1]\n",
    "        notebook_filename = f\"{file_name}.ipynb?filename={filename}\"\n",
    "        js_code = f\"window.open('{notebook_filename}', '_self');\"\n",
    "#         link = Markdown('''<a href=\"{}\" target=\"_self\" rel=\"noopener noreferrer\">Previous</a>'''.format(notebook_filename))\n",
    "        back_list.pop()\n",
    "        with open (back_path, \"w\")as f:\n",
    "            json.dump(back_list, f)\n",
    "        display(Javascript(js_code))\n",
    "\n",
    "back_button.on_click(on_back_button_clicked)"
   ]
  },
  {
   "cell_type": "code",
   "execution_count": 56,
   "id": "d3c6d343",
   "metadata": {},
   "outputs": [],
   "source": [
    "# output = widgets.Output()\n",
    "# def on_button_clicked(event):\n",
    "#     with output:\n",
    "#         clear_output()\n",
    "        \n",
    "#         if not selected:\n",
    "#             display(error)\n",
    "#         else:\n",
    "#             condition = df.loc[df['page_name'] == 'cam_strat_covar', 'json_logic'].iloc[0]\n",
    "#             condition_json = json.loads(condition)\n",
    "#             if selected_objective in condition_json['objective']:\n",
    "#                 next_notebook = \"cam_strat_covar\"\n",
    "#             else:\n",
    "#                 next_notebook = \"surv_dur_min_max\"\n",
    "\n",
    "#             notebook_filename = next_notebook + \".ipynb\"\n",
    "\n",
    "#             # JavaScript to open the URL\n",
    "#             js_code = f\"window.open('{notebook_filename}', '_self');\"\n",
    "\n",
    "\n",
    "#             back_list.append(\"num_cams\")\n",
    "#             with open (back_path, \"w\")as f:\n",
    "#                 json.dump(back_list, f)\n",
    "\n",
    "#             if options_widget2.value > 0:\n",
    "#                 stored_choices[\"num_cams_avail\"] = options_widget2.value\n",
    "#                 options_widget2.value = 0\n",
    "#                 with open(path, \"w\") as f:\n",
    "#                     json.dump(stored_choices, f)\n",
    "\n",
    "#             display(Javascript(js_code))\n",
    "\n",
    "# submit_button.on_click(on_button_clicked)"
   ]
  },
  {
   "cell_type": "code",
   "execution_count": null,
   "id": "57759043",
   "metadata": {},
   "outputs": [],
   "source": []
  },
  {
   "cell_type": "code",
   "execution_count": null,
   "id": "68ecc56c",
   "metadata": {},
   "outputs": [],
   "source": []
  },
  {
   "cell_type": "code",
   "execution_count": 57,
   "id": "436e96ba",
   "metadata": {},
   "outputs": [],
   "source": [
    "output = widgets.Output()\n",
    "def on_button_clicked(event):\n",
    "    with output:\n",
    "#         clear_output()\n",
    "        global stored_choices # <----NEEDED-----\n",
    "        \n",
    "        if not selected:\n",
    "            display(error)\n",
    "        else:\n",
    "            condition = df.loc[df['page_name'] == 'cam_strat_covar', 'json_logic'].iloc[0]\n",
    "            condition_json = json.loads(condition)\n",
    "            if set(selected_objective) & set(condition_json['objective']):\n",
    "                next_notebook = \"01_06_cam_strat_covar\"\n",
    "            else:\n",
    "                next_notebook = \"01_08_surv_dur_min_max\"\n",
    "\n",
    "            notebook_filename = f\"{next_notebook}.ipynb?filename={filename}\"\n",
    "\n",
    "            # JavaScript to open the URL\n",
    "            js_code = f\"window.open('{notebook_filename}', '_self');\"\n",
    "\n",
    "\n",
    "            back_list.append(\"01_03_num_cams\")\n",
    "            with open (back_path, \"w\")as f:\n",
    "                json.dump(back_list, f)\n",
    "\n",
    "            if options_widget2.value > 0:\n",
    "                stored_choices[\"num_cams_avail\"] = options_widget2.value\n",
    "\n",
    "                with open(path, \"w\") as f:\n",
    "                    json.dump(stored_choices, f)\n",
    "            #--------------------------------------------->\n",
    "            with open(path, \"r\") as f:\n",
    "                stored_choices = json.load(f)\n",
    "                \n",
    "            if options_widget2.value <= 0 and stored_choices[\"num_cams_limited\"] == \"TRUE\":\n",
    "                display(error2)\n",
    "            else:\n",
    "                options_widget2.value = 0\n",
    "                display(Javascript(js_code))\n",
    "\n",
    "submit_button.on_click(on_button_clicked)"
   ]
  },
  {
   "cell_type": "code",
   "execution_count": null,
   "id": "b68fdfcf",
   "metadata": {},
   "outputs": [],
   "source": []
  },
  {
   "cell_type": "code",
   "execution_count": null,
   "id": "3c5d13f5",
   "metadata": {},
   "outputs": [],
   "source": []
  },
  {
   "cell_type": "code",
   "execution_count": 60,
   "id": "9e035d7c",
   "metadata": {},
   "outputs": [
    {
     "data": {
      "application/vnd.jupyter.widget-view+json": {
       "model_id": "60e9c98d0648439cbc7e2865aa7b7cdd",
       "version_major": 2,
       "version_minor": 0
      },
      "text/plain": [
       "HBox(children=(VBox(children=(VBox(children=(Image(value=b'\\x89PNG\\r\\n\\x1a\\n\\x00\\x00\\x00\\rIHDR\\x00\\x00\\x03}\\x0…"
      ]
     },
     "metadata": {},
     "output_type": "display_data"
    }
   ],
   "source": [
    "# Creating containers for all the widgets along with their css properties\n",
    "\n",
    "all_button = widgets.HBox(\n",
    "    [back_button, submit_button],\n",
    "    layout=widgets.Layout(\n",
    "        width='100%',  \n",
    "        height='auto',\n",
    "#         border='solid 2px grey',\n",
    "        padding='1px',\n",
    "        margin='auto',  \n",
    "        align_items='center',  \n",
    "        justify_content='space-between' \n",
    "    )\n",
    ")\n",
    "buttons = widgets.VBox(\n",
    "    [output, all_button],\n",
    "    layout=widgets.Layout(\n",
    "        width='100%',  \n",
    "        height='auto',  \n",
    "#         border='solid 2px grey',\n",
    "        padding='1px',\n",
    "        margin='auto',  \n",
    "        align_items='center',  \n",
    "        justify_content='center'  \n",
    "    )\n",
    ")\n",
    "\n",
    "\n",
    "\n",
    "upper = widgets.VBox(\n",
    "    [logical_integer_container, buttons],\n",
    "    layout=widgets.Layout(\n",
    "        width='95%',  \n",
    "        min_height= '580px',\n",
    "        height='auto', \n",
    "        border='solid 1px grey',\n",
    "        padding='10px',\n",
    "        margin='auto',  \n",
    "        align_items='center',  \n",
    "        justify_content='center'\n",
    "    )\n",
    ")\n",
    "upper.add_class(\"custom-vbox\")\n",
    "\n",
    "popup = widgets.VBox(children=[accordion], layout=widgets.Layout(\n",
    "        width='95.3%',\n",
    "        padding ='5px 0px 0px 0px'))\n",
    "\n",
    "\n",
    "right_col = widgets.VBox(children=[header_container, background_color_html, upper, footer, popup], layout=widgets.Layout(\n",
    "        width='88%',  \n",
    "        height='100%',  \n",
    "        border_left='solid 1px grey',\n",
    "        padding='5px',\n",
    "        margin='auto',  \n",
    "        align_items='center',  \n",
    "        justify_content='center'\n",
    "))\n",
    "\n",
    "cols = widgets.HBox(\n",
    "    [left_col, right_col],\n",
    "    layout=widgets.Layout(\n",
    "        width='95%',  \n",
    "        height='auto',  \n",
    "        border='solid 2px grey',\n",
    "#         padding='5px',\n",
    "        margin='auto',  \n",
    "        align_items='flex-start', \n",
    "        justify_content='center'\n",
    "    )\n",
    ")\n",
    "\n",
    "display(cols)"
   ]
  },
  {
   "cell_type": "code",
   "execution_count": null,
   "id": "29b85c7e",
   "metadata": {},
   "outputs": [],
   "source": []
  }
 ],
 "metadata": {
  "kernelspec": {
   "display_name": "Python 3 (ipykernel)",
   "language": "python",
   "name": "python3"
  },
  "language_info": {
   "codemirror_mode": {
    "name": "ipython",
    "version": 3
   },
   "file_extension": ".py",
   "mimetype": "text/x-python",
   "name": "python",
   "nbconvert_exporter": "python",
   "pygments_lexer": "ipython3",
   "version": "3.11.11"
  }
 },
 "nbformat": 4,
 "nbformat_minor": 5
}
