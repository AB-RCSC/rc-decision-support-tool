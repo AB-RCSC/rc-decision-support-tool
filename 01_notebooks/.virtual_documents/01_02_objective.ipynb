import warnings
warnings.filterwarnings('ignore')

import os
import re
import json
import webbrowser
import pandas as pd
import ipywidgets as widgets
from datetime import datetime
from ipywidgets import AppLayout, Button, Layout
from ipywidgets import Button, Layout, jslink, IntText, IntSlider
from IPython.display import display, Javascript, Markdown, clear_output, HTML
from ipywidgets import GridspecLayout
from markdown_it import MarkdownIt


%run ../02_ui_components/progressbar.ipynb


%run ../02_ui_components/sidebar.ipynb


%run ../02_ui_components/dropdown.ipynb


%run ../02_ui_components/header_button.ipynb


%run ../02_ui_components/more_info.ipynb


def get_css_class(css_file, class_name):
    with open(css_file, 'r') as file:
        css = file.read()
        # Use regex to extract the class
        pattern = r'\.' + re.escape(class_name) + r'\s*\{([^}]*)\}'
        match = re.search(pattern, css, re.DOTALL)
        if match:
            css_content = match.group(1).strip()
            return f'\n<style>\n.{class_name} {{\n{css_content}\n}}\n</style>\n'
        else:
            return None


css_path = "../css/style.css"


# Custom CSS to modify the question button design
ques_button_css = get_css_class(css_path, 'ques-button')


# Custom CSS to modify the option button design
opt_button_css = get_css_class(css_path, 'opt-button')


# Custom CSS to modify the header design
header_css = get_css_class(css_path, 'custom-header')


# Custom CSS to modify the footer design
footer_css = get_css_class(css_path, 'custom-footer')


# Create an HTML widget for the background color
background_color_html = widgets.HTML(
    value = get_css_class(css_path, 'custom-vbox')
)


# # Loading the header image within an image widget
# header_prog1 = widgets.Image(value=open("../03_icons/icon_level-banner_1-0_objective-resources.png", "rb").read(), format='png',
#                       layout=widgets.Layout(width='auto', height='70px'))

# header_prog2 = widgets.Image(value=open("../03_icons/icon_level-banner_2-1_project-level_study-area_site-selection.png", "rb").read(), format='png',
#                       layout=widgets.Layout(width='auto', height='70px'))

# header_prog3 = widgets.Image(value=open("../03_icons/icon_level-banner_2-2_project-level_duration-timing.png", "rb").read(), format='png',
#                       layout=widgets.Layout(width='auto', height='70px'))

# header_prog4 = widgets.Image(value=open("../03_icons/icon_level-banner_4-0_target-species.png", "rb").read(), format='png',
#                       layout=widgets.Layout(width='auto', height='70px'))

# header_prog5 = widgets.Image(value=open("../03_icons/icon_level-banner_5-1_equipment-deployment.png", "rb").read(), format='png',
#                       layout=widgets.Layout(width='auto', height='70px'))

# header_prog6 = widgets.Image(value=open("../03_icons/icon_level-banner_6-0_data-analysis.png", "rb").read(), format='png',
#                       layout=widgets.Layout(width='auto', height='70px'))


# Taking from separate header notebook
header = header_prog1


# Creating a container for header button
header_container = widgets.VBox([header, header_widget], 
                    layout=widgets.Layout(width='95%', padding_top= '10px', align_items='flex-start', justify_content='center'))


notebook_name = "objective"
notebook_list_name = "obj_list"
footer_name = "footer_in_prog1"


footer = main(notebook_name, notebook_list_name, footer_name)


# Creating button
def create_expanded_button(description, button_style):
    return Button(description=description, button_style=button_style, layout=Layout(height='auto', width='auto', border='1px solid black')) #width='max-content'


# Declaring necessary variables and importing neccesary files for storing user answers and keep track of the visited pages
global stored_choices, path

stored_choices = {}
path = "../data_files/json/temp_storage.json"
back_path = "../data_files/json/backtracking.json"
dropdown_path = "../data_files/csv/links.csv"
ques_nav_path = "../data_files/json/ques_nav_list.json"
question_path = "../data_files/csv/question_data.csv"
button_color_path = "../data_files/csv/button_color.csv"


# Importing the json file for storing user answers
with open(path, "r") as f:
    stored_choices = json.load(f)


# Importing the json file for keeping track of visited pages
with open(back_path, 'r') as f:
    back_list = json.load(f)


# Reading the CSV data file into a DataFrame
df = pd.read_csv(question_path, low_memory=False)


dp_df = pd.read_csv(dropdown_path, low_memory=False)


btn_color = pd.read_csv(button_color_path, low_memory=False)


drop_link = dp_df.loc[dp_df['field_code'] == 'objective', 'info_url'].iloc[0]


# Assigns dynamic link to the last sidebar button based on the notebook dropdown info link
concept_grid[5, 0:9].on_click(on_concept_option_clicked(drop_link))


# seperates the string based on ',' also removes the whitespace after comma & makes a list
def split_and_trim(s):
    return [item.strip() for item in s.split(',')]


# gets the question based on value of other column
ques = df.loc[df['question_code'] == 'objective', 'question_text'].iloc[0]
opt = df.loc[df['question_code'] == 'objective', 'q_option_label'].iloc[0]
opt_codes = df.loc[df['question_code'] == 'objective', 'q_option_code'].iloc[0]

# Using the split_and_trim function for neccessary steps
opt = split_and_trim(opt)
opt_codes = split_and_trim(opt_codes)


# widget on right side for more information
html_widget = more_info_widget("../data_files/markdown/index.md")


# Factor widget
question = create_expanded_button(ques, 'success')
question.style.button_color = 'lightblue'
question.style.text_color = 'black'

# Add custom class to the button
question.add_class('ques-button') # Adding custom css properties to the buttons

option1 = create_expanded_button(opt[0], 'success')
option1.style.button_color = btn_color.loc[btn_color['Category'] == 'Regular Button', 'Color_Code'].iloc[0]
option1.style.text_color = 'black'
option1.add_class('opt-button')

option2 = create_expanded_button(opt[1], 'success')
option2.style.button_color = btn_color.loc[btn_color['Category'] == 'Regular Button', 'Color_Code'].iloc[0]
option2.style.text_color = 'black'
option2.add_class('opt-button')

option3 = create_expanded_button(opt[2], 'success')
option3.style.button_color = btn_color.loc[btn_color['Category'] == 'Regular Button', 'Color_Code'].iloc[0]
option3.style.text_color = 'black'
option3.add_class('opt-button')

option4 = create_expanded_button(opt[3], 'success')
option4.style.button_color = btn_color.loc[btn_color['Category'] == 'Regular Button', 'Color_Code'].iloc[0]
option4.style.text_color = 'black'
option4.add_class('opt-button')

option5 = create_expanded_button(opt[4], 'success')
option5.style.button_color = btn_color.loc[btn_color['Category'] == 'Regular Button', 'Color_Code'].iloc[0]
option5.style.text_color = 'red'
option5.add_class('opt-button')

option6 = create_expanded_button(opt[5], 'success')
option6.style.button_color = btn_color.loc[btn_color['Category'] == 'Regular Button', 'Color_Code'].iloc[0]
option6.style.text_color = 'red'
option6.add_class('opt-button')

option7 = create_expanded_button(opt[6], 'success')
option7.style.button_color = btn_color.loc[btn_color['Category'] == 'Regular Button', 'Color_Code'].iloc[0]
option7.style.text_color = 'red'
option7.add_class('opt-button')

option8 = create_expanded_button(opt[7], 'success')
option8.style.button_color = btn_color.loc[btn_color['Category'] == 'Regular Button', 'Color_Code'].iloc[0]
option8.style.text_color = 'black'
option8.add_class('opt-button')

option9 = create_expanded_button(opt[8], 'success')
option9.style.button_color = btn_color.loc[btn_color['Category'] == 'Unknown Button', 'Color_Code'].iloc[0]
option9.style.text_color = 'black'
option9.add_class('opt-button')

# Create a HTML widget to include the custom CSS
css_widget = widgets.HTML(value=ques_button_css)
css_widget2 = widgets.HTML(value=opt_button_css)

factor_grid = GridspecLayout(10, 18, grid_gap='5px', height='550px')
factor_grid[4:8, 1:7] = question
factor_grid[1:8, 13:17] = html_widget
factor_grid[1, 8:12] = option1
factor_grid[2, 8:12] = option2
factor_grid[3, 8:12] = option3
factor_grid[4, 8:12] = option4
factor_grid[5, 8:12] = option5
factor_grid[6, 8:12] = option6
factor_grid[7, 8:12] = option7
factor_grid[8, 8:12] = option8
factor_grid[9, 8:12] = option9
# factor_grid[10, 7:9] = option10

# Creating a container to store the factor widget and added custom css widgets
logical_integer_container = widgets.VBox(children=[factor_grid, css_widget, css_widget2], layout=widgets.Layout(
    align_items='center'  # Center align vertically
#     border='solid 2px black',
#     width = "70%"
#     justify_content='center'  # Center align horizontally
#     height='100vh'  # Set height to 100% of viewport height for vertical centering
))


# Creating button list for implementing the checkmark feature
button_list = [option1, option2, option3, option4, option5, option6, option7, option8, option9]


selected = False


# Create the text widget with a warning message
warning_widget2 = widgets.HTML(
    value="""
    <div style="padding: 5px; background-color: #f8d7da; color: #721c24; border: 2px solid #f5c6cb; border-radius: 5px;">
        <strong>Warning!</strong> Unavailable for now. Please select another.
    </div>
    """
)


error2 = widgets.HBox(
    [warning_widget2],
    layout=widgets.Layout(
        width='auto',  
        height='auto',
        margin='auto',  
        align_items='flex-end',  
        justify_content='flex-end' 
    )
)


selected_option_list = []


# Implementing the steps when a button is clicked
output = widgets.Output()
def option_1_button_clicked(option1):
    with output:
        clear_output()
        global selected
        
        selected = True
        
        # storing all the selected option information
        selected_option = factor_grid[1, 8:12].description
        selected_option_index = opt.index(selected_option)
        selected_option_code = opt_codes[selected_option_index]
        
        
        # changes the button icon to a checkmark when clicked
        for btn in button_list:
            if btn == option1:
                if btn.icon == 'check':
                    btn.icon=''
                    selected_option_list.remove(selected_option_code)
                else:
                    btn.icon='check'
                    if selected_option_code not in selected_option_list:    
                        selected_option_list.append(selected_option_code)        
        
        
        # Retrieving infomation for using inside logic while determining the next page
        stored_choices["objective"] = selected_option_list
        
        # Storing all the information
        with open(path, "w") as f:
            json.dump(stored_choices, f)
        
# Calling the on click function
factor_grid[1, 8:12].on_click(option_1_button_clicked)


# Implementing the steps when a button is clicked
output = widgets.Output()
def option_2_button_clicked(option2):
    with output:
        clear_output()
        global selected
        
        selected = True
        
        # storing all the selected option information
        selected_option = factor_grid[2, 8:12].description
        selected_option_index = opt.index(selected_option)
        selected_option_code = opt_codes[selected_option_index]
        
        # changes the button icon to a checkmark when clicked
        for btn in button_list:
            if btn == option2:
                if btn.icon == 'check':
                    btn.icon=''
                    selected_option_list.remove(selected_option_code)
                else:
                    btn.icon='check'
                    if selected_option_code not in selected_option_list:    
                        selected_option_list.append(selected_option_code)
        
        
        # Retrieving infomation for using inside logic while determining the next page
        stored_choices["objective"] = selected_option_list
        
        # Storing all the information
        with open(path, "w") as f:
            json.dump(stored_choices, f)
            
# Calling the on click function        
factor_grid[2, 8:12].on_click(option_2_button_clicked)


# Implementing the steps when a button is clicked
output = widgets.Output()
def option_3_button_clicked(option3):
    with output:
        clear_output()
        global selected
        
        selected = True
        
        # storing all the selected option information
        selected_option = factor_grid[3, 8:12].description
        selected_option_index = opt.index(selected_option)
        selected_option_code = opt_codes[selected_option_index]
        
        # changes the button icon to a checkmark when clicked
        for btn in button_list:
            if btn == option3:
                if btn.icon == 'check':
                    btn.icon=''
                    selected_option_list.remove(selected_option_code)
                else:
                    btn.icon='check'
                    if selected_option_code not in selected_option_list:    
                        selected_option_list.append(selected_option_code)
        
        
        
        # Retrieving infomation for using inside logic while determining the next page
        stored_choices["objective"] = selected_option_list
        
        # Storing all the information
        with open(path, "w") as f:
            json.dump(stored_choices, f)
            
# Calling the on click function       
factor_grid[3, 8:12].on_click(option_3_button_clicked)


# Implementing the steps when a button is clicked
output = widgets.Output()
def option_4_button_clicked(option4):
    with output:
        clear_output()
        global selected
        
        selected = True
        
        # storing all the selected option information
        selected_option = factor_grid[4, 8:12].description
        selected_option_index = opt.index(selected_option)
        selected_option_code = opt_codes[selected_option_index]
        
        # changes the button icon to a checkmark when clicked
        for btn in button_list:
            if btn == option4:
                if btn.icon == 'check':
                    btn.icon=''
                    selected_option_list.remove(selected_option_code)
                else:
                    btn.icon='check'
                    if selected_option_code not in selected_option_list:    
                        selected_option_list.append(selected_option_code)
        
        
        # Retrieving infomation for using inside logic while determining the next page
        stored_choices["objective"] = selected_option_list
        
        # Storing all the information
        with open(path, "w") as f:
            json.dump(stored_choices, f)
            
# Calling the on click function       
factor_grid[4, 8:12].on_click(option_4_button_clicked)


# Implementing the steps when a button is clicked
output = widgets.Output()
def option_5_button_clicked(option5):
    with output:
        clear_output()
        global selected
        
        selected = False
        
#       storing all the selected option information
#       selected_option = factor_grid[5, 8:12].description
#       selected_option_index = opt.index(selected_option)
#       selected_option_code = opt_codes[selected_option_index]

        # changes the button icon to a checkmark when clicked
        for btn in button_list:
            if btn == option5:
                if btn.icon == 'check':
                    btn.icon=''
#                     selected_option_list.remove(selected_option_code)
                else:
                    btn.icon='check'
#                     if selected_option_code not in selected_option_list:    
#                         selected_option_list.append(selected_option_code)
        display(error2)
        
#         # Retrieving infomation for using inside logic while determining the next page
#         stored_choices["objective"] = selected_option_code
        
#         # Storing all the information
#         with open(path, "w") as f:
#             json.dump(stored_choices, f)
            
# Calling the on click function       
factor_grid[5, 8:12].on_click(option_5_button_clicked)


# Implementing the steps when a button is clicked
output = widgets.Output()
def option_6_button_clicked(option6):
    with output:
        clear_output()
        global selected
        
        selected = False
        
#         # storing all the selected option information
#         selected_option = factor_grid[6, 8:12].description
#         selected_option_index = opt.index(selected_option)
#         selected_option_code = opt_codes[selected_option_index]
        
        # changes the button icon to a checkmark when clicked
        for btn in button_list:
            if btn == option6:
                if btn.icon == 'check':
                    btn.icon=''
#                     selected_option_list.remove(selected_option_code)
                else:
                    btn.icon='check'
#                     if selected_option_code not in selected_option_list:    
#                         selected_option_list.append(selected_option_code)
        display(error2)
        
        
#         # Retrieving infomation for using inside logic while determining the next page
#         stored_choices["objective"] = selected_option_code
        
#         # Storing all the information
#         with open(path, "w") as f:
#             json.dump(stored_choices, f)
            
# Calling the on click function     
factor_grid[6, 8:12].on_click(option_6_button_clicked)


# Implementing the steps when a button is clicked
output = widgets.Output()
def option_7_button_clicked(option7):
    with output:
        clear_output()
        global selected
        
        selected = False
        
#         # storing all the selected option information
#         selected_option = factor_grid[7, 8:12].description
#         selected_option_index = opt.index(selected_option)
#         selected_option_code = opt_codes[selected_option_index]
        
        # changes the button icon to a checkmark when clicked
        for btn in button_list:
            if btn == option7:
                if btn.icon == 'check':
                    btn.icon=''
#                     selected_option_list.remove(selected_option_code)
                else:
                    btn.icon='check'
#                     if selected_option_code not in selected_option_list:    
#                         selected_option_list.append(selected_option_code)
                
        display(error2)       
                
        
#         # Retrieving infomation for using inside logic while determining the next page
#         stored_choices["objective"] = selected_option_code
        
#         # Storing all the information
#         with open(path, "w") as f:
#             json.dump(stored_choices, f)



            
# Calling the on click function     
factor_grid[7, 8:12].on_click(option_7_button_clicked)


# Implementing the steps when a button is clicked
output = widgets.Output()
def option_8_button_clicked(option8):
    with output:
        clear_output()
        global selected
        
        selected = True
        
        # storing all the selected option information
        selected_option = factor_grid[8, 8:12].description
        selected_option_index = opt.index(selected_option)
        selected_option_code = opt_codes[selected_option_index]
        
        # changes the button icon to a checkmark when clicked
        for btn in button_list:
            if btn == option8:
                if btn.icon == 'check':
                    btn.icon=''
                    selected_option_list.remove(selected_option_code)
                else:
                    btn.icon='check'
                    if selected_option_code not in selected_option_list:    
                        selected_option_list.append(selected_option_code)
        
        
        # Retrieving infomation for using inside logic while determining the next page
        stored_choices["objective"] = selected_option_code
        
        # Storing all the information
        with open(path, "w") as f:
            json.dump(stored_choices, f)
            
# Calling the on click function       
factor_grid[8, 8:12].on_click(option_8_button_clicked)


# Implementing the steps when a button is clicked
output = widgets.Output()
def option_9_button_clicked(option9):
    with output:
        clear_output()
        global selected
        
        selected = True
        
        # storing all the selected option information
        selected_option = factor_grid[9, 8:12].description
        selected_option_index = opt.index(selected_option)
        selected_option_code = opt_codes[selected_option_index]
        
        # changes the button icon to a checkmark when clicked
        for btn in button_list:
            if btn == option9:
                if btn.icon == 'check':
                    btn.icon=''
                    selected_option_list.remove(selected_option_code)
                else:
                    btn.icon='check'
                    if selected_option_code not in selected_option_list:    
                        selected_option_list.append(selected_option_code)
        
        
        # Retrieving infomation for using inside logic while determining the next page
        stored_choices["objective"] = selected_option_code
        
        # Storing all the information
        with open(path, "w") as f:
            json.dump(stored_choices, f)
            
# Calling the on click function      
factor_grid[9, 8:12].on_click(option_9_button_clicked)


# # button.on_click(show_popup(None, drop_link))
# button.on_click(lambda b: show_popup(b, drop_link))


# close_button.on_click(close_popup)


accordion.observe(lambda change: show_popup(accordion, drop_link), names='selected_index')


# Create a buttons for submitting the question
submit_button = widgets.Button(description="Submit & Next >>", layout=widgets.Layout(border='1px solid black'))


# Create a button for going back to previous question
back_button = widgets.Button(description="<< Back", layout=widgets.Layout(border='1px solid black'))


# Create the text widget with a warning message
warning_widget = widgets.HTML(
    value="""
    <div style="padding: 5px; background-color: #f8d7da; color: #721c24; border: 2px solid #f5c6cb; border-radius: 5px;">
        <strong>Warning!</strong> Select an option first.
    </div>
    """
)


error = widgets.HBox(
    [warning_widget],
    layout=widgets.Layout(
        width='auto',  
        height='auto',
        margin='auto',  
        align_items='flex-end',  
        justify_content='flex-end' 
    )
)


# For going back to last question

output = widgets.Output()
def on_back_button_clicked(event):
    with output:
        clear_output()
        file_name = back_list[-1]
        notebook_filename = file_name + ".ipynb"
        js_code = f"window.open('{notebook_filename}', '_self');"
#         link = Markdown('''<a href="{}" target="_self" rel="noopener noreferrer">Previous</a>'''.format(notebook_filename))
        back_list.pop()
        with open (back_path, "w")as f:
            json.dump(back_list, f)
        display(Javascript(js_code))

back_button.on_click(on_back_button_clicked)


output = widgets.Output()
def on_button_clicked(event):
    with output:
#         clear_output()

        if not selected:
            display(error)
        else:
            next_notebook = "01_03_num_cams"

            notebook_filename = next_notebook + ".ipynb"
            # JavaScript to open the URL
            js_code = f"window.open('{notebook_filename}', '_self');"

            # Storing current page name for later use when backtracking
            back_list.append("01_02_objective")
            with open (back_path, "w")as f:
                json.dump(back_list, f)

            display(Javascript(js_code))

submit_button.on_click(on_button_clicked)





# Creating containers for all the widgets along with their css properties

all_button = widgets.HBox(
    [back_button, submit_button],
    layout=widgets.Layout(
        width='100%',  
        height='auto',
#         border='solid 2px grey',
        padding='1px',
        margin='auto',  
        align_items='center',  
        justify_content='space-between' 
    )
)
buttons = widgets.VBox(
    [output, all_button],
    layout=widgets.Layout(
        width='100%',  
        height='auto',  
#         border='solid 2px grey',
        padding='1px',
        margin='auto',  
        align_items='center',  
        justify_content='center'  
    )
)



upper = widgets.VBox(
    [logical_integer_container, buttons],
    layout=widgets.Layout(
        width='95%',  
        height='auto', 
        border='solid 1px grey',
        padding='10px',
        margin='auto',  
        align_items='center',  
        justify_content='center' 
    )
)
upper.add_class("custom-vbox")

popup = widgets.VBox(children=[accordion], layout=widgets.Layout(
        width='95.3%'))

#  container2,
right_col = widgets.VBox(children=[header_container, background_color_html, upper, footer, popup], layout=widgets.Layout(
        width='88%',  #, popup
        height='100%',  
        border_left='solid 1px grey',
        padding='5px',
        margin='auto',  
        align_items='center',  
        justify_content='center'
))

cols = widgets.HBox(
    [left_col, right_col],
    layout=widgets.Layout(
        width='95%',  
        height='auto',  #90vh
        border='solid 2px grey',
#         padding='5px',
        margin='auto',  
        align_items='flex-start', 
        justify_content='center'
    )
)

display(cols)






