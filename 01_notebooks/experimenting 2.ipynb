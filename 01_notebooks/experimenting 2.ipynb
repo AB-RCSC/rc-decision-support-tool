{
 "cells": [
  {
   "cell_type": "code",
   "execution_count": 1,
   "id": "e195ae73",
   "metadata": {},
   "outputs": [],
   "source": [
    "# import requests\n",
    "# from IPython.display import display, HTML\n",
    "\n",
    "# response = requests.get(\"https://rc-decision-support-tool.ca/api/get_ip\", verify=False)\n",
    "\n",
    "# ip_data = response.json()\n",
    "\n",
    "# # Display the IP address in the notebook\n",
    "# ip_address_str = f\"User IP: {ip_data['ip']}\""
   ]
  },
  {
   "cell_type": "code",
   "execution_count": 2,
   "id": "b825dc6b",
   "metadata": {},
   "outputs": [],
   "source": [
    "# display(HTML(f\"<b>{ip_address_str}</b>\"))"
   ]
  },
  {
   "cell_type": "code",
   "execution_count": null,
   "id": "b08f9a42",
   "metadata": {},
   "outputs": [],
   "source": []
  },
  {
   "cell_type": "code",
   "execution_count": 3,
   "id": "4edce05d",
   "metadata": {},
   "outputs": [
    {
     "name": "stderr",
     "output_type": "stream",
     "text": [
      "C:\\Users\\alifr\\anaconda3\\envs\\conda_jupy_webapp\\Lib\\site-packages\\urllib3\\connectionpool.py:1103: InsecureRequestWarning: Unverified HTTPS request is being made to host 'rc-decision-support-tool.ca'. Adding certificate verification is strongly advised. See: https://urllib3.readthedocs.io/en/latest/advanced-usage.html#tls-warnings\n",
      "  warnings.warn(\n"
     ]
    },
    {
     "data": {
      "text/html": [
       "<b>User IP: 75.159.128.161</b>"
      ],
      "text/plain": [
       "<IPython.core.display.HTML object>"
      ]
     },
     "metadata": {},
     "output_type": "display_data"
    }
   ],
   "source": [
    "from IPython.display import display, HTML\n",
    "import requests\n",
    "\n",
    "# Function to get the client IP from the Flask API\n",
    "def get_client_ip():\n",
    "    try:\n",
    "        # Call the Flask API to get the client IP\n",
    "        response = requests.get(\"https://rc-decision-support-tool.ca/api/get_ip\", verify=False)\n",
    "        \n",
    "        # Check if the response is valid and is JSON\n",
    "        if response.status_code == 200 and response.headers['Content-Type'] == 'application/json':\n",
    "            ip_data = response.json()\n",
    "\n",
    "            # Display the client IP in the notebook\n",
    "            ip_address_str = f\"User IP: {ip_data['ip']}\"\n",
    "            display(HTML(f\"<b>{ip_address_str}</b>\"))\n",
    "\n",
    "            # Optionally, save it in a file for record-keeping\n",
    "            with open(\"users_ips.txt\", \"a\") as f:\n",
    "                f.write(f\"{ip_data['ip']}\\n\")\n",
    "        else:\n",
    "            display(HTML(\"<b>Unexpected response or content type.</b>\"))\n",
    "            print(f\"Raw response: {response.text}\")\n",
    "\n",
    "    except Exception as e:\n",
    "        display(HTML(f\"<b>Error retrieving IP: {e}</b>\"))\n",
    "\n",
    "# Call the function to display the client IP\n",
    "get_client_ip()\n"
   ]
  },
  {
   "cell_type": "code",
   "execution_count": null,
   "id": "a5f2eabf",
   "metadata": {},
   "outputs": [],
   "source": []
  }
 ],
 "metadata": {
  "kernelspec": {
   "display_name": "Python 3 (ipykernel)",
   "language": "python",
   "name": "python3"
  },
  "language_info": {
   "codemirror_mode": {
    "name": "ipython",
    "version": 3
   },
   "file_extension": ".py",
   "mimetype": "text/x-python",
   "name": "python",
   "nbconvert_exporter": "python",
   "pygments_lexer": "ipython3",
   "version": "3.12.3"
  }
 },
 "nbformat": 4,
 "nbformat_minor": 5
}
