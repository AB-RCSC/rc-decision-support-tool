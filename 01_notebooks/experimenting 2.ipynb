{
 "cells": [
  {
   "cell_type": "code",
   "execution_count": 5,
   "id": "0019daca",
   "metadata": {},
   "outputs": [
    {
     "name": "stderr",
     "output_type": "stream",
     "text": [
      "C:\\Users\\alifr\\anaconda3\\envs\\conda_jupy_webapp\\Lib\\site-packages\\urllib3\\connectionpool.py:1103: InsecureRequestWarning: Unverified HTTPS request is being made to host 'rc-decision-support-tool.ca'. Adding certificate verification is strongly advised. See: https://urllib3.readthedocs.io/en/latest/advanced-usage.html#tls-warnings\n",
      "  warnings.warn(\n"
     ]
    }
   ],
   "source": [
    "# import requests\n",
    "# from IPython.display import display, HTML\n",
    "\n",
    "# response = requests.get(\"https://rc-decision-support-tool.ca/api/get_ip\", verify=False)\n",
    "\n",
    "# ip_data = response.json()\n",
    "\n",
    "# # Display the IP address in the notebook\n",
    "# ip_address_str = f\"User IP: {ip_data['ip']}\""
   ]
  },
  {
   "cell_type": "code",
   "execution_count": 6,
   "id": "dfffe06e",
   "metadata": {},
   "outputs": [
    {
     "data": {
      "text/html": [
       "<b>User IP: 75.159.128.161</b>"
      ],
      "text/plain": [
       "<IPython.core.display.HTML object>"
      ]
     },
     "metadata": {},
     "output_type": "display_data"
    }
   ],
   "source": [
    "# display(HTML(f\"<b>{ip_address_str}</b>\"))"
   ]
  },
  {
   "cell_type": "code",
   "execution_count": null,
   "id": "96b75b51",
   "metadata": {},
   "outputs": [],
   "source": []
  },
  {
   "cell_type": "code",
   "execution_count": 10,
   "id": "88714a27",
   "metadata": {},
   "outputs": [
    {
     "data": {
      "application/javascript": [
       "\n",
       "        (function() {\n",
       "            // Fetch the client IP address using the ipify API\n",
       "            fetch('https://api.ipify.org?format=json')\n",
       "            .then(response => response.json())\n",
       "            .then(data => {\n",
       "                // Send the IP address back to the Python kernel\n",
       "                var code = \"user_ip = '\" + data.ip + \"'\";\n",
       "                IPython.notebook.kernel.execute(code);\n",
       "            });\n",
       "        })();\n",
       "    "
      ],
      "text/plain": [
       "<IPython.core.display.Javascript object>"
      ]
     },
     "metadata": {},
     "output_type": "display_data"
    },
    {
     "data": {
      "text/html": [
       "<b>Error: Timed out while trying to retrieve IP address.</b>"
      ],
      "text/plain": [
       "<IPython.core.display.HTML object>"
      ]
     },
     "metadata": {},
     "output_type": "display_data"
    },
    {
     "data": {
      "text/html": [
       "<b>Failed to retrieve user IP.</b>"
      ],
      "text/plain": [
       "<IPython.core.display.HTML object>"
      ]
     },
     "metadata": {},
     "output_type": "display_data"
    }
   ],
   "source": [
    "from IPython.display import display, HTML, Javascript\n",
    "import time\n",
    "\n",
    "# Function to display the client IP when it is retrieved\n",
    "def display_client_ip(ip_address):\n",
    "    display(HTML(f\"<b>User IP: {ip_address}</b>\"))\n",
    "\n",
    "# This function injects JavaScript to get the client's IP and pass it to the Python environment\n",
    "def get_client_ip():\n",
    "    display(Javascript(\"\"\"\n",
    "        (function() {\n",
    "            // Fetch the client IP address using the ipify API\n",
    "            fetch('https://api.ipify.org?format=json')\n",
    "            .then(response => response.json())\n",
    "            .then(data => {\n",
    "                // Send the IP address back to the Python kernel\n",
    "                var code = \"user_ip = '\" + data.ip + \"'\";\n",
    "                IPython.notebook.kernel.execute(code);\n",
    "            });\n",
    "        })();\n",
    "    \"\"\"))\n",
    "\n",
    "# Initialize a global variable to hold the user IP\n",
    "user_ip = None\n",
    "\n",
    "# Inject the JavaScript to get the client IP\n",
    "get_client_ip()\n",
    "\n",
    "# Wait until the user_ip variable is updated by the JavaScript (max wait time: 10 seconds)\n",
    "timeout = 10\n",
    "start_time = time.time()\n",
    "\n",
    "while user_ip is None:\n",
    "    # Keep checking if the IP has been retrieved, but exit if it takes too long\n",
    "    if time.time() - start_time > timeout:\n",
    "        display(HTML(\"<b>Error: Timed out while trying to retrieve IP address.</b>\"))\n",
    "        break\n",
    "    time.sleep(0.1)  # Wait a short interval before checking again\n",
    "\n",
    "# Display the IP if successfully retrieved\n",
    "if user_ip:\n",
    "    display_client_ip(user_ip)\n",
    "else:\n",
    "    display(HTML(\"<b>Failed to retrieve user IP.</b>\"))\n"
   ]
  },
  {
   "cell_type": "code",
   "execution_count": null,
   "id": "68b714ee",
   "metadata": {},
   "outputs": [],
   "source": []
  }
 ],
 "metadata": {
  "kernelspec": {
   "display_name": "Python 3 (ipykernel)",
   "language": "python",
   "name": "python3"
  },
  "language_info": {
   "codemirror_mode": {
    "name": "ipython",
    "version": 3
   },
   "file_extension": ".py",
   "mimetype": "text/x-python",
   "name": "python",
   "nbconvert_exporter": "python",
   "pygments_lexer": "ipython3",
   "version": "3.12.3"
  }
 },
 "nbformat": 4,
 "nbformat_minor": 5
}
