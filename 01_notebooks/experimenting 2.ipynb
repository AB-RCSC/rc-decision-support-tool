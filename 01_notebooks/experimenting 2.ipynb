{
 "cells": [
  {
   "cell_type": "code",
   "execution_count": 1,
   "id": "29ed8dcd",
   "metadata": {},
   "outputs": [],
   "source": [
    "# import requests\n",
    "# from IPython.display import display, HTML\n",
    "\n",
    "# response = requests.get(\"https://rc-decision-support-tool.ca/api/get_ip\", verify=False)\n",
    "\n",
    "# ip_data = response.json()\n",
    "\n",
    "# # Display the IP address in the notebook\n",
    "# ip_address_str = f\"User IP: {ip_data['ip']}\""
   ]
  },
  {
   "cell_type": "code",
   "execution_count": 4,
   "id": "1695f9b7",
   "metadata": {},
   "outputs": [],
   "source": [
    "# display(HTML(f\"<b>{ip_address_str}</b>\"))"
   ]
  },
  {
   "cell_type": "code",
   "execution_count": 5,
   "id": "86ede05e",
   "metadata": {},
   "outputs": [
    {
     "name": "stdout",
     "output_type": "stream",
     "text": [
      "Latest IP Address: Error: [Errno 2] No such file or directory: '/var/log/nginx/access.log'\n"
     ]
    }
   ],
   "source": [
    "import re\n",
    "\n",
    "# Path to the Nginx access log file (adjust if necessary)\n",
    "log_file_path = \"/var/log/nginx/access.log\"\n",
    "\n",
    "def get_latest_ip(log_file):\n",
    "    try:\n",
    "        # Open the log file in read mode\n",
    "        with open(log_file, \"r\") as file:\n",
    "            # Read all lines of the file\n",
    "            lines = file.readlines()\n",
    "            \n",
    "            if not lines:\n",
    "                return \"No entries found in the log file.\"\n",
    "            \n",
    "            # Get the last line (latest request)\n",
    "            last_line = lines[-1]\n",
    "            \n",
    "            # Use regex to extract the IP address (first field in the log)\n",
    "            ip_match = re.match(r'^(\\S+)', last_line)\n",
    "            \n",
    "            if ip_match:\n",
    "                return ip_match.group(1)  # Return the extracted IP address\n",
    "            else:\n",
    "                return \"No valid IP address found in the last log entry.\"\n",
    "    except Exception as e:\n",
    "        return f\"Error: {e}\"\n",
    "\n",
    "# Fetch and display the latest IP address from the Nginx log\n",
    "latest_ip = get_latest_ip(log_file_path)\n",
    "print(f\"Latest IP Address: {latest_ip}\")"
   ]
  },
  {
   "cell_type": "code",
   "execution_count": null,
   "id": "24362b6f",
   "metadata": {},
   "outputs": [],
   "source": []
  }
 ],
 "metadata": {
  "kernelspec": {
   "display_name": "Python 3 (ipykernel)",
   "language": "python",
   "name": "python3"
  },
  "language_info": {
   "codemirror_mode": {
    "name": "ipython",
    "version": 3
   },
   "file_extension": ".py",
   "mimetype": "text/x-python",
   "name": "python",
   "nbconvert_exporter": "python",
   "pygments_lexer": "ipython3",
   "version": "3.12.3"
  }
 },
 "nbformat": 4,
 "nbformat_minor": 5
}
