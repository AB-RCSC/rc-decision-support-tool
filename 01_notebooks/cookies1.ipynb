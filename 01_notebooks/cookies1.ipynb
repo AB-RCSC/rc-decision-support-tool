{
 "cells": [
  {
   "cell_type": "code",
   "execution_count": 27,
   "id": "7dd2e128",
   "metadata": {},
   "outputs": [],
   "source": [
    "import warnings\n",
    "warnings.filterwarnings('ignore')\n",
    "\n",
    "import os\n",
    "import re\n",
    "import json\n",
    "import pandas as pd\n",
    "import ipywidgets as widgets\n",
    "from IPython.display import display, Javascript, clear_output, HTML"
   ]
  },
  {
   "cell_type": "code",
   "execution_count": 29,
   "id": "9c27c156",
   "metadata": {},
   "outputs": [
    {
     "name": "stdout",
     "output_type": "stream",
     "text": [
      "Unknown\n"
     ]
    }
   ],
   "source": [
    "from urllib.parse import parse_qs\n",
    "from IPython.display import display, HTML\n",
    "import os\n",
    "\n",
    "# Function to get query parameters\n",
    "def get_query_parameters():\n",
    "    # Extract query parameters from the URL\n",
    "    query_string = os.environ.get('QUERY_STRING', '')  # Voila sets this when rendering\n",
    "    query_params = parse_qs(query_string)\n",
    "    return query_params\n",
    "\n",
    "# Get parameters\n",
    "params = get_query_parameters()\n",
    "filename = params.get(\"filename\", [\"Unknown\"])[0]"
   ]
  },
  {
   "cell_type": "code",
   "execution_count": 26,
   "id": "cfc7e7e7",
   "metadata": {},
   "outputs": [],
   "source": [
    "path = f\"../new_data_files/json/{filename}_storage.json\"\n",
    "\n",
    "# Ensure the directory exists\n",
    "os.makedirs(os.path.dirname(path), exist_ok=True)\n",
    "\n",
    "with open(path, 'w') as file:\n",
    "    json.dump({}, file)"
   ]
  },
  {
   "cell_type": "code",
   "execution_count": null,
   "id": "52df95f2",
   "metadata": {},
   "outputs": [],
   "source": [
    "with open(path, \"r\") as f:\n",
    "    stored_choices = json.load(f)"
   ]
  },
  {
   "cell_type": "code",
   "execution_count": null,
   "id": "9e82580d",
   "metadata": {},
   "outputs": [],
   "source": [
    "name = widgets.Text(\n",
    "    value='',\n",
    "    placeholder='Enter your name',\n",
    "    description='Name:',\n",
    "    disabled=False   \n",
    ")"
   ]
  },
  {
   "cell_type": "code",
   "execution_count": null,
   "id": "c07f1346",
   "metadata": {},
   "outputs": [],
   "source": [
    "display(name)"
   ]
  },
  {
   "cell_type": "code",
   "execution_count": null,
   "id": "63ef8d16",
   "metadata": {},
   "outputs": [],
   "source": [
    "# Create a buttons for submitting the file name\n",
    "file_name_submit_button = widgets.Button(description=\"Submit\", layout=widgets.Layout(border='1px solid black'))"
   ]
  },
  {
   "cell_type": "code",
   "execution_count": null,
   "id": "5bc9f422",
   "metadata": {},
   "outputs": [],
   "source": [
    "footer_output = widgets.Output()\n",
    "def on_file_button_clicked(event):\n",
    "    with footer_output:\n",
    "        clear_output()\n",
    "        global filename\n",
    "        \n",
    "        stored_choices[\"name\"] = name.value\n",
    "        \n",
    "        # Storing all the information\n",
    "        with open(path, \"w\") as f:\n",
    "            json.dump(stored_choices, f)\n",
    "            \n",
    "        next_note = \"cookies2.ipynb\"\n",
    "        # Construct URL to the next notebook with parameters\n",
    "        next_notebook_url = f'{next_note}?filename={filename}'\n",
    "        display(HTML(f\"\"\"\n",
    "                <script type=\"text/javascript\">\n",
    "                    window.open(\"{next_notebook_url}\", \"_blank\");\n",
    "                </script>\n",
    "            \"\"\"))"
   ]
  },
  {
   "cell_type": "code",
   "execution_count": null,
   "id": "8c96b891",
   "metadata": {},
   "outputs": [],
   "source": [
    "file_name_submit_button.on_click(on_file_button_clicked)"
   ]
  },
  {
   "cell_type": "code",
   "execution_count": null,
   "id": "8af4c67e",
   "metadata": {},
   "outputs": [],
   "source": [
    "display(file_name_submit_button, footer_output)"
   ]
  },
  {
   "cell_type": "code",
   "execution_count": null,
   "id": "b0ba91e1",
   "metadata": {},
   "outputs": [],
   "source": []
  }
 ],
 "metadata": {
  "kernelspec": {
   "display_name": "Python 3 (ipykernel)",
   "language": "python",
   "name": "python3"
  },
  "language_info": {
   "codemirror_mode": {
    "name": "ipython",
    "version": 3
   },
   "file_extension": ".py",
   "mimetype": "text/x-python",
   "name": "python",
   "nbconvert_exporter": "python",
   "pygments_lexer": "ipython3",
   "version": "3.11.11"
  }
 },
 "nbformat": 4,
 "nbformat_minor": 5
}
