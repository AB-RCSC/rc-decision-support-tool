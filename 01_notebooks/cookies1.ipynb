{
 "cells": [
  {
   "cell_type": "code",
   "execution_count": 27,
   "id": "7dd2e128",
   "metadata": {},
   "outputs": [],
   "source": [
    "import warnings\n",
    "warnings.filterwarnings('ignore')\n",
    "\n",
    "import os\n",
    "import re\n",
    "import json\n",
    "import pandas as pd\n",
    "import ipywidgets as widgets\n",
    "from IPython.display import display, Javascript, clear_output, HTML"
   ]
  },
  {
   "cell_type": "code",
   "execution_count": 29,
   "id": "9c27c156",
   "metadata": {},
   "outputs": [
    {
     "name": "stdout",
     "output_type": "stream",
     "text": [
      "Unknown\n"
     ]
    }
   ],
   "source": [
    "from urllib.parse import parse_qs\n",
    "from IPython.display import display, HTML\n",
    "import os\n",
    "\n",
    "# Function to get query parameters\n",
    "def get_query_parameters():\n",
    "    # Extract query parameters from the URL\n",
    "    query_string = os.environ.get('QUERY_STRING', '')  # Voila sets this when rendering\n",
    "    query_params = parse_qs(query_string)\n",
    "    return query_params\n",
    "\n",
    "# Get parameters\n",
    "params = get_query_parameters()\n",
    "filename = params.get(\"filename\", [\"Unknown\"])[0]"
   ]
  },
  {
   "cell_type": "code",
   "execution_count": 26,
   "id": "cfc7e7e7",
   "metadata": {},
   "outputs": [],
   "source": [
    "path = f\"../new_data_files/json/{filename}_storage.json\"\n",
    "\n",
    "# Ensure the directory exists\n",
    "os.makedirs(os.path.dirname(path), exist_ok=True)\n",
    "\n",
    "with open(path, 'w') as file:\n",
    "    json.dump({}, file)"
   ]
  },
  {
   "cell_type": "code",
   "execution_count": null,
   "id": "52df95f2",
   "metadata": {},
   "outputs": [],
   "source": [
    "with open(path, \"r\") as f:\n",
    "    stored_choices = json.load(f)"
   ]
  },
  {
   "cell_type": "code",
   "execution_count": null,
   "id": "9e82580d",
   "metadata": {},
   "outputs": [],
   "source": [
    "name = widgets.Text(\n",
    "    value='',\n",
    "    placeholder='Enter your name',\n",
    "    description='Name:',\n",
    "    disabled=False   \n",
    ")"
   ]
  },
  {
   "cell_type": "code",
   "execution_count": null,
   "id": "c07f1346",
   "metadata": {},
   "outputs": [],
   "source": [
    "display(name)"
   ]
  },
  {
   "cell_type": "code",
   "execution_count": null,
   "id": "63ef8d16",
   "metadata": {},
   "outputs": [],
   "source": [
    "# Create a buttons for submitting the file name\n",
    "file_name_submit_button = widgets.Button(description=\"Submit\", layout=widgets.Layout(border='1px solid black'))"
   ]
  },
  {
   "cell_type": "code",
   "execution_count": null,
   "id": "5bc9f422",
   "metadata": {},
   "outputs": [],
   "source": [
    "footer_output = widgets.Output()\n",
    "def on_file_button_clicked(event):\n",
    "    with footer_output:\n",
    "        clear_output()\n",
    "        global filename\n",
    "        \n",
    "        stored_choices[\"name\"] = name.value\n",
    "        \n",
    "        # Storing all the information\n",
    "        with open(path, \"w\") as f:\n",
    "            json.dump(stored_choices, f)\n",
    "            \n",
    "        next_note = \"cookies2.ipynb\"\n",
    "        # Construct URL to the next notebook with parameters\n",
    "        next_notebook_url = f'{next_note}?filename={filename}'\n",
    "        display(HTML(f\"\"\"\n",
    "                <script type=\"text/javascript\">\n",
    "                    window.open(\"{next_notebook_url}\", \"_blank\");\n",
    "                </script>\n",
    "            \"\"\"))"
   ]
  },
  {
   "cell_type": "code",
   "execution_count": null,
   "id": "8c96b891",
   "metadata": {},
   "outputs": [],
   "source": [
    "file_name_submit_button.on_click(on_file_button_clicked)"
   ]
  },
  {
   "cell_type": "code",
   "execution_count": null,
   "id": "8af4c67e",
   "metadata": {},
   "outputs": [],
   "source": [
    "display(file_name_submit_button, footer_output)"
   ]
  },
  {
   "cell_type": "code",
   "execution_count": null,
   "id": "b0ba91e1",
   "metadata": {},
   "outputs": [],
   "source": []
  },
  {
   "cell_type": "code",
   "execution_count": null,
   "id": "8fb7d342",
   "metadata": {},
   "outputs": [],
   "source": []
  },
  {
   "cell_type": "code",
   "execution_count": null,
   "id": "c8909ae8",
   "metadata": {},
   "outputs": [],
   "source": [
    "#----------------------------------------------------------------------------------------------------#"
   ]
  },
  {
   "cell_type": "code",
   "execution_count": 1,
   "id": "84dd5507",
   "metadata": {},
   "outputs": [
    {
     "name": "stdout",
     "output_type": "stream",
     "text": [
      "Branch ID: 0\n",
      "Text: Do you want to \n",
      " (1) Answer a specific question? \n",
      " (2) Collect monitoring data \n",
      " (3) Input a set of layers \n",
      " (B) Back\n",
      "\n",
      "Possible Answers: ['1', '2', '3']\n",
      "\n",
      "Branch ID: 1\n",
      "Text: Are you investigating \n",
      " (1) Species population size \n",
      " (2) Species population locations/habitat? \n",
      " (B) Back\n",
      "\n",
      "Possible Answers: ['1', '2']\n",
      "\n"
     ]
    }
   ],
   "source": [
    "import json\n",
    "\n",
    "# Your JSON data as a string\n",
    "data = \"\"\"\n",
    "{\n",
    "    \"DT_Branches\":\n",
    "\t{\n",
    "\t\t\"0\":\n",
    "\t\t{\n",
    "\t\t\t\"Text\" : \"Do you want to \\\\n (1) Answer a specific question? \\\\n (2) Collect monitoring data \\\\n (3) Input a set of layers \\\\n (B) Back\\\\n\",\n",
    "\t\t\t\"posAnswers\" : [\"1\",\"2\",\"3\"],\n",
    "\t\t\t\"ResponseIndices\" : [\"1\",\"7\",\"6\"],\n",
    "\t\t\t\"Function\" : \"\"\n",
    "\t\t\t},\n",
    "\t\t\"1\":\n",
    "\t\t\t{\n",
    "\t\t\t\"Text\" : \"Are you investigating \\\\n (1) Species population size \\\\n (2) Species population locations/habitat? \\\\n (B) Back\\\\n\",\n",
    "\t\t\t\"posAnswers\" : [\"1\",\"2\"],\n",
    "\t\t\t\"ResponseIndices\" : [\"2\",\"3\"],\n",
    "\t\t\t\"Function\" : \"\"\n",
    "\t\t\t}\n",
    "\t}\n",
    "}\n",
    "\"\"\"\n",
    "\n",
    "# Parse the JSON string\n",
    "parsed_data = json.loads(data)\n",
    "\n",
    "# Extract \"Text\" and \"posAnswers\" for each branch\n",
    "dt_branches = parsed_data[\"DT_Branches\"]\n",
    "\n",
    "for branch_id, branch_content in dt_branches.items():\n",
    "    text = branch_content[\"Text\"]\n",
    "    pos_answers = branch_content[\"posAnswers\"]\n",
    "    print(f\"Branch ID: {branch_id}\")\n",
    "    print(f\"Text: {text}\")\n",
    "    print(f\"Possible Answers: {pos_answers}\")\n",
    "    print()  # Blank line for better readability\n"
   ]
  },
  {
   "cell_type": "code",
   "execution_count": 4,
   "id": "c26e3018",
   "metadata": {},
   "outputs": [
    {
     "data": {
      "application/vnd.jupyter.widget-view+json": {
       "model_id": "7bac8c7c9c1143e5b35077aa31228f97",
       "version_major": 2,
       "version_minor": 0
      },
      "text/plain": [
       "GridspecLayout(children=(HTML(value='\\n    <div class=\"ques-widget\">\\n        <p>Question 1</p>\\n    </div>\\n …"
      ]
     },
     "execution_count": 4,
     "metadata": {},
     "output_type": "execute_result"
    }
   ],
   "source": [
    "from ipywidgets import GridspecLayout, HTML, Layout\n",
    "\n",
    "# Sample questions for the widgets\n",
    "questions = [f\"Question {i+1}\" for i in range(12)]\n",
    "\n",
    "# Function to create a question widget\n",
    "def create_question_widget(ques):\n",
    "    question_html = f\"\"\"\n",
    "    <div class=\"ques-widget\">\n",
    "        <p>{ques}</p>\n",
    "    </div>\n",
    "    \"\"\"\n",
    "    return HTML(value=question_html, layout=Layout(max_width='200px', padding='5px'))\n",
    "\n",
    "# Create a 3x4 grid layout\n",
    "grid = GridspecLayout(3, 4, height='600px')\n",
    "\n",
    "# Add the question widgets to the grid\n",
    "for i in range(3):  # Rows\n",
    "    for j in range(4):  # Columns\n",
    "        question_index = i * 4 + j\n",
    "        grid[i, j] = create_question_widget(questions[question_index])\n",
    "\n",
    "# Display the grid\n",
    "grid\n"
   ]
  },
  {
   "cell_type": "code",
   "execution_count": null,
   "id": "cffcca1c",
   "metadata": {},
   "outputs": [],
   "source": []
  }
 ],
 "metadata": {
  "kernelspec": {
   "display_name": "Python 3 (ipykernel)",
   "language": "python",
   "name": "python3"
  },
  "language_info": {
   "codemirror_mode": {
    "name": "ipython",
    "version": 3
   },
   "file_extension": ".py",
   "mimetype": "text/x-python",
   "name": "python",
   "nbconvert_exporter": "python",
   "pygments_lexer": "ipython3",
   "version": "3.11.11"
  }
 },
 "nbformat": 4,
 "nbformat_minor": 5
}
