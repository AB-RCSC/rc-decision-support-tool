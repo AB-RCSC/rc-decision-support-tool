{
 "cells": [
  {
   "cell_type": "code",
   "execution_count": 6,
   "id": "56b78aa6",
   "metadata": {},
   "outputs": [
    {
     "data": {
      "text/html": [
       "\n",
       "<script src=\"https://cdn.jsdelivr.net/npm/@fingerprintjs/fingerprintjs@3/dist/fp.min.js\"></script>\n",
       "\n",
       "<script type=\"text/javascript\">\n",
       "// Load the FingerprintJS agent\n",
       "FingerprintJS.load().then(fp => {\n",
       "  // Get the visitor identifier when the agent is ready\n",
       "  fp.get().then(result => {\n",
       "    const fingerprint = result.visitorId;\n",
       "\n",
       "    // Pass the fingerprint back to Python\n",
       "    var kernel = IPython.notebook.kernel;\n",
       "    var command = \"save_fingerprint_to_json('\" + fingerprint + \"')\";\n",
       "    kernel.execute(command);\n",
       "  });\n",
       "});\n",
       "</script>\n"
      ],
      "text/plain": [
       "<IPython.core.display.HTML object>"
      ]
     },
     "metadata": {},
     "output_type": "display_data"
    }
   ],
   "source": [
    "%run main_fingerprint.ipynb"
   ]
  },
  {
   "cell_type": "code",
   "execution_count": 7,
   "id": "bc168827",
   "metadata": {},
   "outputs": [],
   "source": [
    "# # Wait until fingerprint is captured\n",
    "# try:\n",
    "#     fingerprint_variable\n",
    "# except NameError:\n",
    "#     print(\"Fingerprint not generated yet. Please ensure JavaScript is working.\")\n",
    "# else:\n",
    "#     # Path to the user's JSON file\n",
    "#     user_json_file = fingerprint_filepath #os.path.join(fingerprint_filepath, f\"{fingerprint_variable}.json\")\n",
    "\n",
    "#     # Check if the file exists or create a new one\n",
    "#     if not os.path.exists(user_json_file):\n",
    "#         # Create a new file for this user\n",
    "#         user_data = {\"notes\": []}  # Example structure\n",
    "#         with open(user_json_file, 'w') as f:\n",
    "#             json.dump(user_data, f)\n",
    "#         print(f\"New file created for user: {fingerprint_variable}\")\n",
    "#     else:\n",
    "#         # Load existing user data\n",
    "#         with open(user_json_file, 'r') as f:\n",
    "#             user_data = json.load(f)\n",
    "#         print(f\"Loaded data for user: {fingerprint_variable}\")\n",
    "    \n",
    "#     if \"notes\" not in user_data:\n",
    "#         user_data[\"notes\"] = []  # Initialize as an empty list\n",
    "\n",
    "#     # Example: Add a note to the user's data\n",
    "#     user_data[\"notes\"].append(\"User visited this notebook.\")\n",
    "    \n",
    "#     # Save the updated data\n",
    "#     with open(user_json_file, 'w') as f:\n",
    "#         json.dump(user_data, f)\n",
    "\n",
    "#     print(f\"Updated data for user: {fingerprint_variable}\")\n"
   ]
  },
  {
   "cell_type": "code",
   "execution_count": 8,
   "id": "83619a36",
   "metadata": {},
   "outputs": [
    {
     "data": {
      "text/plain": [
       "'SAME'"
      ]
     },
     "metadata": {},
     "output_type": "display_data"
    }
   ],
   "source": [
    "display(fingerprint_variable)"
   ]
  },
  {
   "cell_type": "code",
   "execution_count": null,
   "id": "5dc1c4f3",
   "metadata": {},
   "outputs": [],
   "source": []
  }
 ],
 "metadata": {
  "kernelspec": {
   "display_name": "Python 3 (ipykernel)",
   "language": "python",
   "name": "python3"
  },
  "language_info": {
   "codemirror_mode": {
    "name": "ipython",
    "version": 3
   },
   "file_extension": ".py",
   "mimetype": "text/x-python",
   "name": "python",
   "nbconvert_exporter": "python",
   "pygments_lexer": "ipython3",
   "version": "3.12.3"
  }
 },
 "nbformat": 4,
 "nbformat_minor": 5
}
