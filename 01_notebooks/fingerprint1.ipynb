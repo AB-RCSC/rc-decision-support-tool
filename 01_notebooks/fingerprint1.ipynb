{
 "cells": [
  {
   "cell_type": "code",
   "execution_count": 3,
   "id": "31253d5e",
   "metadata": {},
   "outputs": [
    {
     "data": {
      "application/vnd.jupyter.widget-view+json": {
       "model_id": "7f2ed7f660c443a8ba04ed820d423f14",
       "version_major": 2,
       "version_minor": 0
      },
      "text/plain": [
       "HTML(value='\\n<script src=\"https://cdn.jsdelivr.net/npm/@fingerprintjs/fingerprintjs@3/dist/fp.min.js\"></scrip…"
      ]
     },
     "metadata": {},
     "output_type": "display_data"
    },
    {
     "data": {
      "application/vnd.jupyter.widget-view+json": {
       "model_id": "7f2ed7f660c443a8ba04ed820d423f14",
       "version_major": 2,
       "version_minor": 0
      },
      "text/plain": [
       "HTML(value='\\n<script src=\"https://cdn.jsdelivr.net/npm/@fingerprintjs/fingerprintjs@3/dist/fp.min.js\"></scrip…"
      ]
     },
     "metadata": {},
     "output_type": "display_data"
    }
   ],
   "source": [
    "%run main_fingerprint.ipynb"
   ]
  },
  {
   "cell_type": "code",
   "execution_count": 4,
   "id": "9727bb86",
   "metadata": {},
   "outputs": [
    {
     "ename": "TypeError",
     "evalue": "_path_exists: path should be string, bytes, os.PathLike or integer, not NoneType",
     "output_type": "error",
     "traceback": [
      "\u001b[1;31m---------------------------------------------------------------------------\u001b[0m",
      "\u001b[1;31mTypeError\u001b[0m                                 Traceback (most recent call last)",
      "Cell \u001b[1;32mIn[4], line 11\u001b[0m\n\u001b[0;32m      8\u001b[0m user_json_file \u001b[38;5;241m=\u001b[39m fingerprint_filepath \u001b[38;5;66;03m#os.path.join(fingerprint_filepath, f\"{fingerprint_variable}.json\")\u001b[39;00m\n\u001b[0;32m     10\u001b[0m \u001b[38;5;66;03m# Check if the file exists or create a new one\u001b[39;00m\n\u001b[1;32m---> 11\u001b[0m \u001b[38;5;28;01mif\u001b[39;00m \u001b[38;5;129;01mnot\u001b[39;00m \u001b[43mos\u001b[49m\u001b[38;5;241;43m.\u001b[39;49m\u001b[43mpath\u001b[49m\u001b[38;5;241;43m.\u001b[39;49m\u001b[43mexists\u001b[49m\u001b[43m(\u001b[49m\u001b[43muser_json_file\u001b[49m\u001b[43m)\u001b[49m:\n\u001b[0;32m     12\u001b[0m     \u001b[38;5;66;03m# Create a new file for this user\u001b[39;00m\n\u001b[0;32m     13\u001b[0m     user_data \u001b[38;5;241m=\u001b[39m {\u001b[38;5;124m\"\u001b[39m\u001b[38;5;124mnotes\u001b[39m\u001b[38;5;124m\"\u001b[39m: []}  \u001b[38;5;66;03m# Example structure\u001b[39;00m\n\u001b[0;32m     14\u001b[0m     \u001b[38;5;28;01mwith\u001b[39;00m \u001b[38;5;28mopen\u001b[39m(user_json_file, \u001b[38;5;124m'\u001b[39m\u001b[38;5;124mw\u001b[39m\u001b[38;5;124m'\u001b[39m) \u001b[38;5;28;01mas\u001b[39;00m f:\n",
      "\u001b[1;31mTypeError\u001b[0m: _path_exists: path should be string, bytes, os.PathLike or integer, not NoneType"
     ]
    }
   ],
   "source": [
    "# Wait until fingerprint is captured\n",
    "try:\n",
    "    fingerprint_variable\n",
    "except NameError:\n",
    "    print(\"Fingerprint not generated yet. Please ensure JavaScript is working.\")\n",
    "else:\n",
    "    # Path to the user's JSON file\n",
    "    user_json_file = fingerprint_filepath #os.path.join(fingerprint_filepath, f\"{fingerprint_variable}.json\")\n",
    "\n",
    "    # Check if the file exists or create a new one\n",
    "    if not os.path.exists(user_json_file):\n",
    "        # Create a new file for this user\n",
    "        user_data = {\"notes\": []}  # Example structure\n",
    "        with open(user_json_file, 'w') as f:\n",
    "            json.dump(user_data, f)\n",
    "        print(f\"New file created for user: {fingerprint_variable}\")\n",
    "    else:\n",
    "        # Load existing user data\n",
    "        with open(user_json_file, 'r') as f:\n",
    "            user_data = json.load(f)\n",
    "        print(f\"Loaded data for user: {fingerprint_variable}\")\n",
    "    \n",
    "    if \"notes\" not in user_data:\n",
    "        user_data[\"notes\"] = []  # Initialize as an empty list\n",
    "\n",
    "    # Example: Add a note to the user's data\n",
    "    user_data[\"notes\"].append(\"User visited this notebook.\")\n",
    "    \n",
    "    # Save the updated data\n",
    "    with open(user_json_file, 'w') as f:\n",
    "        json.dump(user_data, f)\n",
    "\n",
    "    print(f\"Updated data for user: {fingerprint_variable}\")\n"
   ]
  },
  {
   "cell_type": "code",
   "execution_count": 5,
   "id": "5fc9efb7",
   "metadata": {},
   "outputs": [
    {
     "data": {
      "text/plain": [
       "None"
      ]
     },
     "metadata": {},
     "output_type": "display_data"
    }
   ],
   "source": [
    "display(fingerprint_variable)"
   ]
  },
  {
   "cell_type": "code",
   "execution_count": null,
   "id": "9ba6f1b3",
   "metadata": {},
   "outputs": [],
   "source": []
  },
  {
   "cell_type": "code",
   "execution_count": null,
   "id": "d0ca66e7",
   "metadata": {},
   "outputs": [],
   "source": []
  },
  {
   "cell_type": "code",
   "execution_count": null,
   "id": "6e780cfc",
   "metadata": {},
   "outputs": [],
   "source": []
  },
  {
   "cell_type": "code",
   "execution_count": null,
   "id": "349b29ee",
   "metadata": {},
   "outputs": [],
   "source": []
  },
  {
   "cell_type": "code",
   "execution_count": null,
   "id": "a43dc62f",
   "metadata": {},
   "outputs": [],
   "source": []
  },
  {
   "cell_type": "code",
   "execution_count": null,
   "id": "af6b4819",
   "metadata": {},
   "outputs": [],
   "source": []
  },
  {
   "cell_type": "code",
   "execution_count": 7,
   "id": "a1f2d9e4",
   "metadata": {},
   "outputs": [
    {
     "data": {
      "application/vnd.jupyter.widget-view+json": {
       "model_id": "512842604c24461cb38c00ef54a97c87",
       "version_major": 2,
       "version_minor": 0
      },
      "text/plain": [
       "HTML(value='\\n    \\n<script src=\"https://cdn.jsdelivr.net/npm/@fingerprintjs/fingerprintjs@3/dist/fp.min.js\"><…"
      ]
     },
     "metadata": {},
     "output_type": "display_data"
    },
    {
     "data": {
      "application/vnd.jupyter.widget-view+json": {
       "model_id": "899a41d2c2574c9eb9a94460198d21a0",
       "version_major": 2,
       "version_minor": 0
      },
      "text/plain": [
       "Text(value='', layout=Layout(display='none'))"
      ]
     },
     "metadata": {},
     "output_type": "display_data"
    },
    {
     "data": {
      "application/vnd.jupyter.widget-view+json": {
       "model_id": "6e44f64330f44e1db761d452a72758ec",
       "version_major": 2,
       "version_minor": 0
      },
      "text/plain": [
       "Button(description='Save Fingerprint', style=ButtonStyle())"
      ]
     },
     "metadata": {},
     "output_type": "display_data"
    }
   ],
   "source": [
    "import json\n",
    "import os\n",
    "import ipywidgets as widgets\n",
    "from IPython.display import display\n",
    "from datetime import datetime\n",
    "\n",
    "# Create a directory to store fingerprint JSON files\n",
    "if not os.path.exists(\"fingerprints\"):\n",
    "    os.makedirs(\"fingerprints\")\n",
    "\n",
    "# Function to save the fingerprint to JSON\n",
    "def save_fingerprint_to_json(fingerprint):\n",
    "    # Prepare the data to save in the JSON file\n",
    "    data = {\n",
    "        'fingerprint': fingerprint,\n",
    "        'timestamp': datetime.now().strftime(\"%Y-%m-%d %H:%M:%S\")\n",
    "    }\n",
    "\n",
    "    # Define the file path based on the fingerprint\n",
    "    file_path = f'fingerprints/{fingerprint}.json'\n",
    "\n",
    "    # Save the data to the JSON file\n",
    "    with open(file_path, 'w') as f:\n",
    "        json.dump(data, f, indent=4)\n",
    "\n",
    "    # Confirmation message in the notebook\n",
    "    print(f\"Fingerprint saved to {file_path}\")\n",
    "\n",
    "# JavaScript code to capture the fingerprint and store it in a hidden input field\n",
    "fingerprint_js = \"\"\"\n",
    "<script src=\"https://cdn.jsdelivr.net/npm/@fingerprintjs/fingerprintjs@3/dist/fp.min.js\"></script>\n",
    "<script type=\"text/javascript\">\n",
    "    FingerprintJS.load().then(fp => {\n",
    "        fp.get().then(result => {\n",
    "            const fingerprint = result.visitorId;\n",
    "            console.log(fingerprint);\n",
    "            \n",
    "            // Store the fingerprint in the hidden input widget\n",
    "            document.getElementById('fingerprint_input').value = fingerprint;\n",
    "        });\n",
    "    });\n",
    "</script>\n",
    "\"\"\"\n",
    "\n",
    "# Create an HTML widget that injects the fingerprint JavaScript\n",
    "html_widget = widgets.HTML(f\"\"\"\n",
    "    {fingerprint_js}\n",
    "    <input type=\"hidden\" id=\"fingerprint_input\" value=\"\"/>\n",
    "\"\"\")\n",
    "\n",
    "# Create a hidden input widget to store the fingerprint (linked to the JS input field)\n",
    "fingerprint_input = widgets.Text(value='', layout=widgets.Layout(display='none'))\n",
    "\n",
    "# Create a button to trigger the saving process\n",
    "save_button = widgets.Button(description=\"Save Fingerprint\")\n",
    "\n",
    "# Callback function to be triggered when the button is clicked\n",
    "def on_button_click(b):\n",
    "    fingerprint = fingerprint_input.value  # Get the value from the hidden input\n",
    "    if fingerprint:\n",
    "        save_fingerprint_to_json(fingerprint)  # Save the fingerprint to a JSON file\n",
    "    else:\n",
    "        print(\"Fingerprint not captured yet\")\n",
    "\n",
    "# Attach the callback to the button\n",
    "save_button.on_click(on_button_click)\n",
    "\n",
    "# Display the widgets in Voila\n",
    "display(html_widget, fingerprint_input, save_button)\n"
   ]
  },
  {
   "cell_type": "code",
   "execution_count": null,
   "id": "252500ba",
   "metadata": {},
   "outputs": [],
   "source": []
  },
  {
   "cell_type": "code",
   "execution_count": null,
   "id": "6bf2673a",
   "metadata": {},
   "outputs": [],
   "source": []
  }
 ],
 "metadata": {
  "kernelspec": {
   "display_name": "Python 3 (ipykernel)",
   "language": "python",
   "name": "python3"
  },
  "language_info": {
   "codemirror_mode": {
    "name": "ipython",
    "version": 3
   },
   "file_extension": ".py",
   "mimetype": "text/x-python",
   "name": "python",
   "nbconvert_exporter": "python",
   "pygments_lexer": "ipython3",
   "version": "3.12.7"
  }
 },
 "nbformat": 4,
 "nbformat_minor": 5
}
