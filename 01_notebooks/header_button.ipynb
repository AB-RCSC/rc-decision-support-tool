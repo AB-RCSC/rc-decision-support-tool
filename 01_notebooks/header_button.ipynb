{
 "cells": [
  {
   "cell_type": "code",
   "execution_count": 10,
   "id": "d6868b03-8d8e-47de-97dd-75541e9bd31c",
   "metadata": {},
   "outputs": [],
   "source": [
    "from ipywidgets import Button, Layout\n",
    "\n",
    "prog1 = Button(description='Objectives & Resources', \n",
    "            style=dict(\n",
    "                font_style='normal',\n",
    "                font_weight='bold',\n",
    "                font_variant=\"normal\",\n",
    "                text_color='black',\n",
    "                text_decoration='normal',\n",
    "                width='50%', height='80px'),\n",
    "            layout=Layout(width='190px', height='60px', border_radius = '10px')\n",
    "           )\n",
    "prog1.style.button_color = '#F7F056'\n",
    "# prog1"
   ]
  },
  {
   "cell_type": "code",
   "execution_count": 3,
   "id": "f90da905-5958-476e-96e6-87f77944734b",
   "metadata": {},
   "outputs": [
    {
     "data": {
      "application/vnd.jupyter.widget-view+json": {
       "model_id": "69da9f8dc5674de48f77e5d53dd33c36",
       "version_major": 2,
       "version_minor": 0
      },
      "text/plain": [
       "Button(description='Study area & Site selection constraints', layout=Layout(flex_flow='row wrap', height='40px…"
      ]
     },
     "execution_count": 3,
     "metadata": {},
     "output_type": "execute_result"
    }
   ],
   "source": [
    "header_prog2 = Button(description='Study area & Site selection constraints', \n",
    "            style=dict(\n",
    "                font_style='normal',\n",
    "                font_weight='bold',\n",
    "                font_variant=\"normal\",\n",
    "                text_color='black',\n",
    "                text_decoration='normal',\n",
    "                width='50%', height='80px'),\n",
    "            layout=Layout(flex_flow = 'row wrap',width='270px', height='40px')\n",
    "           )\n",
    "header_prog2.style.button_color = '#F7CB45'\n",
    "# header_prog2"
   ]
  },
  {
   "cell_type": "code",
   "execution_count": 4,
   "id": "a8bf54e9-4365-4cd6-809d-252df047a30a",
   "metadata": {},
   "outputs": [
    {
     "data": {
      "application/vnd.jupyter.widget-view+json": {
       "model_id": "0a7417b6bc3a4bf289acfa249e1865ae",
       "version_major": 2,
       "version_minor": 0
      },
      "text/plain": [
       "Button(description='Duration & Timing', layout=Layout(height='40px', width='160px'), style=ButtonStyle(button_…"
      ]
     },
     "execution_count": 4,
     "metadata": {},
     "output_type": "execute_result"
    }
   ],
   "source": [
    "header_prog3 = Button(description='Duration & Timing', \n",
    "            style=dict(\n",
    "                font_style='normal',\n",
    "                font_weight='bold',\n",
    "                font_variant=\"normal\",\n",
    "                text_color='black',\n",
    "                text_decoration='normal',\n",
    "                width='50%', height='80px'),\n",
    "            layout=Layout(width='160px', height='40px')\n",
    "           )\n",
    "header_prog3.style.button_color = '#F7CB45'\n",
    "# header_prog3"
   ]
  },
  {
   "cell_type": "code",
   "execution_count": 5,
   "id": "1d2fd4bf-4cba-49ab-9886-2718c8c61e20",
   "metadata": {},
   "outputs": [
    {
     "data": {
      "application/vnd.jupyter.widget-view+json": {
       "model_id": "326fe92e0eca481799ce2b8a562d28bf",
       "version_major": 2,
       "version_minor": 0
      },
      "text/plain": [
       "Button(description='Target species', layout=Layout(height='40px', width='160px'), style=ButtonStyle(button_col…"
      ]
     },
     "execution_count": 5,
     "metadata": {},
     "output_type": "execute_result"
    }
   ],
   "source": [
    "header_prog4 = Button(description='Target species', \n",
    "            style=dict(\n",
    "                font_style='normal',\n",
    "                font_weight='bold',\n",
    "                font_variant=\"normal\",\n",
    "                text_color='black',\n",
    "                text_decoration='normal',\n",
    "                width='50%', height='80px'),\n",
    "            layout=Layout(width='160px', height='40px')\n",
    "           )\n",
    "header_prog4.style.button_color = '#D9CCE3' # <!--#BBCCEE-->\n",
    "# header_prog4"
   ]
  },
  {
   "cell_type": "code",
   "execution_count": 6,
   "id": "d53e1a86-ab94-4107-b25a-3b5fbe66b937",
   "metadata": {},
   "outputs": [
    {
     "data": {
      "application/vnd.jupyter.widget-view+json": {
       "model_id": "56f5312f2f1e4833a955c081550b98f3",
       "version_major": 2,
       "version_minor": 0
      },
      "text/plain": [
       "Button(description='Equipment & Deployment', layout=Layout(height='40px', width='190px'), style=ButtonStyle(bu…"
      ]
     },
     "execution_count": 6,
     "metadata": {},
     "output_type": "execute_result"
    }
   ],
   "source": [
    "header_prog5 = Button(description='Equipment & Deployment', \n",
    "            style=dict(\n",
    "                font_style='normal',\n",
    "                font_weight='bold',\n",
    "                font_variant=\"normal\",\n",
    "                text_color='black',\n",
    "                text_decoration='normal',\n",
    "                width='50%', height='80px'),\n",
    "            layout=Layout(width='190px', height='40px')\n",
    "           )\n",
    "header_prog5.style.button_color = '#EEDD88'\n",
    "# header_prog5"
   ]
  },
  {
   "cell_type": "code",
   "execution_count": 7,
   "id": "91d89512-0cb4-43ed-a46b-c41e2f5b1559",
   "metadata": {},
   "outputs": [
    {
     "data": {
      "application/vnd.jupyter.widget-view+json": {
       "model_id": "de9973c4685b4368ac339e5dc277964f",
       "version_major": 2,
       "version_minor": 0
      },
      "text/plain": [
       "Button(description='Data & Analysis', layout=Layout(height='40px', width='160px'), style=ButtonStyle(button_co…"
      ]
     },
     "execution_count": 7,
     "metadata": {},
     "output_type": "execute_result"
    }
   ],
   "source": [
    "header_prog6 = Button(description='Data & Analysis', \n",
    "            style=dict(\n",
    "                font_style='normal',\n",
    "                font_weight='bold',\n",
    "                font_variant=\"normal\",\n",
    "                text_color='black',\n",
    "                text_decoration='normal',\n",
    "                width='50%', height='80px'),\n",
    "            layout=Layout(width='160px', height='40px')\n",
    "           )\n",
    "header_prog6.style.button_color = '#7BAFDE' # <!-- CCEEFF   #BBCCEE-->\n",
    "# header_prog6"
   ]
  },
  {
   "cell_type": "code",
   "execution_count": 8,
   "id": "dd9d5626-cc86-423f-8bde-4a7249c94880",
   "metadata": {},
   "outputs": [
    {
     "data": {
      "application/vnd.jupyter.widget-view+json": {
       "model_id": "1613d65840ee47eabe3a84cc16044b24",
       "version_major": 2,
       "version_minor": 0
      },
      "text/plain": [
       "Button(description='Recommendations', layout=Layout(height='40px', width='170px'), style=ButtonStyle(button_co…"
      ]
     },
     "execution_count": 8,
     "metadata": {},
     "output_type": "execute_result"
    }
   ],
   "source": [
    "header_prog7 = Button(description='Recommendations', \n",
    "            style=dict(\n",
    "                font_style='normal',\n",
    "                font_weight='bold',\n",
    "                font_variant=\"normal\",\n",
    "                text_color='black',\n",
    "                text_decoration='normal',\n",
    "                width='50%', height='80px'),\n",
    "            layout=Layout(width='170px', height='40px')\n",
    "           )\n",
    "header_prog7.style.button_color = '#CCDDAA' # <!--#90C987-->\n",
    "# header_prog7"
   ]
  },
  {
   "cell_type": "code",
   "execution_count": null,
   "id": "5215544b-db71-4a82-81f1-97656a6a7680",
   "metadata": {},
   "outputs": [],
   "source": []
  }
 ],
 "metadata": {
  "kernelspec": {
   "display_name": "Python 3 (ipykernel)",
   "language": "python",
   "name": "python3"
  },
  "language_info": {
   "codemirror_mode": {
    "name": "ipython",
    "version": 3
   },
   "file_extension": ".py",
   "mimetype": "text/x-python",
   "name": "python",
   "nbconvert_exporter": "python",
   "pygments_lexer": "ipython3",
   "version": "3.12.3"
  }
 },
 "nbformat": 4,
 "nbformat_minor": 5
}
