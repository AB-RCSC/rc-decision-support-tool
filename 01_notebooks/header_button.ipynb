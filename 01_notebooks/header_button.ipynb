{
 "cells": [
  {
   "cell_type": "code",
   "execution_count": 1,
   "id": "899b4b10",
   "metadata": {},
   "outputs": [],
   "source": [
    "from ipywidgets import Button, Layout\n",
    "import ipywidgets as widgets\n",
    "import re"
   ]
  },
  {
   "cell_type": "code",
   "execution_count": 2,
   "id": "5946b79f",
   "metadata": {},
   "outputs": [],
   "source": [
    "def get_css_class(css_file, class_name):\n",
    "    with open(css_file, 'r') as file:\n",
    "        css = file.read()\n",
    "        # Use regex to extract the class\n",
    "        pattern = r'\\.' + re.escape(class_name) + r'\\s*\\{([^}]*)\\}'\n",
    "        match = re.search(pattern, css, re.DOTALL)\n",
    "        if match:\n",
    "            css_content = match.group(1).strip()\n",
    "            return f'\\n<style>\\n.{class_name} {{\\n{css_content}\\n}}\\n</style>\\n'\n",
    "        else:\n",
    "            return None"
   ]
  },
  {
   "cell_type": "code",
   "execution_count": 3,
   "id": "04b89443",
   "metadata": {},
   "outputs": [],
   "source": [
    "# Custom CSS to modify the header design\n",
    "header_css = get_css_class('style.css', 'custom-header')"
   ]
  },
  {
   "cell_type": "code",
   "execution_count": 13,
   "id": "faec21e3",
   "metadata": {},
   "outputs": [],
   "source": [
    "header_prog1 = Button(description='Objectives & Resources',\n",
    "                      layout=Layout(height='60px', width='auto'))\n",
    "\n",
    "header_prog1.style.button_color = '#F7F056'\n",
    "header_prog1.add_class('custom-header')\n",
    "header_widget = widgets.HTML(value=header_css)"
   ]
  },
  {
   "cell_type": "code",
   "execution_count": 5,
   "id": "d6868b03-8d8e-47de-97dd-75541e9bd31c",
   "metadata": {},
   "outputs": [],
   "source": [
    "# prog1 = Button(description='Objectives & Resources', \n",
    "#             style=dict(\n",
    "#                 font_style='normal',\n",
    "#                 font_weight='bold',\n",
    "#                 font_variant=\"normal\",\n",
    "#                 text_color='black',\n",
    "#                 text_decoration='normal',\n",
    "#                 width='50%', height='80px'),\n",
    "#             layout=Layout(width='190px', height='60px'\n",
    "#            ))\n",
    "# prog1.style.button_color = '#F7F056'\n",
    "# # prog1"
   ]
  },
  {
   "cell_type": "code",
   "execution_count": 14,
   "id": "f90da905-5958-476e-96e6-87f77944734b",
   "metadata": {},
   "outputs": [],
   "source": [
    "# header_prog2 = Button(description='Study area & Site selection constraints', \n",
    "#             style=dict(\n",
    "#                 font_style='normal',\n",
    "#                 font_weight='bold',\n",
    "#                 font_variant=\"normal\",\n",
    "#                 text_color='black',\n",
    "#                 text_decoration='normal',\n",
    "#                 width='50%', height='80px'),\n",
    "#             layout=Layout(flex_flow = 'row wrap',width='270px', height='40px')\n",
    "#            )\n",
    "header_prog2 = Button(description='Study area & Site selection constraints',\n",
    "                      layout=Layout(height='60px', width='auto'))\n",
    "header_prog2.style.button_color = '#F7CB45'\n",
    "header_prog2.add_class('custom-header')\n",
    "header_widget = widgets.HTML(value=header_css)\n",
    "# header_prog2"
   ]
  },
  {
   "cell_type": "code",
   "execution_count": 15,
   "id": "a8bf54e9-4365-4cd6-809d-252df047a30a",
   "metadata": {},
   "outputs": [],
   "source": [
    "# header_prog3 = Button(description='Duration & Timing', \n",
    "#             style=dict(\n",
    "#                 font_style='normal',\n",
    "#                 font_weight='bold',\n",
    "#                 font_variant=\"normal\",\n",
    "#                 text_color='black',\n",
    "#                 text_decoration='normal',\n",
    "#                 width='50%', height='80px'),\n",
    "#             layout=Layout(width='160px', height='40px')\n",
    "#            )\n",
    "header_prog3 = Button(description='Duration & Timing',\n",
    "                      layout=Layout(height='60px', width='auto'))\n",
    "header_prog3.style.button_color = '#F7CB45'\n",
    "header_prog3.add_class('custom-header')\n",
    "header_widget = widgets.HTML(value=header_css)\n",
    "# header_prog3"
   ]
  },
  {
   "cell_type": "code",
   "execution_count": 16,
   "id": "1d2fd4bf-4cba-49ab-9886-2718c8c61e20",
   "metadata": {},
   "outputs": [],
   "source": [
    "# header_prog4 = Button(description='Target species', \n",
    "#             style=dict(\n",
    "#                 font_style='normal',\n",
    "#                 font_weight='bold',\n",
    "#                 font_variant=\"normal\",\n",
    "#                 text_color='black',\n",
    "#                 text_decoration='normal',\n",
    "#                 width='50%', height='80px'),\n",
    "#             layout=Layout(width='160px', height='40px')\n",
    "#            )\n",
    "header_prog4 = Button(description='Target species',\n",
    "                      layout=Layout(height='60px', width='auto'))\n",
    "header_prog4.style.button_color = '#D9CCE3' # <!--#BBCCEE-->\n",
    "header_prog4.add_class('custom-header')\n",
    "header_widget = widgets.HTML(value=header_css)\n",
    "# header_prog4"
   ]
  },
  {
   "cell_type": "code",
   "execution_count": 17,
   "id": "d53e1a86-ab94-4107-b25a-3b5fbe66b937",
   "metadata": {},
   "outputs": [],
   "source": [
    "# header_prog5 = Button(description='Equipment & Deployment', \n",
    "#             style=dict(\n",
    "#                 font_style='normal',\n",
    "#                 font_weight='bold',\n",
    "#                 font_variant=\"normal\",\n",
    "#                 text_color='black',\n",
    "#                 text_decoration='normal',\n",
    "#                 width='50%', height='80px'),\n",
    "#             layout=Layout(width='190px', height='40px')\n",
    "#            )\n",
    "header_prog5 = Button(description='Equipment & Deployment',\n",
    "                      layout=Layout(height='60px', width='auto'))\n",
    "header_prog5.style.button_color = '#EEDD88'\n",
    "header_prog5.add_class('custom-header')\n",
    "header_widget = widgets.HTML(value=header_css)\n",
    "# header_prog5"
   ]
  },
  {
   "cell_type": "code",
   "execution_count": 18,
   "id": "91d89512-0cb4-43ed-a46b-c41e2f5b1559",
   "metadata": {},
   "outputs": [],
   "source": [
    "# header_prog6 = Button(description='Data & Analysis', \n",
    "#             style=dict(\n",
    "#                 font_style='normal',\n",
    "#                 font_weight='bold',\n",
    "#                 font_variant=\"normal\",\n",
    "#                 text_color='black',\n",
    "#                 text_decoration='normal',\n",
    "#                 width='50%', height='80px'),\n",
    "#             layout=Layout(width='160px', height='40px')\n",
    "#            )\n",
    "header_prog6 = Button(description='Data & Analysis',\n",
    "                      layout=Layout(height='60px', width='auto'))\n",
    "header_prog6.style.button_color = '#7BAFDE' # <!-- CCEEFF   #BBCCEE-->\n",
    "header_prog6.add_class('custom-header')\n",
    "header_widget = widgets.HTML(value=header_css)\n",
    "# header_prog6"
   ]
  },
  {
   "cell_type": "code",
   "execution_count": 19,
   "id": "dd9d5626-cc86-423f-8bde-4a7249c94880",
   "metadata": {},
   "outputs": [],
   "source": [
    "# header_prog7 = Button(description='Recommendations', \n",
    "#             style=dict(\n",
    "#                 font_style='normal',\n",
    "#                 font_weight='bold',\n",
    "#                 font_variant=\"normal\",\n",
    "#                 text_color='black',\n",
    "#                 text_decoration='normal',\n",
    "#                 width='50%', height='80px'),\n",
    "#             layout=Layout(width='170px', height='40px')\n",
    "#            )\n",
    "header_prog7 = Button(description='Recommendations',\n",
    "                      layout=Layout(height='60px', width='auto'))\n",
    "header_prog7.style.button_color = '#CCDDAA' # <!--#90C987-->\n",
    "header_prog7.add_class('custom-header')\n",
    "header_widget = widgets.HTML(value=header_css)\n",
    "# header_prog7"
   ]
  },
  {
   "cell_type": "code",
   "execution_count": 12,
   "id": "5215544b-db71-4a82-81f1-97656a6a7680",
   "metadata": {},
   "outputs": [],
   "source": [
    "# header_widget = widgets.HTML(value=header_css)"
   ]
  },
  {
   "cell_type": "code",
   "execution_count": null,
   "id": "55f76647",
   "metadata": {},
   "outputs": [],
   "source": []
  }
 ],
 "metadata": {
  "kernelspec": {
   "display_name": "Python 3 (ipykernel)",
   "language": "python",
   "name": "python3"
  },
  "language_info": {
   "codemirror_mode": {
    "name": "ipython",
    "version": 3
   },
   "file_extension": ".py",
   "mimetype": "text/x-python",
   "name": "python",
   "nbconvert_exporter": "python",
   "pygments_lexer": "ipython3",
   "version": "3.12.7"
  }
 },
 "nbformat": 4,
 "nbformat_minor": 5
}
