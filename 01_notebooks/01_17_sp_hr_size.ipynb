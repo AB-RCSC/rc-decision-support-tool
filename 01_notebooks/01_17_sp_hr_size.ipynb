{
 "cells": [
  {
   "cell_type": "code",
   "execution_count": 1,
   "id": "66ed741d",
   "metadata": {},
   "outputs": [],
   "source": [
    "import warnings\n",
    "warnings.filterwarnings('ignore')\n",
    "\n",
    "import os\n",
    "import re\n",
    "import json\n",
    "import webbrowser\n",
    "import pandas as pd\n",
    "import ipywidgets as widgets\n",
    "from datetime import datetime\n",
    "from ipywidgets import AppLayout, Button, Layout\n",
    "from ipywidgets import Button, Layout, jslink, IntText, IntSlider\n",
    "from IPython.display import display, Javascript, Markdown, clear_output, HTML\n",
    "from ipywidgets import GridspecLayout\n",
    "from markdown_it import MarkdownIt"
   ]
  },
  {
   "cell_type": "code",
   "execution_count": 2,
   "id": "f50c9333",
   "metadata": {},
   "outputs": [],
   "source": [
    "%run ../02_ui_components/progressbar.ipynb"
   ]
  },
  {
   "cell_type": "code",
   "execution_count": 3,
   "id": "1b2f8d63",
   "metadata": {},
   "outputs": [],
   "source": [
    "%run ../02_ui_components/sidebar.ipynb"
   ]
  },
  {
   "cell_type": "code",
   "execution_count": 4,
   "id": "a3a5f8c9",
   "metadata": {},
   "outputs": [],
   "source": [
    "%run ../02_ui_components/dropdown.ipynb"
   ]
  },
  {
   "cell_type": "code",
   "execution_count": null,
   "id": "fec08f9a",
   "metadata": {},
   "outputs": [],
   "source": [
    "%run ../02_ui_components/header_button.ipynb"
   ]
  },
  {
   "cell_type": "code",
   "execution_count": null,
   "id": "043d4a4d",
   "metadata": {},
   "outputs": [],
   "source": [
    "%run ../02_ui_components/more_info.ipynb"
   ]
  },
  {
   "cell_type": "code",
   "execution_count": 5,
   "id": "8420935b",
   "metadata": {},
   "outputs": [],
   "source": [
    "def get_css_class(css_file, class_name):\n",
    "    with open(css_file, 'r') as file:\n",
    "        css = file.read()\n",
    "        # Use regex to extract the class\n",
    "        pattern = r'\\.' + re.escape(class_name) + r'\\s*\\{([^}]*)\\}'\n",
    "        match = re.search(pattern, css, re.DOTALL)\n",
    "        if match:\n",
    "            css_content = match.group(1).strip()\n",
    "            return f'\\n<style>\\n.{class_name} {{\\n{css_content}\\n}}\\n</style>\\n'\n",
    "        else:\n",
    "            return None"
   ]
  },
  {
   "cell_type": "code",
   "execution_count": null,
   "id": "08687a72",
   "metadata": {},
   "outputs": [],
   "source": [
    "css_path = \"../css/style.css\""
   ]
  },
  {
   "cell_type": "code",
   "execution_count": 6,
   "id": "13557dd0",
   "metadata": {},
   "outputs": [],
   "source": [
    "# Custom CSS to modify the question button design\n",
    "ques_button_css = get_css_class(css_path, 'ques-button')"
   ]
  },
  {
   "cell_type": "code",
   "execution_count": 7,
   "id": "dc7223dd",
   "metadata": {},
   "outputs": [],
   "source": [
    "# Custom CSS to modify the option button design\n",
    "opt_button_css = get_css_class(css_path, 'opt-button')"
   ]
  },
  {
   "cell_type": "code",
   "execution_count": 8,
   "id": "0e20e2ea",
   "metadata": {},
   "outputs": [],
   "source": [
    "# Custom CSS to modify the header design\n",
    "header_css = get_css_class(css_path, 'custom-header')"
   ]
  },
  {
   "cell_type": "code",
   "execution_count": 9,
   "id": "ecf635e0",
   "metadata": {},
   "outputs": [],
   "source": [
    "# Custom CSS to modify the footer design\n",
    "footer_css = get_css_class(css_path, 'custom-footer')"
   ]
  },
  {
   "cell_type": "code",
   "execution_count": 10,
   "id": "9e3f1c6e",
   "metadata": {},
   "outputs": [],
   "source": [
    "# Create an HTML widget for the background color\n",
    "background_color_html = widgets.HTML(\n",
    "    value = get_css_class(css_path, 'custom-vbox')\n",
    ")"
   ]
  },
  {
   "cell_type": "code",
   "execution_count": 11,
   "id": "e83e30ac",
   "metadata": {},
   "outputs": [],
   "source": [
    "# # Loading the header image within an image widget\n",
    "# header_prog1 = widgets.Image(value=open(\"../03_icons/icon_level-banner_1-0_objective-resources.png\", \"rb\").read(), format='png',\n",
    "#                       layout=widgets.Layout(width='auto', height='70px'))\n",
    "\n",
    "# header_prog2 = widgets.Image(value=open(\"../03_icons/icon_level-banner_2-1_project-level_study-area_site-selection.png\", \"rb\").read(), format='png',\n",
    "#                       layout=widgets.Layout(width='auto', height='70px'))\n",
    "\n",
    "# header_prog3 = widgets.Image(value=open(\"../03_icons/icon_level-banner_2-2_project-level_duration-timing.png\", \"rb\").read(), format='png',\n",
    "#                       layout=widgets.Layout(width='auto', height='70px'))\n",
    "\n",
    "# header_prog4 = widgets.Image(value=open(\"../03_icons/icon_level-banner_4-0_target-species.png\", \"rb\").read(), format='png',\n",
    "#                       layout=widgets.Layout(width='auto', height='70px'))\n",
    "\n",
    "# header_prog5 = widgets.Image(value=open(\"../03_icons/icon_level-banner_5-1_equipment-deployment.png\", \"rb\").read(), format='png',\n",
    "#                       layout=widgets.Layout(width='auto', height='70px'))\n",
    "\n",
    "# header_prog6 = widgets.Image(value=open(\"../03_icons/icon_level-banner_6-0_data-analysis.png\", \"rb\").read(), format='png',\n",
    "#                       layout=widgets.Layout(width='auto', height='70px'))"
   ]
  },
  {
   "cell_type": "code",
   "execution_count": 12,
   "id": "0ca8cb6d",
   "metadata": {},
   "outputs": [],
   "source": [
    "header = header_prog4"
   ]
  },
  {
   "cell_type": "code",
   "execution_count": 13,
   "id": "fa8154e9",
   "metadata": {},
   "outputs": [],
   "source": [
    "# Creating a container for header button\n",
    "header_container = widgets.VBox([header, header_widget], \n",
    "                    layout=widgets.Layout(width='95%', padding_top= '10px', align_items='flex-start', justify_content='center'))"
   ]
  },
  {
   "cell_type": "code",
   "execution_count": null,
   "id": "1ef564a7",
   "metadata": {},
   "outputs": [],
   "source": [
    "notebook_name = \"sp_hr_size\"\n",
    "notebook_list_name = \"ts_list\"\n",
    "footer_name = \"footer_in_prog4\""
   ]
  },
  {
   "cell_type": "code",
   "execution_count": null,
   "id": "edd47ba5",
   "metadata": {},
   "outputs": [],
   "source": [
    "footer = main(notebook_name, notebook_list_name, footer_name)"
   ]
  },
  {
   "cell_type": "code",
   "execution_count": 15,
   "id": "d35e8c8f",
   "metadata": {},
   "outputs": [],
   "source": [
    "# Creating button\n",
    "def create_expanded_button(description, button_style):\n",
    "    return Button(description=description, button_style=button_style, layout=Layout(height='auto', width='auto', border='1px solid black')) #width='max-content'"
   ]
  },
  {
   "cell_type": "code",
   "execution_count": 16,
   "id": "971467a0",
   "metadata": {},
   "outputs": [],
   "source": [
    "# Declaring necessary variables and importing neccesary files for storing user answers and keep track of the visited pages\n",
    "global stored_choices, path\n",
    "\n",
    "stored_choices = {}\n",
    "path = \"../data_files/json/temp_storage.json\"\n",
    "back_path = \"../data_files/json/backtracking.json\"\n",
    "dropdown_path = \"../data_files/csv/links.csv\"\n",
    "ques_nav_path = \"../data_files/json/ques_nav_list.json\""
   ]
  },
  {
   "cell_type": "code",
   "execution_count": 17,
   "id": "6ee6bb38",
   "metadata": {},
   "outputs": [],
   "source": [
    "# Importing the json file for storing user answers\n",
    "with open(path, \"r\") as f:\n",
    "    stored_choices = json.load(f)"
   ]
  },
  {
   "cell_type": "code",
   "execution_count": 18,
   "id": "34487767",
   "metadata": {},
   "outputs": [],
   "source": [
    "# Importing the json file for keeping track of visited pages\n",
    "with open(back_path, 'r') as f:\n",
    "    back_list = json.load(f)"
   ]
  },
  {
   "cell_type": "code",
   "execution_count": 19,
   "id": "6c182929",
   "metadata": {},
   "outputs": [],
   "source": [
    "# Reading the CSV data file into a DataFrame\n",
    "df = pd.read_csv('../data_files/csv/question_data.csv', low_memory=False)"
   ]
  },
  {
   "cell_type": "code",
   "execution_count": 20,
   "id": "2601703d",
   "metadata": {},
   "outputs": [],
   "source": [
    "dp_df = pd.read_csv(dropdown_path, low_memory=False)"
   ]
  },
  {
   "cell_type": "code",
   "execution_count": 21,
   "id": "d93e3ea5",
   "metadata": {},
   "outputs": [],
   "source": [
    "drop_link = dp_df.loc[dp_df['field_code'] == 'sp_hr_size', 'info_url'].iloc[0]"
   ]
  },
  {
   "cell_type": "code",
   "execution_count": null,
   "id": "f246841a",
   "metadata": {},
   "outputs": [],
   "source": [
    "# Assigns dynamic link to the last sidebar button based on the notebook dropdown info link\n",
    "concept_grid[5, 0:9].on_click(on_concept_option_clicked(drop_link))"
   ]
  },
  {
   "cell_type": "code",
   "execution_count": 22,
   "id": "6671e2a8",
   "metadata": {},
   "outputs": [],
   "source": [
    "# seperates the string based on ',' also removes the whitespace after comma & makes a list\n",
    "def split_and_trim(s):\n",
    "    return [item.strip() for item in s.split(',')]"
   ]
  },
  {
   "cell_type": "code",
   "execution_count": 23,
   "id": "9ebe4920",
   "metadata": {},
   "outputs": [],
   "source": [
    "# gets the question based on value of other column\n",
    "\n",
    "ques1 = df.loc[df['question_code'] == 'data_hr', 'question_text'].iloc[0]\n",
    "opt1 = df.loc[df['question_code'] == 'data_hr', 'q_option_label'].iloc[0]\n",
    "opt_codes1 = df.loc[df['question_code'] == 'data_hr', 'q_option_code'].iloc[0]\n",
    "\n",
    "opt1 = split_and_trim(opt1)\n",
    "opt_codes1 = split_and_trim(opt_codes1)\n",
    "\n",
    "# ques2 = df.loc[df['question_code'] == 'hr_size', 'question_text'].iloc[0]"
   ]
  },
  {
   "cell_type": "code",
   "execution_count": 24,
   "id": "a678f3db",
   "metadata": {},
   "outputs": [
    {
     "data": {
      "text/plain": [
       "['integer', 'NA']"
      ]
     },
     "execution_count": 24,
     "metadata": {},
     "output_type": "execute_result"
    }
   ],
   "source": [
    "# widget on right side for more information\n",
    "html_widget = more_info_widget(\"../data_files/markdown/index.md\")"
   ]
  },
  {
   "cell_type": "code",
   "execution_count": 21,
   "id": "11583bf7",
   "metadata": {},
   "outputs": [],
   "source": [
    "# Factor widget\n",
    "\n",
    "question1 = create_expanded_button(ques1, 'success')\n",
    "question1.style.button_color = 'lightblue'\n",
    "question1.style.text_color = 'black'\n",
    "# Add custom class to the button\n",
    "question1.add_class('ques-button')\n",
    "\n",
    "option1 = create_expanded_button(opt1[0], 'success')\n",
    "option1.style.button_color = '#DAE8FC'\n",
    "option1.style.text_color = 'black'\n",
    "option1.add_class('opt-button')\n",
    "\n",
    "option2 = create_expanded_button(opt1[1], 'success')\n",
    "option2.style.button_color = '#DAE8FC'\n",
    "option2.style.text_color = 'black'\n",
    "option2.add_class('opt-button')\n",
    "\n",
    "options_widget2 = widgets.FloatText(\n",
    "                            value=0,  # Default value\n",
    "                            description=\"Enter value\",\n",
    "                            disabled=False,\n",
    "                            layout={'width': 'max-content'}\n",
    "                        )\n",
    "\n",
    "\n",
    "\n",
    "# Create a HTML widget to include the custom CSS\n",
    "css_widget = widgets.HTML(value=ques_button_css)\n",
    "css_widget2 = widgets.HTML(value=opt_button_css)\n",
    "\n",
    "factor_grid = GridspecLayout(8, 15, grid_gap='5px', height='550px')\n",
    "factor_grid[3:6, 1:7] = question1\n",
    "factor_grid[1:6, 10:14] = html_widget\n",
    "factor_grid[3, 8:9] = option1\n",
    "factor_grid[4, 8:9] = option2\n",
    "factor_grid[5, 8:9] = options_widget2"
   ]
  },
  {
   "cell_type": "code",
   "execution_count": 22,
   "id": "dffe0ade",
   "metadata": {},
   "outputs": [],
   "source": [
    "# question2 = create_expanded_button(ques2, 'success')\n",
    "# question2.style.button_color = 'lightblue'\n",
    "# question2.style.text_color = 'black'\n",
    "# # Add custom class to the button\n",
    "# question2.add_class('ques-button')\n",
    "\n",
    "# options_widget2 = widgets.IntText(\n",
    "#                             value=0,  # Default value\n",
    "#                             description=\"Enter value\",\n",
    "#                             disabled=False,\n",
    "#                             layout={'width': 'max-content'}\n",
    "#                         )\n",
    "\n",
    "# # Create a HTML widget to include the custom CSS\n",
    "# css_widget = widgets.HTML(value=ques_button_css)\n",
    "\n",
    "# integer_grid = GridspecLayout(4, 12, grid_gap='5px', height='550px')\n",
    "# integer_grid[1:3, 2:6] = question2\n",
    "# integer_grid[1:3, 7:9] = options_widget2"
   ]
  },
  {
   "cell_type": "code",
   "execution_count": null,
   "id": "02a515b2",
   "metadata": {},
   "outputs": [],
   "source": [
    "logical_integer_container = widgets.VBox(children=[factor_grid, css_widget, css_widget2], layout=widgets.Layout(\n",
    "    align_items='center'  # Center align vertically    #### integer_grid\n",
    "#     border='solid 2px black',\n",
    "#     width = \"70%\"\n",
    "#     justify_content='center'  # Center align horizontally\n",
    "#     height='100vh'  # Set height to 100% of viewport height for vertical centering\n",
    "))\n",
    "# logical_integer_container"
   ]
  },
  {
   "cell_type": "code",
   "execution_count": null,
   "id": "3a89ccee",
   "metadata": {},
   "outputs": [],
   "source": [
    "button_list = [option1, option2]"
   ]
  },
  {
   "cell_type": "code",
   "execution_count": null,
   "id": "7d5c8a45",
   "metadata": {},
   "outputs": [],
   "source": [
    "selected = False"
   ]
  },
  {
   "cell_type": "code",
   "execution_count": 23,
   "id": "ccbd0e4c",
   "metadata": {},
   "outputs": [],
   "source": [
    "output = widgets.Output()\n",
    "def option_1_button_clicked(option1):\n",
    "    with output:\n",
    "        clear_output()\n",
    "        global selected_objective, selected_target_sp, selected_sp_type\n",
    "        global selected\n",
    "        \n",
    "        selected = True\n",
    "#         display(integer_container)\n",
    "        \n",
    "        for btn in button_list:\n",
    "            if btn == option1:\n",
    "                btn.icon='check'\n",
    "            else:\n",
    "                btn.icon=''\n",
    "                \n",
    "        selected_option = factor_grid[3, 8:9].description\n",
    "        selected_option_index = opt1.index(selected_option)\n",
    "        selected_option_code = opt_codes1[selected_option_index]\n",
    "        \n",
    "        stored_choices[\"data_hr\"] = selected_option_code\n",
    "        \n",
    "        with open(path, \"w\") as f:\n",
    "            json.dump(stored_choices, f)\n",
    "            \n",
    "        if \"objective\" in stored_choices.keys():\n",
    "            selected_objective = stored_choices['objective']\n",
    "        if \"obj_targ_sp\" in stored_choices.keys():\n",
    "            selected_target_sp = stored_choices['obj_targ_sp']\n",
    "        if \"sp_type\" in stored_choices.keys():\n",
    "            selected_sp_type = stored_choices['sp_type']\n",
    "\n",
    "factor_grid[3, 8:9].on_click(option_1_button_clicked)"
   ]
  },
  {
   "cell_type": "code",
   "execution_count": 25,
   "id": "09312685",
   "metadata": {},
   "outputs": [],
   "source": [
    "output = widgets.Output()\n",
    "def option_2_button_clicked(option2):\n",
    "    with output:\n",
    "        clear_output()\n",
    "        global selected_objective, selected_target_sp, selected_sp_type\n",
    "        global selected\n",
    "        \n",
    "        selected = True\n",
    "        \n",
    "        for btn in button_list:\n",
    "            if btn == option2:\n",
    "                btn.icon='check'\n",
    "            else:\n",
    "                btn.icon=''\n",
    "                \n",
    "        with open(path, \"r\") as f:\n",
    "            stored_choices = json.load(f)\n",
    "            \n",
    "            if \"hr_size\" in stored_choices.keys():\n",
    "                del stored_choices['hr_size']\n",
    "        \n",
    "        selected_option = factor_grid[4, 8:9].description\n",
    "        selected_option_index = opt1.index(selected_option)\n",
    "        selected_option_code = opt_codes1[selected_option_index]\n",
    "        \n",
    "        stored_choices[\"data_hr\"] = selected_option_code\n",
    "        \n",
    "        with open(path, \"w\") as f:\n",
    "            json.dump(stored_choices, f)\n",
    "            \n",
    "        if \"objective\" in stored_choices.keys():\n",
    "            selected_objective = stored_choices['objective']\n",
    "        if \"obj_targ_sp\" in stored_choices.keys():\n",
    "            selected_target_sp = stored_choices['obj_targ_sp']\n",
    "        if \"sp_type\" in stored_choices.keys():\n",
    "            selected_sp_type = stored_choices['sp_type']\n",
    "        \n",
    "factor_grid[4, 8:9].on_click(option_2_button_clicked)"
   ]
  },
  {
   "cell_type": "code",
   "execution_count": 26,
   "id": "f713a74e",
   "metadata": {},
   "outputs": [],
   "source": [
    "# button.on_click(show_popup(None, drop_link))\n",
    "button.on_click(lambda b: show_popup(b, drop_link))"
   ]
  },
  {
   "cell_type": "code",
   "execution_count": 27,
   "id": "a12e2b4c",
   "metadata": {},
   "outputs": [],
   "source": [
    "close_button.on_click(close_popup)"
   ]
  },
  {
   "cell_type": "code",
   "execution_count": 30,
   "id": "f5ade430",
   "metadata": {},
   "outputs": [],
   "source": [
    "# Create a buttons for submitting the question\n",
    "submit_button = widgets.Button(description=\"Submit & Next >>\", layout=widgets.Layout(border='1px solid black'))"
   ]
  },
  {
   "cell_type": "code",
   "execution_count": 31,
   "id": "0c6612b7",
   "metadata": {},
   "outputs": [],
   "source": [
    "# Create a button for going back to previous question\n",
    "back_button = widgets.Button(description=\"<< Back\", layout=widgets.Layout(border='1px solid black'))"
   ]
  },
  {
   "cell_type": "code",
   "execution_count": null,
   "id": "4de9828c",
   "metadata": {},
   "outputs": [],
   "source": [
    "# Create the text widget with a warning message\n",
    "warning_widget = widgets.HTML(\n",
    "    value=\"\"\"\n",
    "    <div style=\"padding: 5px; background-color: #f8d7da; color: #721c24; border: 2px solid #f5c6cb; border-radius: 5px;\">\n",
    "        <strong>Warning!</strong> Select an option first.\n",
    "    </div>\n",
    "    \"\"\"\n",
    ")"
   ]
  },
  {
   "cell_type": "code",
   "execution_count": null,
   "id": "94ee0a6e",
   "metadata": {},
   "outputs": [],
   "source": [
    "error = widgets.HBox(\n",
    "    [warning_widget],\n",
    "    layout=widgets.Layout(\n",
    "        width='auto',  \n",
    "        height='auto',\n",
    "        margin='auto',  \n",
    "        align_items='flex-end',  \n",
    "        justify_content='flex-end' \n",
    "    )\n",
    ")"
   ]
  },
  {
   "cell_type": "code",
   "execution_count": null,
   "id": "2fd1155c",
   "metadata": {},
   "outputs": [],
   "source": [
    "# Create the text widget with a warning message\n",
    "warning_widget2 = widgets.HTML(\n",
    "    value=\"\"\"\n",
    "    <div style=\"padding: 5px; background-color: #f8d7da; color: #721c24; border: 2px solid #f5c6cb; border-radius: 5px;\">\n",
    "        <strong>Warning!</strong> Inappropriate answer.\n",
    "    </div>\n",
    "    \"\"\"\n",
    ")"
   ]
  },
  {
   "cell_type": "code",
   "execution_count": null,
   "id": "7aacb910",
   "metadata": {},
   "outputs": [],
   "source": [
    "error2 = widgets.HBox(\n",
    "    [warning_widget2],\n",
    "    layout=widgets.Layout(\n",
    "        width='auto',  \n",
    "        height='auto',\n",
    "        margin='auto',  \n",
    "        align_items='flex-end',  \n",
    "        justify_content='flex-end' \n",
    "    )\n",
    ")"
   ]
  },
  {
   "cell_type": "code",
   "execution_count": 33,
   "id": "56e1b944",
   "metadata": {},
   "outputs": [],
   "source": [
    "# For going back to last question\n",
    "\n",
    "output = widgets.Output()\n",
    "def on_back_button_clicked(event):\n",
    "    with output:\n",
    "        clear_output()\n",
    "        file_name = back_list[-1]\n",
    "        notebook_filename = file_name + \".ipynb\"\n",
    "        js_code = f\"window.open('{notebook_filename}', '_self');\"\n",
    "#         link = Markdown('''<a href=\"{}\" target=\"_self\" rel=\"noopener noreferrer\">Previous</a>'''.format(notebook_filename))\n",
    "        back_list.pop()\n",
    "        with open (back_path, \"w\")as f:\n",
    "            json.dump(back_list, f)\n",
    "        display(Javascript(js_code))\n",
    "\n",
    "back_button.on_click(on_back_button_clicked)"
   ]
  },
  {
   "cell_type": "code",
   "execution_count": 35,
   "id": "462d62e1",
   "metadata": {},
   "outputs": [],
   "source": [
    "# output = widgets.Output()\n",
    "# def on_button_clicked(event):\n",
    "#     with output:\n",
    "#         clear_output()\n",
    "        \n",
    "#         if not selected:\n",
    "#             display(error)\n",
    "#         else:\n",
    "#             next_notebook = []\n",
    "\n",
    "#             condition = df.loc[df['page_name'] == 'sp_size', 'json_logic'].iloc[0]\n",
    "#             condition_json = json.loads(condition)\n",
    "#             if selected_objective in condition_json['objective'] and selected_target_sp in condition_json['obj_targ_sp']:\n",
    "#                 next_notebook.append(\"sp_size\")\n",
    "\n",
    "#             condition = df.loc[df['page_name'] == 'sp_rarity', 'json_logic'].iloc[0]\n",
    "#             condition_json = json.loads(condition)\n",
    "#             if (selected_objective in condition_json['objective'] and selected_target_sp in condition_json['obj_targ_sp']) or (selected_objective in condition_json['objective'] and selected_sp_type in condition_json['sp_type']):\n",
    "#                 next_notebook.append(\"sp_rarity\")\n",
    "\n",
    "#             condition = df.loc[df['page_name'] == 'sp_detprob_cat', 'json_logic'].iloc[0]\n",
    "#             condition_json = json.loads(condition)\n",
    "#             if selected_objective in condition_json['objective'] and selected_target_sp in condition_json['obj_targ_sp']:\n",
    "#                 next_notebook.append(\"sp_detprob_cat\")\n",
    "\n",
    "#             condition = df.loc[df['page_name'] == 'cam_independent', 'json_logic'].iloc[0]\n",
    "#             condition_json = json.loads(condition)\n",
    "#             if selected_objective in condition_json['objective']:\n",
    "#                 next_notebook.append(\"cam_independent\")\n",
    "\n",
    "#             if next_notebook:\n",
    "#                 next_notebook = next_notebook\n",
    "#             else:\n",
    "#                 next_notebook = [\"test_recommendation-Copy\"]\n",
    "\n",
    "\n",
    "#             notebook_filename = next_notebook[0] + \".ipynb\"\n",
    "\n",
    "#             # JavaScript to open the URL\n",
    "#             js_code = f\"window.open('{notebook_filename}', '_self');\"\n",
    "\n",
    "\n",
    "#             if options_widget2.value > 0:\n",
    "#                 stored_choices[\"hr_size\"] = options_widget2.value\n",
    "#                 options_widget2.value = 0\n",
    "\n",
    "#             with open(path, \"w\") as f:\n",
    "#                 json.dump(stored_choices, f)\n",
    "\n",
    "#             back_list.append(\"sp_hr_size\")\n",
    "#             with open (back_path, \"w\")as f:\n",
    "#                 json.dump(back_list, f)\n",
    "\n",
    "#             display(Javascript(js_code))\n",
    "\n",
    "# submit_button.on_click(on_button_clicked)"
   ]
  },
  {
   "cell_type": "code",
   "execution_count": null,
   "id": "7ea11216",
   "metadata": {},
   "outputs": [],
   "source": [
    "output = widgets.Output()\n",
    "def on_button_clicked(event):\n",
    "    with output:\n",
    "        clear_output()\n",
    "        global selected_objective, selected_target_sp, selected_sp_type\n",
    "        global stored_choices, selected # <----NEEDED-----\n",
    "        \n",
    "        if options_widget2.value > 0:\n",
    "            selected = True\n",
    "                \n",
    "            if \"objective\" in stored_choices.keys():\n",
    "                selected_objective = stored_choices['objective']\n",
    "            if \"obj_targ_sp\" in stored_choices.keys():\n",
    "                selected_target_sp = stored_choices['obj_targ_sp']\n",
    "            if \"sp_type\" in stored_choices.keys():\n",
    "                selected_sp_type = stored_choices['sp_type']\n",
    "                    \n",
    "            stored_choices[\"hr_size\"] = options_widget2.value\n",
    "            stored_choices[\"data_hr\"] = \"integer\"\n",
    "            with open(path, \"w\") as f:\n",
    "                json.dump(stored_choices, f)\n",
    "                    \n",
    "        if not selected:\n",
    "            display(error)\n",
    "        else:\n",
    "            next_notebook = []\n",
    "\n",
    "            condition = df.loc[df['page_name'] == 'sp_size', 'json_logic'].iloc[0]\n",
    "            condition_json = json.loads(condition)\n",
    "            if (set(selected_objective) & set(condition_json['objective'])) and selected_target_sp in condition_json['obj_targ_sp']:\n",
    "                next_notebook.append(\"01_18_sp_size\")\n",
    "\n",
    "            condition = df.loc[df['page_name'] == 'sp_rarity', 'json_logic'].iloc[0]\n",
    "            condition_json = json.loads(condition)\n",
    "            if ((set(selected_objective) & set(condition_json['objective'])) and selected_target_sp in condition_json['obj_targ_sp']) or (selected_objective in condition_json['objective'] and selected_sp_type in condition_json['sp_type']):\n",
    "                next_notebook.append(\"01_19_sp_rarity\")\n",
    "\n",
    "            condition = df.loc[df['page_name'] == 'sp_detprob_cat', 'json_logic'].iloc[0]\n",
    "            condition_json = json.loads(condition)\n",
    "            if (set(selected_objective) & set(condition_json['objective'])) and selected_target_sp in condition_json['obj_targ_sp']:\n",
    "                next_notebook.append(\"01_20_sp_detprob_cat\")\n",
    "\n",
    "            condition = df.loc[df['page_name'] == 'cam_independent', 'json_logic'].iloc[0]\n",
    "            condition_json = json.loads(condition)\n",
    "            if (set(selected_objective) & set(condition_json['objective'])):\n",
    "                next_notebook.append(\"01_47_cam_independent\")\n",
    "\n",
    "            if next_notebook:\n",
    "                next_notebook = next_notebook\n",
    "            else:\n",
    "                next_notebook = [\"09_recommendation\"]\n",
    "\n",
    "\n",
    "            notebook_filename = next_notebook[0] + \".ipynb\"\n",
    "\n",
    "            # JavaScript to open the URL\n",
    "            js_code = f\"window.open('{notebook_filename}', '_self');\"\n",
    "            \n",
    "            back_list.append(\"01_17_sp_hr_size\")\n",
    "            with open (back_path, \"w\")as f:\n",
    "                json.dump(back_list, f)\n",
    "\n",
    "            #--------------------------------------------->\n",
    "            with open(path, \"r\") as f:\n",
    "                stored_choices = json.load(f)\n",
    "                \n",
    "            if options_widget2.value <= 0 and stored_choices[\"data_hr\"] == \"integer\":\n",
    "                display(error2)\n",
    "            else:\n",
    "                options_widget2.value = 0\n",
    "                display(Javascript(js_code))\n",
    "\n",
    "submit_button.on_click(on_button_clicked)"
   ]
  },
  {
   "cell_type": "code",
   "execution_count": 36,
   "id": "dc10f247",
   "metadata": {},
   "outputs": [
    {
     "data": {
      "application/vnd.jupyter.widget-view+json": {
       "model_id": "a8dd96b483b44baebe5e1a00deadb1fb",
       "version_major": 2,
       "version_minor": 0
      },
      "text/plain": [
       "HBox(children=(VBox(children=(Image(value=b'\\x89PNG\\r\\n\\x1a\\n\\x00\\x00\\x00\\rIHDR\\x00\\x00\\x01\\xfb\\x00\\x00\\x01|\\x…"
      ]
     },
     "metadata": {},
     "output_type": "display_data"
    }
   ],
   "source": [
    "# Creating containers for all the widgets along with their css properties\n",
    "\n",
    "all_button = widgets.HBox(\n",
    "    [back_button, submit_button],\n",
    "    layout=widgets.Layout(\n",
    "        width='100%',  \n",
    "        height='auto',\n",
    "#         border='solid 2px grey',\n",
    "        padding='1px',\n",
    "        margin='auto',  \n",
    "        align_items='center',  \n",
    "        justify_content='space-between' \n",
    "    )\n",
    ")\n",
    "buttons = widgets.VBox(\n",
    "    [output, all_button],\n",
    "    layout=widgets.Layout(\n",
    "        width='100%',  \n",
    "        height='auto',  \n",
    "#         border='solid 2px grey',\n",
    "        padding='1px',\n",
    "        margin='auto',  \n",
    "        align_items='center',  \n",
    "        justify_content='center'  \n",
    "    )\n",
    ")\n",
    "\n",
    "\n",
    "\n",
    "upper = widgets.VBox(\n",
    "    [logical_integer_container, buttons],\n",
    "    layout=widgets.Layout(\n",
    "        width='95%',  \n",
    "        height='auto', \n",
    "        border='solid 1px grey',\n",
    "        padding='10px',\n",
    "        margin='auto',  \n",
    "        align_items='center',  \n",
    "        justify_content='center' \n",
    "    )\n",
    ")\n",
    "upper.add_class(\"custom-vbox\")\n",
    "\n",
    "popup = widgets.VBox(children=[button, output_popup], layout=widgets.Layout(\n",
    "        width='95%',  \n",
    "        height='auto',  \n",
    "#         border='solid 2px grey',\n",
    "        padding='5px',\n",
    "        margin='auto',  \n",
    "        align_items='center', \n",
    "        justify_content='center'  \n",
    "    ))\n",
    "\n",
    "\n",
    "right_col = widgets.VBox(children=[header_container, background_color_html, upper, footer, popup], layout=widgets.Layout(\n",
    "        width='88%',  \n",
    "        height='100%',  \n",
    "        border_left='solid 1px grey',\n",
    "        padding='5px',\n",
    "        margin='auto',  \n",
    "        align_items='center',  \n",
    "        justify_content='center'\n",
    "))\n",
    "\n",
    "cols = widgets.HBox(\n",
    "    [left_col, right_col],\n",
    "    layout=widgets.Layout(\n",
    "        width='95%',  \n",
    "        height='auto',  \n",
    "        border='solid 2px grey',\n",
    "#         padding='5px',\n",
    "        margin='auto',  \n",
    "        align_items='flex-start', \n",
    "        justify_content='center'\n",
    "    )\n",
    ")\n",
    "\n",
    "display(cols)"
   ]
  },
  {
   "cell_type": "code",
   "execution_count": null,
   "id": "35154f9e",
   "metadata": {},
   "outputs": [],
   "source": []
  }
 ],
 "metadata": {
  "kernelspec": {
   "display_name": "Python 3 (ipykernel)",
   "language": "python",
   "name": "python3"
  },
  "language_info": {
   "codemirror_mode": {
    "name": "ipython",
    "version": 3
   },
   "file_extension": ".py",
   "mimetype": "text/x-python",
   "name": "python",
   "nbconvert_exporter": "python",
   "pygments_lexer": "ipython3",
   "version": "3.12.7"
  }
 },
 "nbformat": 4,
 "nbformat_minor": 5
}
