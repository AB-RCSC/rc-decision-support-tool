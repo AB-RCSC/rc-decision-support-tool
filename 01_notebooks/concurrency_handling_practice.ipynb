{
 "cells": [
  {
   "cell_type": "code",
   "execution_count": 13,
   "id": "7af68315",
   "metadata": {},
   "outputs": [],
   "source": [
    "# !jupyter nbextension enable --py widgetsnbextension"
   ]
  },
  {
   "cell_type": "code",
   "execution_count": 14,
   "id": "4c6e1198",
   "metadata": {},
   "outputs": [],
   "source": [
    "# !jupyter nbextension install --py widgetsnbextension"
   ]
  },
  {
   "cell_type": "code",
   "execution_count": 1,
   "id": "cdec8046",
   "metadata": {},
   "outputs": [],
   "source": [
    "# from IPython.display import display, HTML\n",
    "\n",
    "# # Initialize a variable to store the fingerprint in memory\n",
    "# fingerprint_value = None\n",
    "\n",
    "# def save_fingerprint_to_variable(fingerprint):\n",
    "#     \"\"\"Save the fingerprint to a global variable.\"\"\"\n",
    "#     global fingerprint_value\n",
    "#     fingerprint_value = fingerprint\n",
    "#     print(f\"Fingerprint saved: {fingerprint}\")"
   ]
  },
  {
   "cell_type": "code",
   "execution_count": 2,
   "id": "6d781939",
   "metadata": {},
   "outputs": [
    {
     "data": {
      "text/html": [
       "\n",
       "<script>\n",
       "    // Load FingerprintJS\n",
       "    var script = document.createElement('script');\n",
       "    script.src = \"https://cdn.jsdelivr.net/npm/@fingerprintjs/fingerprintjs@3/dist/fp.min.js\";\n",
       "    script.onload = function() {\n",
       "        FingerprintJS.load().then(fp => {\n",
       "            // Get the visitor identifier\n",
       "            fp.get().then(result => {\n",
       "                const fingerprint = result.visitorId;\n",
       "                console.log(\"Fingerprint:\", fingerprint);\n",
       "\n",
       "                // Pass fingerprint back to Python\n",
       "                var kernel = IPython.notebook.kernel;\n",
       "                var command = \"save_fingerprint_to_variable('\" + fingerprint + \"')\";\n",
       "                kernel.execute(command);\n",
       "\n",
       "                // Display fingerprint in the browser\n",
       "                document.getElementById(\"fingerprint-display\").innerText = \"Your unique fingerprint is: \" + fingerprint;\n",
       "            });\n",
       "        });\n",
       "    };\n",
       "    document.head.appendChild(script);\n",
       "</script>\n",
       "<div id=\"fingerprint-display\">Generating your fingerprint...</div>\n"
      ],
      "text/plain": [
       "<IPython.core.display.HTML object>"
      ]
     },
     "metadata": {},
     "output_type": "display_data"
    }
   ],
   "source": [
    "# fingerprint_js = \"\"\"\n",
    "# <script>\n",
    "#     // Load FingerprintJS\n",
    "#     var script = document.createElement('script');\n",
    "#     script.src = \"https://cdn.jsdelivr.net/npm/@fingerprintjs/fingerprintjs@3/dist/fp.min.js\";\n",
    "#     script.onload = function() {\n",
    "#         FingerprintJS.load().then(fp => {\n",
    "#             // Get the visitor identifier\n",
    "#             fp.get().then(result => {\n",
    "#                 const fingerprint = result.visitorId;\n",
    "#                 console.log(\"Fingerprint:\", fingerprint);\n",
    "\n",
    "#                 // Pass fingerprint back to Python\n",
    "#                 var kernel = IPython.notebook.kernel;\n",
    "#                 var command = \"save_fingerprint_to_variable('\" + fingerprint + \"')\";\n",
    "#                 kernel.execute(command);\n",
    "\n",
    "#                 // Display fingerprint in the browser\n",
    "#                 document.getElementById(\"fingerprint-display\").innerText = \"Your unique fingerprint is: \" + fingerprint;\n",
    "#             });\n",
    "#         });\n",
    "#     };\n",
    "#     document.head.appendChild(script);\n",
    "# </script>\n",
    "# <div id=\"fingerprint-display\">Generating your fingerprint...</div>\n",
    "# \"\"\"\n",
    "# display(HTML(fingerprint_js))\n"
   ]
  },
  {
   "cell_type": "code",
   "execution_count": 3,
   "id": "6c9bd540",
   "metadata": {},
   "outputs": [
    {
     "name": "stdout",
     "output_type": "stream",
     "text": [
      "Your unique fingerprint is: df2e993104d7ccd7ae57869ea9bf08f2\n"
     ]
    }
   ],
   "source": [
    "# # Display the fingerprint stored in memory\n",
    "# def display_fingerprint():\n",
    "#     global fingerprint_value\n",
    "#     if fingerprint_value is not None:\n",
    "#         return f\"Your unique fingerprint is: {fingerprint_value}\"\n",
    "#     else:\n",
    "#         return \"No fingerprint generated yet.\"\n",
    "\n",
    "# print(display_fingerprint())"
   ]
  },
  {
   "cell_type": "code",
   "execution_count": 19,
   "id": "434d3848",
   "metadata": {},
   "outputs": [
    {
     "data": {
      "application/javascript": [
       "\n",
       "var script = document.createElement('script');\n",
       "script.src = \"https://cdn.jsdelivr.net/npm/@fingerprintjs/fingerprintjs@3/dist/fp.min.js\";\n",
       "script.onload = function() {\n",
       "    FingerprintJS.load().then(fp => {\n",
       "        fp.get().then(result => {\n",
       "            const fingerprint = result.visitorId;\n",
       "            console.log(\"Generated Fingerprint:\", fingerprint);\n",
       "            \n",
       "            // Send the fingerprint back to the Python kernel\n",
       "            var kernel = IPython.notebook.kernel;\n",
       "            var command = \"save_fingerprint_to_json('\" + fingerprint + \"')\";\n",
       "            kernel.execute(command);\n",
       "        });\n",
       "    });\n",
       "};\n",
       "document.head.appendChild(script);\n"
      ],
      "text/plain": [
       "<IPython.core.display.Javascript object>"
      ]
     },
     "metadata": {},
     "output_type": "display_data"
    }
   ],
   "source": [
    "import os\n",
    "import json\n",
    "from IPython.display import Javascript, display\n",
    "\n",
    "\n",
    "\n",
    "# Function to save the fingerprint to a JSON file\n",
    "def save_fingerprint_to_json(fingerprint):\n",
    "    # Create the folder for storing JSON files if it doesn't exist\n",
    "    data_folder = \"ndata_files\"\n",
    "    os.makedirs(data_folder, exist_ok=True)\n",
    "    file_path = os.path.join(data_folder, f\"{fingerprint}.json\")\n",
    "    \n",
    "    \n",
    "#      # Check if the JSON file exists and display the contents----------------------\n",
    "#     if os.path.exists(file_path):\n",
    "#         with open(file_path, 'r') as json_file:\n",
    "#             data = json.load(json_file)\n",
    "#         print(data)\n",
    "    \n",
    "    \n",
    "    \n",
    "    \n",
    "    # Check if a file for this fingerprint already exists tehn save the file-------------------------\n",
    "    if not os.path.exists(file_path):\n",
    "        data = {\"fingerprint\": fingerprint}\n",
    "        with open(file_path, 'w') as json_file:\n",
    "            json.dump(data, json_file, indent=4)\n",
    "        print(f\"New JSON file created: {file_path}\")\n",
    "    else:\n",
    "        print(f\"Fingerprint already exists: {file_path}\")\n",
    "\n",
    "# JavaScript to generate fingerprint and call Python function\n",
    "fingerprint_js = \"\"\"\n",
    "var script = document.createElement('script');\n",
    "script.src = \"https://cdn.jsdelivr.net/npm/@fingerprintjs/fingerprintjs@3/dist/fp.min.js\";\n",
    "script.onload = function() {\n",
    "    FingerprintJS.load().then(fp => {\n",
    "        fp.get().then(result => {\n",
    "            const fingerprint = result.visitorId;\n",
    "            console.log(\"Generated Fingerprint:\", fingerprint);\n",
    "            \n",
    "            // Send the fingerprint back to the Python kernel\n",
    "            var kernel = IPython.notebook.kernel;\n",
    "            var command = \"save_fingerprint_to_json('\" + fingerprint + \"')\";\n",
    "            kernel.execute(command);\n",
    "        });\n",
    "    });\n",
    "};\n",
    "document.head.appendChild(script);\n",
    "\"\"\"\n",
    "\n",
    "# Inject JavaScript into the notebook\n",
    "display(Javascript(fingerprint_js))\n"
   ]
  },
  {
   "cell_type": "code",
   "execution_count": 20,
   "id": "d392a834",
   "metadata": {},
   "outputs": [],
   "source": [
    "# print(data)"
   ]
  },
  {
   "cell_type": "code",
   "execution_count": null,
   "id": "fba6ceba",
   "metadata": {},
   "outputs": [],
   "source": []
  }
 ],
 "metadata": {
  "kernelspec": {
   "display_name": "Python 3 (ipykernel)",
   "language": "python",
   "name": "python3"
  },
  "language_info": {
   "codemirror_mode": {
    "name": "ipython",
    "version": 3
   },
   "file_extension": ".py",
   "mimetype": "text/x-python",
   "name": "python",
   "nbconvert_exporter": "python",
   "pygments_lexer": "ipython3",
   "version": "3.12.7"
  }
 },
 "nbformat": 4,
 "nbformat_minor": 5
}
