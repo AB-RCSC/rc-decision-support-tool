{
 "cells": [
  {
   "cell_type": "code",
   "execution_count": 13,
   "id": "7af68315",
   "metadata": {},
   "outputs": [],
   "source": [
    "# !jupyter nbextension enable --py widgetsnbextension"
   ]
  },
  {
   "cell_type": "code",
   "execution_count": 14,
   "id": "4c6e1198",
   "metadata": {},
   "outputs": [],
   "source": [
    "# !jupyter nbextension install --py widgetsnbextension"
   ]
  },
  {
   "cell_type": "code",
   "execution_count": 1,
   "id": "cdec8046",
   "metadata": {},
   "outputs": [],
   "source": [
    "# from IPython.display import display, HTML\n",
    "\n",
    "# # Initialize a variable to store the fingerprint in memory\n",
    "# fingerprint_value = None\n",
    "\n",
    "# def save_fingerprint_to_variable(fingerprint):\n",
    "#     \"\"\"Save the fingerprint to a global variable.\"\"\"\n",
    "#     global fingerprint_value\n",
    "#     fingerprint_value = fingerprint\n",
    "#     print(f\"Fingerprint saved: {fingerprint}\")"
   ]
  },
  {
   "cell_type": "code",
   "execution_count": 2,
   "id": "6d781939",
   "metadata": {},
   "outputs": [
    {
     "data": {
      "text/html": [
       "\n",
       "<script>\n",
       "    // Load FingerprintJS\n",
       "    var script = document.createElement('script');\n",
       "    script.src = \"https://cdn.jsdelivr.net/npm/@fingerprintjs/fingerprintjs@3/dist/fp.min.js\";\n",
       "    script.onload = function() {\n",
       "        FingerprintJS.load().then(fp => {\n",
       "            // Get the visitor identifier\n",
       "            fp.get().then(result => {\n",
       "                const fingerprint = result.visitorId;\n",
       "                console.log(\"Fingerprint:\", fingerprint);\n",
       "\n",
       "                // Pass fingerprint back to Python\n",
       "                var kernel = IPython.notebook.kernel;\n",
       "                var command = \"save_fingerprint_to_variable('\" + fingerprint + \"')\";\n",
       "                kernel.execute(command);\n",
       "\n",
       "                // Display fingerprint in the browser\n",
       "                document.getElementById(\"fingerprint-display\").innerText = \"Your unique fingerprint is: \" + fingerprint;\n",
       "            });\n",
       "        });\n",
       "    };\n",
       "    document.head.appendChild(script);\n",
       "</script>\n",
       "<div id=\"fingerprint-display\">Generating your fingerprint...</div>\n"
      ],
      "text/plain": [
       "<IPython.core.display.HTML object>"
      ]
     },
     "metadata": {},
     "output_type": "display_data"
    }
   ],
   "source": [
    "# fingerprint_js = \"\"\"\n",
    "# <script>\n",
    "#     // Load FingerprintJS\n",
    "#     var script = document.createElement('script');\n",
    "#     script.src = \"https://cdn.jsdelivr.net/npm/@fingerprintjs/fingerprintjs@3/dist/fp.min.js\";\n",
    "#     script.onload = function() {\n",
    "#         FingerprintJS.load().then(fp => {\n",
    "#             // Get the visitor identifier\n",
    "#             fp.get().then(result => {\n",
    "#                 const fingerprint = result.visitorId;\n",
    "#                 console.log(\"Fingerprint:\", fingerprint);\n",
    "\n",
    "#                 // Pass fingerprint back to Python\n",
    "#                 var kernel = IPython.notebook.kernel;\n",
    "#                 var command = \"save_fingerprint_to_variable('\" + fingerprint + \"')\";\n",
    "#                 kernel.execute(command);\n",
    "\n",
    "#                 // Display fingerprint in the browser\n",
    "#                 document.getElementById(\"fingerprint-display\").innerText = \"Your unique fingerprint is: \" + fingerprint;\n",
    "#             });\n",
    "#         });\n",
    "#     };\n",
    "#     document.head.appendChild(script);\n",
    "# </script>\n",
    "# <div id=\"fingerprint-display\">Generating your fingerprint...</div>\n",
    "# \"\"\"\n",
    "# display(HTML(fingerprint_js))\n"
   ]
  },
  {
   "cell_type": "code",
   "execution_count": 3,
   "id": "6c9bd540",
   "metadata": {},
   "outputs": [
    {
     "name": "stdout",
     "output_type": "stream",
     "text": [
      "Your unique fingerprint is: df2e993104d7ccd7ae57869ea9bf08f2\n"
     ]
    }
   ],
   "source": [
    "# # Display the fingerprint stored in memory\n",
    "# def display_fingerprint():\n",
    "#     global fingerprint_value\n",
    "#     if fingerprint_value is not None:\n",
    "#         return f\"Your unique fingerprint is: {fingerprint_value}\"\n",
    "#     else:\n",
    "#         return \"No fingerprint generated yet.\"\n",
    "\n",
    "# print(display_fingerprint())"
   ]
  },
  {
   "cell_type": "code",
   "execution_count": 21,
   "id": "434d3848",
   "metadata": {},
   "outputs": [
    {
     "data": {
      "application/javascript": [
       "\n",
       "var script = document.createElement('script');\n",
       "script.src = \"https://cdn.jsdelivr.net/npm/@fingerprintjs/fingerprintjs@3/dist/fp.min.js\";\n",
       "script.onload = function() {\n",
       "    FingerprintJS.load().then(fp => {\n",
       "        fp.get().then(result => {\n",
       "            const fingerprint = result.visitorId;\n",
       "            console.log(\"Generated Fingerprint:\", fingerprint);\n",
       "            \n",
       "            // Send the fingerprint back to the Python kernel\n",
       "            var kernel = IPython.notebook.kernel;\n",
       "            var command = \"save_fingerprint_to_json('\" + fingerprint + \"')\";\n",
       "            kernel.execute(command);\n",
       "        });\n",
       "    });\n",
       "};\n",
       "document.head.appendChild(script);\n"
      ],
      "text/plain": [
       "<IPython.core.display.Javascript object>"
      ]
     },
     "metadata": {},
     "output_type": "display_data"
    }
   ],
   "source": [
    "# import os\n",
    "# import json\n",
    "# from IPython.display import Javascript, display\n",
    "\n",
    "# # Create the folder for storing JSON files if it doesn't exist\n",
    "# data_folder = \"data_files\"\n",
    "# os.makedirs(data_folder, exist_ok=True)\n",
    "\n",
    "# # Function to save the fingerprint to a JSON file\n",
    "# def save_fingerprint_to_json(fingerprint):\n",
    "#     file_path = os.path.join(data_folder, f\"{fingerprint}.json\")\n",
    "    \n",
    "#     # Check if a file for this fingerprint already exists\n",
    "#     if not os.path.exists(file_path):\n",
    "#         data = {\"fingerprint\": fingerprint}\n",
    "#         with open(file_path, 'w') as json_file:\n",
    "#             json.dump(data, json_file, indent=4)\n",
    "#         print(f\"New JSON file created: {file_path}\")\n",
    "#     else:\n",
    "#         print(f\"Fingerprint already exists: {file_path}\")\n",
    "\n",
    "# # JavaScript to generate fingerprint and call Python function\n",
    "# fingerprint_js = \"\"\"\n",
    "# var script = document.createElement('script');\n",
    "# script.src = \"https://cdn.jsdelivr.net/npm/@fingerprintjs/fingerprintjs@3/dist/fp.min.js\";\n",
    "# script.onload = function() {\n",
    "#     FingerprintJS.load().then(fp => {\n",
    "#         fp.get().then(result => {\n",
    "#             const fingerprint = result.visitorId;\n",
    "#             console.log(\"Generated Fingerprint:\", fingerprint);\n",
    "            \n",
    "#             // Send the fingerprint back to the Python kernel\n",
    "#             var kernel = IPython.notebook.kernel;\n",
    "#             var command = \"save_fingerprint_to_json('\" + fingerprint + \"')\";\n",
    "#             kernel.execute(command);\n",
    "#         });\n",
    "#     });\n",
    "# };\n",
    "# document.head.appendChild(script);\n",
    "# \"\"\"\n",
    "\n",
    "# # Inject JavaScript into the notebook\n",
    "# display(Javascript(fingerprint_js))\n"
   ]
  },
  {
   "cell_type": "code",
   "execution_count": 24,
   "id": "d392a834",
   "metadata": {},
   "outputs": [],
   "source": [
    "# !pip install ipyevents"
   ]
  },
  {
   "cell_type": "code",
   "execution_count": 26,
   "id": "fba6ceba",
   "metadata": {},
   "outputs": [
    {
     "data": {
      "application/vnd.jupyter.widget-view+json": {
       "model_id": "3c5ca53ecf1a4d22a5f1ce835a7fa0c0",
       "version_major": 2,
       "version_minor": 0
      },
      "text/plain": [
       "Button(description='Generate Fingerprint', style=ButtonStyle())"
      ]
     },
     "metadata": {},
     "output_type": "display_data"
    },
    {
     "data": {
      "application/javascript": [
       "\n",
       "    var script = document.createElement('script');\n",
       "    script.src = \"https://cdn.jsdelivr.net/npm/@fingerprintjs/fingerprintjs@3/dist/fp.min.js\";\n",
       "    script.onload = function() {\n",
       "        FingerprintJS.load().then(fp => {\n",
       "            fp.get().then(result => {\n",
       "                const fingerprint = result.visitorId;\n",
       "                console.log(\"Generated Fingerprint:\", fingerprint);\n",
       "                \n",
       "                // Send the fingerprint back to Python using a Python callback\n",
       "                var kernel = IPython.notebook.kernel;\n",
       "                var command = \"save_fingerprint_to_json('\" + fingerprint + \"')\";\n",
       "                kernel.execute(command);\n",
       "            });\n",
       "        });\n",
       "    };\n",
       "    document.head.appendChild(script);\n",
       "    "
      ],
      "text/plain": [
       "<IPython.core.display.Javascript object>"
      ]
     },
     "metadata": {},
     "output_type": "display_data"
    }
   ],
   "source": [
    "# ## Same as before but with a button----------------\n",
    "\n",
    "# import json\n",
    "# import os\n",
    "# import ipywidgets as widgets\n",
    "# from IPython.display import display, Javascript\n",
    "\n",
    "# # Create the folder for storing JSON files if it doesn't exist\n",
    "# data_folder = \"data_files\"\n",
    "# os.makedirs(data_folder, exist_ok=True)\n",
    "\n",
    "# # Function to save the fingerprint to a JSON file\n",
    "# def save_fingerprint_to_json(fingerprint):\n",
    "#     file_path = os.path.join(data_folder, f\"{fingerprint}.json\")\n",
    "#     if not os.path.exists(file_path):\n",
    "#         data = {\"fingerprint\": fingerprint}\n",
    "#         with open(file_path, 'w') as json_file:\n",
    "#             json.dump(data, json_file, indent=4)\n",
    "#         print(f\"New JSON file created: {file_path}\")\n",
    "#     else:\n",
    "#         print(f\"Fingerprint already exists: {file_path}\")\n",
    "\n",
    "# # Function triggered by button click to generate fingerprint using JavaScript\n",
    "# def generate_fingerprint(b):\n",
    "#     fingerprint_js = \"\"\"\n",
    "#     var script = document.createElement('script');\n",
    "#     script.src = \"https://cdn.jsdelivr.net/npm/@fingerprintjs/fingerprintjs@3/dist/fp.min.js\";\n",
    "#     script.onload = function() {\n",
    "#         FingerprintJS.load().then(fp => {\n",
    "#             fp.get().then(result => {\n",
    "#                 const fingerprint = result.visitorId;\n",
    "#                 console.log(\"Generated Fingerprint:\", fingerprint);\n",
    "                \n",
    "#                 // Send the fingerprint back to Python using a Python callback\n",
    "#                 var kernel = IPython.notebook.kernel;\n",
    "#                 var command = \"save_fingerprint_to_json('\" + fingerprint + \"')\";\n",
    "#                 kernel.execute(command);\n",
    "#             });\n",
    "#         });\n",
    "#     };\n",
    "#     document.head.appendChild(script);\n",
    "#     \"\"\"\n",
    "#     display(Javascript(fingerprint_js))\n",
    "\n",
    "# # Create a button widget\n",
    "# button = widgets.Button(description=\"Generate Fingerprint\")\n",
    "# button.on_click(generate_fingerprint)\n",
    "# display(button)\n"
   ]
  },
  {
   "cell_type": "code",
   "execution_count": 5,
   "id": "1cbbaad3",
   "metadata": {},
   "outputs": [
    {
     "data": {
      "application/javascript": [
       "\n",
       "var script = document.createElement('script');\n",
       "script.src = \"https://cdn.jsdelivr.net/npm/@fingerprintjs/fingerprintjs@3/dist/fp.min.js\";\n",
       "script.onload = function() {\n",
       "    FingerprintJS.load().then(fp => {\n",
       "        fp.get().then(result => {\n",
       "            const fingerprint = result.visitorId;\n",
       "            console.log(\"Generated Fingerprint:\", fingerprint);\n",
       "\n",
       "            // Send the fingerprint to the Flask server\n",
       "            fetch('/flask/save-fingerprint', {\n",
       "                method: 'POST',\n",
       "                headers: {\n",
       "                    'Content-Type': 'application/json'\n",
       "                },\n",
       "                body: JSON.stringify({ fingerprint: fingerprint })\n",
       "            }).then(response => response.json())\n",
       "              .then(data => console.log(data.message))\n",
       "              .catch(error => console.error(\"Error saving fingerprint:\", error));\n",
       "        });\n",
       "    });\n",
       "};\n",
       "document.head.appendChild(script);\n"
      ],
      "text/plain": [
       "<IPython.core.display.Javascript object>"
      ]
     },
     "metadata": {},
     "output_type": "display_data"
    },
    {
     "name": "stdout",
     "output_type": "stream",
     "text": [
      " * Serving Flask app '__main__'\n",
      " * Debug mode: off\n"
     ]
    },
    {
     "name": "stderr",
     "output_type": "stream",
     "text": [
      "WARNING: This is a development server. Do not use it in a production deployment. Use a production WSGI server instead.\n",
      " * Running on http://127.0.0.1:5000\n",
      "Press CTRL+C to quit\n"
     ]
    }
   ],
   "source": [
    "import os\n",
    "import json\n",
    "from flask import Flask, request, jsonify\n",
    "from IPython.display import Javascript, display\n",
    "\n",
    "# Flask app to handle HTTP requests\n",
    "flask_app = Flask(__name__)\n",
    "\n",
    "@flask_app.route(\"/save-fingerprint\", methods=[\"POST\"])\n",
    "def save_fingerprint():\n",
    "    \n",
    "    # Create the folder for storing JSON files\n",
    "    data_folder = \"data_files\"\n",
    "    os.makedirs(data_folder, exist_ok=True)\n",
    "    data = request.json\n",
    "    fingerprint = data.get(\"fingerprint\")\n",
    "    \n",
    "    if fingerprint:\n",
    "        file_path = os.path.join(data_folder, f\"{fingerprint}.json\")\n",
    "        if not os.path.exists(file_path):\n",
    "            # Save new fingerprint data to JSON\n",
    "            user_data = {\"fingerprint\": fingerprint}\n",
    "            with open(file_path, \"w\") as json_file:\n",
    "                json.dump(user_data, json_file, indent=4)\n",
    "            return jsonify({\"message\": f\"Fingerprint saved: {file_path}\"})\n",
    "        else:\n",
    "            return jsonify({\"message\": \"Fingerprint already exists.\"})\n",
    "    else:\n",
    "        return jsonify({\"error\": \"No fingerprint provided.\"}), 400\n",
    "\n",
    "# Run the Flask app as a background thread\n",
    "import threading\n",
    "threading.Thread(target=flask_app.run, kwargs={\"host\": \"127.0.0.1\", \"port\": 5000, \"debug\": False}).start()\n",
    "\n",
    "# JavaScript for FingerprintJS\n",
    "fingerprint_js = \"\"\"\n",
    "var script = document.createElement('script');\n",
    "script.src = \"https://cdn.jsdelivr.net/npm/@fingerprintjs/fingerprintjs@3/dist/fp.min.js\";\n",
    "script.onload = function() {\n",
    "    FingerprintJS.load().then(fp => {\n",
    "        fp.get().then(result => {\n",
    "            const fingerprint = result.visitorId;\n",
    "            console.log(\"Generated Fingerprint:\", fingerprint);\n",
    "\n",
    "            // Send the fingerprint to the Flask server\n",
    "            fetch('/flask/save-fingerprint', {\n",
    "                method: 'POST',\n",
    "                headers: {\n",
    "                    'Content-Type': 'application/json'\n",
    "                },\n",
    "                body: JSON.stringify({ fingerprint: fingerprint })\n",
    "            }).then(response => response.json())\n",
    "              .then(data => console.log(data.message))\n",
    "              .catch(error => console.error(\"Error saving fingerprint:\", error));\n",
    "        });\n",
    "    });\n",
    "};\n",
    "document.head.appendChild(script);\n",
    "\"\"\"\n",
    "\n",
    "# Inject JavaScript into the Voila app\n",
    "display(Javascript(fingerprint_js))"
   ]
  },
  {
   "cell_type": "code",
   "execution_count": 6,
   "id": "e877e2d2",
   "metadata": {},
   "outputs": [
    {
     "name": "stdout",
     "output_type": "stream",
     "text": [
      "3.0.3\n"
     ]
    },
    {
     "name": "stderr",
     "output_type": "stream",
     "text": [
      "C:\\Users\\alifr\\AppData\\Local\\Temp\\ipykernel_10024\\3294412508.py:2: DeprecationWarning: The '__version__' attribute is deprecated and will be removed in Flask 3.1. Use feature detection or 'importlib.metadata.version(\"flask\")' instead.\n",
      "  print(flask.__version__)\n"
     ]
    }
   ],
   "source": [
    "import flask\n",
    "print(flask.__version__)"
   ]
  },
  {
   "cell_type": "code",
   "execution_count": null,
   "id": "5964be2a",
   "metadata": {},
   "outputs": [],
   "source": []
  }
 ],
 "metadata": {
  "kernelspec": {
   "display_name": "Python 3 (ipykernel)",
   "language": "python",
   "name": "python3"
  },
  "language_info": {
   "codemirror_mode": {
    "name": "ipython",
    "version": 3
   },
   "file_extension": ".py",
   "mimetype": "text/x-python",
   "name": "python",
   "nbconvert_exporter": "python",
   "pygments_lexer": "ipython3",
   "version": "3.12.7"
  }
 },
 "nbformat": 4,
 "nbformat_minor": 5
}
