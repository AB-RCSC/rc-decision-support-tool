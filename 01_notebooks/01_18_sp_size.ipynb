{
 "cells": [
  {
   "cell_type": "code",
   "execution_count": 1,
   "id": "66ed741d",
   "metadata": {},
   "outputs": [],
   "source": [
    "import warnings\n",
    "warnings.filterwarnings('ignore')\n",
    "\n",
    "import os\n",
    "import re\n",
    "import json\n",
    "import webbrowser\n",
    "import pandas as pd\n",
    "import ipywidgets as widgets\n",
    "from datetime import datetime\n",
    "from ipywidgets import AppLayout, Button, Layout\n",
    "from ipywidgets import Button, Layout, jslink, IntText, IntSlider\n",
    "from IPython.display import display, Javascript, Markdown, clear_output, HTML\n",
    "from ipywidgets import GridspecLayout\n",
    "from markdown_it import MarkdownIt"
   ]
  },
  {
   "cell_type": "code",
   "execution_count": null,
   "id": "7746c5c8",
   "metadata": {},
   "outputs": [],
   "source": [
    "%run ../02_ui_components/progressbar.ipynb"
   ]
  },
  {
   "cell_type": "code",
   "execution_count": null,
   "id": "be213b7c",
   "metadata": {},
   "outputs": [],
   "source": [
    "%run ../02_ui_components/sidebar.ipynb"
   ]
  },
  {
   "cell_type": "code",
   "execution_count": null,
   "id": "01a63460",
   "metadata": {},
   "outputs": [],
   "source": [
    "%run ../02_ui_components/dropdown.ipynb"
   ]
  },
  {
   "cell_type": "code",
   "execution_count": null,
   "id": "33942308",
   "metadata": {},
   "outputs": [],
   "source": [
    "%run ../02_ui_components/header_button.ipynb"
   ]
  },
  {
   "cell_type": "code",
   "execution_count": null,
   "id": "1d0fc4e8",
   "metadata": {},
   "outputs": [],
   "source": [
    "%run ../02_ui_components/more_info.ipynb"
   ]
  },
  {
   "cell_type": "code",
   "execution_count": null,
   "id": "a27397cf",
   "metadata": {},
   "outputs": [],
   "source": [
    "def get_css_class(css_file, class_name):\n",
    "    with open(css_file, 'r') as file:\n",
    "        css = file.read()\n",
    "        # Use regex to extract the class\n",
    "        pattern = r'\\.' + re.escape(class_name) + r'\\s*\\{([^}]*)\\}'\n",
    "        match = re.search(pattern, css, re.DOTALL)\n",
    "        if match:\n",
    "            css_content = match.group(1).strip()\n",
    "            return f'\\n<style>\\n.{class_name} {{\\n{css_content}\\n}}\\n</style>\\n'\n",
    "        else:\n",
    "            return None"
   ]
  },
  {
   "cell_type": "code",
   "execution_count": null,
   "id": "25371c7c",
   "metadata": {},
   "outputs": [],
   "source": [
    "css_path = \"../css/style.css\""
   ]
  },
  {
   "cell_type": "code",
   "execution_count": 2,
   "id": "13557dd0",
   "metadata": {},
   "outputs": [],
   "source": [
    "# Custom CSS to modify the question button design\n",
    "ques_widget_css = get_css_class(css_path, 'ques-widget')"
   ]
  },
  {
   "cell_type": "code",
   "execution_count": 3,
   "id": "b505ac50",
   "metadata": {},
   "outputs": [],
   "source": [
    "# Custom CSS to modify the option button design\n",
    "opt_button_css = get_css_class(css_path, 'opt-button')"
   ]
  },
  {
   "cell_type": "code",
   "execution_count": 5,
   "id": "0e20e2ea",
   "metadata": {},
   "outputs": [],
   "source": [
    "# Custom CSS to modify the header design\n",
    "header_css = get_css_class(css_path, 'custom-header')"
   ]
  },
  {
   "cell_type": "code",
   "execution_count": 6,
   "id": "ecf635e0",
   "metadata": {},
   "outputs": [],
   "source": [
    "# Custom CSS to modify the footer design\n",
    "footer_css = get_css_class(css_path, 'custom-footer')"
   ]
  },
  {
   "cell_type": "code",
   "execution_count": null,
   "id": "75333011",
   "metadata": {},
   "outputs": [],
   "source": [
    "# Create an HTML widget for the background color\n",
    "background_color_html = widgets.HTML(\n",
    "    value = get_css_class(css_path, 'custom-vbox')\n",
    ")"
   ]
  },
  {
   "cell_type": "code",
   "execution_count": null,
   "id": "4a273161",
   "metadata": {},
   "outputs": [],
   "source": [
    "header = header_prog4"
   ]
  },
  {
   "cell_type": "code",
   "execution_count": 8,
   "id": "fe1e80e4",
   "metadata": {},
   "outputs": [],
   "source": [
    "# Creating a container for header button\n",
    "header_container = widgets.VBox([header, header_widget], \n",
    "                    layout=widgets.Layout(width='95%', padding_top= '10px', align_items='flex-start', justify_content='center'))"
   ]
  },
  {
   "cell_type": "code",
   "execution_count": 15,
   "id": "52535721",
   "metadata": {},
   "outputs": [],
   "source": [
    "# Creating button\n",
    "def create_expanded_button(description, button_style):\n",
    "    return Button(description=description, button_style=button_style, layout=Layout(height='auto', width='auto', border='1px solid black')) #width='max-content'"
   ]
  },
  {
   "cell_type": "code",
   "execution_count": 18,
   "id": "37b3733c",
   "metadata": {},
   "outputs": [],
   "source": [
    "# Declaring necessary variables and importing neccesary files for storing user answers and keep track of the visited pages\n",
    "global stored_choices, path\n",
    "\n",
    "stored_choices = {}\n",
    "path = \"../data_files/json/temp_storage.json\"\n",
    "back_path = \"../data_files/json/backtracking.json\"\n",
    "dropdown_path = \"../data_files/csv/links.csv\"\n",
    "ques_nav_path = \"../data_files/json/ques_nav_list.json\"\n",
    "question_path = \"../data_files/csv/question_data.csv\"\n",
    "button_color_path = \"../data_files/csv/button_color.csv\""
   ]
  },
  {
   "cell_type": "code",
   "execution_count": 19,
   "id": "b3826b31",
   "metadata": {},
   "outputs": [],
   "source": [
    "# Importing the json file for storing user answers\n",
    "with open(path, \"r\") as f:\n",
    "    stored_choices = json.load(f)"
   ]
  },
  {
   "cell_type": "code",
   "execution_count": 20,
   "id": "e5d372c3",
   "metadata": {},
   "outputs": [],
   "source": [
    "# Importing the json file for keeping track of visited pages\n",
    "with open(back_path, 'r') as f:\n",
    "    back_list = json.load(f)"
   ]
  },
  {
   "cell_type": "code",
   "execution_count": 21,
   "id": "532f7517",
   "metadata": {},
   "outputs": [],
   "source": [
    "# Reading the CSV data file into a DataFrame\n",
    "df = pd.read_csv(question_path, low_memory=False)"
   ]
  },
  {
   "cell_type": "code",
   "execution_count": null,
   "id": "a6f969a7",
   "metadata": {},
   "outputs": [],
   "source": [
    "dp_df = pd.read_csv(dropdown_path, low_memory=False)"
   ]
  },
  {
   "cell_type": "code",
   "execution_count": null,
   "id": "9bd8dd4b",
   "metadata": {},
   "outputs": [],
   "source": [
    "btn_color = pd.read_csv(button_color_path, low_memory=False)"
   ]
  },
  {
   "cell_type": "code",
   "execution_count": null,
   "id": "1d571319",
   "metadata": {},
   "outputs": [],
   "source": [
    "drop_link = dp_df.loc[dp_df['field_code'] == 'sp_size', 'info_url'].iloc[0]"
   ]
  },
  {
   "cell_type": "code",
   "execution_count": null,
   "id": "d7d57df0",
   "metadata": {},
   "outputs": [],
   "source": [
    "notebook_name = \"01_18_sp_size\"\n",
    "page_dropdown_text = df.loc[df['page_name'] == 'sp_size', 'page_dropdown_text'].iloc[0]\n",
    "notebook_list_name = \"ts_list\"\n",
    "footer_name = \"footer_in_prog4\""
   ]
  },
  {
   "cell_type": "code",
   "execution_count": null,
   "id": "4566845e",
   "metadata": {},
   "outputs": [],
   "source": [
    "footer = main(notebook_name, notebook_list_name, footer_name, page_dropdown_text)"
   ]
  },
  {
   "cell_type": "code",
   "execution_count": null,
   "id": "ab38b2ce",
   "metadata": {},
   "outputs": [],
   "source": [
    "# Assigns dynamic link to the last sidebar button based on the notebook dropdown info link\n",
    "concept_grid[5, 0:9].on_click(on_concept_option_clicked(drop_link))"
   ]
  },
  {
   "cell_type": "code",
   "execution_count": 22,
   "id": "dccec9d4",
   "metadata": {},
   "outputs": [],
   "source": [
    "# seperates the string based on ',' also removes the whitespace after comma & makes a list\n",
    "def split_and_trim(s):\n",
    "    return [item.strip() for item in s.split(',')]"
   ]
  },
  {
   "cell_type": "code",
   "execution_count": 23,
   "id": "1f4eb512",
   "metadata": {},
   "outputs": [],
   "source": [
    "# gets the question based on value of other column\n",
    "\n",
    "ques = df.loc[df['question_code'] == 'sp_size', 'question_text'].iloc[0]\n",
    "opt = df.loc[df['question_code'] == 'sp_size', 'q_option_label'].iloc[0]\n",
    "opt_codes = df.loc[df['question_code'] == 'sp_size', 'q_option_code'].iloc[0]\n",
    "\n",
    "opt = split_and_trim(opt)\n",
    "opt_codes = split_and_trim(opt_codes)"
   ]
  },
  {
   "cell_type": "code",
   "execution_count": null,
   "id": "99a98d5f",
   "metadata": {},
   "outputs": [],
   "source": [
    "# widget on right side for more information\n",
    "html_widget = more_info_widget(\"../data_files/markdown/01_02_objective_note.md\")"
   ]
  },
  {
   "cell_type": "code",
   "execution_count": 24,
   "id": "5760656b",
   "metadata": {},
   "outputs": [],
   "source": [
    "# Factor widget\n",
    "\n",
    "question = f\"\"\"\n",
    "    <div class=\"ques-widget\">\n",
    "        <p>{ques}</p>\n",
    "    </div>\n",
    "    \"\"\"\n",
    "question = widgets.HTML(value=question, layout=Layout(max_width='700px', padding='5px'))\n",
    "\n",
    "option1 = create_expanded_button(opt[0], 'success')\n",
    "option1.style.button_color = btn_color.loc[btn_color['Category'] == 'Regular Button', 'Color_Code'].iloc[0]\n",
    "option1.style.text_color = 'black'\n",
    "option1.add_class('opt-button')\n",
    "\n",
    "option2 = create_expanded_button(opt[1], 'success')\n",
    "option2.style.button_color = btn_color.loc[btn_color['Category'] == 'Regular Button', 'Color_Code'].iloc[0]\n",
    "option2.style.text_color = 'black'\n",
    "option2.add_class('opt-button')\n",
    "\n",
    "option3 = create_expanded_button(opt[2], 'success')\n",
    "option3.style.button_color = btn_color.loc[btn_color['Category'] == 'Regular Button', 'Color_Code'].iloc[0]\n",
    "option3.style.text_color = 'black'\n",
    "option3.add_class('opt-button')\n",
    "\n",
    "option4 = create_expanded_button(opt[3], 'success')\n",
    "option4.style.button_color = btn_color.loc[btn_color['Category'] == 'Regular Button', 'Color_Code'].iloc[0]\n",
    "option4.style.text_color = 'black'\n",
    "option4.add_class('opt-button')\n",
    "\n",
    "# Create a HTML widget to include the custom CSS\n",
    "css_widget = widgets.HTML(value=ques_widget_css)\n",
    "css_widget2 = widgets.HTML(value=opt_button_css)\n",
    "\n",
    "factor_grid = GridspecLayout(8, 18, grid_gap='5px', height='550px')\n",
    "factor_grid[3:5, 1:6] = question\n",
    "factor_grid[2:6, 10:18] = html_widget\n",
    "factor_grid[2, 7:9] = option1\n",
    "factor_grid[3, 7:9] = option2\n",
    "factor_grid[4, 7:9] = option3\n",
    "factor_grid[5, 7:9] = option4\n",
    "\n",
    "\n",
    "logical_integer_container = widgets.VBox(children=[factor_grid, css_widget, css_widget2], layout=widgets.Layout(\n",
    "    align_items='center'  # Center align vertically\n",
    "#     border='solid 2px black',\n",
    "#     width = \"70%\"\n",
    "#     justify_content='center'  # Center align horizontally\n",
    "#     height='100vh'  # Set height to 100% of viewport height for vertical centering\n",
    "))\n",
    "# logical_integer_container"
   ]
  },
  {
   "cell_type": "code",
   "execution_count": 25,
   "id": "a691ed37",
   "metadata": {},
   "outputs": [],
   "source": [
    "button_list = [option1, option2, option3, option4]"
   ]
  },
  {
   "cell_type": "code",
   "execution_count": null,
   "id": "cb574ccd",
   "metadata": {},
   "outputs": [],
   "source": [
    "selected = False"
   ]
  },
  {
   "cell_type": "code",
   "execution_count": 26,
   "id": "efe3620d",
   "metadata": {},
   "outputs": [],
   "source": [
    "output = widgets.Output()\n",
    "def option_1_button_clicked(option1):\n",
    "    with output:\n",
    "        clear_output()\n",
    "        global selected_objective, selected_target_sp, selected_sp_type\n",
    "        global selected\n",
    "        \n",
    "        selected = True\n",
    "        \n",
    "        for btn in button_list:\n",
    "            if btn == option1:\n",
    "                btn.icon='check'\n",
    "            else:\n",
    "                btn.icon=''\n",
    "        \n",
    "        selected_option = factor_grid[2, 7:9].description\n",
    "        selected_option_index = opt.index(selected_option)\n",
    "        selected_option_code = opt_codes[selected_option_index]\n",
    "        \n",
    "        stored_choices[\"sp_size\"] = selected_option_code\n",
    "        \n",
    "        with open(path, \"w\") as f:\n",
    "            json.dump(stored_choices, f)\n",
    "            \n",
    "        if \"objective\" in stored_choices.keys():\n",
    "            selected_objective = stored_choices['objective']\n",
    "        if \"obj_targ_sp\" in stored_choices.keys():\n",
    "            selected_target_sp = stored_choices['obj_targ_sp']\n",
    "        if \"sp_type\" in stored_choices.keys():\n",
    "            selected_sp_type = stored_choices['sp_type']\n",
    "        \n",
    "factor_grid[2, 7:9].on_click(option_1_button_clicked)"
   ]
  },
  {
   "cell_type": "code",
   "execution_count": 27,
   "id": "5c710794",
   "metadata": {},
   "outputs": [],
   "source": [
    "output = widgets.Output()\n",
    "def option_2_button_clicked(option2):\n",
    "    with output:\n",
    "        clear_output()\n",
    "        global selected_objective, selected_target_sp, selected_sp_type\n",
    "        global selected\n",
    "        \n",
    "        selected = True\n",
    "        \n",
    "        for btn in button_list:\n",
    "            if btn == option2:\n",
    "                btn.icon='check'\n",
    "            else:\n",
    "                btn.icon=''\n",
    "\n",
    "        selected_option = factor_grid[3, 7:9].description\n",
    "        selected_option_index = opt.index(selected_option)\n",
    "        selected_option_code = opt_codes[selected_option_index]\n",
    "        \n",
    "        stored_choices[\"sp_size\"] = selected_option_code\n",
    "        \n",
    "        with open(path, \"w\") as f:\n",
    "            json.dump(stored_choices, f)\n",
    "            \n",
    "        if \"objective\" in stored_choices.keys():\n",
    "            selected_objective = stored_choices['objective']\n",
    "        if \"obj_targ_sp\" in stored_choices.keys():\n",
    "            selected_target_sp = stored_choices['obj_targ_sp']\n",
    "        if \"sp_type\" in stored_choices.keys():\n",
    "            selected_sp_type = stored_choices['sp_type']\n",
    "        \n",
    "        \n",
    "factor_grid[3, 7:9].on_click(option_2_button_clicked)"
   ]
  },
  {
   "cell_type": "code",
   "execution_count": 28,
   "id": "40f51f16",
   "metadata": {},
   "outputs": [],
   "source": [
    "output = widgets.Output()\n",
    "def option_3_button_clicked(option3):\n",
    "    with output:\n",
    "        clear_output()\n",
    "        global selected_objective, selected_target_sp, selected_sp_type\n",
    "        global selected\n",
    "        \n",
    "        selected = True\n",
    "        \n",
    "        for btn in button_list:\n",
    "            if btn == option3:\n",
    "                btn.icon='check'\n",
    "            else:\n",
    "                btn.icon=''\n",
    "\n",
    "        selected_option = factor_grid[4, 7:9].description\n",
    "        selected_option_index = opt.index(selected_option)\n",
    "        selected_option_code = opt_codes[selected_option_index]\n",
    "        \n",
    "        stored_choices[\"sp_size\"] = selected_option_code\n",
    "        \n",
    "        with open(path, \"w\") as f:\n",
    "            json.dump(stored_choices, f)\n",
    "            \n",
    "        if \"objective\" in stored_choices.keys():\n",
    "            selected_objective = stored_choices['objective']\n",
    "        if \"obj_targ_sp\" in stored_choices.keys():\n",
    "            selected_target_sp = stored_choices['obj_targ_sp']\n",
    "        if \"sp_type\" in stored_choices.keys():\n",
    "            selected_sp_type = stored_choices['sp_type']\n",
    "        \n",
    "        \n",
    "factor_grid[4, 7:9].on_click(option_3_button_clicked)"
   ]
  },
  {
   "cell_type": "code",
   "execution_count": 29,
   "id": "eb0ad231",
   "metadata": {},
   "outputs": [],
   "source": [
    "output = widgets.Output()\n",
    "def option_4_button_clicked(option4):\n",
    "    with output:\n",
    "        clear_output()\n",
    "        global selected_objective, selected_target_sp, selected_sp_type\n",
    "        global selected\n",
    "        \n",
    "        selected = True\n",
    "        \n",
    "        for btn in button_list:\n",
    "            if btn == option4:\n",
    "                btn.icon='check'\n",
    "            else:\n",
    "                btn.icon=''\n",
    "        \n",
    "        selected_option = factor_grid[5, 7:9].description\n",
    "        selected_option_index = opt.index(selected_option)\n",
    "        selected_option_code = opt_codes[selected_option_index]\n",
    "        \n",
    "        stored_choices[\"sp_size\"] = selected_option_code\n",
    "        \n",
    "        with open(path, \"w\") as f:\n",
    "            json.dump(stored_choices, f)\n",
    "            \n",
    "        if \"objective\" in stored_choices.keys():\n",
    "            selected_objective = stored_choices['objective']\n",
    "        if \"obj_targ_sp\" in stored_choices.keys():\n",
    "            selected_target_sp = stored_choices['obj_targ_sp']\n",
    "        if \"sp_type\" in stored_choices.keys():\n",
    "            selected_sp_type = stored_choices['sp_type']\n",
    "        \n",
    "factor_grid[5, 7:9].on_click(option_4_button_clicked)"
   ]
  },
  {
   "cell_type": "code",
   "execution_count": 30,
   "id": "388c8e7c",
   "metadata": {},
   "outputs": [],
   "source": [
    "accordion.observe(lambda change: show_popup(accordion, drop_link), names='selected_index')"
   ]
  },
  {
   "cell_type": "code",
   "execution_count": 34,
   "id": "0c6612b7",
   "metadata": {},
   "outputs": [],
   "source": [
    "# Create a buttons for submitting the question\n",
    "submit_button = widgets.Button(description=\"Submit & Next >>\", layout=widgets.Layout(border='1px solid black'))"
   ]
  },
  {
   "cell_type": "code",
   "execution_count": 35,
   "id": "31917923",
   "metadata": {},
   "outputs": [],
   "source": [
    "# Create a button for going back to previous question\n",
    "back_button = widgets.Button(description=\"<< Back\", layout=widgets.Layout(border='1px solid black'))"
   ]
  },
  {
   "cell_type": "code",
   "execution_count": null,
   "id": "8e7ec732",
   "metadata": {},
   "outputs": [],
   "source": [
    "# Create the text widget with a warning message\n",
    "warning_widget = widgets.HTML(\n",
    "    value=\"\"\"\n",
    "    <div style=\"padding: 5px; background-color: #f8d7da; color: #721c24; border: 2px solid #f5c6cb; border-radius: 5px;\">\n",
    "        <strong>Warning!</strong> Select an option first.\n",
    "    </div>\n",
    "    \"\"\"\n",
    ")"
   ]
  },
  {
   "cell_type": "code",
   "execution_count": null,
   "id": "7559d060",
   "metadata": {},
   "outputs": [],
   "source": [
    "error = widgets.HBox(\n",
    "    [warning_widget],\n",
    "    layout=widgets.Layout(\n",
    "        width='auto',  \n",
    "        height='auto',\n",
    "        margin='auto',  \n",
    "        align_items='flex-end',  \n",
    "        justify_content='flex-end' \n",
    "    )\n",
    ")"
   ]
  },
  {
   "cell_type": "code",
   "execution_count": 37,
   "id": "88fd370f",
   "metadata": {},
   "outputs": [],
   "source": [
    "# For going back to last question\n",
    "output = widgets.Output()\n",
    "def on_back_button_clicked(event):\n",
    "    with output:\n",
    "        clear_output()\n",
    "        file_name = back_list[-1]\n",
    "        notebook_filename = file_name + \".ipynb\"\n",
    "        js_code = f\"window.open('{notebook_filename}', '_self');\"\n",
    "#         link = Markdown('''<a href=\"{}\" target=\"_self\" rel=\"noopener noreferrer\">Previous</a>'''.format(notebook_filename))\n",
    "        back_list.pop()\n",
    "        with open (back_path, \"w\")as f:\n",
    "            json.dump(back_list, f)\n",
    "        display(Javascript(js_code))\n",
    "\n",
    "back_button.on_click(on_back_button_clicked)"
   ]
  },
  {
   "cell_type": "code",
   "execution_count": 39,
   "id": "462d62e1",
   "metadata": {},
   "outputs": [],
   "source": [
    "output = widgets.Output()\n",
    "def on_button_clicked(event):\n",
    "    with output:\n",
    "        clear_output()\n",
    "\n",
    "        if not selected:\n",
    "            display(error)\n",
    "        else:\n",
    "            next_notebook = []\n",
    "\n",
    "            condition = df.loc[df['page_name'] == 'sp_rarity', 'json_logic'].iloc[0]\n",
    "            condition_json = json.loads(condition)\n",
    "            if ((set(selected_objective) & set(condition_json['objective'])) and selected_target_sp in condition_json['obj_targ_sp']) or (selected_objective in condition_json['objective'] and selected_sp_type in condition_json['sp_type']):\n",
    "                next_notebook.append(\"01_19_sp_rarity\")\n",
    "\n",
    "            condition = df.loc[df['page_name'] == 'sp_detprob_cat', 'json_logic'].iloc[0]\n",
    "            condition_json = json.loads(condition)\n",
    "            if (set(selected_objective) & set(condition_json['objective'])) and selected_target_sp in condition_json['obj_targ_sp']:\n",
    "                next_notebook.append(\"01_20_sp_detprob_cat\")\n",
    "\n",
    "            condition = df.loc[df['page_name'] == 'cam_independent', 'json_logic'].iloc[0]\n",
    "            condition_json = json.loads(condition)\n",
    "            if (set(selected_objective) & set(condition_json['objective'])):\n",
    "                next_notebook.append(\"01_47_cam_independent\")\n",
    "\n",
    "            if next_notebook:\n",
    "                next_notebook = next_notebook\n",
    "            else:\n",
    "                next_notebook = [\"09_recommendation\"]\n",
    "\n",
    "\n",
    "            notebook_filename = next_notebook[0] + \".ipynb\"\n",
    "\n",
    "            # JavaScript to open the URL\n",
    "            js_code = f\"window.open('{notebook_filename}', '_self');\"\n",
    "\n",
    "\n",
    "            back_list.append(\"01_18_sp_size\")\n",
    "            with open (back_path, \"w\")as f:\n",
    "                json.dump(back_list, f)\n",
    "\n",
    "            display(Javascript(js_code))\n",
    "\n",
    "submit_button.on_click(on_button_clicked)"
   ]
  },
  {
   "cell_type": "code",
   "execution_count": 40,
   "id": "dc10f247",
   "metadata": {},
   "outputs": [
    {
     "ename": "NameError",
     "evalue": "name 'background_color_html' is not defined",
     "output_type": "error",
     "traceback": [
      "\u001b[1;31m---------------------------------------------------------------------------\u001b[0m",
      "\u001b[1;31mNameError\u001b[0m                                 Traceback (most recent call last)",
      "Cell \u001b[1;32mIn[40], line 52\u001b[0m\n\u001b[0;32m     40\u001b[0m upper\u001b[38;5;241m.\u001b[39madd_class(\u001b[38;5;124m\"\u001b[39m\u001b[38;5;124mcustom-vbox\u001b[39m\u001b[38;5;124m\"\u001b[39m)\n\u001b[0;32m     42\u001b[0m popup \u001b[38;5;241m=\u001b[39m widgets\u001b[38;5;241m.\u001b[39mVBox(children\u001b[38;5;241m=\u001b[39m[button, output_popup], layout\u001b[38;5;241m=\u001b[39mwidgets\u001b[38;5;241m.\u001b[39mLayout(\n\u001b[0;32m     43\u001b[0m         width\u001b[38;5;241m=\u001b[39m\u001b[38;5;124m'\u001b[39m\u001b[38;5;124m70\u001b[39m\u001b[38;5;124m%\u001b[39m\u001b[38;5;124m'\u001b[39m,  \u001b[38;5;66;03m# Set the width to 50% of the container or viewport\u001b[39;00m\n\u001b[0;32m     44\u001b[0m         height\u001b[38;5;241m=\u001b[39m\u001b[38;5;124m'\u001b[39m\u001b[38;5;124mauto\u001b[39m\u001b[38;5;124m'\u001b[39m,  \u001b[38;5;66;03m# Set a fixed height\u001b[39;00m\n\u001b[1;32m   (...)\u001b[0m\n\u001b[0;32m     49\u001b[0m         justify_content\u001b[38;5;241m=\u001b[39m\u001b[38;5;124m'\u001b[39m\u001b[38;5;124mcenter\u001b[39m\u001b[38;5;124m'\u001b[39m  \u001b[38;5;66;03m# Center the items vertically inside the VBox\u001b[39;00m\n\u001b[0;32m     50\u001b[0m     ))\n\u001b[1;32m---> 52\u001b[0m right_col \u001b[38;5;241m=\u001b[39m widgets\u001b[38;5;241m.\u001b[39mVBox(children\u001b[38;5;241m=\u001b[39m[header_container, \u001b[43mbackground_color_html\u001b[49m, upper, footer, popup], layout\u001b[38;5;241m=\u001b[39mwidgets\u001b[38;5;241m.\u001b[39mLayout(\n\u001b[0;32m     53\u001b[0m         width\u001b[38;5;241m=\u001b[39m\u001b[38;5;124m'\u001b[39m\u001b[38;5;124m88\u001b[39m\u001b[38;5;124m%\u001b[39m\u001b[38;5;124m'\u001b[39m,  \u001b[38;5;66;03m# Set the width to 50% of the container or viewport\u001b[39;00m\n\u001b[0;32m     54\u001b[0m         height\u001b[38;5;241m=\u001b[39m\u001b[38;5;124m'\u001b[39m\u001b[38;5;124mauto\u001b[39m\u001b[38;5;124m'\u001b[39m,  \u001b[38;5;66;03m# Set a fixed height\u001b[39;00m\n\u001b[0;32m     55\u001b[0m         border_left\u001b[38;5;241m=\u001b[39m\u001b[38;5;124m'\u001b[39m\u001b[38;5;124msolid 5px grey\u001b[39m\u001b[38;5;124m'\u001b[39m,\n\u001b[0;32m     56\u001b[0m         padding\u001b[38;5;241m=\u001b[39m\u001b[38;5;124m'\u001b[39m\u001b[38;5;124m10px\u001b[39m\u001b[38;5;124m'\u001b[39m,\n\u001b[0;32m     57\u001b[0m         margin\u001b[38;5;241m=\u001b[39m\u001b[38;5;124m'\u001b[39m\u001b[38;5;124mauto\u001b[39m\u001b[38;5;124m'\u001b[39m,  \u001b[38;5;66;03m# Center the VBox horizontally\u001b[39;00m\n\u001b[0;32m     58\u001b[0m         align_items\u001b[38;5;241m=\u001b[39m\u001b[38;5;124m'\u001b[39m\u001b[38;5;124mcenter\u001b[39m\u001b[38;5;124m'\u001b[39m,  \u001b[38;5;66;03m# Center the items inside the VBox\u001b[39;00m\n\u001b[0;32m     59\u001b[0m         justify_content\u001b[38;5;241m=\u001b[39m\u001b[38;5;124m'\u001b[39m\u001b[38;5;124mcenter\u001b[39m\u001b[38;5;124m'\u001b[39m\n\u001b[0;32m     60\u001b[0m ))\n\u001b[0;32m     62\u001b[0m cols \u001b[38;5;241m=\u001b[39m widgets\u001b[38;5;241m.\u001b[39mHBox(\n\u001b[0;32m     63\u001b[0m     [left_col, right_col],\n\u001b[0;32m     64\u001b[0m     layout\u001b[38;5;241m=\u001b[39mwidgets\u001b[38;5;241m.\u001b[39mLayout(\n\u001b[1;32m   (...)\u001b[0m\n\u001b[0;32m     73\u001b[0m     )\n\u001b[0;32m     74\u001b[0m )\n\u001b[0;32m     76\u001b[0m \u001b[38;5;66;03m# Display the container\u001b[39;00m\n\u001b[0;32m     77\u001b[0m \n\u001b[0;32m     78\u001b[0m \u001b[38;5;66;03m# right_col.add_class(\"box_style\")\u001b[39;00m\n\u001b[0;32m     79\u001b[0m \u001b[38;5;66;03m# display(left_col)\u001b[39;00m\n\u001b[0;32m     80\u001b[0m \u001b[38;5;66;03m# display(right_col)\u001b[39;00m\n",
      "\u001b[1;31mNameError\u001b[0m: name 'background_color_html' is not defined"
     ]
    }
   ],
   "source": [
    "# Creating containers for all the widgets along with their css properties\n",
    "\n",
    "all_button = widgets.HBox(\n",
    "    [back_button, submit_button],\n",
    "    layout=widgets.Layout(\n",
    "        width='100%',  \n",
    "        height='auto',\n",
    "#         border='solid 2px grey',\n",
    "        padding='1px',\n",
    "        margin='auto',  \n",
    "        align_items='center',  \n",
    "        justify_content='space-between' \n",
    "    )\n",
    ")\n",
    "buttons = widgets.VBox(\n",
    "    [output, all_button],\n",
    "    layout=widgets.Layout(\n",
    "        width='100%',  \n",
    "        height='auto',  \n",
    "#         border='solid 2px grey',\n",
    "        padding='1px',\n",
    "        margin='auto',  \n",
    "        align_items='center',  \n",
    "        justify_content='center'  \n",
    "    )\n",
    ")\n",
    "\n",
    "\n",
    "\n",
    "upper = widgets.VBox(\n",
    "    [logical_integer_container, buttons],\n",
    "    layout=widgets.Layout(\n",
    "        width='95%',  \n",
    "        height='auto', \n",
    "        border='solid 1px grey',\n",
    "        padding='10px',\n",
    "        margin='auto',  \n",
    "        align_items='center',  \n",
    "        justify_content='center' \n",
    "    )\n",
    ")\n",
    "upper.add_class(\"custom-vbox\")\n",
    "\n",
    "popup = widgets.VBox(children=[accordion], layout=widgets.Layout(\n",
    "        width='95.3%',\n",
    "        padding ='5px 0px 0px 0px'))\n",
    "\n",
    "\n",
    "\n",
    "right_col = widgets.VBox(children=[header_container, background_color_html, upper, footer, popup], layout=widgets.Layout(\n",
    "        width='88%',  \n",
    "        height='100%',  \n",
    "        border_left='solid 1px grey',\n",
    "        padding='5px',\n",
    "        margin='auto',  \n",
    "        align_items='center',  \n",
    "        justify_content='center'\n",
    "))\n",
    "\n",
    "cols = widgets.HBox(\n",
    "    [left_col, right_col],\n",
    "    layout=widgets.Layout(\n",
    "        width='95%',  \n",
    "        height='auto',  \n",
    "        border='solid 2px grey',\n",
    "#         padding='5px',\n",
    "        margin='auto',  \n",
    "        align_items='flex-start', \n",
    "        justify_content='center'\n",
    "    )\n",
    ")\n",
    "\n",
    "display(cols)"
   ]
  },
  {
   "cell_type": "code",
   "execution_count": null,
   "id": "7b613a85",
   "metadata": {},
   "outputs": [],
   "source": []
  }
 ],
 "metadata": {
  "kernelspec": {
   "display_name": "Python 3 (ipykernel)",
   "language": "python",
   "name": "python3"
  },
  "language_info": {
   "codemirror_mode": {
    "name": "ipython",
    "version": 3
   },
   "file_extension": ".py",
   "mimetype": "text/x-python",
   "name": "python",
   "nbconvert_exporter": "python",
   "pygments_lexer": "ipython3",
   "version": "3.12.7"
  }
 },
 "nbformat": 4,
 "nbformat_minor": 5
}
