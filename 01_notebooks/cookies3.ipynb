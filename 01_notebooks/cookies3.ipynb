{
 "cells": [
  {
   "cell_type": "code",
   "execution_count": 10,
   "id": "c6488319",
   "metadata": {},
   "outputs": [
    {
     "data": {
      "application/javascript": [
       "\n",
       "(function() {\n",
       "    var uid = document.cookie.split('; ').find(row => row.startsWith('uid='));\n",
       "    if (uid) {\n",
       "        var existingUid = uid.split('=')[1];\n",
       "        console.log(existingUid)\n",
       "        var command = \"load_user_file('\" + existingUid + \"')\";\n",
       "        console.log(command)\n",
       "        var kernel = IPython.notebook.kernel;\n",
       "        console.log(kernel)\n",
       "        kernel.execute(command);\n",
       "    }\n",
       "})();\n"
      ],
      "text/plain": [
       "<IPython.core.display.Javascript object>"
      ]
     },
     "metadata": {},
     "output_type": "display_data"
    }
   ],
   "source": [
    "# import os\n",
    "# import json\n",
    "# from IPython.display import display, Javascript\n",
    "\n",
    "# # Function to load the user's file based on their UID\n",
    "# def load_user_file(uid):\n",
    "#     json_path = os.path.join(json_dir, f\"{uid}.json\")\n",
    "#     if os.path.exists(json_path):\n",
    "#         with open(json_path, \"r\") as f:\n",
    "#             data = json.load(f)\n",
    "#         print(f\"Loaded data for UID {uid}: {data}\")\n",
    "#     else:\n",
    "#         print(f\"No file found for UID: {uid}\")\n",
    "\n",
    "# # JavaScript code to retrieve the user's uid from their cookies\n",
    "# get_cookie_js = \"\"\"\n",
    "# (function() {\n",
    "#     var uid = document.cookie.split('; ').find(row => row.startsWith('uid='));\n",
    "#     if (uid) {\n",
    "#         var existingUid = uid.split('=')[1];\n",
    "#         console.log(existingUid)\n",
    "#         var command = \"load_user_file('\" + existingUid + \"')\";\n",
    "#         console.log(command)\n",
    "#         var kernel = IPython.notebook.kernel;\n",
    "#         kernel.execute(command);\n",
    "#     }\n",
    "# })();\n",
    "# \"\"\"\n",
    "\n",
    "# # Display the JavaScript to get the cookie\n",
    "# display(Javascript(get_cookie_js))\n",
    "\n"
   ]
  },
  {
   "cell_type": "code",
   "execution_count": null,
   "id": "3546c576",
   "metadata": {},
   "outputs": [],
   "source": []
  },
  {
   "cell_type": "code",
   "execution_count": null,
   "id": "e9cc3393",
   "metadata": {},
   "outputs": [],
   "source": [
    "# from IPython.display import display, HTML\n",
    "# import os\n",
    "\n",
    "# # JavaScript to retrieve the fingerprint from the user's browser\n",
    "# display(HTML(\"\"\"\n",
    "# <script>\n",
    "#     function getCookie(name) {\n",
    "#         const value = `; ${document.cookie}`;\n",
    "#         const parts = value.split(`; ${name}=`);\n",
    "#         if (parts.length === 2) return parts.pop().split(';').shift();\n",
    "#     }\n",
    "\n",
    "#     // Retrieve the fingerprint cookie\n",
    "#     const fingerprint = getCookie('fingerprint');\n",
    "#     if (fingerprint) {\n",
    "#         document.body.innerHTML = `<p>User Fingerprint: ${fingerprint}</p>`;\n",
    "#     } else {\n",
    "#         document.body.innerHTML = `<p>No fingerprint found</p>`;\n",
    "#     }\n",
    "# </script>\n",
    "# \"\"\"))\n"
   ]
  },
  {
   "cell_type": "code",
   "execution_count": null,
   "id": "82a4917f",
   "metadata": {},
   "outputs": [],
   "source": []
  },
  {
   "cell_type": "code",
   "execution_count": null,
   "id": "1992328a",
   "metadata": {},
   "outputs": [],
   "source": []
  },
  {
   "cell_type": "code",
   "execution_count": null,
   "id": "cb17710c",
   "metadata": {},
   "outputs": [],
   "source": []
  },
  {
   "cell_type": "code",
   "execution_count": 11,
   "id": "bcba3e4b",
   "metadata": {},
   "outputs": [
    {
     "data": {
      "text/html": [
       "<p>Value 1: </p>"
      ],
      "text/plain": [
       "<IPython.core.display.HTML object>"
      ]
     },
     "metadata": {},
     "output_type": "display_data"
    },
    {
     "data": {
      "text/html": [
       "<p>Value 2: </p>"
      ],
      "text/plain": [
       "<IPython.core.display.HTML object>"
      ]
     },
     "metadata": {},
     "output_type": "display_data"
    }
   ],
   "source": [
    "# from urllib.parse import parse_qs\n",
    "# from IPython.display import display, HTML\n",
    "# import os\n",
    "\n",
    "# # Retrieve query string from environment variable\n",
    "# query_string = os.environ.get('QUERY_STRING', '')  # Voila sets this when rendering\n",
    "# query_params = parse_qs(query_string)\n",
    "\n",
    "# # Access parameters\n",
    "# value1 = query_params.get('value1', [''])[0]  # Default to empty string if not present\n",
    "# value2 = query_params.get('value2', [''])[0]\n",
    "\n",
    "# # Display values\n",
    "# display(HTML(f\"<p>Value 1: {value1}</p>\"))\n",
    "# display(HTML(f\"<p>Value 2: {value2}</p>\"))\n"
   ]
  },
  {
   "cell_type": "code",
   "execution_count": null,
   "id": "fc48c56a",
   "metadata": {},
   "outputs": [],
   "source": []
  },
  {
   "cell_type": "code",
   "execution_count": null,
   "id": "7418ec82",
   "metadata": {},
   "outputs": [],
   "source": []
  },
  {
   "cell_type": "code",
   "execution_count": null,
   "id": "4a978fe3",
   "metadata": {},
   "outputs": [],
   "source": []
  },
  {
   "cell_type": "code",
   "execution_count": null,
   "id": "7d15b32c",
   "metadata": {},
   "outputs": [],
   "source": []
  },
  {
   "cell_type": "code",
   "execution_count": null,
   "id": "77ab2165",
   "metadata": {},
   "outputs": [],
   "source": []
  },
  {
   "cell_type": "code",
   "execution_count": 1,
   "id": "d523dcac",
   "metadata": {},
   "outputs": [
    {
     "data": {
      "application/javascript": [
       "\n",
       "var script = document.createElement('script');\n",
       "script.src = \"https://cdn.jsdelivr.net/npm/@fingerprintjs/fingerprintjs@3/dist/fp.min.js\";\n",
       "script.onload = function() {\n",
       "    FingerprintJS.load().then(fp => {\n",
       "        // Generate the fingerprint\n",
       "        fp.get().then(result => {\n",
       "            const fingerprint = result.visitorId;\n",
       "            console.log(\"Fingerprint generated:\", fingerprint);\n",
       "\n",
       "            // Retrieve the fingerprint from the URL query parameter\n",
       "            var urlParams = new URLSearchParams(window.location.search);\n",
       "            var retrievedFingerprint = urlParams.get('fingerprint');\n",
       "\n",
       "            // Compare the generated fingerprint with the retrieved one\n",
       "            if (fingerprint === retrievedFingerprint) {\n",
       "                console.log(\"Fingerprints match!\");\n",
       "            } else {\n",
       "                console.log(\"Fingerprints do not match!\");\n",
       "            }\n",
       "\n",
       "        }).catch(error => {\n",
       "            console.error(\"Error generating fingerprint:\", error);\n",
       "        });\n",
       "    }).catch(error => {\n",
       "        console.error(\"Error loading FingerprintJS:\", error);\n",
       "    });\n",
       "};\n",
       "document.head.appendChild(script);\n"
      ],
      "text/plain": [
       "<IPython.core.display.Javascript object>"
      ]
     },
     "metadata": {},
     "output_type": "display_data"
    }
   ],
   "source": [
    "# from IPython.display import display, Javascript, HTML\n",
    "\n",
    "# # JavaScript to generate fingerprint and open the link in a new tab\n",
    "# fingerprint_js = \"\"\"\n",
    "# var script = document.createElement('script');\n",
    "# script.src = \"https://cdn.jsdelivr.net/npm/@fingerprintjs/fingerprintjs@3/dist/fp.min.js\";\n",
    "# script.onload = function() {\n",
    "#     FingerprintJS.load().then(fp => {\n",
    "#         // Generate the fingerprint\n",
    "#         fp.get().then(result => {\n",
    "#             const fingerprint = result.visitorId;\n",
    "#             console.log(\"Fingerprint generated:\", fingerprint);\n",
    "\n",
    "#             // Retrieve the fingerprint from the URL query parameter\n",
    "#             var urlParams = new URLSearchParams(window.location.search);\n",
    "#             var retrievedFingerprint = urlParams.get('fingerprint');\n",
    "\n",
    "#             // Compare the generated fingerprint with the retrieved one\n",
    "#             if (fingerprint === retrievedFingerprint) {\n",
    "#                 console.log(\"Fingerprints match!\");\n",
    "#             } else {\n",
    "#                 console.log(\"Fingerprints do not match!\");\n",
    "#             }\n",
    "\n",
    "#         }).catch(error => {\n",
    "#             console.error(\"Error generating fingerprint:\", error);\n",
    "#         });\n",
    "#     }).catch(error => {\n",
    "#         console.error(\"Error loading FingerprintJS:\", error);\n",
    "#     });\n",
    "# };\n",
    "# document.head.appendChild(script);\n",
    "# \"\"\"\n",
    "\n",
    "# # Inject the JavaScript into the notebook\n",
    "# display(Javascript(fingerprint_js))\n"
   ]
  },
  {
   "cell_type": "code",
   "execution_count": null,
   "id": "26c7e67f",
   "metadata": {},
   "outputs": [],
   "source": []
  },
  {
   "cell_type": "code",
   "execution_count": null,
   "id": "fc261a8a",
   "metadata": {},
   "outputs": [],
   "source": []
  },
  {
   "cell_type": "code",
   "execution_count": null,
   "id": "7b3a5ff1",
   "metadata": {},
   "outputs": [],
   "source": [
    "# using get method"
   ]
  },
  {
   "cell_type": "code",
   "execution_count": null,
   "id": "10c77adc",
   "metadata": {},
   "outputs": [],
   "source": [
    "import warnings\n",
    "warnings.filterwarnings('ignore')\n",
    "\n",
    "import os\n",
    "import re\n",
    "import json\n",
    "import webbrowser\n",
    "import pandas as pd\n",
    "import ipywidgets as widgets\n",
    "from datetime import datetime\n",
    "from ipywidgets import AppLayout, Button, Layout\n",
    "from ipywidgets import Button, Layout, jslink, IntText, IntSlider\n",
    "from IPython.display import display, Javascript, Markdown, clear_output, HTML\n",
    "from ipywidgets import GridspecLayout\n",
    "from markdown_it import MarkdownIt"
   ]
  },
  {
   "cell_type": "code",
   "execution_count": null,
   "id": "d8dd3c41",
   "metadata": {},
   "outputs": [],
   "source": [
    "from urllib.parse import parse_qs\n",
    "from IPython.display import display, HTML\n",
    "import os\n",
    "\n",
    "# Function to get query parameters\n",
    "def get_query_parameters():\n",
    "    # Extract query parameters from the URL\n",
    "    query_string = os.environ.get('QUERY_STRING', '')  # Voila sets this when rendering\n",
    "#     print(query_string)\n",
    "    query_params = parse_qs(query_string)\n",
    "    return query_params\n",
    "\n",
    "# Get parameters\n",
    "params = get_query_parameters()\n",
    "filename = params.get(\"filename\", [\"Unknown\"])[0]\n",
    "print(filename)"
   ]
  },
  {
   "cell_type": "code",
   "execution_count": null,
   "id": "8c9da682",
   "metadata": {},
   "outputs": [],
   "source": [
    "path = f\"../new_data_files/json/{filename}_storage.json\""
   ]
  },
  {
   "cell_type": "code",
   "execution_count": null,
   "id": "2318cb78",
   "metadata": {},
   "outputs": [],
   "source": [
    "with open(path, \"r\") as f:\n",
    "    stored_choices = json.load(f)"
   ]
  },
  {
   "cell_type": "code",
   "execution_count": null,
   "id": "dc9e0970",
   "metadata": {},
   "outputs": [],
   "source": []
  },
  {
   "cell_type": "code",
   "execution_count": null,
   "id": "b40e9afc",
   "metadata": {},
   "outputs": [],
   "source": []
  },
  {
   "cell_type": "code",
   "execution_count": null,
   "id": "31e376c7",
   "metadata": {},
   "outputs": [],
   "source": []
  },
  {
   "cell_type": "code",
   "execution_count": null,
   "id": "779fddc4",
   "metadata": {},
   "outputs": [],
   "source": []
  },
  {
   "cell_type": "code",
   "execution_count": null,
   "id": "7e2a2bd2",
   "metadata": {},
   "outputs": [],
   "source": []
  },
  {
   "cell_type": "code",
   "execution_count": null,
   "id": "a72e46e4",
   "metadata": {},
   "outputs": [],
   "source": []
  },
  {
   "cell_type": "code",
   "execution_count": 10,
   "id": "c3b4b40a",
   "metadata": {},
   "outputs": [
    {
     "name": "stdout",
     "output_type": "stream",
     "text": [
      "\n"
     ]
    },
    {
     "data": {
      "text/html": [
       "<h3>Welcome, Unknown!</h3>"
      ],
      "text/plain": [
       "<IPython.core.display.HTML object>"
      ]
     },
     "metadata": {},
     "output_type": "display_data"
    },
    {
     "data": {
      "text/html": [
       "<p>Your age is: Unknown</p>"
      ],
      "text/plain": [
       "<IPython.core.display.HTML object>"
      ]
     },
     "metadata": {},
     "output_type": "display_data"
    }
   ],
   "source": [
    "name = stored_choices[\"name\"]\n",
    "age = stored_choices[\"age\"]\n",
    "\n",
    "# Display values\n",
    "display(HTML(f\"<h3>Welcome, {name}!</h3>\"))\n",
    "display(HTML(f\"<p>Your age is: {age}</p>\"))\n"
   ]
  },
  {
   "cell_type": "code",
   "execution_count": null,
   "id": "df1aff57",
   "metadata": {},
   "outputs": [],
   "source": []
  }
 ],
 "metadata": {
  "kernelspec": {
   "display_name": "Python 3 (ipykernel)",
   "language": "python",
   "name": "python3"
  },
  "language_info": {
   "codemirror_mode": {
    "name": "ipython",
    "version": 3
   },
   "file_extension": ".py",
   "mimetype": "text/x-python",
   "name": "python",
   "nbconvert_exporter": "python",
   "pygments_lexer": "ipython3",
   "version": "3.12.7"
  }
 },
 "nbformat": 4,
 "nbformat_minor": 5
}
