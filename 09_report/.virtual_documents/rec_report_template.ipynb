import warnings
warnings.filterwarnings('ignore')

import os
import re
import json
import webbrowser
import pandas as pd
from datetime import datetime
import ipywidgets as widgets
from ipywidgets import AppLayout, Button, Layout, jslink, IntText, IntSlider, GridspecLayout
from IPython.display import display, Javascript, Markdown, clear_output, HTML
import markdown
from markdown_it import MarkdownIt


# Styling notebook
def css_styling():
    styles = open("report.css", "r").read()
    return HTML(styles)
css_styling()


date_obtained=pd.to_datetime('now').strftime("%Y-%m-%d %H:%M:%S")


## define table for "summary_questions
summary_questions = """
| Level of design | Question (abbreviated) | Question options | User answer |
|:----------------|:-------------------------------|:------------------|:----------------------|
| Objectives & Resources | Entry point | Design a new remote camera project, Analyze data that was already collected | Design a new remote camera project |
| Objectives & Resources | State variable |  Species inventory, Species diversity & richness, Occupancy, Relative abundance, Absolute abundance, Density, Vital rate, Behaviour, Unknown | Occupancy |
| Objectives & Resources | Number of cameras | YES / [numeric]; NO | 40 |
| Study area & Site selection constraints | Single vs multiple study areas | Single, Multiple | Multiple |
| Study area & Site selection constraints | Stratification by chosen number of covariates | YES / [numeric]; NO | YES ; 4 covariates  |
| Duration & Timing | Minimum survey months | YES / [numeric]; NO | NO |
"""

extensions = ['markdown.extensions.extra', 'markdown.extensions.smarty']
html_summary_questions = markdown.markdown(summary_questions, extensions=extensions, output_format='html5')


## define table for "summary_mod_approach"
summary_mod_approach = """
| Modelling approach | Because you chose… | User answer |
|:----------------|:------------------|:----------------------|
| Occupancy | Number of cameras available ≥ 40 | >= 40 (minimum) |
| Occupancy | Each camera location will be treated as an independent sample. | TRUE |
"""

extensions = ['markdown.extensions.extra', 'markdown.extensions.smarty']
html_summary_mod_approach = markdown.markdown(summary_mod_approach, extensions=extensions, output_format='html5')


## define table for "approach1 - sampling design"
approach1_name="Occupancy" #this is just for the example
summ_approach1_rec_overview = """
| Camera arrangement | Camera spacing | Number of cameras | Camera days per camera location | Total number of camera days | Survey duration  |
|:-------------------|:-------------------|:-------------------|:-------------------|:-------------------|:-------------------|
| Ideally random | ≥ 1 km | ≤ 30 | ≥ 30 | Species-dependent | Species-dependent |
| Targeted |  |  |  |  | Ideally < 6 months |
| Clustered |  |  |  |  |  |
| Stratified random |  |  |  |  |  |
"""

extensions = ['markdown.extensions.extra', 'markdown.extensions.smarty']
html_summ_approach1_rec_overview = markdown.markdown(summ_approach1_rec_overview, extensions=extensions, output_format='html5')


## define table for "other considerations"
import markdown
summ_considerations = """
| Because you chose…  | Consider the following... |
|:-------------------|:-------------------|
| Multiple study areas | Include latitude, topography, temp, and or NVDI as covariates in analysis (Hofmeester et al., 2019). |
| Multiples study seasons | Correct for multiple seasons by including season or temperature as covariates (Hofmeester et al., 2019). |
....
"""

extensions = ['markdown.extensions.extra', 'markdown.extensions.smarty']
html_summ_considerations = markdown.markdown(summ_considerations, extensions=extensions, output_format='html5')


import markdown
approach1_assumptions = """
{{approach1_assump_01}}<br>{{approach1_assump_02}}<br>{{approach1_assump_03}}<br>{{approach1_assump_04}}<br>{{approach1_assump_05}}<br>{{approach1_assump_06}}
"""
extensions = ['markdown.extensions.extra', 'markdown.extensions.smarty']
html_approach1_assumptions = markdown.markdown(approach1_assumptions, extensions=extensions, output_format='html5')


import markdown
considerations = """
- {{approach1_assump_01}}<br>- {{approach1_assump_02}}<br>- {{approach1_assump_03}}<br>- {{approach1_assump_04}}<br>- {{approach1_assump_05}}<br>- {{approach1_assump_06}}
"""
extensions = ['markdown.extensions.extra', 'markdown.extensions.smarty']
html_considerations = markdown.markdown(considerations, extensions=extensions, output_format='html5')


from IPython.display import display, Markdown, HTML
import markdown
display(Markdown(f'<h1>Remote Camera Decision Support Tool – Recommendation Report</h1>'))
display(Markdown(f'**Version:** v0.1 (Demo)<br>**Date/time obtained:** {date_obtained}'))
display(Markdown(f'***'))
display(Markdown(f'**Note:** The Remote Camera Decision Support Tool is meant to serve as a supplementary tool while designing your camera program. The recommendations provided are not a replacement for investigation into the optimal study design for your remote camera program. Instead, they are meant to serve as a starting point grounded in western science best practices; additional research is recommended.'))
display(Markdown(f'<h2>1.0 Question summary</h2>'))
##^^ dont know why this text is duplicated....
display(Markdown(f'**Note:** The full list of questions can be found in the extended report.'))
display(HTML(html_summary_questions))
display(Markdown(f'***'))
display(Markdown(f'<h2>2.0 Appropriate modelling approaches</h2>'))
display(Markdown(f'<br>This section includes the modelling approach(es) that were appropriate given the users\' selections. Sampling design recommendations are nested under approaches.'))
display(HTML(html_summary_mod_approach))
display(Markdown(f'***'))
display(Markdown(f'<h2>3.0 Sampling design recommendations</h2>'))
display(Markdown(f'<h3>{approach1_name}</h3>'))
display(Markdown(f'<h4>Sampling design</h4>'))
display(HTML(html_summ_approach1_rec_overview))
display(Markdown(f'<h4>Considerations (model-specific)</h4>'))
display(Markdown(f'Consider how the following aspects of recommendations may change when considering your study:'))
## ADD SOME CODE TO INSERT
## <!--POPULATE BASED ON SELECTIONS; NEED TO ADD TO INFO FILES-->
display(Markdown(f'- Home range size information is going to vary based on geographic location, nearby disturbances, etc., etc, etc… consider how the home range size of the species in your study may change and adjust accordingly.<br>- .....'))
display(Markdown(f'<br>It is always important to keep the models\' assumptions in mind at all stages of your study.<br><br>**Model assumptions**:<br>'))
display(HTML(html_approach1_assumptions))
display(Markdown(f'<h4>Considerations (other)</h4>'))
display(HTML(html_summ_considerations))
display(Markdown(f'***'))
