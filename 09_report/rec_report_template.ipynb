{
 "cells": [
  {
   "cell_type": "code",
   "execution_count": 1,
   "id": "6ee25e9b-6c14-46e4-b3be-7962ef2fd317",
   "metadata": {},
   "outputs": [],
   "source": [
    "import warnings\n",
    "warnings.filterwarnings('ignore')\n",
    "\n",
    "import os\n",
    "import re\n",
    "import json\n",
    "import webbrowser\n",
    "import pandas as pd\n",
    "from datetime import datetime\n",
    "import ipywidgets as widgets\n",
    "from ipywidgets import AppLayout, Button, Layout, jslink, IntText, IntSlider, GridspecLayout\n",
    "from IPython.display import display, Javascript, Markdown, clear_output, HTML\n",
    "import markdown\n",
    "from markdown_it import MarkdownIt"
   ]
  },
  {
   "cell_type": "code",
   "execution_count": 2,
   "id": "93ea2bd4-1551-46dd-ac0f-cbbeffd644c2",
   "metadata": {},
   "outputs": [
    {
     "data": {
      "text/html": [
       "<style>\n",
       "h1 {\n",
       "    font-size: 4px;\n",
       "    font-weight: bold;\n",
       "    line-height: 1.3;\n",
       "    margin-bottom: 0;\n",
       "}\n",
       "</style>\n",
       "\n",
       "<style>\n",
       "h2 {\n",
       "    font-size: 4px;\n",
       "    font-weight: bold;\n",
       "    line-height: 1.2;\n",
       "    color: #2F5496;\n",
       "    margin-bottom: 0;\n",
       "}\n",
       "</style>\n",
       "\n",
       "<style>\n",
       "h3 {\n",
       "    font-size: 4px;\n",
       "    font-weight: normal;\n",
       "    line-height: 1.1;\n",
       "    margin-bottom: 0;\n",
       "}\n",
       "</style>\n",
       "\n",
       "\n",
       "<style>\n",
       "h4 {\n",
       "    font-size: 4px;\n",
       "    font-weight: normal;\n",
       "    font-style: italic;\n",
       "    line-height: 1.1;\n",
       "    margin-bottom: 0;\n",
       "}\n",
       "</style>\n",
       "\n"
      ],
      "text/plain": [
       "<IPython.core.display.HTML object>"
      ]
     },
     "execution_count": 2,
     "metadata": {},
     "output_type": "execute_result"
    }
   ],
   "source": [
    "# Styling notebook\n",
    "def css_styling():\n",
    "    styles = open(\"report.css\", \"r\").read()\n",
    "    return HTML(styles)\n",
    "css_styling()"
   ]
  },
  {
   "cell_type": "code",
   "execution_count": 11,
   "id": "6752b080-aee7-4e1b-a76b-9bf791eeee37",
   "metadata": {},
   "outputs": [
    {
     "data": {
      "text/plain": [
       "'2024-12-06 16:03:09'"
      ]
     },
     "execution_count": 11,
     "metadata": {},
     "output_type": "execute_result"
    }
   ],
   "source": [
    "### might want time zone or something\n",
    "## might also want some sort of unique identifiers; connect with cached info??? \n",
    "\n",
    "date_obtained=pd.to_datetime('now').strftime(\"%Y-%m-%d %H:%M:%S\")"
   ]
  },
  {
   "cell_type": "code",
   "execution_count": 13,
   "id": "9e98a75f-5189-42a0-96f9-ca269bb778c0",
   "metadata": {},
   "outputs": [],
   "source": [
    "## define table for \"summary_questions\n",
    "## need to populate Question (abbreviated) / User answer (cass to provide table to link rest of info based on question code)\n",
    "\n",
    "summary_questions = \"\"\"\n",
    "| Level of design | Question (abbreviated) | Question options | User answer |\n",
    "|:----------------|:-------------------------------|:------------------|:----------------------|\n",
    "| Objectives & Resources | Entry point | Design a new remote camera project, Analyze data that was already collected | Design a new remote camera project |\n",
    "| Objectives & Resources | State variable |  Species inventory, Species diversity & richness, Occupancy, Relative abundance, Absolute abundance, Density, Vital rate, Behaviour, Unknown | Occupancy |\n",
    "| Objectives & Resources | Number of cameras | YES / [numeric]; NO | 40 |\n",
    "| Study area & Site selection constraints | Single vs multiple study areas | Single, Multiple | Multiple |\n",
    "| Study area & Site selection constraints | Stratification by chosen number of covariates | YES / [numeric]; NO | YES ; 4 covariates  |\n",
    "| Duration & Timing | Minimum survey months | YES / [numeric]; NO | NO |\n",
    "\"\"\"\n",
    "\n",
    "extensions = ['markdown.extensions.extra', 'markdown.extensions.smarty']\n",
    "html_summary_questions = markdown.markdown(summary_questions, extensions=extensions, output_format='html5')"
   ]
  },
  {
   "cell_type": "code",
   "execution_count": 14,
   "id": "be00a081-d828-42e5-ade4-1782348975dd",
   "metadata": {},
   "outputs": [],
   "source": [
    "## define table for \"summary_mod_approach\"\n",
    "\n",
    "summary_mod_approach = \"\"\"\n",
    "| Modelling approach | Because you chose… | User answer |\n",
    "|:----------------|:------------------|:----------------------|\n",
    "| Occupancy | Number of cameras available ≥ 40 | >= 40 (minimum) |\n",
    "| Occupancy | Each camera location will be treated as an independent sample. | TRUE |\n",
    "\"\"\"\n",
    "\n",
    "extensions = ['markdown.extensions.extra', 'markdown.extensions.smarty']\n",
    "html_summary_mod_approach = markdown.markdown(summary_mod_approach, extensions=extensions, output_format='html5')"
   ]
  },
  {
   "cell_type": "code",
   "execution_count": 15,
   "id": "099fcc1b-5aad-40a9-ac36-3c5bf550946c",
   "metadata": {},
   "outputs": [],
   "source": [
    "## define table for \"approach1 - sampling design\"\n",
    "approach1_name=\"Occupancy\" #this is just for the example\n",
    "summ_approach1_rec_overview = \"\"\"\n",
    "| Camera arrangement | Camera spacing | Number of cameras | Camera days per camera location | Total number of camera days | Survey duration  |\n",
    "|:-------------------|:-------------------|:-------------------|:-------------------|:-------------------|:-------------------|\n",
    "| Ideally random | ≥ 1 km | ≤ 30 | ≥ 30 | Species-dependent | Species-dependent |\n",
    "| Targeted |  |  |  |  | Ideally < 6 months |\n",
    "| Clustered |  |  |  |  |  |\n",
    "| Stratified random |  |  |  |  |  |\n",
    "\"\"\"\n",
    "\n",
    "extensions = ['markdown.extensions.extra', 'markdown.extensions.smarty']\n",
    "html_summ_approach1_rec_overview = markdown.markdown(summ_approach1_rec_overview, extensions=extensions, output_format='html5')"
   ]
  },
  {
   "cell_type": "code",
   "execution_count": 16,
   "id": "ab4686bf-ce4c-4df6-a82c-8c3baca45339",
   "metadata": {},
   "outputs": [],
   "source": [
    "## define table for \"other considerations\"\n",
    "import markdown\n",
    "summ_considerations = \"\"\"\n",
    "| Because you chose…  | Consider the following... |\n",
    "|:-------------------|:-------------------|\n",
    "| Multiple study areas | Include latitude, topography, temp, and or NVDI as covariates in analysis (Hofmeester et al., 2019). |\n",
    "| Multiples study seasons | Correct for multiple seasons by including season or temperature as covariates (Hofmeester et al., 2019). |\n",
    "....\n",
    "\"\"\"\n",
    "\n",
    "extensions = ['markdown.extensions.extra', 'markdown.extensions.smarty']\n",
    "html_summ_considerations = markdown.markdown(summ_considerations, extensions=extensions, output_format='html5')"
   ]
  },
  {
   "cell_type": "code",
   "execution_count": 17,
   "id": "d0b6ac09-409d-4c0a-994a-899c419143b5",
   "metadata": {},
   "outputs": [],
   "source": [
    "### will be pulling in a markdown file with all of this info populated already; just need to specify for which mod approach.\n",
    "\n",
    "import markdown\n",
    "approach1_assumptions = \"\"\"\n",
    "{{approach1_assump_01}}<br>{{approach1_assump_02}}<br>{{approach1_assump_03}}<br>{{approach1_assump_04}}<br>{{approach1_assump_05}}<br>{{approach1_assump_06}}\n",
    "\"\"\"\n",
    "extensions = ['markdown.extensions.extra', 'markdown.extensions.smarty']\n",
    "html_approach1_assumptions = markdown.markdown(approach1_assumptions, extensions=extensions, output_format='html5')"
   ]
  },
  {
   "cell_type": "code",
   "execution_count": 18,
   "id": "3d43a080-f56f-4eae-9525-f380360f6129",
   "metadata": {},
   "outputs": [],
   "source": [
    "## probably will just remove for now. ignore.\n",
    "\n",
    "import markdown\n",
    "considerations = \"\"\"\n",
    "- {{approach1_assump_01}}<br>- {{approach1_assump_02}}<br>- {{approach1_assump_03}}<br>- {{approach1_assump_04}}<br>- {{approach1_assump_05}}<br>- {{approach1_assump_06}}\n",
    "\"\"\"\n",
    "extensions = ['markdown.extensions.extra', 'markdown.extensions.smarty']\n",
    "html_considerations = markdown.markdown(considerations, extensions=extensions, output_format='html5')"
   ]
  },
  {
   "cell_type": "code",
   "execution_count": 1,
   "id": "50a9089f-4043-4a5c-bd37-17b85be11075",
   "metadata": {},
   "outputs": [],
   "source": [
    "# from IPython.display import display, Markdown, HTML\n",
    "# import markdown\n",
    "# display(Markdown(f'<h1>Remote Camera Decision Support Tool – Recommendation Report</h1>'))\n",
    "# display(Markdown(f'**Version:** v0.1 (Demo)<br>**Date/time obtained:** {date_obtained}'))\n",
    "# display(Markdown(f'***'))\n",
    "# display(Markdown(f'**Note:** The Remote Camera Decision Support Tool is meant to serve as a supplementary tool while designing your camera program. The recommendations provided are not a replacement for investigation into the optimal study design for your remote camera program. Instead, they are meant to serve as a starting point grounded in western science best practices; additional research is recommended.'))\n",
    "# display(Markdown(f'<h2>1.0 Question summary</h2>'))\n",
    "# ##^^ dont know why this text is duplicated....\n",
    "# display(Markdown(f'**Note:** The full list of questions can be found in the extended report.'))\n",
    "# display(HTML(html_summary_questions))\n",
    "# display(Markdown(f'***'))\n",
    "# display(Markdown(f'<h2>2.0 Appropriate modelling approaches</h2>'))\n",
    "# display(Markdown(f'<br>This section includes the modelling approach(es) that were appropriate given the users\\' selections. Sampling design recommendations are nested under approaches.'))\n",
    "# display(HTML(html_summary_mod_approach))\n",
    "# display(Markdown(f'***'))\n",
    "# display(Markdown(f'<h2>3.0 Sampling design recommendations</h2>'))\n",
    "# display(Markdown(f'<h3>{approach1_name}</h3>'))\n",
    "# display(Markdown(f'<h4>Sampling design</h4>'))\n",
    "# display(HTML(html_summ_approach1_rec_overview))\n",
    "# display(Markdown(f'<h4>Considerations (model-specific)</h4>'))\n",
    "# display(Markdown(f'Consider how the following aspects of recommendations may change when considering your study:'))\n",
    "# ## ADD SOME CODE TO INSERT\n",
    "# ## <!--POPULATE BASED ON SELECTIONS; NEED TO ADD TO INFO FILES-->\n",
    "# display(Markdown(f'- Home range size information is going to vary based on geographic location, nearby disturbances, etc., etc, etc… consider how the home range size of the species in your study may change and adjust accordingly.<br>- .....'))\n",
    "# display(Markdown(f'<br>It is always important to keep the models\\' assumptions in mind at all stages of your study.<br><br>**Model assumptions**:<br>'))\n",
    "# display(HTML(html_approach1_assumptions))\n",
    "# display(Markdown(f'<h4>Considerations (other)</h4>'))\n",
    "# display(HTML(html_summ_considerations))\n",
    "# display(Markdown(f'***'))"
   ]
  },
  {
   "cell_type": "code",
   "execution_count": 2,
   "id": "d9a7e11e-e964-4d6e-bc62-8c43e3055117",
   "metadata": {},
   "outputs": [],
   "source": [
    "import json\n",
    "with open(\"data.json\", \"r\") as f:\n",
    "    data = json.load(f)\n"
   ]
  },
  {
   "cell_type": "code",
   "execution_count": 3,
   "id": "416059a1-9111-4763-b82f-f5337abc0c88",
   "metadata": {},
   "outputs": [],
   "source": [
    "summary_questions_template = \"\"\"\n",
    "| Level of design | Question (abbreviated) | Question options | User answer |\n",
    "|:----------------|:-----------------------|:-----------------|:------------|\n",
    "| Objectives & Resources | Entry point | Design a new remote camera project, Analyze data that was already collected | {entry_point} |\n",
    "| Objectives & Resources | State variable | Species inventory, Species diversity & richness, Occupancy, Relative abundance, Absolute abundance, Density, Vital rate, Behaviour, Unknown | {state_variable} |\n",
    "| Objectives & Resources | Number of cameras | YES / [numeric]; NO | {num_cameras} |\n",
    "| Study area & Site selection constraints | Single vs multiple study areas | Single, Multiple | {study_area} |\n",
    "| Study area & Site selection constraints | Stratification by chosen number of covariates | YES / [numeric]; NO | {covariates} |\n",
    "| Duration & Timing | Minimum survey months | YES / [numeric]; NO | {min_survey_months} |\n",
    "\"\"\"\n",
    "\n",
    "summary_questions = summary_questions_template.format(**data)\n"
   ]
  },
  {
   "cell_type": "code",
   "execution_count": 4,
   "id": "92587eec",
   "metadata": {},
   "outputs": [],
   "source": [
    "import markdown\n",
    "\n",
    "extensions = ['markdown.extensions.extra', 'markdown.extensions.smarty']\n",
    "html_summary_questions = markdown.markdown(\n",
    "    summary_questions, \n",
    "    extensions=extensions, \n",
    "    output_format='html5'\n",
    ")\n"
   ]
  },
  {
   "cell_type": "code",
   "execution_count": 5,
   "id": "ed025ab9",
   "metadata": {},
   "outputs": [
    {
     "data": {
      "text/html": [
       "<table>\n",
       "<thead>\n",
       "<tr>\n",
       "<th style=\"text-align: left;\">Level of design</th>\n",
       "<th style=\"text-align: left;\">Question (abbreviated)</th>\n",
       "<th style=\"text-align: left;\">Question options</th>\n",
       "<th style=\"text-align: left;\">User answer</th>\n",
       "</tr>\n",
       "</thead>\n",
       "<tbody>\n",
       "<tr>\n",
       "<td style=\"text-align: left;\">Objectives &amp; Resources</td>\n",
       "<td style=\"text-align: left;\">Entry point</td>\n",
       "<td style=\"text-align: left;\">Design a new remote camera project, Analyze data that was already collected</td>\n",
       "<td style=\"text-align: left;\">Design a new remote camera project</td>\n",
       "</tr>\n",
       "<tr>\n",
       "<td style=\"text-align: left;\">Objectives &amp; Resources</td>\n",
       "<td style=\"text-align: left;\">State variable</td>\n",
       "<td style=\"text-align: left;\">Species inventory, Species diversity &amp; richness, Occupancy, Relative abundance, Absolute abundance, Density, Vital rate, Behaviour, Unknown</td>\n",
       "<td style=\"text-align: left;\">Occupancy</td>\n",
       "</tr>\n",
       "<tr>\n",
       "<td style=\"text-align: left;\">Objectives &amp; Resources</td>\n",
       "<td style=\"text-align: left;\">Number of cameras</td>\n",
       "<td style=\"text-align: left;\">YES / [numeric]; NO</td>\n",
       "<td style=\"text-align: left;\">40</td>\n",
       "</tr>\n",
       "<tr>\n",
       "<td style=\"text-align: left;\">Study area &amp; Site selection constraints</td>\n",
       "<td style=\"text-align: left;\">Single vs multiple study areas</td>\n",
       "<td style=\"text-align: left;\">Single, Multiple</td>\n",
       "<td style=\"text-align: left;\">Multiple</td>\n",
       "</tr>\n",
       "<tr>\n",
       "<td style=\"text-align: left;\">Study area &amp; Site selection constraints</td>\n",
       "<td style=\"text-align: left;\">Stratification by chosen number of covariates</td>\n",
       "<td style=\"text-align: left;\">YES / [numeric]; NO</td>\n",
       "<td style=\"text-align: left;\">YES ; 4 covariates</td>\n",
       "</tr>\n",
       "<tr>\n",
       "<td style=\"text-align: left;\">Duration &amp; Timing</td>\n",
       "<td style=\"text-align: left;\">Minimum survey months</td>\n",
       "<td style=\"text-align: left;\">YES / [numeric]; NO</td>\n",
       "<td style=\"text-align: left;\">NO</td>\n",
       "</tr>\n",
       "</tbody>\n",
       "</table>"
      ],
      "text/plain": [
       "<IPython.core.display.HTML object>"
      ]
     },
     "metadata": {},
     "output_type": "display_data"
    }
   ],
   "source": [
    "from IPython.display import display, HTML\n",
    "\n",
    "display(HTML(html_summary_questions))"
   ]
  },
  {
   "cell_type": "code",
   "execution_count": null,
   "id": "0546db2f",
   "metadata": {},
   "outputs": [],
   "source": []
  }
 ],
 "metadata": {
  "kernelspec": {
   "display_name": "Python 3 (ipykernel)",
   "language": "python",
   "name": "python3"
  },
  "language_info": {
   "codemirror_mode": {
    "name": "ipython",
    "version": 3
   },
   "file_extension": ".py",
   "mimetype": "text/x-python",
   "name": "python",
   "nbconvert_exporter": "python",
   "pygments_lexer": "ipython3",
   "version": "3.12.7"
  },
  "widgets": {
   "application/vnd.jupyter.widget-state+json": {
    "state": {},
    "version_major": 2,
    "version_minor": 0
   }
  }
 },
 "nbformat": 4,
 "nbformat_minor": 5
}
