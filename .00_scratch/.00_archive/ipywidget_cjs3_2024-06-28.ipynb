{
 "cells": [
  {
   "cell_type": "markdown",
   "id": "e11c3030-d493-4b4b-830c-7c5c7f8b6b26",
   "metadata": {},
   "source": [
    "# setup"
   ]
  },
  {
   "cell_type": "code",
   "execution_count": 1,
   "id": "2abc8c87",
   "metadata": {},
   "outputs": [],
   "source": [
    "import json\n",
    "import pandas as pd\n",
    "import ipywidgets as widgets\n",
    "from ipywidgets import AppLayout, Button, Layout\n",
    "from ipywidgets import Button, Layout, jslink, IntText, IntSlider\n",
    "from IPython.display import display, Javascript, Markdown, clear_output, HTML\n",
    "from ipywidgets import GridspecLayout\n",
    "from markdown_it import MarkdownIt"
   ]
  },
  {
   "cell_type": "code",
   "execution_count": 2,
   "id": "d31cc670",
   "metadata": {},
   "outputs": [],
   "source": [
    "# Custom CSS to ensure text wraps properly\n",
    "css = \"\"\"\n",
    "<style>\n",
    ".custom-button {\n",
    "    white-space: normal;\n",
    "    font-size: 16px !important;\n",
    "    font-weight: bold !important;\n",
    "}\n",
    "</style>\n",
    "\"\"\""
   ]
  },
  {
   "cell_type": "code",
   "execution_count": 3,
   "id": "da3421bd",
   "metadata": {},
   "outputs": [],
   "source": [
    "# Custom CSS to ensure text wraps properly\n",
    "header_css = \"\"\"\n",
    "<style>\n",
    ".custom-header {\n",
    "    white-space: normal;\n",
    "    font-size: 18px !important;\n",
    "    font-weight: bold !important;\n",
    "    padding: 50px;\n",
    "    color: #000000\n",
    "}\n",
    "</style>\n",
    "\"\"\""
   ]
  },
  {
   "cell_type": "code",
   "execution_count": 4,
   "id": "240b431d",
   "metadata": {},
   "outputs": [],
   "source": [
    "# Custom CSS to ensure text wraps properly\n",
    "footer_css = \"\"\"\n",
    "<style>\n",
    ".custom-footer {\n",
    "    width: auto;\n",
    "    align-item: flex-start !important; \n",
    "    padding-top: 70px;\n",
    "    height: auto\n",
    "}\n",
    "</style>\n",
    "\"\"\""
   ]
  },
  {
   "cell_type": "markdown",
   "id": "5b6389cb-f8ae-4115-af86-5dab533294d9",
   "metadata": {},
   "source": [
    "# Header widget"
   ]
  },
  {
   "cell_type": "code",
   "execution_count": 5,
   "id": "2dc67195",
   "metadata": {},
   "outputs": [],
   "source": [
    "html_header = widgets.HTML(value=\"<h1>Remote Camera Decision Support Tool</h1>\")"
   ]
  },
  {
   "cell_type": "code",
   "execution_count": 6,
   "id": "82e10559",
   "metadata": {},
   "outputs": [],
   "source": [
    "html_header.add_class(\"custom-header\")\n",
    "# Create a HTML widget to include the custom CSS\n",
    "header_css_widget = widgets.HTML(value=header_css)"
   ]
  },
  {
   "cell_type": "code",
   "execution_count": 7,
   "id": "4e57558b",
   "metadata": {},
   "outputs": [],
   "source": [
    "html_footer = widgets.HTML(value=\"\"\"\n",
    "<footer>\n",
    "    <img src='footer.png' alt='Footer Image'>\n",
    "</footer>\n",
    "\"\"\")\n"
   ]
  },
  {
   "cell_type": "code",
   "execution_count": 8,
   "id": "ce2fc4fc",
   "metadata": {},
   "outputs": [],
   "source": [
    "html_footer.add_class(\"custom-footer\")\n",
    "# Create a HTML widget to include the custom CSS\n",
    "footer_css_widget = widgets.HTML(value=footer_css)"
   ]
  },
  {
   "cell_type": "markdown",
   "id": "5ac6043c-076b-4240-97c2-8c6ad5476050",
   "metadata": {},
   "source": [
    "# Image Widget"
   ]
  },
  {
   "cell_type": "code",
   "execution_count": 9,
   "id": "3c756428",
   "metadata": {},
   "outputs": [],
   "source": [
    "file = open(\"../logo.png\", \"rb\")\n",
    "image = file.read()\n",
    "\n",
    "image_headline = widgets.Image(\n",
    "                    value=image,\n",
    "                    format='jpg',\n",
    "                    width='200'\n",
    "                )\n",
    "\n",
    "label_headline = widgets.Label(\n",
    "                    value='',\n",
    "                    style={'description_width': 'initial'}\n",
    "                )\n",
    "\n",
    "# vbox_headline = widgets.HBox([image_headline, label_headline])"
   ]
  },
  {
   "cell_type": "code",
   "execution_count": 10,
   "id": "a194c12e",
   "metadata": {},
   "outputs": [],
   "source": [
    "def create_expanded_button(description, button_style):\n",
    "    return Button(description=description, button_style=button_style, layout=Layout(height='auto', width='auto')) #width='max-content'"
   ]
  },
  {
   "cell_type": "markdown",
   "id": "d26ca37a-58b6-4fb6-8ab6-70d4bf4abffd",
   "metadata": {},
   "source": [
    "# Concept Library"
   ]
  },
  {
   "cell_type": "markdown",
   "id": "e4727605-fb38-4745-b105-a7a46c14ca06",
   "metadata": {},
   "source": [
    "### There are the options that should display\n",
    "option1 == \"Objectives & resources\"\n",
    "option2 == \"Study area & Site selection constraints\"\n",
    "option3 == \"Duration / Timing\"\n",
    "option4 == \"Target species\"\n",
    "option5 == \"Data & analysis\"\n",
    "option6 == \"Deploy cameras & retrieve data\""
   ]
  },
  {
   "cell_type": "code",
   "execution_count": 11,
   "id": "7b2c16ae",
   "metadata": {},
   "outputs": [],
   "source": [
    "concept_header = create_expanded_button('Concept Library', 'success')\n",
    "concept_header.style.button_color = '#2D6EB4'\n",
    "concept_header.style.text_color = 'black'\n",
    "\n",
    "concept_option1 = create_expanded_button('option1', 'success')\n",
    "concept_option1 .style.button_color = '#97C3F2'\n",
    "concept_option1 .style.text_color = 'black'\n",
    "\n",
    "concept_option2 = create_expanded_button('option2', 'success')\n",
    "concept_option2.style.button_color = '#B4D5F8'\n",
    "concept_option2.style.text_color = 'black'\n",
    "\n",
    "concept_option3 = create_expanded_button('option3', 'success')\n",
    "concept_option3.style.button_color = '#B4D5F9'\n",
    "concept_option3.style.text_color = 'black'\n",
    "\n",
    "concept_grid = GridspecLayout(4, 41, grid_gap='5px', height='170px')\n",
    "concept_grid[0, 1:41] = concept_header\n",
    "concept_grid[1, 1:41] = concept_option1\n",
    "concept_grid[2, 1:41] = concept_option2\n",
    "concept_grid[3, 1:41] = concept_option3\n",
    "# concept_grid"
   ]
  },
  {
   "cell_type": "markdown",
   "id": "91f1dee9-559b-4921-8767-40a20c54f83e",
   "metadata": {},
   "source": [
    "# left_col"
   ]
  },
  {
   "cell_type": "code",
   "execution_count": 12,
   "id": "03a00252",
   "metadata": {},
   "outputs": [],
   "source": [
    "left_col = widgets.VBox(\n",
    "    [image_headline, concept_grid],\n",
    "    layout=widgets.Layout(\n",
    "        width='auto',  # Set the width to 50% of the container or viewport\n",
    "        height='auto',  # Set a fixed height\n",
    "#         border_right='solid 4px grey',\n",
    "        padding='10px',\n",
    "#         margin='auto',  # Center the VBox horizontally\n",
    "        align_items='flex-start',  # Center the items inside the VBox   \"flex-start\"\n",
    "        justify_content='center'  # Center the items vertically inside the VBox\n",
    "    )\n",
    ")\n",
    "\n",
    "\n",
    "# vbox_headline = widgets.VBox([image_headline, concept_grid])\n",
    "# display(left_col) "
   ]
  },
  {
   "cell_type": "code",
   "execution_count": 13,
   "id": "136caf17",
   "metadata": {},
   "outputs": [],
   "source": [
    "# import ipywidgets as widgets\n",
    "# from IPython.display import display\n",
    "\n",
    "# # Create an HTML header\n",
    "# html_header = widgets.HTML(value=\"<h1>Welcome to My Jupyter Notebook</h1>\")\n",
    "\n",
    "# # Create some button widgets\n",
    "# button1 = widgets.Button(description=\"Button 1\")\n",
    "# button2 = widgets.Button(description=\"Button 2\")\n",
    "# button3 = widgets.Button(description=\"Button 3\")\n",
    "\n",
    "# # Set the layout for left alignment\n",
    "# left_align_layout = widgets.Layout(align_items='flex-start')\n",
    "\n",
    "# # Create a VBox with the HTML header and buttons, and apply the layout\n",
    "# vbox = widgets.VBox([html_header, button1, button2, button3], layout=left_align_layout)\n",
    "\n",
    "# # Display the VBox\n",
    "# display(vbox)\n"
   ]
  },
  {
   "cell_type": "markdown",
   "id": "99074ce5-3806-4790-ad34-b7c73dd3587a",
   "metadata": {},
   "source": [
    "# Define the iframe HTML for a YouTube video"
   ]
  },
  {
   "cell_type": "code",
   "execution_count": 14,
   "id": "cddb3382",
   "metadata": {},
   "outputs": [],
   "source": [
    "iframe = \"\"\"\n",
    "<iframe width=\"800\" height=\"500\" src=\"https://ab-rcsc.github.io/RCSC-WildCAM_Remote-Camera-Survey-Guidelines-and-Metadata-Standards/2_metadata-standards/2_8.0_Deployment.html#deployment-start-date-time-dd-mmm-yyyy-hh-mm-ss\" \n",
    "        frameborder=\"0\" allow=\"accelerometer; autoplay; encrypted-media; gyroscope; picture-in-picture\" \n",
    "        allowfullscreen></iframe>\n",
    "\"\"\"\n",
    "\n",
    "# Display the iframe\n",
    "# display(HTML(iframe))\n"
   ]
  },
  {
   "cell_type": "code",
   "execution_count": 15,
   "id": "bf2970ab",
   "metadata": {},
   "outputs": [],
   "source": [
    "global stored_choices, path\n",
    "stored_choices = {}\n",
    "path = \"../temp_storage.json\""
   ]
  },
  {
   "cell_type": "markdown",
   "id": "8da0abd2-285d-4f5b-ab64-2840b2acb20b",
   "metadata": {},
   "source": [
    "# Numeric widget"
   ]
  },
  {
   "cell_type": "code",
   "execution_count": 16,
   "id": "90906c72",
   "metadata": {},
   "outputs": [],
   "source": [
    "# hr_diameter = create_expanded_button('If so, enter the home range diameter (in metres)', 'success')\n",
    "# hr_diameter.style.button_color = 'lightblue'\n",
    "# hr_diameter.style.text_color = 'black'\n",
    "\n",
    "# hr_diameter_input = widgets.FloatText(\n",
    "#                             value=0.0,  # Default value\n",
    "#                             description='Enter value:',\n",
    "#                             disabled=False,\n",
    "#                             layout={'width': 'max-content'}\n",
    "#                         )\n",
    "# float_grid = GridspecLayout(6, 12, grid_gap='5px', height='200px')\n",
    "# float_grid[2:4, 2:6] = hr_diameter\n",
    "# float_grid[3:4, 7:12] = hr_diameter_input\n",
    "# float_grid"
   ]
  },
  {
   "cell_type": "markdown",
   "id": "bddbc0b5-83e2-41a6-8767-b3eb346b229e",
   "metadata": {},
   "source": [
    "# Logical widget"
   ]
  },
  {
   "cell_type": "code",
   "execution_count": 17,
   "id": "ebca0259",
   "metadata": {},
   "outputs": [],
   "source": [
    "# cam_independent = create_expanded_button('Will each camera location be treated as an independent sample?', 'success')\n",
    "# cam_independent.style.button_color = 'lightblue'\n",
    "# cam_independent.style.text_color = 'black'\n",
    "\n",
    "# cam_independent_true = create_expanded_button('True', 'success')\n",
    "# cam_independent_true .style.button_color = 'lightgreen'\n",
    "# cam_independent_true .style.text_color = 'black'\n",
    "\n",
    "# cam_independent_false = create_expanded_button('False', 'success')\n",
    "# cam_independent_false.style.button_color = 'red'\n",
    "# cam_independent_false.style.text_color = 'black'\n",
    "\n",
    "# logical_grid = GridspecLayout(6, 12, grid_gap='5px', height='150px')\n",
    "# logical_grid[2:4, 1:6] = cam_independent\n",
    "# logical_grid[1:3, 7:9] = cam_independent_true\n",
    "# logical_grid[3:5, 7:9] = cam_independent_false\n",
    "# logical_grid"
   ]
  },
  {
   "cell_type": "markdown",
   "id": "fb8e80a0-46ef-4ec8-aac9-2891ee8c6c04",
   "metadata": {},
   "source": [
    "# Paired logical-integer widget"
   ]
  },
  {
   "cell_type": "code",
   "execution_count": 18,
   "id": "b5090570",
   "metadata": {},
   "outputs": [],
   "source": [
    "# # Logical widget\n",
    "\n",
    "# num_cam = create_expanded_button('Do you have a limited number of cameras?', 'success')\n",
    "# num_cam.style.button_color = 'lightblue'\n",
    "# num_cam.style.text_color = 'black'\n",
    "\n",
    "# num_cam_true = create_expanded_button('True', 'success')\n",
    "# num_cam_true .style.button_color = 'lightgreen'\n",
    "# num_cam_true .style.text_color = 'black'\n",
    "\n",
    "# num_cam_false = create_expanded_button('False', 'success')\n",
    "# num_cam_false.style.button_color = 'red'\n",
    "# num_cam_false.style.text_color = 'black'\n",
    "\n",
    "# logical_grid = GridspecLayout(6, 12, grid_gap='5px', height='150px')\n",
    "# logical_grid[2:4, 2:6] = num_cam\n",
    "# logical_grid[1:3, 7:9] = num_cam_true\n",
    "# logical_grid[3:5, 7:9] = num_cam_false\n",
    "# # logical_grid\n",
    "\n",
    "# # Integer widget\n",
    "# num_cam_avail = create_expanded_button('If so, how many?', 'success')\n",
    "# num_cam_avail.style.button_color = 'lightblue'\n",
    "# num_cam_avail.style.text_color = 'black'\n",
    "\n",
    "# num_cam_avail_input = widgets.IntText(\n",
    "#                             value=0,  # Default value\n",
    "#                             description='Enter value:',\n",
    "#                             disabled=False,\n",
    "#                             layout={'width': 'max-content'}\n",
    "#                         )\n",
    "\n",
    "# integer_grid = GridspecLayout(6, 12, grid_gap='5px', height='200px')\n",
    "# integer_grid[2:4, 2:6] = num_cam_avail\n",
    "# integer_grid[2:4, 7:12] = num_cam_avail_input\n",
    "# # integer_grid\n",
    "\n",
    "# logical_integer_container = widgets.VBox(children=[logical_grid, integer_grid], layout=widgets.Layout(\n",
    "#     align_items='center'  # Center align vertically\n",
    "# #     border='solid 2px black',\n",
    "# #     width = \"70%\"\n",
    "# #     justify_content='center'  # Center align horizontally\n",
    "# #     height='100vh'  # Set height to 100% of viewport height for vertical centering\n",
    "# ))\n",
    "\n",
    "# # show the second widget on if \"true\"\n",
    "\n",
    "# display(logical_integer_container)"
   ]
  },
  {
   "cell_type": "markdown",
   "id": "bd214eae-1ee0-42a2-8652-3560430e2faf",
   "metadata": {},
   "source": [
    "# Factor widget"
   ]
  },
  {
   "cell_type": "code",
   "execution_count": 19,
   "id": "2c185e22-3f5f-4c5d-b7cf-ca2ac15f7dd8",
   "metadata": {},
   "outputs": [],
   "source": [
    "## ???? this doesn't seem to pull from CSV files?"
   ]
  },
  {
   "cell_type": "code",
   "execution_count": 20,
   "id": "769be736",
   "metadata": {},
   "outputs": [
    {
     "ename": "TypeError",
     "evalue": "create_expanded_button() got an unexpected keyword argument 'icon'",
     "output_type": "error",
     "traceback": [
      "\u001b[1;31m---------------------------------------------------------------------------\u001b[0m",
      "\u001b[1;31mTypeError\u001b[0m                                 Traceback (most recent call last)",
      "Cell \u001b[1;32mIn[20], line 7\u001b[0m\n\u001b[0;32m      4\u001b[0m \u001b[38;5;66;03m# Add custom class to the button\u001b[39;00m\n\u001b[0;32m      5\u001b[0m sp_size\u001b[38;5;241m.\u001b[39madd_class(\u001b[38;5;124m'\u001b[39m\u001b[38;5;124mcustom-button\u001b[39m\u001b[38;5;124m'\u001b[39m)\n\u001b[1;32m----> 7\u001b[0m sp_size_small \u001b[38;5;241m=\u001b[39m \u001b[43mcreate_expanded_button\u001b[49m\u001b[43m(\u001b[49m\u001b[38;5;124;43m'\u001b[39;49m\u001b[38;5;124;43mSmall\u001b[39;49m\u001b[38;5;124;43m'\u001b[39;49m\u001b[43m,\u001b[49m\u001b[43m \u001b[49m\u001b[38;5;124;43m'\u001b[39;49m\u001b[38;5;124;43msuccess\u001b[39;49m\u001b[38;5;124;43m'\u001b[39;49m\u001b[43m,\u001b[49m\u001b[43micon\u001b[49m\u001b[38;5;241;43m=\u001b[39;49m\u001b[38;5;124;43m'\u001b[39;49m\u001b[38;5;124;43mcheck\u001b[39;49m\u001b[38;5;124;43m'\u001b[39;49m\u001b[43m)\u001b[49m\n\u001b[0;32m      8\u001b[0m sp_size_small\u001b[38;5;241m.\u001b[39mstyle\u001b[38;5;241m.\u001b[39mbutton_color \u001b[38;5;241m=\u001b[39m \u001b[38;5;124m'\u001b[39m\u001b[38;5;124mlightgreen\u001b[39m\u001b[38;5;124m'\u001b[39m\n\u001b[0;32m      9\u001b[0m sp_size_small\u001b[38;5;241m.\u001b[39mstyle\u001b[38;5;241m.\u001b[39mtext_color \u001b[38;5;241m=\u001b[39m \u001b[38;5;124m'\u001b[39m\u001b[38;5;124mblack\u001b[39m\u001b[38;5;124m'\u001b[39m\n",
      "\u001b[1;31mTypeError\u001b[0m: create_expanded_button() got an unexpected keyword argument 'icon'"
     ]
    }
   ],
   "source": [
    "sp_size = create_expanded_button('What is the approximate size of the Target Species?', 'success')\n",
    "sp_size.style.button_color = 'lightblue'\n",
    "sp_size.style.text_color = 'black'\n",
    "# Add custom class to the button\n",
    "sp_size.add_class('custom-button')\n",
    "\n",
    "sp_size_small = create_expanded_button('Small', 'success')\n",
    "sp_size_small.style.button_color = 'lightgreen'\n",
    "sp_size_small.style.text_color = 'black'\n",
    "\n",
    "sp_size_medium = create_expanded_button('Medium', 'success')\n",
    "sp_size_medium.style.button_color = 'green'\n",
    "sp_size_medium.style.text_color = 'black'\n",
    "sp_size_medium.icon='check'\n",
    "sp_size_medium.tooltip='Click me',\n",
    "\n",
    "sp_size_large = create_expanded_button('Large', 'success')\n",
    "sp_size_large.style.button_color = 'darkgreen'\n",
    "sp_size_large.style.text_color = 'black'\n",
    "\n",
    "sp_size_unknown = create_expanded_button('Unknown', 'success')\n",
    "sp_size_unknown.style.button_color = '#80B143'\n",
    "sp_size_unknown.style.text_color = 'black'\n",
    "\n",
    "# Create a HTML widget to include the custom CSS\n",
    "css_widget = widgets.HTML(value=css)\n",
    "\n",
    "factor_grid = GridspecLayout(6, 12, grid_gap='5px', height='300px')\n",
    "factor_grid[2:4, 2:6] = sp_size\n",
    "factor_grid[1, 7:9] = sp_size_small\n",
    "factor_grid[2, 7:9] = sp_size_medium\n",
    "factor_grid[3, 7:9] = sp_size_large\n",
    "factor_grid[4, 7:9] = sp_size_unknown\n",
    "# factor_grid\n",
    "\n",
    "logical_integer_container = widgets.VBox(children=[factor_grid, css_widget], layout=widgets.Layout(\n",
    "    align_items='center'  # Center align vertically\n",
    "#     border='solid 2px black',\n",
    "#     width = \"70%\"\n",
    "#     justify_content='center'  # Center align horizontally\n",
    "#     height='100vh'  # Set height to 100% of viewport height for vertical centering\n",
    "))\n",
    "# logical_integer_container"
   ]
  },
  {
   "cell_type": "code",
   "execution_count": null,
   "id": "de4fefd4",
   "metadata": {},
   "outputs": [],
   "source": [
    "with open(\"../README.md\", \"r\") as file:\n",
    "    md_content = file.read()\n",
    "\n",
    "md = MarkdownIt()\n",
    "html_content = md.render(md_content)\n",
    "# popup_window = HTML(html_content)"
   ]
  },
  {
   "cell_type": "markdown",
   "id": "c75ecb6f-70b3-423c-82c2-2324ecbdc1d7",
   "metadata": {},
   "source": [
    "# Pop-up window"
   ]
  },
  {
   "cell_type": "markdown",
   "id": "80320335-4bb7-4253-9ac8-a42342f539a0",
   "metadata": {},
   "source": [
    "## Create an Output widget for the pop-up window content"
   ]
  },
  {
   "cell_type": "code",
   "execution_count": null,
   "id": "33c51809",
   "metadata": {},
   "outputs": [],
   "source": [
    "output_popup = widgets.Output()\n",
    "\n",
    "# Function to show the pop-up window\n",
    "def show_popup(b):\n",
    "    with output_popup:\n",
    "        output_popup.clear_output()\n",
    "        display(popup_window)\n",
    "\n",
    "# Function to close the pop-up window\n",
    "def close_popup(b):\n",
    "    output_popup.clear_output()\n",
    "\n",
    "# Create a close button for the pop-up window\n",
    "close_button = widgets.Button(\n",
    "    description=\"Close\",\n",
    "    layout=widgets.Layout(width='100px')\n",
    ")\n",
    "close_button.on_click(close_popup)"
   ]
  },
  {
   "cell_type": "markdown",
   "id": "5efbce19-017e-4146-8a51-96013d1c9537",
   "metadata": {},
   "source": [
    "## Create the pop-up window"
   ]
  },
  {
   "cell_type": "code",
   "execution_count": null,
   "id": "128c7168",
   "metadata": {},
   "outputs": [],
   "source": [
    "popup_window = widgets.VBox(\n",
    "    children=[\n",
    "        widgets.HTML(iframe),\n",
    "#         widgets.HTML('<h3>Pop-up Window</h3>'),\n",
    "        close_button\n",
    "    ],\n",
    "    layout=widgets.Layout(\n",
    "        display='flex',\n",
    "        flex_flow='column',\n",
    "        align_items='center',\n",
    "        justify_content='center',\n",
    "        border='solid 1px grey',\n",
    "        padding='10px',\n",
    "        width='auto',\n",
    "        height='auto',\n",
    "        background_color='lightyellow'\n",
    "    )\n",
    ")"
   ]
  },
  {
   "cell_type": "markdown",
   "id": "b4b7a002-feac-4794-beec-465173514d98",
   "metadata": {},
   "source": [
    "# Buttons"
   ]
  },
  {
   "cell_type": "markdown",
   "id": "85d84b1b-6e0b-4eb7-9495-a22666519ff9",
   "metadata": {},
   "source": [
    "## Button - Show Popup"
   ]
  },
  {
   "cell_type": "code",
   "execution_count": null,
   "id": "76fe256a",
   "metadata": {},
   "outputs": [],
   "source": [
    "button = widgets.Button(\n",
    "    description=\"Show Popup\"\n",
    "#     layout=widgets.Layout(width='100px')\n",
    ")\n",
    "button.on_click(show_popup)"
   ]
  },
  {
   "cell_type": "code",
   "execution_count": null,
   "id": "cbb97fa5",
   "metadata": {},
   "outputs": [],
   "source": [
    "# grid[1, 7:9].description"
   ]
  },
  {
   "cell_type": "markdown",
   "id": "8bdd9530-55f5-40af-88d4-c3e55f1e0438",
   "metadata": {},
   "source": [
    "## Button - Next"
   ]
  },
  {
   "cell_type": "code",
   "execution_count": null,
   "id": "be63610c",
   "metadata": {},
   "outputs": [],
   "source": [
    "### Should be \"next\" -- should not be able to skip.\n",
    "\n",
    "skip_button = widgets.Button(description=\"Next\")\n",
    "# skip_button.add_class(\"lbl_bg\");"
   ]
  },
  {
   "cell_type": "markdown",
   "id": "18e25deb-cba6-4533-a36c-38b3c7bf3165",
   "metadata": {},
   "source": [
    "## Button - Previous"
   ]
  },
  {
   "cell_type": "code",
   "execution_count": null,
   "id": "ad6e37b0-0132-4940-84ae-c31ce990e288",
   "metadata": {},
   "outputs": [],
   "source": [
    "previous_button = widgets.Button(description=\"Prevous\")\n",
    "# skip_button.add_class(\"lbl_bg\");"
   ]
  },
  {
   "cell_type": "markdown",
   "id": "c274666d-89cf-4ae0-ad77-38b18ef2a665",
   "metadata": {},
   "source": [
    "## button click events"
   ]
  },
  {
   "cell_type": "code",
   "execution_count": null,
   "id": "96402bb1",
   "metadata": {},
   "outputs": [],
   "source": [
    "output = widgets.Output()\n",
    "def small_button_clicked(event):\n",
    "    with output:\n",
    "        clear_output()\n",
    "        notebook_filename = \"notebook1.ipynb\"\n",
    "#         link = \"Submit your answer for next question\"\n",
    "        link = Markdown('''<a href=\"{}\" target=\"_self\" rel=\"noopener noreferrer\">Next</a>'''.format(notebook_filename))\n",
    "        stored_choices[\"answer1\"] = factor_grid[1, 7:9].description\n",
    "        with open(path, \"w\") as f:\n",
    "            json.dump(stored_choices, f)\n",
    "        display(link)\n",
    "factor_grid[1, 7:9].on_click(small_button_clicked)\n",
    "# vbox_result = widgets.VBox([question_widget1, options_widget1, submit_button, output, choice])"
   ]
  },
  {
   "cell_type": "code",
   "execution_count": null,
   "id": "459e567f",
   "metadata": {},
   "outputs": [],
   "source": [
    "output = widgets.Output()\n",
    "def medium_button_clicked(event):\n",
    "    with output:\n",
    "        clear_output()\n",
    "        notebook_filename = \"notebook2.ipynb\"\n",
    "#         link = \"Submit your answer for next question\"\n",
    "        link = Markdown('''<a href=\"{}\" target=\"_self\" rel=\"noopener noreferrer\">Next</a>'''.format(notebook_filename))\n",
    "        stored_choices[\"answer1\"] = factor_grid[2, 7:9].description\n",
    "        with open(path, \"w\") as f:\n",
    "            json.dump(stored_choices, f)\n",
    "        display(link)\n",
    "factor_grid[2, 7:9].on_click(medium_button_clicked)\n",
    "# vbox_result = widgets.VBox([question_widget1, options_widget1, submit_button, output, choice])"
   ]
  },
  {
   "cell_type": "code",
   "execution_count": null,
   "id": "650b3cdd",
   "metadata": {},
   "outputs": [],
   "source": [
    "output = widgets.Output()\n",
    "def large_button_clicked(event):\n",
    "    with output:\n",
    "        clear_output()\n",
    "        notebook_filename = \"notebook3.ipynb\"\n",
    "#         link = \"Submit your answer for next question\"\n",
    "        link = Markdown('''<a href=\"{}\" target=\"_self\" rel=\"noopener noreferrer\">Next</a>'''.format(notebook_filename))\n",
    "        stored_choices[\"answer1\"] = factor_grid[3, 7:9].description\n",
    "        with open(path, \"w\") as f:\n",
    "            json.dump(stored_choices, f)\n",
    "        display(link)\n",
    "factor_grid[3, 7:9].on_click(large_button_clicked)\n",
    "# vbox_result = widgets.VBox([question_widget1, options_widget1, submit_button, output, choice])"
   ]
  },
  {
   "cell_type": "code",
   "execution_count": null,
   "id": "03b168af",
   "metadata": {},
   "outputs": [],
   "source": [
    "output = widgets.Output()\n",
    "def unknown_button_clicked(event):\n",
    "    with output:\n",
    "        clear_output()\n",
    "        notebook_filename = \"notebook5.ipynb\"\n",
    "#         link = \"Submit your answer for next question\"\n",
    "        link = Markdown('''<a href=\"{}\" target=\"_self\" rel=\"noopener noreferrer\">Next</a>'''.format(notebook_filename))\n",
    "        stored_choices[\"answer1\"] = factor_grid[4, 7:9].description\n",
    "        with open(path, \"w\") as f:\n",
    "            json.dump(stored_choices, f)\n",
    "        display(link)\n",
    "factor_grid[4, 7:9].on_click(unknown_button_clicked)\n",
    "# vbox_result = widgets.VBox([question_widget1, options_widget1, submit_button, output, choice])"
   ]
  },
  {
   "cell_type": "code",
   "execution_count": null,
   "id": "ff04ef43",
   "metadata": {},
   "outputs": [],
   "source": [
    "output = widgets.Output()\n",
    "def on_skip_button_clicked(event):\n",
    "    with output:\n",
    "        clear_output()\n",
    "        link = Markdown('''<a href=\"https://voila.readthedocs.io/en/stable/deploy.html\" target=\"_self\"> \n",
    "                                    Next \n",
    "                            </a>''')\n",
    "        display(link)\n",
    "\n",
    "skip_button.on_click(on_skip_button_clicked)\n",
    "# vbox_result = widgets.VBox([question_widget1, options_widget1, submit_button, output, choice])"
   ]
  },
  {
   "cell_type": "markdown",
   "id": "e1230151-b650-472c-934a-db01f02b7c43",
   "metadata": {},
   "source": [
    "## MAIN"
   ]
  },
  {
   "attachments": {
    "4af92f4b-e5e0-4a84-b1fa-4c6da40e000d.png": {
     "image/png": "[encoded data removed]"
    }
   },
   "cell_type": "markdown",
   "id": "f7fcd841-9f21-46ee-a286-4596f8e0915f",
   "metadata": {},
   "source": [
    "### ?? possible to make add checkbox when selected?\n",
    "#### see 9_misc/checkoption-example.png\n",
    "\n",
    "![checkoption-example.png](attachment:4af92f4b-e5e0-4a84-b1fa-4c6da40e000d.png)"
   ]
  },
  {
   "cell_type": "code",
   "execution_count": null,
   "id": "bbf7aa3c-aa09-4034-98f6-d7b39d7c931e",
   "metadata": {},
   "outputs": [],
   "source": [
    "upper = widgets.VBox(\n",
    "    [logical_integer_container, skip_button, previous_button, output],\n",
    "    layout=widgets.Layout(\n",
    "        width='70%',  # Set the width to 50% of the container or viewport\n",
    "        height='auto',  # Set a fixed height\n",
    "        border='solid 2px grey',\n",
    "        padding='10px',\n",
    "        margin='auto',  # Center the VBox horizontally\n",
    "        align_items='center',  # Center the items inside the VBox\n",
    "        justify_content='center'  # Center the items vertically inside the VBox\n",
    "    )\n",
    ")\n",
    "\n",
    "popup = widgets.VBox(children=[button, output_popup], layout=widgets.Layout(\n",
    "        width='70%',  # Set the width to 50% of the container or viewport\n",
    "        height='auto',  # Set a fixed height\n",
    "#         border='solid 4px grey',\n",
    "        padding='10px',\n",
    "        margin='auto',  # Center the VBox horizontally\n",
    "        align_items='center',  # Center the items inside the VBox\n",
    "        justify_content='center'  # Center the items vertically inside the VBox\n",
    "    ))\n",
    "\n",
    "right_col = widgets.VBox(children=[html_header, header_css_widget, upper, popup, html_footer, footer_css_widget], layout=widgets.Layout(\n",
    "        width='70%',  # Set the width to 50% of the container or viewport\n",
    "        height='auto',  # Set a fixed height\n",
    "        border_left='solid 5px grey',\n",
    "        padding='10px',\n",
    "        margin='auto',  # Center the VBox horizontally\n",
    "        align_items='center',  # Center the items inside the VBox\n",
    "        justify_content='center'\n",
    "))\n",
    "\n",
    "cols = widgets.HBox(\n",
    "    [left_col, right_col],\n",
    "    layout=widgets.Layout(\n",
    "        width='auto',  # Set the width to 50% of the container or viewport\n",
    "        height='auto',  # Set a fixed height\n",
    "        border='solid 4px grey',\n",
    "#         padding='10px',\n",
    "#         margin='auto',  # Center the VBox horizontally\n",
    "        align_items='flex-start',  # Center the items inside the VBox\n",
    "        justify_content='center',  # Center the items vertically inside the VBox\n",
    "        background_color='lightyellow'\n",
    "    )\n",
    ")\n",
    "\n",
    "# Display the container\n",
    "\n",
    "# right_col.add_class(\"box_style\")\n",
    "# display(left_col)\n",
    "# display(right_col)\n",
    "display(cols)\n",
    "# display(popup)"
   ]
  },
  {
   "cell_type": "markdown",
   "id": "6dad9b03-5122-4e2f-badc-d980b1eaa36d",
   "metadata": {},
   "source": [
    "### color_picker"
   ]
  },
  {
   "cell_type": "code",
   "execution_count": null,
   "id": "4f5aa5c4",
   "metadata": {},
   "outputs": [],
   "source": [
    "color_picker = widgets.ColorPicker(\n",
    "    concise=True,\n",
    "    description='Background color:',\n",
    "     value='#80B143',\n",
    ")\n",
    "color_picker"
   ]
  },
  {
   "cell_type": "markdown",
   "id": "17ebe31b-f619-4154-a373-1710305e598e",
   "metadata": {},
   "source": [
    "# OTHER"
   ]
  },
  {
   "cell_type": "code",
   "execution_count": null,
   "id": "f7dc6a58",
   "metadata": {},
   "outputs": [],
   "source": [
    "# # FOR IMPLEMENTING ARROWS\n",
    "\n",
    "# import ipywidgets as widgets\n",
    "# from IPython.display import display, HTML\n",
    "\n",
    "# # Create buttons\n",
    "# button1 = widgets.Button(description=\"Button 1\")\n",
    "# button2 = widgets.Button(description=\"Button 2\")\n",
    "# button3 = widgets.Button(description=\"Button 3\")\n",
    "# button4 = widgets.Button(description=\"Button 4\")\n",
    "# button5 = widgets.Button(description=\"Button 5\")\n",
    "\n",
    "# # Create a grid layout for buttons\n",
    "# grid = widgets.GridspecLayout(2, 2, height='300px', width='400px')\n",
    "\n",
    "# # Add buttons to the grid\n",
    "# grid[0, 0] = button1\n",
    "# grid[0, 1] = widgets.VBox([button2, button3, button4, button5])\n",
    "\n",
    "# # Display the grid\n",
    "# display(grid)\n",
    "\n",
    "# # Create SVG arrows\n",
    "# arrow_svg = '''\n",
    "# <svg height=\"300\" width=\"400\">\n",
    "#   <defs>\n",
    "#     <marker id=\"arrowhead\" markerWidth=\"10\" markerHeight=\"7\" refX=\"0\" refY=\"3.5\" orient=\"auto\">\n",
    "#       <polygon points=\"0 0, 10 3.5, 0 7\" />\n",
    "#     </marker>\n",
    "#   </defs>\n",
    "#   <line x1=\"100\" y1=\"30\" x2=\"200\" y2=\"30\" stroke=\"black\" stroke-width=\"2\" marker-end=\"url(#arrowhead)\" />\n",
    "#   <line x1=\"100\" y1=\"30\" x2=\"200\" y2=\"80\" stroke=\"black\" stroke-width=\"2\" marker-end=\"url(#arrowhead)\" />\n",
    "#   <line x1=\"100\" y1=\"30\" x2=\"200\" y2=\"130\" stroke=\"black\" stroke-width=\"2\" marker-end=\"url(#arrowhead)\" />\n",
    "#   <line x1=\"100\" y1=\"30\" x2=\"200\" y2=\"180\" stroke=\"black\" stroke-width=\"2\" marker-end=\"url(#arrowhead)\" />\n",
    "# </svg>\n",
    "# '''\n",
    "\n",
    "# # Display the SVG arrows\n",
    "# display(HTML(arrow_svg))\n"
   ]
  },
  {
   "cell_type": "code",
   "execution_count": null,
   "id": "8ef3fcc9",
   "metadata": {},
   "outputs": [],
   "source": [
    "# # FOR IMPLEMENTING TEXT WRAPPING\n",
    "\n",
    "\n",
    "# import ipywidgets as widgets\n",
    "# from IPython.display import display, HTML\n",
    "\n",
    "# # Create a button with long text\n",
    "# button = widgets.Button(\n",
    "#     description=\"This is a very long button text that needs to be wrapped to fit within the button's width\",\n",
    "#     layout=widgets.Layout(width='200px', height='auto')  # Adjust width and height as needed\n",
    "# )\n",
    "\n",
    "# # Add custom CSS to wrap the button text\n",
    "# css = \"\"\"\n",
    "# <style>\n",
    "# .custom-button .widget-button {\n",
    "#     white-space: -moz-pre-wrap !important;  /* Mozilla, since 1999 */\n",
    "# white-space: -pre-wrap;      /* Opera 4-6 */\n",
    "# white-space: -o-pre-wrap;    /* Opera 7 */\n",
    "# white-space: pre-wrap;       /* css-3 */\n",
    "# word-wrap: break-word;       /* Internet Explorer 5.5+ */\n",
    "# white-space: -webkit-pre-wrap; /* Newer versions of Chrome/Safari*/\n",
    "# word-break: break-all;\n",
    "# white-space: normal;\n",
    "# }\n",
    "# </style>\n",
    "# \"\"\"\n",
    "\n",
    "# # Apply the CSS and display the button\n",
    "# display(HTML(css))\n",
    "# button.add_class('custom-button')\n",
    "# display(button)\n"
   ]
  },
  {
   "cell_type": "code",
   "execution_count": null,
   "id": "ba7cc673",
   "metadata": {},
   "outputs": [],
   "source": [
    "# FOR MODIFYING THE SIZE OF THE WIDGETS\n",
    "\n",
    "# import ipywidgets as widgets\n",
    "# from IPython.display import display\n",
    "\n",
    "# # Create some example widgets\n",
    "# widget1 = widgets.Label(\"Widget 1\")\n",
    "# widget2 = widgets.Label(\"Widget 2\")\n",
    "# widget3 = widgets.Label(\"Widget 3\")\n",
    "\n",
    "# # Create a VBox widget with customized properties\n",
    "# vbox = widgets.VBox(\n",
    "#     [widget1, widget2, widget3],\n",
    "#     layout=widgets.Layout(\n",
    "#         width='50%',  # Set the width to 50% of the container or viewport\n",
    "#         height='200px',  # Set a fixed height\n",
    "#         border='solid 2px black',\n",
    "#         padding='10px',\n",
    "#         margin='auto',  # Center the VBox horizontally\n",
    "#         align_items='center',  # Center the items inside the VBox\n",
    "#         justify_content='center'  # Center the items vertically inside the VBox\n",
    "#     )\n",
    "# )\n",
    "\n",
    "# # Display the VBox\n",
    "# display(vbox)\n"
   ]
  },
  {
   "cell_type": "code",
   "execution_count": null,
   "id": "c54aa3b8",
   "metadata": {},
   "outputs": [],
   "source": [
    "# import json\n",
    "\n",
    "# # List of objective values\n",
    "# objectives = [\n",
    "#     \"obj_divers_rich\",\n",
    "#     \"obj_rel_abund\",\n",
    "#     \"obj_behaviour\"\n",
    "# ]\n",
    "\n",
    "# # Create a dictionary\n",
    "# objective_dict = {\n",
    "#     \"objective\": objectives\n",
    "# }\n",
    "\n",
    "# # Convert dictionary to JSON string\n",
    "# objective_json = json.dumps(objective_dict, indent=4)\n",
    "\n",
    "# # Print the JSON string\n",
    "# print(objective_json)\n",
    "\n",
    "# # Save to a file (optional)\n",
    "# with open('objectives.json', 'w') as json_file:\n",
    "#     json_file.write(objective_json)\n"
   ]
  },
  {
   "cell_type": "code",
   "execution_count": null,
   "id": "2987aa6b",
   "metadata": {},
   "outputs": [],
   "source": [
    "# with open(\"RCDST_MockUp_FocusGroups_2024-05-24.md\", \"r\") as file:\n",
    "#     md_content = file.read()\n",
    "\n",
    "# md = MarkdownIt()\n",
    "# html_content = md.render(md_content)\n",
    "# # popup_window = HTML(html_content)"
   ]
  },
  {
   "cell_type": "code",
   "execution_count": null,
   "id": "265b206b",
   "metadata": {},
   "outputs": [],
   "source": [
    "# pip install notebook\n",
    "\n",
    "# pip install jupyterlab\n",
    "\n",
    "# pip install jupyter-book\n",
    "\n",
    "# pip install jupyterlab-myst\n",
    "\n",
    "# pip install jupytext\n",
    "\n",
    "# pip install myst-parser\n",
    "\n",
    "# conda install -c conda-forge nodejs\n",
    "\n",
    "# pip install mystmd\n",
    "\n",
    "# pip install sphinx\n",
    "\n",
    "# pip install sphinx_design\n",
    "\n",
    "# pip install myst-nb\n",
    "\n",
    "# pip install jupyter-sphinx\n",
    "\n",
    "# pip install nbsphinx\n",
    "\n",
    "# pip install jupyterlab-latex"
   ]
  },
  {
   "cell_type": "code",
   "execution_count": null,
   "id": "0924ba92",
   "metadata": {},
   "outputs": [],
   "source": [
    "# import ipywidgets as widgets\n",
    "# from IPython.display import display\n",
    "\n",
    "# # Create a button with a long description\n",
    "# button = widgets.Button(\n",
    "#     description='This is a very long button description that needs to be wrapped properly and should not be cut off',\n",
    "#     layout=widgets.Layout(width='300px', height='auto')  # Adjust the width as needed\n",
    "# )\n",
    "\n",
    "# # Custom CSS to ensure text wraps properly\n",
    "# css = \"\"\"\n",
    "# <style>\n",
    "# .custom-button {\n",
    "#     white-space: normal;\n",
    "# }\n",
    "# </style>\n",
    "# \"\"\"\n",
    "\n",
    "# # Add custom class to the button\n",
    "# button.add_class('custom-button')\n",
    "\n",
    "# # Create a HTML widget to include the custom CSS\n",
    "# css_widget = widgets.HTML(value=css)\n",
    "\n",
    "# # Display the CSS and the button\n",
    "# display(css_widget, button)\n"
   ]
  },
  {
   "cell_type": "code",
   "execution_count": null,
   "id": "6f343d48",
   "metadata": {},
   "outputs": [],
   "source": [
    "# import ipywidgets as widgets\n",
    "# from IPython.display import display, HTML\n",
    "\n",
    "# # Create a container widget\n",
    "# container = widgets.VBox(layout=widgets.Layout(width='400px', height='300px', border='solid 1px black', position='relative'))\n",
    "\n",
    "# # Create a button\n",
    "# button = widgets.Button(description='Click Me')\n",
    "\n",
    "# # Custom CSS to position the button at the bottom right corner of the container\n",
    "# css = \"\"\"\n",
    "# <style>\n",
    "# .bottom-right {\n",
    "#     position: absolute;\n",
    "#     bottom: 10px;\n",
    "#     right: 10px;\n",
    "# }\n",
    "# </style>\n",
    "# \"\"\"\n",
    "\n",
    "# # Add custom classes to the widgets\n",
    "# # container.add_class('container')\n",
    "# button.add_class('bottom-right')\n",
    "\n",
    "# # Create a HTML widget to include the custom CSS\n",
    "# css_widget = widgets.HTML(value=css)\n",
    "\n",
    "# # Add the button to the container\n",
    "# container.children = [button]\n",
    "\n",
    "# # Display the CSS and the container\n",
    "# display(css_widget, container)\n"
   ]
  },
  {
   "cell_type": "code",
   "execution_count": null,
   "id": "756762f2",
   "metadata": {},
   "outputs": [],
   "source": [
    "# import ipywidgets as widgets\n",
    "# from IPython.display import display\n",
    "\n",
    "# # Create an HTML header with colored font\n",
    "# html_header = widgets.HTML(value=\"<h1 style='color: blue;'>Welcome to My Jupyter Notebook</h1>\")\n",
    "\n",
    "# # Create some button widgets\n",
    "# button1 = widgets.Button(description=\"Button 1\")\n",
    "# button2 = widgets.Button(description=\"Button 2\")\n",
    "# button3 = widgets.Button(description=\"Button 3\")\n",
    "\n",
    "# # Create an HTML footer with an image\n",
    "# html_footer = widgets.HTML(value=\"\"\"\n",
    "# <footer style='text-align: center; padding: 10px;'>\n",
    "#     <img src='logo.png' alt='Footer Image' style='width: 100px; height: auto;'>\n",
    "# </footer>\n",
    "# \"\"\")\n",
    "\n",
    "# # Set the layout for left alignment\n",
    "# left_align_layout = widgets.Layout(align_items='flex-start')\n",
    "\n",
    "# # Create a VBox with the HTML header, buttons, and footer, and apply the layout\n",
    "# vbox = widgets.VBox([html_header, button1, button2, button3, html_footer], layout=left_align_layout)\n",
    "\n",
    "# # Display the VBox\n",
    "# display(vbox)\n"
   ]
  },
  {
   "cell_type": "code",
   "execution_count": null,
   "id": "d0478c09",
   "metadata": {},
   "outputs": [],
   "source": [
    "# import ipywidgets as widgets\n",
    "# from IPython.display import display\n",
    "\n",
    "# # Create some example widgets to put inside the VBox\n",
    "# button1 = widgets.Button(description=\"Button 1\")\n",
    "# button2 = widgets.Button(description=\"Button 2\")\n",
    "# button3 = widgets.Button(description=\"Button 3\")\n",
    "\n",
    "# # Create a layout with a left border\n",
    "# vbox_layout = widgets.Layout(border='solid 2px red', border_left='solid 5px blue')\n",
    "\n",
    "# # Create a VBox with the specified layout\n",
    "# vbox = widgets.VBox([button1, button2, button3], layout=vbox_layout)\n",
    "\n",
    "# # Display the VBox\n",
    "# display(vbox)\n"
   ]
  }
 ],
 "metadata": {
  "kernelspec": {
   "display_name": "Python 3 (ipykernel)",
   "language": "python",
   "name": "python3"
  },
  "language_info": {
   "codemirror_mode": {
    "name": "ipython",
    "version": 3
   },
   "file_extension": ".py",
   "mimetype": "text/x-python",
   "name": "python",
   "nbconvert_exporter": "python",
   "pygments_lexer": "ipython3",
   "version": "3.12.4"
  },
  "widgets": {
   "application/vnd.jupyter.widget-state+json": {
    "state": {},
    "version_major": 2,
    "version_minor": 0
   }
  }
 },
 "nbformat": 4,
 "nbformat_minor": 5
}
