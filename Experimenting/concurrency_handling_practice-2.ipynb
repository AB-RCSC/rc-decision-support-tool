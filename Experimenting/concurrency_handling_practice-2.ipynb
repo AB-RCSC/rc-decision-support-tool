{
 "cells": [
  {
   "cell_type": "code",
   "execution_count": 8,
   "id": "cdec8046",
   "metadata": {},
   "outputs": [
    {
     "data": {
      "application/javascript": [
       "\n",
       "// JavaScript code to generate a unique fingerprint and send it to Python\n",
       "var script = document.createElement('script');\n",
       "script.src = \"https://cdn.jsdelivr.net/npm/@fingerprintjs/fingerprintjs@3/dist/fp.min.js\";\n",
       "script.onload = function() {\n",
       "    console.log(\"FingerprintJS script loaded.\");\n",
       "\n",
       "    FingerprintJS.load().then(fp => {\n",
       "        console.log(\"FingerprintJS library initialized.\");\n",
       "        \n",
       "        fp.get().then(result => {\n",
       "            const fingerprint = result.visitorId;\n",
       "            console.log(\"Retrieved Fingerprint:\", fingerprint);\n",
       "\n",
       "            // Send the fingerprint to the Python kernel\n",
       "            var kernel = IPython.notebook.kernel;\n",
       "            var command = \"save_fingerprint_to_json('\" + fingerprint + \"')\";\n",
       "            console.log(\"Sending command to Python kernel:\", command);\n",
       "            kernel.execute(command);\n",
       "        });\n",
       "    });\n",
       "};\n",
       "document.head.appendChild(script);\n",
       "\n"
      ],
      "text/plain": [
       "<IPython.core.display.Javascript object>"
      ]
     },
     "metadata": {},
     "output_type": "display_data"
    }
   ],
   "source": [
    "import os\n",
    "import json\n",
    "from IPython.display import Javascript, display\n",
    "\n",
    "# Define the folder where JSON files are stored\n",
    "data_folder = \"new_data_files\"\n",
    "\n",
    "# Function to save the fingerprint to a JSON file\n",
    "def save_fingerprint_to_json(fingerprint):\n",
    "    file_path = os.path.join(data_folder, f\"{fingerprint}.json\")\n",
    "    \n",
    "    # Check if a file for this fingerprint already exists\n",
    "    if not os.path.exists(file_path):\n",
    "        data = {\"fingerprint\": fingerprint}\n",
    "        with open(file_path, 'w') as json_file:\n",
    "            json.dump(data, json_file, indent=4)\n",
    "        print(f\"New JSON file created: {file_path}\")\n",
    "    else:\n",
    "        print(f\"Fingerprint already exists: {file_path}\")\n",
    "\n",
    "# JavaScript to obtain the fingerprint and call the Python function\n",
    "fingerprint_js = \"\"\"\n",
    "// JavaScript code to generate a unique fingerprint and send it to Python\n",
    "var script = document.createElement('script');\n",
    "script.src = \"https://cdn.jsdelivr.net/npm/@fingerprintjs/fingerprintjs@3/dist/fp.min.js\";\n",
    "script.onload = function() {\n",
    "    console.log(\"FingerprintJS script loaded.\");\n",
    "\n",
    "    FingerprintJS.load().then(fp => {\n",
    "        console.log(\"FingerprintJS library initialized.\");\n",
    "        \n",
    "        fp.get().then(result => {\n",
    "            const fingerprint = result.visitorId;\n",
    "            console.log(\"Retrieved Fingerprint:\", fingerprint);\n",
    "\n",
    "            // Send the fingerprint to the Python kernel\n",
    "            var kernel = IPython.notebook.kernel;\n",
    "            var command = \"save_fingerprint_to_json('\" + fingerprint + \"')\";\n",
    "            console.log(\"Sending command to Python kernel:\", command);\n",
    "            kernel.execute(command);\n",
    "        });\n",
    "    });\n",
    "};\n",
    "document.head.appendChild(script);\n",
    "\n",
    "\"\"\"\n",
    "\n",
    "# Inject JavaScript into the notebook\n",
    "display(Javascript(fingerprint_js))"
   ]
  },
  {
   "cell_type": "code",
   "execution_count": null,
   "id": "d392a834",
   "metadata": {},
   "outputs": [],
   "source": []
  }
 ],
 "metadata": {
  "kernelspec": {
   "display_name": "Python 3 (ipykernel)",
   "language": "python",
   "name": "python3"
  },
  "language_info": {
   "codemirror_mode": {
    "name": "ipython",
    "version": 3
   },
   "file_extension": ".py",
   "mimetype": "text/x-python",
   "name": "python",
   "nbconvert_exporter": "python",
   "pygments_lexer": "ipython3",
   "version": "3.12.7"
  }
 },
 "nbformat": 4,
 "nbformat_minor": 5
}
