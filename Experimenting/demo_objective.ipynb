{
 "cells": [
  {
   "cell_type": "code",
   "execution_count": 55,
   "id": "076f4536",
   "metadata": {},
   "outputs": [],
   "source": [
    "import warnings\n",
    "warnings.filterwarnings('ignore')\n",
    "\n",
    "import os\n",
    "import re\n",
    "import json\n",
    "import webbrowser\n",
    "import pandas as pd\n",
    "import ipywidgets as widgets\n",
    "from datetime import datetime\n",
    "from ipywidgets import AppLayout, Button, Layout\n",
    "from ipywidgets import Button, Layout, jslink, IntText, IntSlider\n",
    "from IPython.display import display, Javascript, Markdown, clear_output, HTML\n",
    "from ipywidgets import GridspecLayout\n",
    "from markdown_it import MarkdownIt"
   ]
  },
  {
   "cell_type": "code",
   "execution_count": 56,
   "id": "e92d9be8",
   "metadata": {},
   "outputs": [],
   "source": [
    "%run ../02_ui_components/progressbar.ipynb"
   ]
  },
  {
   "cell_type": "code",
   "execution_count": 57,
   "id": "3a32190e",
   "metadata": {},
   "outputs": [],
   "source": [
    "%run ../02_ui_components/sidebar.ipynb"
   ]
  },
  {
   "cell_type": "code",
   "execution_count": 58,
   "id": "0d7075ce",
   "metadata": {},
   "outputs": [],
   "source": [
    "%run ../02_ui_components/dropdown.ipynb"
   ]
  },
  {
   "cell_type": "code",
   "execution_count": 59,
   "id": "c3d85235",
   "metadata": {},
   "outputs": [],
   "source": [
    "%run ../02_ui_components/header_button.ipynb"
   ]
  },
  {
   "cell_type": "code",
   "execution_count": 60,
   "id": "26dccb83",
   "metadata": {},
   "outputs": [],
   "source": [
    "%run ../02_ui_components/more_info.ipynb"
   ]
  },
  {
   "cell_type": "code",
   "execution_count": 61,
   "id": "ca4b3268",
   "metadata": {},
   "outputs": [],
   "source": [
    "# Placeholder variables to store paths and data\n",
    "# ques_nav_path = None\n",
    "back_list = None\n",
    "stored_choices = None\n",
    "footer = None\n",
    "path = None\n",
    "back_path = None"
   ]
  },
  {
   "cell_type": "code",
   "execution_count": 62,
   "id": "0e86f940",
   "metadata": {},
   "outputs": [],
   "source": [
    "# Declaring necessary variables and importing neccesary files for storing user answers and keep track of the visited pages\n",
    "global stored_choices, path, back_path, ques_nav_path, back_list\n",
    "\n",
    "# stored_choices = {}\n",
    "# path = \"../data_files/json/temp_storage.json\"\n",
    "# back_path = \"../data_files/json/backtracking.json\"\n",
    "dropdown_path = \"../data_files/csv/links.csv\"\n",
    "ques_nav_path = \"../data_files/json/ques_nav_list.json\""
   ]
  },
  {
   "cell_type": "code",
   "execution_count": 63,
   "id": "4f5d4f30",
   "metadata": {},
   "outputs": [],
   "source": [
    "# # Importing the json file for storing user answers\n",
    "# with open(path, \"r\") as f:\n",
    "#     stored_choices = json.load(f)"
   ]
  },
  {
   "cell_type": "code",
   "execution_count": 64,
   "id": "413301cd",
   "metadata": {},
   "outputs": [],
   "source": [
    "# # Importing the json file for keeping track of visited pages\n",
    "# with open(back_path, 'r') as f:\n",
    "#     back_list = json.load(f)"
   ]
  },
  {
   "cell_type": "code",
   "execution_count": 65,
   "id": "defb7f7c",
   "metadata": {},
   "outputs": [],
   "source": [
    "# Creating button\n",
    "def create_expanded_button(description, button_style):\n",
    "    return Button(description=description, button_style=button_style, layout=Layout(height='auto', width='auto', border='1px solid black')) #width='max-content'"
   ]
  },
  {
   "cell_type": "code",
   "execution_count": 66,
   "id": "7c2efb1c",
   "metadata": {},
   "outputs": [],
   "source": [
    "def get_css_class(css_file, class_name):\n",
    "    with open(css_file, 'r') as file:\n",
    "        css = file.read()\n",
    "        # Use regex to extract the class\n",
    "        pattern = r'\\.' + re.escape(class_name) + r'\\s*\\{([^}]*)\\}'\n",
    "        match = re.search(pattern, css, re.DOTALL)\n",
    "        if match:\n",
    "            css_content = match.group(1).strip()\n",
    "            return f'\\n<style>\\n.{class_name} {{\\n{css_content}\\n}}\\n</style>\\n'\n",
    "        else:\n",
    "            return None"
   ]
  },
  {
   "cell_type": "code",
   "execution_count": 67,
   "id": "040dbe8f",
   "metadata": {},
   "outputs": [],
   "source": [
    "css_path = \"../css/style.css\""
   ]
  },
  {
   "cell_type": "code",
   "execution_count": 68,
   "id": "e83881e5",
   "metadata": {},
   "outputs": [],
   "source": [
    "# Custom CSS to modify the question button design\n",
    "ques_button_css = get_css_class(css_path, 'ques-button')"
   ]
  },
  {
   "cell_type": "code",
   "execution_count": 69,
   "id": "f7fa643f",
   "metadata": {},
   "outputs": [],
   "source": [
    "# Custom CSS to modify the option button design\n",
    "opt_button_css = get_css_class(css_path, 'opt-button')"
   ]
  },
  {
   "cell_type": "code",
   "execution_count": 70,
   "id": "70197abf",
   "metadata": {},
   "outputs": [],
   "source": [
    "# Custom CSS to modify the header design\n",
    "header_css = get_css_class(css_path, 'custom-header')"
   ]
  },
  {
   "cell_type": "code",
   "execution_count": 71,
   "id": "484d40f9",
   "metadata": {},
   "outputs": [],
   "source": [
    "# Custom CSS to modify the footer design\n",
    "footer_css = get_css_class(css_path, 'custom-footer')"
   ]
  },
  {
   "cell_type": "code",
   "execution_count": 72,
   "id": "d3d7d77d",
   "metadata": {},
   "outputs": [],
   "source": [
    "# Create an HTML widget for the background color\n",
    "background_color_html = widgets.HTML(\n",
    "    value = get_css_class(css_path, 'custom-vbox')\n",
    ")"
   ]
  },
  {
   "cell_type": "code",
   "execution_count": 73,
   "id": "39217cfe",
   "metadata": {},
   "outputs": [],
   "source": [
    "# Taking from separate header notebook\n",
    "header = header_prog1\n",
    "header_widget = header_widget"
   ]
  },
  {
   "cell_type": "code",
   "execution_count": 74,
   "id": "4e5dfe4c",
   "metadata": {},
   "outputs": [],
   "source": [
    "file_name = widgets.Text(\n",
    "    value='',\n",
    "    placeholder='Paste your copied string here',\n",
    "    description='String:',\n",
    "    disabled=False   \n",
    ")"
   ]
  },
  {
   "cell_type": "code",
   "execution_count": 75,
   "id": "b8ab0283",
   "metadata": {},
   "outputs": [],
   "source": [
    "# Create a buttons for submitting the file name\n",
    "file_name_submit_button = widgets.Button(description=\"Submit\", layout=widgets.Layout(border='1px solid black'))"
   ]
  },
  {
   "cell_type": "code",
   "execution_count": 76,
   "id": "773a5e06",
   "metadata": {},
   "outputs": [],
   "source": [
    "# Creating a container for header image\n",
    "header_right = widgets.VBox([file_name, file_name_submit_button], \n",
    "                    layout=widgets.Layout(width='auto', \n",
    "                                          padding_top= '10px', \n",
    "                                          align_items='flex-end',\n",
    "                                          justify_content='center'))"
   ]
  },
  {
   "cell_type": "code",
   "execution_count": 79,
   "id": "5b7a53db",
   "metadata": {},
   "outputs": [],
   "source": [
    "footer_output = widgets.Output()\n",
    "def on_file_button_clicked(event):\n",
    "    with footer_output:\n",
    "        clear_output()\n",
    "        global ques_nav_path, back_list, stored_choices, path, back_path, footer\n",
    "        \n",
    "        main_file_name = file_name.value\n",
    "        path = f\"../data_files/json/{main_file_name}_storage.json\"\n",
    "        back_path = f\"../data_files/json/{main_file_name}_back_path.json\"\n",
    "        ques_nav_path = f\"../data_files/json/{main_file_name}_ques_nav_path.json\"\n",
    "        if not os.path.isfile(path):\n",
    "            with open(path, 'w') as file:\n",
    "                json.dump({}, file)\n",
    "        \n",
    "        if not os.path.isfile(back_path):\n",
    "            with open(back_path, 'w') as file:\n",
    "                json.dump([], file)\n",
    "        data_content = {\n",
    "            \"obj_list\": [[\"Select a notebook\", None]],\n",
    "            \"st_area_list\": [[\"Select a notebook\", None]],\n",
    "            \"dt_list\": [[\"Select a notebook\", None]],\n",
    "            \"ts_list\": [[\"Select a notebook\", None]],\n",
    "            \"ed_list\": [[\"Select a notebook\", None]],\n",
    "            \"da_list\": [[\"Select a notebook\", None]],\n",
    "            \"rec_list\": [[\"Select a notebook\", None]]\n",
    "        }\n",
    "        if not os.path.isfile(ques_nav_path):\n",
    "            with open(ques_nav_path, 'w') as file:\n",
    "                json.dump(data_content, file, indent=2)\n",
    "                \n",
    "        # Importing the json file for storing user answers\n",
    "        with open(path, \"r\") as f:\n",
    "            stored_choices = json.load(f)\n",
    "            \n",
    "        # Importing the json file for keeping track of visited pages\n",
    "        with open(back_path, 'r') as f:\n",
    "            back_list = json.load(f)\n",
    "            \n",
    "        notebook_name = \"objective\"\n",
    "        notebook_list_name = \"obj_list\"\n",
    "        footer_name = \"footer_in_prog1\"\n",
    "        \n",
    "        footer = main(notebook_name, notebook_list_name, footer_name)\n",
    "#         file_footer = widgets.VBox(children=[footer], layout=widgets.Layout(\n",
    "#                 width='88%',  #, popup\n",
    "#                 height='100%',  \n",
    "#                 border_left='solid 1px grey',\n",
    "#                 padding='5px',\n",
    "#                 margin='auto',  \n",
    "#                 align_items='center',  \n",
    "#                 justify_content='center'\n",
    "#         ))\n",
    "        \n",
    "        display(footer)\n",
    "file_name_submit_button.on_click(on_file_button_clicked)"
   ]
  },
  {
   "cell_type": "code",
   "execution_count": null,
   "id": "411b059c",
   "metadata": {},
   "outputs": [],
   "source": []
  },
  {
   "cell_type": "code",
   "execution_count": null,
   "id": "ffb56d24",
   "metadata": {},
   "outputs": [],
   "source": []
  },
  {
   "cell_type": "code",
   "execution_count": null,
   "id": "63e50026",
   "metadata": {},
   "outputs": [],
   "source": []
  },
  {
   "cell_type": "code",
   "execution_count": 80,
   "id": "9be1e1ca",
   "metadata": {},
   "outputs": [],
   "source": [
    "# Creating a container for header image\n",
    "header_container = widgets.HBox([header, header_widget, header_right], \n",
    "                    layout=widgets.Layout(width='95%', \n",
    "                                          padding_top= '10px', \n",
    "                                          align_items='flex-start',\n",
    "                                          justify_content='space-between'))"
   ]
  },
  {
   "cell_type": "code",
   "execution_count": 81,
   "id": "89c4ba0f",
   "metadata": {},
   "outputs": [],
   "source": [
    "# notebook_name = \"objective\"\n",
    "# notebook_list_name = \"obj_list\"\n",
    "# footer_name = \"footer_in_prog1\""
   ]
  },
  {
   "cell_type": "code",
   "execution_count": 82,
   "id": "eadbea6d",
   "metadata": {},
   "outputs": [],
   "source": [
    "# footer = main(notebook_name, notebook_list_name, footer_name)"
   ]
  },
  {
   "cell_type": "code",
   "execution_count": 83,
   "id": "7f2ed878",
   "metadata": {},
   "outputs": [],
   "source": [
    "# Reading the CSV data file into a DataFrame\n",
    "df = pd.read_csv('../data_files/csv/question_data.csv', low_memory=False)"
   ]
  },
  {
   "cell_type": "code",
   "execution_count": 84,
   "id": "019a3247",
   "metadata": {},
   "outputs": [],
   "source": [
    "dp_df = pd.read_csv(dropdown_path, low_memory=False)"
   ]
  },
  {
   "cell_type": "code",
   "execution_count": 85,
   "id": "06fce3f2",
   "metadata": {},
   "outputs": [],
   "source": [
    "drop_link = dp_df.loc[dp_df['field_code'] == 'objective', 'info_url'].iloc[0]"
   ]
  },
  {
   "cell_type": "code",
   "execution_count": 86,
   "id": "fd87b0e6",
   "metadata": {},
   "outputs": [],
   "source": [
    "# Assigns dynamic link to the last sidebar button based on the notebook dropdown info link\n",
    "concept_grid[5, 0:9].on_click(on_concept_option_clicked(drop_link))"
   ]
  },
  {
   "cell_type": "code",
   "execution_count": 87,
   "id": "ad558052",
   "metadata": {},
   "outputs": [],
   "source": [
    "# seperates the string based on ',' also removes the whitespace after comma & makes a list\n",
    "def split_and_trim(s):\n",
    "    return [item.strip() for item in s.split(',')]"
   ]
  },
  {
   "cell_type": "code",
   "execution_count": 88,
   "id": "07db2fbc",
   "metadata": {},
   "outputs": [],
   "source": [
    "# gets the question based on value of other column\n",
    "ques = df.loc[df['question_code'] == 'objective', 'question_text'].iloc[0]\n",
    "opt = df.loc[df['question_code'] == 'objective', 'q_option_label'].iloc[0]\n",
    "opt_codes = df.loc[df['question_code'] == 'objective', 'q_option_code'].iloc[0]\n",
    "\n",
    "# Using the split_and_trim function for neccessary steps\n",
    "opt = split_and_trim(opt)\n",
    "opt_codes = split_and_trim(opt_codes)"
   ]
  },
  {
   "cell_type": "code",
   "execution_count": 89,
   "id": "b395b6df",
   "metadata": {},
   "outputs": [],
   "source": [
    "html_widget = more_info_widget(\"../data_files/markdown/index.md\")"
   ]
  },
  {
   "cell_type": "code",
   "execution_count": 90,
   "id": "fbcad996",
   "metadata": {},
   "outputs": [],
   "source": [
    "# Factor widget\n",
    "question = create_expanded_button(ques, 'success')\n",
    "question.style.button_color = 'lightblue'\n",
    "question.style.text_color = 'black'\n",
    "# question.style.font_weight = 'bold'\n",
    "\n",
    "# Add custom class to the button\n",
    "question.add_class('ques-button') # Adding custom css properties to the buttons\n",
    "\n",
    "option1 = create_expanded_button(opt[0], 'success')\n",
    "option1.style.button_color = '#DAE8FC'\n",
    "option1.style.text_color = 'black'\n",
    "option1.add_class('opt-button')\n",
    "\n",
    "option2 = create_expanded_button(opt[1], 'success')\n",
    "option2.style.button_color = '#DAE8FC'\n",
    "option2.style.text_color = 'black'\n",
    "option2.add_class('opt-button')\n",
    "\n",
    "option3 = create_expanded_button(opt[2], 'success')\n",
    "option3.style.button_color = '#DAE8FC'\n",
    "option3.style.text_color = 'black'\n",
    "option3.add_class('opt-button')\n",
    "\n",
    "option4 = create_expanded_button(opt[3], 'success')\n",
    "option4.style.button_color = '#DAE8FC'\n",
    "option4.style.text_color = 'black'\n",
    "option4.add_class('opt-button')\n",
    "\n",
    "option5 = create_expanded_button(opt[4], 'success')\n",
    "option5.style.button_color = '#DAE8FC'\n",
    "option5.style.text_color = 'red'\n",
    "option5.add_class('opt-button')\n",
    "\n",
    "option6 = create_expanded_button(opt[5], 'success')\n",
    "option6.style.button_color = '#DAE8FC'\n",
    "option6.style.text_color = 'red'\n",
    "option6.add_class('opt-button')\n",
    "\n",
    "option7 = create_expanded_button(opt[6], 'success')\n",
    "option7.style.button_color = '#DAE8FC'\n",
    "option7.style.text_color = 'red'\n",
    "option7.add_class('opt-button')\n",
    "\n",
    "option8 = create_expanded_button(opt[7], 'success')\n",
    "option8.style.button_color = '#DAE8FC'\n",
    "option8.style.text_color = 'black'\n",
    "option8.add_class('opt-button')\n",
    "\n",
    "option9 = create_expanded_button(opt[8], 'success')\n",
    "option9.style.button_color = '#F5F5F5'\n",
    "option9.style.text_color = 'black'\n",
    "option9.add_class('opt-button')\n",
    "\n",
    "# Create a HTML widget to include the custom CSS\n",
    "css_widget = widgets.HTML(value=ques_button_css)\n",
    "css_widget2 = widgets.HTML(value=opt_button_css)\n",
    "\n",
    "factor_grid = GridspecLayout(10, 18, grid_gap='5px', height='550px')\n",
    "factor_grid[4:8, 1:7] = question\n",
    "factor_grid[1:8, 13:17] = html_widget\n",
    "factor_grid[1, 8:12] = option1\n",
    "factor_grid[2, 8:12] = option2\n",
    "factor_grid[3, 8:12] = option3\n",
    "factor_grid[4, 8:12] = option4\n",
    "factor_grid[5, 8:12] = option5\n",
    "factor_grid[6, 8:12] = option6\n",
    "factor_grid[7, 8:12] = option7\n",
    "factor_grid[8, 8:12] = option8\n",
    "factor_grid[9, 8:12] = option9\n",
    "# factor_grid[10, 7:9] = option10\n",
    "\n",
    "# Creating a container to store the factor widget and added custom css widgets\n",
    "logical_integer_container = widgets.VBox(children=[factor_grid, css_widget, css_widget2], layout=widgets.Layout(\n",
    "    align_items='center'  # Center align vertically\n",
    "#     border='solid 2px black',\n",
    "#     width = \"70%\"\n",
    "#     justify_content='center'  # Center align horizontally\n",
    "#     height='100vh'  # Set height to 100% of viewport height for vertical centering\n",
    "))"
   ]
  },
  {
   "cell_type": "code",
   "execution_count": 91,
   "id": "15cd01b4",
   "metadata": {},
   "outputs": [],
   "source": [
    "# Creating button list for implementing the checkmark feature\n",
    "button_list = [option1, option2, option3, option4, option5, option6, option7, option8, option9]"
   ]
  },
  {
   "cell_type": "code",
   "execution_count": 92,
   "id": "ca0d8084",
   "metadata": {},
   "outputs": [],
   "source": [
    "selected = False"
   ]
  },
  {
   "cell_type": "code",
   "execution_count": 93,
   "id": "f9f594fa",
   "metadata": {},
   "outputs": [],
   "source": [
    "# Create the text widget with a warning message\n",
    "warning_widget2 = widgets.HTML(\n",
    "    value=\"\"\"\n",
    "    <div style=\"padding: 5px; background-color: #f8d7da; color: #721c24; border: 2px solid #f5c6cb; border-radius: 5px;\">\n",
    "        <strong>Warning!</strong> Unavailable for now. Please select another.\n",
    "    </div>\n",
    "    \"\"\"\n",
    ")"
   ]
  },
  {
   "cell_type": "code",
   "execution_count": 94,
   "id": "71d55d79",
   "metadata": {},
   "outputs": [],
   "source": [
    "error2 = widgets.HBox(\n",
    "    [warning_widget2],\n",
    "    layout=widgets.Layout(\n",
    "        width='auto',  \n",
    "        height='auto',\n",
    "        margin='auto',  \n",
    "        align_items='flex-end',  \n",
    "        justify_content='flex-end' \n",
    "    )\n",
    ")"
   ]
  },
  {
   "cell_type": "code",
   "execution_count": 95,
   "id": "4c32e7af",
   "metadata": {},
   "outputs": [],
   "source": [
    "# Implementing the steps when a button is clicked\n",
    "output = widgets.Output()\n",
    "def option_1_button_clicked(option1):\n",
    "    with output:\n",
    "        clear_output()\n",
    "        global selected, stored_choices\n",
    "        \n",
    "        selected = True\n",
    "        \n",
    "        # changes the button icon to a checkmark when clicked\n",
    "        for btn in button_list:\n",
    "            if btn == option1:\n",
    "                btn.icon='check'\n",
    "            else:\n",
    "                btn.icon=''\n",
    "        \n",
    "        # storing all the selected option information\n",
    "        selected_option = factor_grid[1, 8:12].description\n",
    "        selected_option_index = opt.index(selected_option)\n",
    "        selected_option_code = opt_codes[selected_option_index]\n",
    "        \n",
    "        \n",
    "        # Retrieving infomation for using inside logic while determining the next page\n",
    "        stored_choices[\"objective\"] = selected_option_code\n",
    "        \n",
    "        # Storing all the information\n",
    "        with open(path, \"w\") as f:\n",
    "            json.dump(stored_choices, f)\n",
    "        \n",
    "# Calling the on click function\n",
    "factor_grid[1, 8:12].on_click(option_1_button_clicked)"
   ]
  },
  {
   "cell_type": "code",
   "execution_count": 96,
   "id": "348e1bd5",
   "metadata": {},
   "outputs": [],
   "source": [
    "# Implementing the steps when a button is clicked\n",
    "output = widgets.Output()\n",
    "def option_2_button_clicked(option2):\n",
    "    with output:\n",
    "        clear_output()\n",
    "        global selected\n",
    "        \n",
    "        selected = True\n",
    "        # changes the button icon to a checkmark when clicked\n",
    "        for btn in button_list:\n",
    "            if btn == option2:\n",
    "                btn.icon='check'\n",
    "            else:\n",
    "                btn.icon=''\n",
    "\n",
    "        # storing all the selected option information\n",
    "        selected_option = factor_grid[2, 8:12].description\n",
    "        selected_option_index = opt.index(selected_option)\n",
    "        selected_option_code = opt_codes[selected_option_index]\n",
    "        \n",
    "        # Retrieving infomation for using inside logic while determining the next page\n",
    "        stored_choices[\"objective\"] = selected_option_code\n",
    "        \n",
    "        # Storing all the information\n",
    "        with open(path, \"w\") as f:\n",
    "            json.dump(stored_choices, f)\n",
    "            \n",
    "# Calling the on click function        \n",
    "factor_grid[2, 8:12].on_click(option_2_button_clicked)"
   ]
  },
  {
   "cell_type": "code",
   "execution_count": 97,
   "id": "ce7cf929",
   "metadata": {},
   "outputs": [],
   "source": [
    "# Implementing the steps when a button is clicked\n",
    "output = widgets.Output()\n",
    "def option_3_button_clicked(option3):\n",
    "    with output:\n",
    "        clear_output()\n",
    "        global selected\n",
    "        \n",
    "        selected = True\n",
    "        # changes the button icon to a checkmark when clicked\n",
    "        for btn in button_list:\n",
    "            if btn == option3:\n",
    "                btn.icon='check'\n",
    "            else:\n",
    "                btn.icon=''\n",
    "        \n",
    "        # storing all the selected option information\n",
    "        selected_option = factor_grid[3, 8:12].description\n",
    "        selected_option_index = opt.index(selected_option)\n",
    "        selected_option_code = opt_codes[selected_option_index]\n",
    "        \n",
    "        # Retrieving infomation for using inside logic while determining the next page\n",
    "        stored_choices[\"objective\"] = selected_option_code\n",
    "        \n",
    "        # Storing all the information\n",
    "        with open(path, \"w\") as f:\n",
    "            json.dump(stored_choices, f)\n",
    "            \n",
    "# Calling the on click function       \n",
    "factor_grid[3, 8:12].on_click(option_3_button_clicked)"
   ]
  },
  {
   "cell_type": "code",
   "execution_count": 98,
   "id": "953b354f",
   "metadata": {},
   "outputs": [],
   "source": [
    "# Implementing the steps when a button is clicked\n",
    "output = widgets.Output()\n",
    "def option_4_button_clicked(option4):\n",
    "    with output:\n",
    "        clear_output()\n",
    "        global selected\n",
    "        \n",
    "        selected = True\n",
    "        # changes the button icon to a checkmark when clicked\n",
    "        for btn in button_list:\n",
    "            if btn == option4:\n",
    "                btn.icon='check'\n",
    "            else:\n",
    "                btn.icon=''\n",
    "        \n",
    "        # storing all the selected option information\n",
    "        selected_option = factor_grid[4, 8:12].description\n",
    "        selected_option_index = opt.index(selected_option)\n",
    "        selected_option_code = opt_codes[selected_option_index]\n",
    "        \n",
    "        # Retrieving infomation for using inside logic while determining the next page\n",
    "        stored_choices[\"objective\"] = selected_option_code\n",
    "        \n",
    "        # Storing all the information\n",
    "        with open(path, \"w\") as f:\n",
    "            json.dump(stored_choices, f)\n",
    "            \n",
    "# Calling the on click function       \n",
    "factor_grid[4, 8:12].on_click(option_4_button_clicked)"
   ]
  },
  {
   "cell_type": "code",
   "execution_count": 99,
   "id": "bac3e33e",
   "metadata": {},
   "outputs": [],
   "source": [
    "# Implementing the steps when a button is clicked\n",
    "output = widgets.Output()\n",
    "def option_5_button_clicked(option5):\n",
    "    with output:\n",
    "        clear_output()\n",
    "        global selected\n",
    "        \n",
    "        selected = False\n",
    "        # changes the button icon to a checkmark when clicked\n",
    "        for btn in button_list:\n",
    "            if btn == option5:\n",
    "                btn.icon='check'\n",
    "            else:\n",
    "                btn.icon=''\n",
    "        display(error2)\n",
    "        \n",
    "        #### DISABLIING OPTIONS FOR NOW\n",
    "#         # storing all the selected option information\n",
    "#         selected_option = factor_grid[5, 8:12].description\n",
    "#         selected_option_index = opt.index(selected_option)\n",
    "#         selected_option_code = opt_codes[selected_option_index]\n",
    "        \n",
    "#         # Retrieving infomation for using inside logic while determining the next page\n",
    "#         stored_choices[\"objective\"] = selected_option_code\n",
    "        \n",
    "#         # Storing all the information\n",
    "#         with open(path, \"w\") as f:\n",
    "#             json.dump(stored_choices, f)\n",
    "            \n",
    "# Calling the on click function       \n",
    "factor_grid[5, 8:12].on_click(option_5_button_clicked)"
   ]
  },
  {
   "cell_type": "code",
   "execution_count": 100,
   "id": "f36cbc21",
   "metadata": {},
   "outputs": [],
   "source": [
    "# Implementing the steps when a button is clicked\n",
    "output = widgets.Output()\n",
    "def option_6_button_clicked(option6):\n",
    "    with output:\n",
    "        clear_output()\n",
    "        global selected\n",
    "        \n",
    "        selected = False\n",
    "        # changes the button icon to a checkmark when clicked\n",
    "        for btn in button_list:\n",
    "            if btn == option6:\n",
    "                btn.icon='check'\n",
    "            else:\n",
    "                btn.icon=''\n",
    "        display(error2)\n",
    "         #### DISABLIING OPTIONS FOR NOW\n",
    "#         # storing all the selected option information\n",
    "#         selected_option = factor_grid[6, 8:12].description\n",
    "#         selected_option_index = opt.index(selected_option)\n",
    "#         selected_option_code = opt_codes[selected_option_index]\n",
    "        \n",
    "#         # Retrieving infomation for using inside logic while determining the next page\n",
    "#         stored_choices[\"objective\"] = selected_option_code\n",
    "        \n",
    "#         # Storing all the information\n",
    "#         with open(path, \"w\") as f:\n",
    "#             json.dump(stored_choices, f)\n",
    "            \n",
    "# Calling the on click function     \n",
    "factor_grid[6, 8:12].on_click(option_6_button_clicked)"
   ]
  },
  {
   "cell_type": "code",
   "execution_count": 101,
   "id": "845ca4ef",
   "metadata": {},
   "outputs": [],
   "source": [
    "# Implementing the steps when a button is clicked\n",
    "output = widgets.Output()\n",
    "def option_7_button_clicked(option7):\n",
    "    with output:\n",
    "        clear_output()\n",
    "        global selected\n",
    "        \n",
    "        selected = False\n",
    "        # changes the button icon to a checkmark when clicked\n",
    "        for btn in button_list:\n",
    "            if btn == option7:\n",
    "                btn.icon='check'\n",
    "            else:\n",
    "                btn.icon=''\n",
    "                \n",
    "        display(error2)       \n",
    "                \n",
    "         #### DISABLIING OPTIONS FOR NOW\n",
    "#         # storing all the selected option information\n",
    "#         selected_option = factor_grid[7, 8:12].description\n",
    "#         selected_option_index = opt.index(selected_option)\n",
    "#         selected_option_code = opt_codes[selected_option_index]\n",
    "        \n",
    "#         # Retrieving infomation for using inside logic while determining the next page\n",
    "#         stored_choices[\"objective\"] = selected_option_code\n",
    "        \n",
    "#         # Storing all the information\n",
    "#         with open(path, \"w\") as f:\n",
    "#             json.dump(stored_choices, f)\n",
    "\n",
    "\n",
    "\n",
    "            \n",
    "# Calling the on click function     \n",
    "factor_grid[7, 8:12].on_click(option_7_button_clicked)"
   ]
  },
  {
   "cell_type": "code",
   "execution_count": 102,
   "id": "c312aeec",
   "metadata": {},
   "outputs": [],
   "source": [
    "# Implementing the steps when a button is clicked\n",
    "output = widgets.Output()\n",
    "def option_8_button_clicked(option8):\n",
    "    with output:\n",
    "        clear_output()\n",
    "        global selected\n",
    "        \n",
    "        selected = True\n",
    "        # changes the button icon to a checkmark when clicked\n",
    "        for btn in button_list:\n",
    "            if btn == option8:\n",
    "                btn.icon='check'\n",
    "            else:\n",
    "                btn.icon=''\n",
    "        \n",
    "        # storing all the selected option information\n",
    "        selected_option = factor_grid[8, 8:12].description\n",
    "        selected_option_index = opt.index(selected_option)\n",
    "        selected_option_code = opt_codes[selected_option_index]\n",
    "        \n",
    "        # Retrieving infomation for using inside logic while determining the next page\n",
    "        stored_choices[\"objective\"] = selected_option_code\n",
    "        \n",
    "        # Storing all the information\n",
    "        with open(path, \"w\") as f:\n",
    "            json.dump(stored_choices, f)\n",
    "            \n",
    "# Calling the on click function       \n",
    "factor_grid[8, 8:12].on_click(option_8_button_clicked)"
   ]
  },
  {
   "cell_type": "code",
   "execution_count": 103,
   "id": "608bfc9a",
   "metadata": {},
   "outputs": [],
   "source": [
    "# Implementing the steps when a button is clicked\n",
    "output = widgets.Output()\n",
    "def option_9_button_clicked(option9):\n",
    "    with output:\n",
    "        clear_output()\n",
    "        global selected\n",
    "        \n",
    "        selected = True\n",
    "        # changes the button icon to a checkmark when clicked\n",
    "        for btn in button_list:\n",
    "            if btn == option9:\n",
    "                btn.icon='check'\n",
    "            else:\n",
    "                btn.icon=''\n",
    "        \n",
    "        # storing all the selected option information\n",
    "        selected_option = factor_grid[9, 8:12].description\n",
    "        selected_option_index = opt.index(selected_option)\n",
    "        selected_option_code = opt_codes[selected_option_index]\n",
    "        \n",
    "        # Retrieving infomation for using inside logic while determining the next page\n",
    "        stored_choices[\"objective\"] = selected_option_code\n",
    "        \n",
    "        # Storing all the information\n",
    "        with open(path, \"w\") as f:\n",
    "            json.dump(stored_choices, f)\n",
    "            \n",
    "# Calling the on click function      \n",
    "factor_grid[9, 8:12].on_click(option_9_button_clicked)"
   ]
  },
  {
   "cell_type": "code",
   "execution_count": 104,
   "id": "30356f59",
   "metadata": {},
   "outputs": [],
   "source": [
    "# button.on_click(show_popup(None, drop_link))\n",
    "button.on_click(lambda b: show_popup(b, drop_link))"
   ]
  },
  {
   "cell_type": "code",
   "execution_count": 105,
   "id": "babb8ea3",
   "metadata": {},
   "outputs": [],
   "source": [
    "close_button.on_click(close_popup)"
   ]
  },
  {
   "cell_type": "code",
   "execution_count": 106,
   "id": "ed85e633",
   "metadata": {},
   "outputs": [],
   "source": [
    "# Create a buttons for submitting the question\n",
    "submit_button = widgets.Button(description=\"Submit & Next >>\", layout=widgets.Layout(border='1px solid black'))"
   ]
  },
  {
   "cell_type": "code",
   "execution_count": 107,
   "id": "fc5fdbc8",
   "metadata": {},
   "outputs": [],
   "source": [
    "# Create a button for going back to previous question\n",
    "back_button = widgets.Button(description=\"<< Back\", layout=widgets.Layout(border='1px solid black'))"
   ]
  },
  {
   "cell_type": "code",
   "execution_count": 108,
   "id": "5bfa5dae",
   "metadata": {},
   "outputs": [],
   "source": [
    "# Create the text widget with a warning message\n",
    "warning_widget = widgets.HTML(\n",
    "    value=\"\"\"\n",
    "    <div style=\"padding: 5px; background-color: #f8d7da; color: #721c24; border: 2px solid #f5c6cb; border-radius: 5px;\">\n",
    "        <strong>Warning!</strong> Select an option first.\n",
    "    </div>\n",
    "    \"\"\"\n",
    ")"
   ]
  },
  {
   "cell_type": "code",
   "execution_count": 109,
   "id": "f941a385",
   "metadata": {},
   "outputs": [],
   "source": [
    "error = widgets.HBox(\n",
    "    [warning_widget],\n",
    "    layout=widgets.Layout(\n",
    "        width='auto',  \n",
    "        height='auto',\n",
    "        margin='auto',  \n",
    "        align_items='flex-end',  \n",
    "        justify_content='flex-end' \n",
    "    )\n",
    ")"
   ]
  },
  {
   "cell_type": "code",
   "execution_count": 110,
   "id": "22e57c81",
   "metadata": {},
   "outputs": [],
   "source": [
    "# For going back to last question\n",
    "\n",
    "output = widgets.Output()\n",
    "def on_back_button_clicked(event):\n",
    "    with output:\n",
    "        clear_output()\n",
    "        file_name = back_list[-1]\n",
    "        notebook_filename = file_name + \".ipynb\"\n",
    "        js_code = f\"window.open('{notebook_filename}', '_self');\"\n",
    "#         link = Markdown('''<a href=\"{}\" target=\"_self\" rel=\"noopener noreferrer\">Previous</a>'''.format(notebook_filename))\n",
    "        back_list.pop()\n",
    "        with open (back_path, \"w\")as f:\n",
    "            json.dump(back_list, f)\n",
    "        display(Javascript(js_code))\n",
    "\n",
    "back_button.on_click(on_back_button_clicked)"
   ]
  },
  {
   "cell_type": "code",
   "execution_count": 111,
   "id": "f03d23af",
   "metadata": {},
   "outputs": [],
   "source": [
    "output = widgets.Output()\n",
    "def on_button_clicked(event):\n",
    "    with output:\n",
    "        clear_output()\n",
    "\n",
    "        if not selected:\n",
    "            display(error)\n",
    "        else:\n",
    "            next_notebook = \"num_cams\"\n",
    "\n",
    "            notebook_filename = next_notebook + \".ipynb\"\n",
    "            # JavaScript to open the URL\n",
    "            js_code = f\"window.open('{notebook_filename}', '_self');\"\n",
    "\n",
    "            # Storing current page name for later use when backtracking\n",
    "            back_list.append(\"objective\")\n",
    "            with open (back_path, \"w\")as f:\n",
    "                json.dump(back_list, f)\n",
    "\n",
    "            display(Javascript(js_code))\n",
    "\n",
    "submit_button.on_click(on_button_clicked)"
   ]
  },
  {
   "cell_type": "code",
   "execution_count": null,
   "id": "f310bfd7",
   "metadata": {},
   "outputs": [],
   "source": []
  },
  {
   "cell_type": "code",
   "execution_count": 113,
   "id": "6db90f31",
   "metadata": {},
   "outputs": [
    {
     "data": {
      "application/vnd.jupyter.widget-view+json": {
       "model_id": "bf2f7d25eb174f9cad9950cfb1d8dc46",
       "version_major": 2,
       "version_minor": 0
      },
      "text/plain": [
       "HBox(children=(VBox(children=(Image(value=b'\\x89PNG\\r\\n\\x1a\\n\\x00\\x00\\x00\\rIHDR\\x00\\x00\\x01\\xfb\\x00\\x00\\x01|\\x…"
      ]
     },
     "metadata": {},
     "output_type": "display_data"
    }
   ],
   "source": [
    "# Creating containers for all the widgets along with their css properties\n",
    "\n",
    "all_button = widgets.HBox(\n",
    "    [back_button, submit_button],\n",
    "    layout=widgets.Layout(\n",
    "        width='100%',  \n",
    "        height='auto',\n",
    "#         border='solid 2px grey',\n",
    "        padding='1px',\n",
    "        margin='auto',  \n",
    "        align_items='center',  \n",
    "        justify_content='space-between' \n",
    "    )\n",
    ")\n",
    "buttons = widgets.VBox(\n",
    "    [output, all_button],\n",
    "    layout=widgets.Layout(\n",
    "        width='100%',  \n",
    "        height='auto',  \n",
    "#         border='solid 2px grey',\n",
    "        padding='1px',\n",
    "        margin='auto',  \n",
    "        align_items='center',  \n",
    "        justify_content='center'  \n",
    "    )\n",
    ")\n",
    "\n",
    "\n",
    "\n",
    "upper = widgets.VBox(\n",
    "    [logical_integer_container, buttons],\n",
    "    layout=widgets.Layout(\n",
    "        width='95%',  \n",
    "        height='auto', \n",
    "        border='solid 1px grey',\n",
    "        padding='10px',\n",
    "        margin='auto',  \n",
    "        align_items='center',  \n",
    "        justify_content='center' \n",
    "    )\n",
    ")\n",
    "upper.add_class(\"custom-vbox\")\n",
    "\n",
    "popup = widgets.VBox(children=[button, output_popup], layout=widgets.Layout(\n",
    "        width='95%',  \n",
    "        height='auto',  \n",
    "#         border='solid 2px grey',\n",
    "        padding='5px',\n",
    "        margin='auto',  \n",
    "        align_items='center', \n",
    "        justify_content='center'  \n",
    "    ))\n",
    "# [header_container, background_color_html, upper, footer, popup]\n",
    "right_col = widgets.VBox(children=[header_container, background_color_html, upper, footer_output, popup], layout=widgets.Layout(\n",
    "        width='88%',  #, popup\n",
    "        height='100%',  \n",
    "        border_left='solid 1px grey',\n",
    "        padding='5px',\n",
    "        margin='auto',  \n",
    "        align_items='center',  \n",
    "        justify_content='center'\n",
    "))\n",
    "\n",
    "cols = widgets.HBox(\n",
    "    [left_col, right_col],\n",
    "    layout=widgets.Layout(\n",
    "        width='95%',  \n",
    "        height='auto',  #90vh\n",
    "        border='solid 2px grey',\n",
    "#         padding='5px',\n",
    "        margin='auto',  \n",
    "        align_items='flex-start', \n",
    "        justify_content='center'\n",
    "    )\n",
    ")\n",
    "\n",
    "display(cols)"
   ]
  },
  {
   "cell_type": "code",
   "execution_count": null,
   "id": "f8fba219",
   "metadata": {},
   "outputs": [],
   "source": []
  },
  {
   "cell_type": "code",
   "execution_count": null,
   "id": "947ba6e8",
   "metadata": {},
   "outputs": [],
   "source": []
  },
  {
   "cell_type": "code",
   "execution_count": 15,
   "id": "666f1649",
   "metadata": {},
   "outputs": [],
   "source": [
    "### DEMO MARKDOWN CONTENT READING\n",
    "\n",
    "# import ipywidgets as widgets\n",
    "\n",
    "# # Create a GridSpecLayout\n",
    "# grid = widgets.GridspecLayout(3, 3, height='300px')\n",
    "\n",
    "# # Add markdown content as HTML\n",
    "# html_content = widgets.HTML(\"\"\"\n",
    "#     <h1>Demo Markdown Content</h1>\n",
    "#     <ul>\n",
    "#         <li>This is a bullet point.</li>\n",
    "#         <li>Another bullet point.</li>\n",
    "#     </ul>\n",
    "#     <h2>Code example</h2>\n",
    "#     <pre><code>def hello_world():\\n    print(\"Hello, World!\")</code></pre>\n",
    "#     <h3>Link</h3>\n",
    "#     <a href=\"https://www.google.com\">Google</a>\n",
    "# \"\"\")\n",
    "\n",
    "# # Add the HTML content to a specific cell in the grid\n",
    "# grid[0, 0] = html_content\n",
    "\n",
    "# # Display the grid\n",
    "# display(grid)\n"
   ]
  }
 ],
 "metadata": {
  "kernelspec": {
   "display_name": "Python 3 (ipykernel)",
   "language": "python",
   "name": "python3"
  },
  "language_info": {
   "codemirror_mode": {
    "name": "ipython",
    "version": 3
   },
   "file_extension": ".py",
   "mimetype": "text/x-python",
   "name": "python",
   "nbconvert_exporter": "python",
   "pygments_lexer": "ipython3",
   "version": "3.12.7"
  }
 },
 "nbformat": 4,
 "nbformat_minor": 5
}
