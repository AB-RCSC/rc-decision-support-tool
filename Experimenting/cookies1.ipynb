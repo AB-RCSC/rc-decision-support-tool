{
 "cells": [
  {
   "cell_type": "code",
   "execution_count": 1,
   "id": "9dee7d69",
   "metadata": {},
   "outputs": [
    {
     "data": {
      "application/javascript": [
       "\n",
       "(function() {\n",
       "    var uid = document.cookie.split('; ').find(row => row.startsWith('uid='));\n",
       "    if (!uid) {\n",
       "        var newUid = (new Date().getTime()).toString() + Math.random().toString(36).substr(2);\n",
       "        document.cookie = 'uid=' + newUid + '; path=/';\n",
       "        var command = \"create_json_file('\" + newUid + \"')\";\n",
       "        var kernel = IPython.notebook.kernel;\n",
       "        kernel.execute(command);\n",
       "    } else {\n",
       "        var kernel = IPython.notebook.kernel;\n",
       "        var existingUid = uid.split('=')[1];\n",
       "        var command = \"use_existing_file('\" + existingUid + \"')\";\n",
       "        kernel.execute(command);\n",
       "    }\n",
       "})();\n"
      ],
      "text/plain": [
       "<IPython.core.display.Javascript object>"
      ]
     },
     "metadata": {},
     "output_type": "display_data"
    }
   ],
   "source": [
    "import json\n",
    "import os\n",
    "from http.cookies import SimpleCookie\n",
    "from IPython.display import display, Javascript\n",
    "\n",
    "# Directory to store user files\n",
    "json_dir = \"user_data\"\n",
    "if not os.path.exists(json_dir):\n",
    "    os.makedirs(json_dir)\n",
    "\n",
    "# Function to generate a unique identifier\n",
    "def generate_uid():\n",
    "    import uuid\n",
    "    return str(uuid.uuid4())\n",
    "\n",
    "# JavaScript code to set a cookie in the user's browser\n",
    "set_cookie_js = \"\"\"\n",
    "(function() {\n",
    "    var uid = document.cookie.split('; ').find(row => row.startsWith('uid='));\n",
    "    if (!uid) {\n",
    "        var newUid = (new Date().getTime()).toString() + Math.random().toString(36).substr(2);\n",
    "        document.cookie = 'uid=' + newUid + '; path=/';\n",
    "        var command = \"create_json_file('\" + newUid + \"')\";\n",
    "        var kernel = IPython.notebook.kernel;\n",
    "        kernel.execute(command);\n",
    "    } else {\n",
    "        var kernel = IPython.notebook.kernel;\n",
    "        var existingUid = uid.split('=')[1];\n",
    "        var command = \"use_existing_file('\" + existingUid + \"')\";\n",
    "        kernel.execute(command);\n",
    "    }\n",
    "})();\n",
    "\"\"\"\n",
    "\n",
    "# Display the JavaScript to set a cookie\n",
    "display(Javascript(set_cookie_js))\n",
    "\n",
    "# Function to create a JSON file for the new UID\n",
    "def create_json_file(uid):\n",
    "    json_path = os.path.join(json_dir, f\"{uid}.json\")\n",
    "    if not os.path.exists(json_path):\n",
    "        with open(json_path, \"w\") as f:\n",
    "            json.dump({\"message\": \"This is a new user file.\"}, f)\n",
    "    print(f\"Created file for UID: {uid}\")\n",
    "\n",
    "# Function to use an existing file for the UID\n",
    "def use_existing_file(uid):\n",
    "    json_path = os.path.join(json_dir, f\"{uid}.json\")\n",
    "    if os.path.exists(json_path):\n",
    "        print(f\"Using existing file for UID: {uid}\")\n",
    "    else:\n",
    "        create_json_file(uid)\n",
    "\n"
   ]
  },
  {
   "cell_type": "code",
   "execution_count": null,
   "id": "46bfac9c",
   "metadata": {},
   "outputs": [],
   "source": []
  }
 ],
 "metadata": {
  "kernelspec": {
   "display_name": "Python 3 (ipykernel)",
   "language": "python",
   "name": "python3"
  },
  "language_info": {
   "codemirror_mode": {
    "name": "ipython",
    "version": 3
   },
   "file_extension": ".py",
   "mimetype": "text/x-python",
   "name": "python",
   "nbconvert_exporter": "python",
   "pygments_lexer": "ipython3",
   "version": "3.12.7"
  }
 },
 "nbformat": 4,
 "nbformat_minor": 5
}
