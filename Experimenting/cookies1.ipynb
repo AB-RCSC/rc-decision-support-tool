{
 "cells": [
  {
   "cell_type": "code",
   "execution_count": 1,
   "id": "9dee7d69",
   "metadata": {},
   "outputs": [
    {
     "data": {
      "application/javascript": [
       "\n",
       "(function() {\n",
       "    var uid = document.cookie.split('; ').find(row => row.startsWith('uid='));\n",
       "    if (!uid) {\n",
       "        var newUid = (new Date().getTime()).toString() + Math.random().toString(36).substr(2);\n",
       "        document.cookie = 'uid=' + newUid + '; path=/';\n",
       "        var command = \"create_json_file('\" + newUid + \"')\";\n",
       "        var kernel = IPython.notebook.kernel;\n",
       "        kernel.execute(command);\n",
       "    } else {\n",
       "        var kernel = IPython.notebook.kernel;\n",
       "        var existingUid = uid.split('=')[1];\n",
       "        var command = \"use_existing_file('\" + existingUid + \"')\";\n",
       "        kernel.execute(command);\n",
       "    }\n",
       "})();\n"
      ],
      "text/plain": [
       "<IPython.core.display.Javascript object>"
      ]
     },
     "metadata": {},
     "output_type": "display_data"
    }
   ],
   "source": [
    "# import json\n",
    "# import os\n",
    "# from http.cookies import SimpleCookie\n",
    "# from IPython.display import display, Javascript\n",
    "\n",
    "# # Directory to store user files\n",
    "# json_dir = \"user_data\"\n",
    "# if not os.path.exists(json_dir):\n",
    "#     os.makedirs(json_dir)\n",
    "\n",
    "# # Function to generate a unique identifier\n",
    "# def generate_uid():\n",
    "#     import uuid\n",
    "#     return str(uuid.uuid4())\n",
    "\n",
    "# # JavaScript code to set a cookie in the user's browser\n",
    "# set_cookie_js = \"\"\"\n",
    "# (function() {\n",
    "#     var uid = document.cookie.split('; ').find(row => row.startsWith('uid='));\n",
    "#     if (!uid) {\n",
    "#         var newUid = (new Date().getTime()).toString() + Math.random().toString(36).substr(2);\n",
    "#         document.cookie = 'uid=' + newUid + '; path=/';\n",
    "#         var command = \"create_json_file('\" + newUid + \"')\";\n",
    "#         var kernel = IPython.notebook.kernel;\n",
    "#         kernel.execute(command);\n",
    "#     } else {\n",
    "#         var kernel = IPython.notebook.kernel;\n",
    "#         var existingUid = uid.split('=')[1];\n",
    "#         var command = \"use_existing_file('\" + existingUid + \"')\";\n",
    "#         kernel.execute(command);\n",
    "#     }\n",
    "# })();\n",
    "# \"\"\"\n",
    "\n",
    "# # Display the JavaScript to set a cookie\n",
    "# display(Javascript(set_cookie_js))\n",
    "\n",
    "# # Function to create a JSON file for the new UID\n",
    "# def create_json_file(uid):\n",
    "#     json_path = os.path.join(json_dir, f\"{uid}.json\")\n",
    "#     if not os.path.exists(json_path):\n",
    "#         with open(json_path, \"w\") as f:\n",
    "#             json.dump({\"message\": \"This is a new user file.\"}, f)\n",
    "#     print(f\"Created file for UID: {uid}\")\n",
    "\n",
    "# # Function to use an existing file for the UID\n",
    "# def use_existing_file(uid):\n",
    "#     json_path = os.path.join(json_dir, f\"{uid}.json\")\n",
    "#     if os.path.exists(json_path):\n",
    "#         print(f\"Using existing file for UID: {uid}\")\n",
    "#     else:\n",
    "#         create_json_file(uid)\n",
    "\n"
   ]
  },
  {
   "cell_type": "code",
   "execution_count": null,
   "id": "46bfac9c",
   "metadata": {},
   "outputs": [],
   "source": []
  },
  {
   "cell_type": "code",
   "execution_count": 7,
   "id": "f44dbc1a",
   "metadata": {},
   "outputs": [
    {
     "data": {
      "text/html": [
       "\n",
       "<script>\n",
       "    // Set the fingerprint cookie valid for 1 hour\n",
       "    document.cookie = \"fingerprint=46857902-e9d9-4e64-8b2b-75e8b1227f3e; path=/; max-age=3600\";\n",
       "</script>\n",
       "<button onclick=\"window.open('next_notebook.ipynb', '_blank')\">\n",
       "    Go to Next Notebook\n",
       "</button>\n"
      ],
      "text/plain": [
       "<IPython.core.display.HTML object>"
      ]
     },
     "metadata": {},
     "output_type": "display_data"
    }
   ],
   "source": [
    "# from IPython.display import display, HTML\n",
    "# import uuid\n",
    "\n",
    "# # Generate a unique fingerprint for the user (if not already present)\n",
    "# fingerprint = str(uuid.uuid4())\n",
    "\n",
    "# # Set the cookie in the user's browser and add a button to redirect\n",
    "# display(HTML(f\"\"\"\n",
    "# <script>\n",
    "#     // Set the fingerprint cookie valid for 1 hour\n",
    "#     document.cookie = \"fingerprint={fingerprint}; path=/; max-age=3600\";\n",
    "# </script>\n",
    "# <button onclick=\"window.open('cookies2.ipynb?value1={fingerprint}&value2={fingerprint}', '_blank')\">\n",
    "#     Go to Next Notebook\n",
    "# </button>\n",
    "# \"\"\"))\n"
   ]
  },
  {
   "cell_type": "code",
   "execution_count": null,
   "id": "6deb9e77",
   "metadata": {},
   "outputs": [],
   "source": []
  },
  {
   "cell_type": "code",
   "execution_count": null,
   "id": "e0023ccd",
   "metadata": {},
   "outputs": [],
   "source": []
  },
  {
   "cell_type": "code",
   "execution_count": 5,
   "id": "2631e8d8",
   "metadata": {},
   "outputs": [
    {
     "data": {
      "text/html": [
       "\n",
       "    <button onclick=\"window.open('cookies2.ipynb?value1=some_value&value2=another_value', '_blank')\">Go to Next Notebook</button>\n"
      ],
      "text/plain": [
       "<IPython.core.display.HTML object>"
      ]
     },
     "execution_count": 5,
     "metadata": {},
     "output_type": "execute_result"
    }
   ],
   "source": [
    "# from IPython.display import HTML\n",
    "\n",
    "# # Construct URL to the next notebook with parameters\n",
    "# value1 = \"some_value\"\n",
    "# value2 = \"another_value\"\n",
    "# next_notebook_url = f'cookies2.ipynb?value1={value1}&value2={value2}'\n",
    "\n",
    "# # Create a button that opens the link in a new tab\n",
    "# HTML(f'''\n",
    "#     <button onclick=\"window.open('{next_notebook_url}', '_blank')\">Go to Next Notebook</button>\n",
    "# ''')\n"
   ]
  },
  {
   "cell_type": "code",
   "execution_count": null,
   "id": "f7209388",
   "metadata": {},
   "outputs": [],
   "source": []
  },
  {
   "cell_type": "code",
   "execution_count": null,
   "id": "d96c14ff",
   "metadata": {},
   "outputs": [],
   "source": []
  },
  {
   "cell_type": "code",
   "execution_count": null,
   "id": "fbe1cc96",
   "metadata": {},
   "outputs": [],
   "source": []
  },
  {
   "cell_type": "code",
   "execution_count": null,
   "id": "275ac931",
   "metadata": {},
   "outputs": [],
   "source": [
    "# Passes the fingerprint through URL and \n",
    "# in next notebook fingerprint matches but displaying in console---------------------------------"
   ]
  },
  {
   "cell_type": "code",
   "execution_count": 4,
   "id": "e7171445",
   "metadata": {},
   "outputs": [
    {
     "data": {
      "application/javascript": [
       "\n",
       "var script = document.createElement('script');\n",
       "script.src = \"https://cdn.jsdelivr.net/npm/@fingerprintjs/fingerprintjs@3/dist/fp.min.js\";\n",
       "script.onload = function() {\n",
       "    FingerprintJS.load().then(fp => {\n",
       "        // Generate the fingerprint\n",
       "        fp.get().then(result => {\n",
       "            const fingerprint = result.visitorId;\n",
       "            console.log(\"Fingerprint generated:\", fingerprint);\n",
       "\n",
       "            // Open the next notebook in a new tab with the fingerprint in the URL\n",
       "            var url = \"cookies2.ipynb?fingerprint=\" + encodeURIComponent(fingerprint);\n",
       "            window.open(url, '_blank');  // Open the URL in a new tab\n",
       "        }).catch(error => {\n",
       "            console.error(\"Error generating fingerprint:\", error);\n",
       "        });\n",
       "    }).catch(error => {\n",
       "        console.error(\"Error loading FingerprintJS:\", error);\n",
       "    });\n",
       "};\n",
       "document.head.appendChild(script);\n"
      ],
      "text/plain": [
       "<IPython.core.display.Javascript object>"
      ]
     },
     "metadata": {},
     "output_type": "display_data"
    }
   ],
   "source": [
    "from IPython.display import display, Javascript\n",
    "\n",
    "# JavaScript to generate fingerprint and open the link in a new tab\n",
    "fingerprint_js = \"\"\"\n",
    "var script = document.createElement('script');\n",
    "script.src = \"https://cdn.jsdelivr.net/npm/@fingerprintjs/fingerprintjs@3/dist/fp.min.js\";\n",
    "script.onload = function() {\n",
    "    FingerprintJS.load().then(fp => {\n",
    "        // Generate the fingerprint\n",
    "        fp.get().then(result => {\n",
    "            const fingerprint = result.visitorId;\n",
    "            console.log(\"Fingerprint generated:\", fingerprint);\n",
    "\n",
    "            // Open the next notebook in a new tab with the fingerprint in the URL\n",
    "            var url = \"cookies2.ipynb?fingerprint=\" + encodeURIComponent(fingerprint);\n",
    "            window.open(url, '_blank');  // Open the URL in a new tab\n",
    "        }).catch(error => {\n",
    "            console.error(\"Error generating fingerprint:\", error);\n",
    "        });\n",
    "    }).catch(error => {\n",
    "        console.error(\"Error loading FingerprintJS:\", error);\n",
    "    });\n",
    "};\n",
    "document.head.appendChild(script);\n",
    "\"\"\"\n",
    "\n",
    "# Inject the JavaScript into the notebook\n",
    "display(Javascript(fingerprint_js))\n"
   ]
  },
  {
   "cell_type": "code",
   "execution_count": null,
   "id": "29c4625c",
   "metadata": {},
   "outputs": [],
   "source": []
  }
 ],
 "metadata": {
  "kernelspec": {
   "display_name": "Python 3 (ipykernel)",
   "language": "python",
   "name": "python3"
  },
  "language_info": {
   "codemirror_mode": {
    "name": "ipython",
    "version": 3
   },
   "file_extension": ".py",
   "mimetype": "text/x-python",
   "name": "python",
   "nbconvert_exporter": "python",
   "pygments_lexer": "ipython3",
   "version": "3.12.7"
  }
 },
 "nbformat": 4,
 "nbformat_minor": 5
}
