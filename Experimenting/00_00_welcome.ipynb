{
 "cells": [
  {
   "cell_type": "code",
   "execution_count": 2,
   "id": "971d8462",
   "metadata": {},
   "outputs": [],
   "source": [
    "import warnings\n",
    "warnings.filterwarnings('ignore')\n",
    "\n",
    "import json\n",
    "import pandas as pd\n",
    "import ipywidgets as widgets\n",
    "from ipywidgets import AppLayout, Button, Layout\n",
    "from ipywidgets import Button, Layout, jslink, IntText, IntSlider\n",
    "from IPython.display import display, Javascript, Markdown, clear_output, HTML\n",
    "from ipywidgets import GridspecLayout\n",
    "from markdown_it import MarkdownIt"
   ]
  },
  {
   "cell_type": "markdown",
   "id": "8e19c0ee-d5fb-48b6-87df-87f13774cf7c",
   "metadata": {},
   "source": [
    "# Welcome to the **Remote Camera Decision Support Tool**!"
   ]
  },
  {
   "cell_type": "markdown",
   "id": "eb6d7f10-28ea-4bf5-a041-009d3748c302",
   "metadata": {},
   "source": [
    "A free, online, interactive, visual study decision support system for remote camera projects"
   ]
  },
  {
   "cell_type": "markdown",
   "id": "73900668-4afc-4abc-b4c4-a199ec0397b9",
   "metadata": {},
   "source": [
    "## How does it work!?\n",
    "This tool aims to support your decision-making process when designing a remote camera programs by guiding you through a series of decision points related to your study in the form of an interactive flow chart.\n",
    "At each step, you will be able to access information related to the question in the “info popups”; information is provided with different levels of complexity (overview vs. advanced) and in formats that accommodate multiple learning styles (e.g., figures, videos, Shiny apps, etc.). Once you have answered all of the questions, study design recommendations will be generated from your selections, which will include the following:\n",
    "\n",
    ":::{dropdown} Appropriate modelling approach(es)\n",
    "- **Species inventory** (Species inventory, presence)\n",
    "- **Species diversity & richness**\n",
    "    -   \\[FUTURE\\] Species diversity & richness \\- Alpha richness (α)\n",
    "    -   \\[FUTURE\\] Species diversity & richness \\- Gamma richness (γ)\n",
    "    -   \\[FUTURE\\] Species diversity & richness \\- Beta-diversity (β)\n",
    "    -   Occupancy (Occupancy / Species distribution)\n",
    "- **Relative abundance indices**\n",
    "    -   \\[FUTURE\\] Relative abundance indices \\- Poisson\n",
    "    -   \\[FUTURE\\] Relative abundance indices \\- Zero-inflated poisson (ZIP)\n",
    "    -   \\[FUTURE\\] Relative abundance indices \\- Negative binomial (NB)\n",
    "    -   \\[FUTURE\\] Relative abundance indices \\- Zero-inflated negative binomial (ZINB)\n",
    "    -   \\[FUTURE\\] Relative abundance indices \\- Hurdle\n",
    "- **Capture-recapture (CR) / Capture-mark-recapture (CMR)**\n",
    "- **Spatial capture-recapture (SCR) / Spatially explicit capture recapture (SECR)**\n",
    "- **Spatial mark-resight (SMR)**\n",
    "- **Spatial count (SC) model / Unmarked spatial capture-recapture**\n",
    "- **Spatial Partial Identity Model (Categorical SPIM; catSPIM)**\n",
    "- **Spatial Partial Identity Model (2-flank SPIM)**\n",
    "    -   \\[FUTURE\\] Royle-Nichols\n",
    "    -   \\[FUTURE\\] N-mixture\n",
    "- **Random encounter model (REM)**\n",
    "- **Random encounter and staying time (REST)**\n",
    "- **Time in front of the camera (TIFC)**\n",
    "- **Distance sampling (DS)**\n",
    "- **Time-to-event (TTE)**\n",
    "- **Space-to-event (STE)**\n",
    "- **Instantaneous sampling (IS)**\n",
    "- **Behaviour**\n",
    "    -   \\[FUTURE\\] More specific approaches related to behaviour\n",
    ":::\n",
    "\n",
    ":::{dropdown} Sampling design\n",
    "Relevant to the appropriate modelling approach(es) identified\n",
    "- Camera arrangement\n",
    "- Camera spacing\n",
    "- Number of camera days per camera location\n",
    "- Number of cameras\n",
    "- Survey duration\n",
    "- Total number of camera days\n",
    ":::\n",
    "\n",
    ":::{dropdown} Analysis considerations\n",
    "(e.g., variables to consider in your analysis to reduce bias)\n",
    ":::\n",
    "\n",
    "::::{warning} It’s not perfect! (or some other text here along these lines)\n",
    "CAVEATS HERE\n",
    "::::"
   ]
  },
  {
   "cell_type": "markdown",
   "id": "a0209b63-66d1-4ed8-bf64-19f17b491b2e",
   "metadata": {},
   "source": [
    "::::::{card}\n",
    "## Available information \n",
    "Information is available in the following tabs of the \"info pop-ups\":\n",
    "- **Overview** \\- short, digestible information about the topic\n",
    "- **Advanced** \\- more “in the weeds” information for those who want to dig into the details\n",
    "- **Visual resources** \\- related figures and videos; you can watch videos within in tool itself, or \n",
    "- **Analytical tools & resources** \\- resources for implementing analyses.\n",
    "- **Executable Code** \\- \n",
    "- **Shiny apps (if available)** \\-\n",
    "    -   **Integration of data/apps** - Currently, the integration of other apps such as Shiny app is limited to \"illustrative\" apps (integration of apps or tools for the purpose of illustrating a concept vs. attempting to incorporate simulated information into recommendations), with the exception of the (ADD INFO OCCUPANCY APP)\n",
    "- **References** \\- references for all of the content in this section\n",
    ":::{note}\n",
    "Information include in the info popups is always available in the **[Concept Library]( https://ab-rcsc.github.io/rc-decision-support-tool_concept-library/)**\n",
    ":::\n",
    "::::::\n"
   ]
  },
  {
   "cell_type": "markdown",
   "id": "73c43231-d82b-461c-abce-360b6b5323ef",
   "metadata": {},
   "source": [
    "::::::{card}\n",
    "## Future development\n",
    "In addition to the modelling approaches mentioned above as \\[FUTURE\\]....\n",
    "\n",
    "<!--\n",
    ":::{dropdown} Illustrative vs. data-simulation app-integration\n",
    "- **ILLUSTRATIVE app-integration**: integration of apps or tools for the sole purpose of illustrating a concept. The user may be able to toggle or adjust values (e.g., select for different camera configurations, spacing, or # of land cover types to see how these factors influence the layout of cameras), but these inputs/choices do not inform other parts of the decision-making process, tool, or resulting recommendations (i.e., once the app is closed, it’s like nothing ever happened).\n",
    "- **DATA-SIMULATION app-integration**: integration of apps or tools for the purpose of performing calculations based on user inputs (e.g., ) that will inform other parts of the decision-making process, tool, and/or resulting recommendations\n",
    ":::\n",
    "-->\n",
    "::::::"
   ]
  },
  {
   "cell_type": "markdown",
   "id": "b816d17e-ba69-47b2-b1c0-385c371220b6",
   "metadata": {},
   "source": [
    "::::::{card}\n",
    "## Questions?\n",
    "If you have questions or would like further information, please contact Cassie Stevenson, Alberta Remote Camera Steering Committee (RCSC) / Alberta Biodiversity Monitoring Institute (ABMI), <abwildlifecameras@gmail.com>; <cjsteven@ualberta.ca>.\n",
    "::::::"
   ]
  },
  {
   "cell_type": "markdown",
   "id": "a813a64b-d13d-44a9-bcf1-c6015c8a86b9",
   "metadata": {},
   "source": [
    "***"
   ]
  },
  {
   "cell_type": "code",
   "execution_count": 11,
   "id": "884306c4",
   "metadata": {},
   "outputs": [],
   "source": [
    "# import ipywidgets as widgets\n",
    "\n",
    "# html_code = \"\"\"\n",
    "# <div style=\"display: grid; grid-template-columns: repeat(5, 1fr); gap: 1rem; justify-items: center; align-items: center;\">\n",
    "#     <div style=\"text-align: center;\">\n",
    "#         <img src=\"../03_images/02_logos/aca_ed.png\" style=\"width: 80%;\" alt=\"ACA Logo\">\n",
    "#     </div>\n",
    "#     <div style=\"text-align: center;\">\n",
    "#         <img src=\"../03_images/02_logos/abgov_ed.png\" style=\"width: 80%;\" alt=\"ABGov Logo\">\n",
    "#     </div>\n",
    "#     <div style=\"text-align: center;\">\n",
    "#         <img src=\"../03_images/02_logos/eccc_ed.png\" style=\"width: 80%;\" alt=\"ECCC Logo\">\n",
    "#     </div>\n",
    "#     <div style=\"text-align: center;\">\n",
    "#         <img src=\"../03_images/02_logos/fos_ed.png\" style=\"width: 80%;\" alt=\"FOS Logo\">\n",
    "#     </div>\n",
    "#     <div style=\"text-align: center;\">\n",
    "#         <img src=\"../03_images/02_logos/abmi_ed.png\" style=\"width: 80%;\" alt=\"ABMI Logo\">\n",
    "#     </div>\n",
    "# </div>\n",
    "# \"\"\"\n",
    "\n",
    "# html_widget = widgets.HTML(value=html_code)\n",
    "# display(html_widget)"
   ]
  },
  {
   "cell_type": "code",
   "execution_count": 3,
   "id": "102c0527",
   "metadata": {},
   "outputs": [],
   "source": [
    "# Create a buttons for submitting the question\n",
    "submit_button = widgets.Button(description=\"Start >>\", layout=widgets.Layout(border='1px solid black'))"
   ]
  },
  {
   "cell_type": "code",
   "execution_count": 4,
   "id": "440569e2",
   "metadata": {},
   "outputs": [],
   "source": [
    "buttons = widgets.VBox(\n",
    "    [submit_button],\n",
    "    layout=widgets.Layout(\n",
    "        width='100%',  \n",
    "        height='auto',  \n",
    "#         border='solid 2px grey',\n",
    "        padding='1px',\n",
    "        margin='auto',  \n",
    "        align_items='center',  \n",
    "        justify_content='center'  \n",
    "    )\n",
    ")"
   ]
  },
  {
   "cell_type": "code",
   "execution_count": 5,
   "id": "6b612f44",
   "metadata": {},
   "outputs": [
    {
     "data": {
      "application/vnd.jupyter.widget-view+json": {
       "model_id": "5b21648c652a4831902019408822bc02",
       "version_major": 2,
       "version_minor": 0
      },
      "text/plain": [
       "VBox(children=(Button(description='Start >>', layout=Layout(border_bottom='1px solid black', border_left='1px …"
      ]
     },
     "metadata": {},
     "output_type": "display_data"
    }
   ],
   "source": [
    "display(buttons)"
   ]
  },
  {
   "cell_type": "markdown",
   "id": "36a1f2a2-ee57-4e6b-9028-84b5cf3cde1e",
   "metadata": {},
   "source": [
    "***"
   ]
  },
  {
   "cell_type": "markdown",
   "id": "df58560e-d530-4990-8c65-862d4d28eed0",
   "metadata": {},
   "source": [
    "*This project was funded by the Alberta Conservation Association (ACA)m the Office of the Chief Scientist (OCS), and Environment and Climate Change Canada (ECCC). This project was provided in-kind support by the Alberta Remote Camera Steering Committee (RCSC), Alberta Environment and Protection Areas (EPA), Alberta Biodiversity Monitoring Institute (ABMI), and the University of Alberta Faculty of Science.*"
   ]
  }
 ],
 "metadata": {
  "kernelspec": {
   "display_name": "Python 3 (ipykernel)",
   "language": "python",
   "name": "python3"
  },
  "language_info": {
   "codemirror_mode": {
    "name": "ipython",
    "version": 3
   },
   "file_extension": ".py",
   "mimetype": "text/x-python",
   "name": "python",
   "nbconvert_exporter": "python",
   "pygments_lexer": "ipython3",
   "version": "3.12.3"
  }
 },
 "nbformat": 4,
 "nbformat_minor": 5
}
