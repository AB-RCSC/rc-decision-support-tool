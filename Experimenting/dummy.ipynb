{
 "cells": [
  {
   "cell_type": "code",
   "execution_count": 1,
   "id": "8bacca64",
   "metadata": {},
   "outputs": [
    {
     "data": {
      "text/html": [
       "\n",
       "<link rel=\"stylesheet\" href=\"https://unpkg.com/shepherd.js/dist/css/shepherd.css\">\n",
       "<script src=\"https://unpkg.com/shepherd.js/dist/js/shepherd.min.js\"></script>\n"
      ],
      "text/plain": [
       "<IPython.core.display.HTML object>"
      ]
     },
     "execution_count": 1,
     "metadata": {},
     "output_type": "execute_result"
    }
   ],
   "source": [
    "from IPython.display import HTML\n",
    "\n",
    "# Include Shepherd.js\n",
    "HTML(\"\"\"\n",
    "<link rel=\"stylesheet\" href=\"https://unpkg.com/shepherd.js/dist/css/shepherd.css\">\n",
    "<script src=\"https://unpkg.com/shepherd.js/dist/js/shepherd.min.js\"></script>\n",
    "\"\"\")"
   ]
  },
  {
   "cell_type": "code",
   "execution_count": 2,
   "id": "6a5d3934",
   "metadata": {},
   "outputs": [
    {
     "data": {
      "application/vnd.jupyter.widget-view+json": {
       "model_id": "1a89731a311e4163bd24716f7b3bddaa",
       "version_major": 2,
       "version_minor": 0
      },
      "text/plain": [
       "HBox(children=(Button(description='Button 1', layout=Layout(width='150px'), style=ButtonStyle()), Button(descr…"
      ]
     },
     "metadata": {},
     "output_type": "display_data"
    }
   ],
   "source": [
    "import ipywidgets as widgets\n",
    "from IPython.display import Javascript, display\n",
    "\n",
    "# Sample widgets\n",
    "button1 = widgets.Button(description=\"Button 1\", layout=widgets.Layout(width='150px'))\n",
    "button2 = widgets.Button(description=\"Button 2\", layout=widgets.Layout(width='150px'))\n",
    "container = widgets.HBox([button1, button2])\n",
    "\n",
    "# Display widgets\n",
    "display(container)\n"
   ]
  },
  {
   "cell_type": "code",
   "execution_count": 3,
   "id": "9cceae7d",
   "metadata": {},
   "outputs": [
    {
     "data": {
      "text/html": [
       "\n",
       "<script>\n",
       "document.addEventListener('DOMContentLoaded', function () {\n",
       "    const tour = new Shepherd.Tour({\n",
       "        defaultStepOptions: {\n",
       "            classes: 'shadow-md bg-purple-dark',\n",
       "            scrollTo: true\n",
       "        }\n",
       "    });\n",
       "\n",
       "    tour.addStep({\n",
       "        id: 'button1-step',\n",
       "        text: 'This is Button 1. Click here to perform action 1.',\n",
       "        attachTo: {\n",
       "            element: '[data-label=\"Button 1\"]',\n",
       "            on: 'bottom'\n",
       "        },\n",
       "        buttons: [\n",
       "            {\n",
       "                text: 'Next',\n",
       "                action: tour.next\n",
       "            }\n",
       "        ]\n",
       "    });\n",
       "\n",
       "    tour.addStep({\n",
       "        id: 'button2-step',\n",
       "        text: 'This is Button 2. Click here to perform action 2.',\n",
       "        attachTo: {\n",
       "            element: '[data-label=\"Button 2\"]',\n",
       "            on: 'top'\n",
       "        },\n",
       "        buttons: [\n",
       "            {\n",
       "                text: 'Back',\n",
       "                action: tour.back\n",
       "            },\n",
       "            {\n",
       "                text: 'Finish',\n",
       "                action: tour.complete\n",
       "            }\n",
       "        ]\n",
       "    });\n",
       "\n",
       "    // Start the tour\n",
       "    tour.start();\n",
       "});\n",
       "</script>\n"
      ],
      "text/plain": [
       "<IPython.core.display.HTML object>"
      ]
     },
     "metadata": {},
     "output_type": "display_data"
    }
   ],
   "source": [
    "tour_script = \"\"\"\n",
    "<script>\n",
    "document.addEventListener('DOMContentLoaded', function () {\n",
    "    const tour = new Shepherd.Tour({\n",
    "        defaultStepOptions: {\n",
    "            classes: 'shadow-md bg-purple-dark',\n",
    "            scrollTo: true\n",
    "        }\n",
    "    });\n",
    "\n",
    "    tour.addStep({\n",
    "        id: 'button1-step',\n",
    "        text: 'This is Button 1. Click here to perform action 1.',\n",
    "        attachTo: {\n",
    "            element: '[data-label=\"Button 1\"]',\n",
    "            on: 'bottom'\n",
    "        },\n",
    "        buttons: [\n",
    "            {\n",
    "                text: 'Next',\n",
    "                action: tour.next\n",
    "            }\n",
    "        ]\n",
    "    });\n",
    "\n",
    "    tour.addStep({\n",
    "        id: 'button2-step',\n",
    "        text: 'This is Button 2. Click here to perform action 2.',\n",
    "        attachTo: {\n",
    "            element: '[data-label=\"Button 2\"]',\n",
    "            on: 'top'\n",
    "        },\n",
    "        buttons: [\n",
    "            {\n",
    "                text: 'Back',\n",
    "                action: tour.back\n",
    "            },\n",
    "            {\n",
    "                text: 'Finish',\n",
    "                action: tour.complete\n",
    "            }\n",
    "        ]\n",
    "    });\n",
    "\n",
    "    // Start the tour\n",
    "    tour.start();\n",
    "});\n",
    "</script>\n",
    "\"\"\"\n",
    "\n",
    "display(HTML(tour_script))\n"
   ]
  },
  {
   "cell_type": "code",
   "execution_count": 4,
   "id": "286b2306",
   "metadata": {},
   "outputs": [
    {
     "data": {
      "application/vnd.jupyter.widget-view+json": {
       "model_id": "b89456601667450bab58293bece13603",
       "version_major": 2,
       "version_minor": 0
      },
      "text/plain": [
       "Button(description='Button 2', layout=Layout(width='150px'), style=ButtonStyle(), _dom_classes=('data-label=\"B…"
      ]
     },
     "execution_count": 4,
     "metadata": {},
     "output_type": "execute_result"
    }
   ],
   "source": [
    "button1.add_class('data-label=\"Button 1\"')  # Attach custom attribute\n",
    "button2.add_class('data-label=\"Button 2\"')"
   ]
  },
  {
   "cell_type": "code",
   "execution_count": null,
   "id": "c8d12286",
   "metadata": {},
   "outputs": [],
   "source": []
  }
 ],
 "metadata": {
  "kernelspec": {
   "display_name": "Python 3 (ipykernel)",
   "language": "python",
   "name": "python3"
  },
  "language_info": {
   "codemirror_mode": {
    "name": "ipython",
    "version": 3
   },
   "file_extension": ".py",
   "mimetype": "text/x-python",
   "name": "python",
   "nbconvert_exporter": "python",
   "pygments_lexer": "ipython3",
   "version": "3.12.7"
  }
 },
 "nbformat": 4,
 "nbformat_minor": 5
}
