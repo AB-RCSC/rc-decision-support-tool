{
 "cells": [
  {
   "cell_type": "code",
   "execution_count": 11,
   "id": "46f5f2ca",
   "metadata": {},
   "outputs": [],
   "source": [
    "import pandas as pd\n",
    "import ipywidgets as widgets\n",
    "from IPython.display import display"
   ]
  },
  {
   "cell_type": "code",
   "execution_count": 12,
   "id": "94beff11",
   "metadata": {},
   "outputs": [],
   "source": [
    "# Image Widget\n",
    "\n",
    "file = open(\"../logo.png\", \"rb\")\n",
    "image = file.read()\n",
    "\n",
    "image_headline = widgets.Image(\n",
    "                    value=image,\n",
    "                    format='jpg',\n",
    "                    width='200'\n",
    "                )\n",
    "\n",
    "label_headline = widgets.Label(\n",
    "                    value='',\n",
    "                    style={'description_width': 'initial'}\n",
    "                )\n",
    "\n",
    "vbox_headline = widgets.HBox([image_headline, label_headline])"
   ]
  },
  {
   "cell_type": "code",
   "execution_count": 13,
   "id": "19c0a1e9",
   "metadata": {},
   "outputs": [
    {
     "data": {
      "application/vnd.jupyter.widget-view+json": {
       "model_id": "315c44db727a43c18e3ff48bc1ed375f",
       "version_major": 2,
       "version_minor": 0
      },
      "text/plain": [
       "HBox(children=(Image(value=b'\\x89PNG\\r\\n\\x1a\\n\\x00\\x00\\x00\\rIHDR\\x00\\x00\\x01\\xfb\\x00\\x00\\x01|\\x08\\x06\\x00\\x00\\…"
      ]
     },
     "metadata": {},
     "output_type": "display_data"
    }
   ],
   "source": [
    "display(vbox_headline)"
   ]
  },
  {
   "cell_type": "code",
   "execution_count": 16,
   "id": "57fd98ca",
   "metadata": {},
   "outputs": [
    {
     "data": {
      "application/javascript": [
       "window.open('objective.ipynb');"
      ],
      "text/plain": [
       "<IPython.core.display.Javascript object>"
      ]
     },
     "metadata": {},
     "output_type": "display_data"
    },
    {
     "name": "stdout",
     "output_type": "stream",
     "text": [
      "ff\n"
     ]
    }
   ],
   "source": [
    "from IPython.display import display, Javascript\n",
    "\n",
    "# URL you want to open\n",
    "url = \"objective.ipynb\"\n",
    "# link = widgets.HTML(\n",
    "#                     value='<a href=\"{}\" target=\"_self\" style=\"text-decoration:none;\">Next</a>'.format(notebook_filename),\n",
    "#                     layout=widgets.Layout(align_self='flex-end')  # Align the link to the end\n",
    "#                 )\n",
    "\n",
    "# JavaScript to open the URL\n",
    "js_code = f\"window.open('{url}');\"\n",
    "\n",
    "# Display the JavaScript code\n",
    "display(Javascript(js_code))\n",
    "print(\"ff\")\n"
   ]
  },
  {
   "cell_type": "code",
   "execution_count": null,
   "id": "76e2648e",
   "metadata": {},
   "outputs": [],
   "source": []
  }
 ],
 "metadata": {
  "kernelspec": {
   "display_name": "Python 3 (ipykernel)",
   "language": "python",
   "name": "python3"
  },
  "language_info": {
   "codemirror_mode": {
    "name": "ipython",
    "version": 3
   },
   "file_extension": ".py",
   "mimetype": "text/x-python",
   "name": "python",
   "nbconvert_exporter": "python",
   "pygments_lexer": "ipython3",
   "version": "3.12.3"
  }
 },
 "nbformat": 4,
 "nbformat_minor": 5
}
