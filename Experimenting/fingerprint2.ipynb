{
 "cells": [
  {
   "cell_type": "code",
   "execution_count": 1,
   "id": "225757c6",
   "metadata": {},
   "outputs": [
    {
     "data": {
      "application/javascript": [
       "\n",
       "var script = document.createElement('script');\n",
       "script.src = \"https://cdn.jsdelivr.net/npm/@fingerprintjs/fingerprintjs@3/dist/fp.min.js\";\n",
       "console.log(script.src)\n",
       "script.onload = function() {\n",
       "    FingerprintJS.load().then(fp => {\n",
       "        // Get the visitor identifier\n",
       "        fp.get().then(result => {\n",
       "            const fingerprint = result.visitorId;\n",
       "            console.log(fingerprint);\n",
       "            \n",
       "            // Pass the fingerprint back to Python\n",
       "            var kernel = IPython.notebook.kernel;\n",
       "            var command = \"save_fingerprint_to_json('\" + fingerprint + \"')\";\n",
       "            kernel.execute(command);\n",
       "        });\n",
       "    });\n",
       "};\n",
       "document.head.appendChild(script);\n"
      ],
      "text/plain": [
       "<IPython.core.display.Javascript object>"
      ]
     },
     "metadata": {},
     "output_type": "display_data"
    },
    {
     "data": {
      "application/javascript": [
       "\n",
       "var script = document.createElement('script');\n",
       "script.src = \"https://cdn.jsdelivr.net/npm/@fingerprintjs/fingerprintjs@3/dist/fp.min.js\";\n",
       "console.log(script.src)\n",
       "script.onload = function() {\n",
       "    FingerprintJS.load().then(fp => {\n",
       "        // Get the visitor identifier\n",
       "        fp.get().then(result => {\n",
       "            const fingerprint = result.visitorId;\n",
       "            console.log(fingerprint);\n",
       "            \n",
       "            // Pass the fingerprint back to Python\n",
       "            var kernel = IPython.notebook.kernel;\n",
       "            var command = \"save_fingerprint_to_json('\" + fingerprint + \"')\";\n",
       "            kernel.execute(command);\n",
       "        });\n",
       "    });\n",
       "};\n",
       "document.head.appendChild(script);\n"
      ],
      "text/plain": [
       "<IPython.core.display.Javascript object>"
      ]
     },
     "metadata": {},
     "output_type": "display_data"
    }
   ],
   "source": [
    "# %run main_fingerprint.ipynb"
   ]
  },
  {
   "cell_type": "code",
   "execution_count": 2,
   "id": "a8a81ed1",
   "metadata": {},
   "outputs": [
    {
     "name": "stdout",
     "output_type": "stream",
     "text": [
      "Loaded data for user: df2e993104d7ccd7ae57869ea9bf08f2\n",
      "Updated data for user: df2e993104d7ccd7ae57869ea9bf08f2\n"
     ]
    }
   ],
   "source": [
    "# # Run the JavaScript code again to capture the fingerprint\n",
    "# # display(Javascript(js_code))\n",
    "\n",
    "# # Once the fingerprint is captured, use it to load the corresponding file\n",
    "# try:\n",
    "#     fingerprint_variable\n",
    "# except NameError:\n",
    "#     print(\"Fingerprint not generated yet. Please ensure JavaScript is working.\")\n",
    "# else:\n",
    "#     user_json_file = fingerprint_filepath #os.path.join(fingerprint_filepath, f\"{fingerprint_variable}.json\")\n",
    "    \n",
    "#     if os.path.exists(user_json_file):\n",
    "#         with open(user_json_file, 'r') as f:\n",
    "#             user_data = json.load(f)l\n",
    "#         print(f\"Loaded data for user: {fingerprint_variable}\")\n",
    "        \n",
    "#         if \"notes\" not in user_data:\n",
    "#             user_data[\"notes\"] = []  # Initialize as an empty list\n",
    "#         # Example: Add another note to the user's data\n",
    "#         user_data[\"notes\"].append(\"User visited second notebook.\")\n",
    "        \n",
    "#         # Save the updated data\n",
    "#         with open(user_json_file, 'w') as f:\n",
    "#             json.dump(user_data, f)\n",
    "        \n",
    "#         print(f\"Updated data for user: {fingerprint_variable}\")\n",
    "#     else:\n",
    "#         print(f\"No existing data for user: {fingerprint_variable}\")\n"
   ]
  },
  {
   "cell_type": "code",
   "execution_count": null,
   "id": "598fdc52",
   "metadata": {},
   "outputs": [],
   "source": []
  },
  {
   "cell_type": "code",
   "execution_count": null,
   "id": "baacbbce",
   "metadata": {},
   "outputs": [],
   "source": []
  },
  {
   "cell_type": "code",
   "execution_count": null,
   "id": "30d49908",
   "metadata": {},
   "outputs": [],
   "source": []
  },
  {
   "cell_type": "code",
   "execution_count": 1,
   "id": "8bc362fc",
   "metadata": {},
   "outputs": [],
   "source": [
    "import pandas as pd\n",
    "\n",
    "# Load CSV\n",
    "df = pd.read_csv(\"../data_files/csv/demo.csv\")\n",
    "\n",
    "# Assume `condition` column contains the expression \">=(num_covars*20)\"\n",
    "condition_str = df.loc[0, \"condition\"]  # Replace 0 with the row index if needed"
   ]
  },
  {
   "cell_type": "code",
   "execution_count": 2,
   "id": "dfa36bcf",
   "metadata": {},
   "outputs": [
    {
     "data": {
      "text/plain": [
       "'>=(num_covars*20)'"
      ]
     },
     "execution_count": 2,
     "metadata": {},
     "output_type": "execute_result"
    }
   ],
   "source": [
    "# condition_str"
   ]
  },
  {
   "cell_type": "code",
   "execution_count": 3,
   "id": "1acd688c",
   "metadata": {},
   "outputs": [
    {
     "name": "stdout",
     "output_type": "stream",
     "text": [
      ">= 100\n"
     ]
    }
   ],
   "source": [
    "num_covars = 5  # Define the value of num_covars\n",
    "\n",
    "# Replace `num_covars` in the string with its actual value\n",
    "condition_str_replaced = condition_str.replace(\"num_covars\", str(num_covars))\n",
    "\n",
    "# Use eval to compute the result of the expression\n",
    "result_value = eval(condition_str_replaced[2:])  # Remove \">=\" for evaluation\n",
    "\n",
    "# Display the final result with \">=\"\n",
    "final_result = f\">= {result_value}\"\n",
    "print(final_result)"
   ]
  },
  {
   "cell_type": "code",
   "execution_count": 11,
   "id": "83b0e92b",
   "metadata": {},
   "outputs": [
    {
     "name": "stdout",
     "output_type": "stream",
     "text": [
      "['>=(3*20)', '<=(3*50)']\n",
      ">=(3*20)\n",
      "<=(3*50)\n",
      "Evaluated parts: [60, 150]\n"
     ]
    }
   ],
   "source": [
    "import pandas as pd\n",
    "\n",
    "# Read the CSV file\n",
    "# df = pd.read_csv(\"your_file.csv\")  # Replace with your actual file path\n",
    "\n",
    "# Set the value of num_covars\n",
    "num_covars = 3\n",
    "\n",
    "# Get the expression string from the DataFrame (assuming it's in the first cell for simplicity)\n",
    "expression = \">=(num_covars*20)&<=(num_covars*50)\" #df.iloc[0, 0]\n",
    "\n",
    "# Replace 'num_covars' in the expression with its value\n",
    "expression = expression.replace(\"num_covars\", str(num_covars))\n",
    "\n",
    "# Split the expression into the parts around '&' and evaluate each part\n",
    "parts = expression.split('&')\n",
    "print(parts)\n",
    "\n",
    "# Evaluate each part separately\n",
    "evaluated_parts = []\n",
    "for part in parts:\n",
    "    print(part)\n",
    "    evaluated_part = eval(part[2:])\n",
    "    evaluated_parts.append(evaluated_part)\n",
    "\n",
    "# Display the results\n",
    "print(\"Evaluated parts:\", evaluated_parts)\n"
   ]
  },
  {
   "cell_type": "code",
   "execution_count": null,
   "id": "c8017c16",
   "metadata": {},
   "outputs": [],
   "source": []
  }
 ],
 "metadata": {
  "kernelspec": {
   "display_name": "Python 3 (ipykernel)",
   "language": "python",
   "name": "python3"
  },
  "language_info": {
   "codemirror_mode": {
    "name": "ipython",
    "version": 3
   },
   "file_extension": ".py",
   "mimetype": "text/x-python",
   "name": "python",
   "nbconvert_exporter": "python",
   "pygments_lexer": "ipython3",
   "version": "3.12.7"
  }
 },
 "nbformat": 4,
 "nbformat_minor": 5
}
